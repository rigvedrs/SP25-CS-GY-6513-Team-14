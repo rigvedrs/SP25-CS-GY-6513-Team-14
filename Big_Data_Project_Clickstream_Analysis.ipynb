{
  "cells": [
    {
      "cell_type": "markdown",
      "metadata": {
        "id": "DdJR9DolpYpn"
      },
      "source": [
        "## Retai Clickstream Analysis and Prediction"
      ]
    },
    {
      "cell_type": "code",
      "execution_count": null,
      "metadata": {
        "colab": {
          "base_uri": "https://localhost:8080/"
        },
        "id": "gN8rqpND_Gj5",
        "outputId": "e0435bc6-a4ed-4c42-fd77-4e7712dabf53"
      },
      "outputs": [
        {
          "output_type": "stream",
          "name": "stdout",
          "text": [
            "Requirement already satisfied: pyspark in /usr/local/lib/python3.11/dist-packages (3.5.5)\n",
            "Requirement already satisfied: py4j==0.10.9.7 in /usr/local/lib/python3.11/dist-packages (from pyspark) (0.10.9.7)\n",
            "Requirement already satisfied: circlify in /usr/local/lib/python3.11/dist-packages (0.15.0)\n"
          ]
        }
      ],
      "source": [
        "#Install Pyspark and circlify\n",
        "!pip install pyspark\n",
        "!pip install circlify"
      ]
    },
    {
      "cell_type": "code",
      "execution_count": null,
      "metadata": {
        "colab": {
          "base_uri": "https://localhost:8080/"
        },
        "id": "xCV2xhWq-UZj",
        "outputId": "7eda8c2a-9aa8-412f-c4db-45705ad24094"
      },
      "outputs": [
        {
          "name": "stdout",
          "output_type": "stream",
          "text": [
            "Mounted at /content/drive\n"
          ]
        }
      ],
      "source": [
        "from google.colab import drive\n",
        "drive.mount('/content/drive')"
      ]
    },
    {
      "cell_type": "code",
      "execution_count": null,
      "metadata": {
        "colab": {
          "base_uri": "https://localhost:8080/"
        },
        "id": "QzHJ1vSU_U9T",
        "outputId": "46ccb6ad-83bf-4196-dc16-335d05f51cd8"
      },
      "outputs": [
        {
          "name": "stdout",
          "output_type": "stream",
          "text": [
            "Archive:  /content/drive/MyDrive/BigDataSet/archive.zip\n",
            "  inflating: 2019-Nov.csv            \n",
            "  inflating: 2019-Oct.csv            \n"
          ]
        }
      ],
      "source": [
        "# path = \"../input/2019-oct/2019-Oct.csv\"\n",
        "# !unzip \"/content/drive/MyDrive/Awesom_Big_Data_Project/nk_data.zip\"\n",
        "!unzip \"/content/drive/MyDrive/BigDataSet/archive.zip\""
      ]
    },
    {
      "cell_type": "code",
      "execution_count": null,
      "metadata": {
        "id": "X5rYkbq3_y_e"
      },
      "outputs": [],
      "source": [
        "import pyspark\n",
        "from pyspark.sql.functions import *\n",
        "from pyspark.sql.types import StructType, StructField, StringType, FloatType, IntegerType\n",
        "from pyspark.sql.window import Window\n",
        "from pyspark.sql.functions import element_at, split, col\n",
        "import pandas as pd\n",
        "import os\n",
        "import plotly.express as px"
      ]
    },
    {
      "cell_type": "code",
      "execution_count": null,
      "metadata": {
        "colab": {
          "base_uri": "https://localhost:8080/"
        },
        "id": "P5Bof43hBWbC",
        "outputId": "719ecbe3-3d8a-48ca-9e68-433d119fb6f9"
      },
      "outputs": [
        {
          "name": "stderr",
          "output_type": "stream",
          "text": [
            "/usr/local/lib/python3.11/dist-packages/pyspark/sql/context.py:158: FutureWarning: Deprecated in 3.0.0. Use SparkSession.builder.getOrCreate() instead.\n",
            "  warnings.warn(\n"
          ]
        }
      ],
      "source": [
        "conf = pyspark.SparkConf()\n",
        "conf.set('spark.sql.repl.eagerEval.enabled', True)\n",
        "sc = pyspark.SparkContext(conf=conf)\n",
        "spark = pyspark.SQLContext.getOrCreate(sc)"
      ]
    },
    {
      "cell_type": "code",
      "execution_count": null,
      "metadata": {
        "id": "jFNRHd8fluqu"
      },
      "outputs": [],
      "source": [
        "#Creating a subset of\n",
        "# def read_with_pandas(input_filepath):\n",
        "#   raw_data = pd.read_csv(input_filepath, nrows = 500000)\n",
        "#   output_filepath = \"small_oct_2019.csv\"\n",
        "#   raw_data.to_csv(output_filepath)\n",
        "#   return output_filepath\n",
        "\n",
        "# input_filepath = \"/content/2019-Oct.csv\"\n",
        "# input_filepath = read_with_pandas(input_filepath)"
      ]
    },
    {
      "cell_type": "code",
      "execution_count": null,
      "metadata": {
        "colab": {
          "base_uri": "https://localhost:8080/"
        },
        "id": "SSAY6gDae-_4",
        "outputId": "11c582cb-d2e8-48bc-de59-2460e11628f1"
      },
      "outputs": [
        {
          "name": "stdout",
          "output_type": "stream",
          "text": [
            "the file chosen is  /content/2019-Oct.csv\n",
            "small data testing is  False\n"
          ]
        }
      ],
      "source": [
        "# for v local machine\n",
        "path_file_2019 = \"/content/2019-Oct.csv\"\n",
        "output_show = True # it makes .show() on/off\n",
        "small_data_testing = False # make it false when testing on whole dataset\n",
        "if small_data_testing:\n",
        "  raw_data = pd.read_csv(path_file_2019, nrows = 5000)\n",
        "  raw_data.head(2)\n",
        "  raw_data.to_csv(\"small_oct_2019.csv\")\n",
        "  path_file_2019 = \"/content/drive/MyDrive/Awesom_Big_Data_Project/small_oct_2019.csv\"\n",
        "\n",
        "print(\"the file chosen is \", path_file_2019)\n",
        "print(\"small data testing is \", small_data_testing)"
      ]
    },
    {
      "cell_type": "code",
      "execution_count": null,
      "metadata": {
        "colab": {
          "background_save": true
        },
        "id": "LdnkWYE5CGfy"
      },
      "outputs": [],
      "source": [
        "# For final we will take the full dataset\n",
        "# path_file_2019 = \"/content/drive/MyDrive/Awesom_Big_Data_Project/small_oct_2019.csv\"\n",
        "original_df = spark.read\\\n",
        "        .option(\"InferSchema\",\"true\")\\\n",
        "        .option(\"header\",\"true\")\\\n",
        "        .format(\"csv\")\\\n",
        "        .load(path_file_2019)"
      ]
    },
    {
      "cell_type": "code",
      "execution_count": null,
      "metadata": {
        "id": "_XsEUsdKxRze"
      },
      "outputs": [],
      "source": [
        "# Just keeping original_df in case we do some operation on df and loose track of original df\n",
        "# add hyperloglog. Thats faster(Daniel)\n",
        "# https://mungingdata.com/apache-spark/hyperloglog-count-distinct/\n",
        "preprocessed_df = original_df"
      ]
    },
    {
      "cell_type": "markdown",
      "metadata": {
        "id": "_0KgXUVt_OxV"
      },
      "source": [
        "# **Dataset Overview**"
      ]
    },
    {
      "cell_type": "code",
      "execution_count": null,
      "metadata": {
        "colab": {
          "base_uri": "https://localhost:8080/"
        },
        "id": "MoBE245D_1EK",
        "outputId": "4c05612e-71e3-492d-99e5-fa44459d898e"
      },
      "outputs": [
        {
          "output_type": "stream",
          "name": "stdout",
          "text": [
            "root\n",
            " |-- event_time: timestamp (nullable = true)\n",
            " |-- event_type: string (nullable = true)\n",
            " |-- product_id: integer (nullable = true)\n",
            " |-- category_id: long (nullable = true)\n",
            " |-- category_code: string (nullable = true)\n",
            " |-- brand: string (nullable = true)\n",
            " |-- price: double (nullable = true)\n",
            " |-- user_id: integer (nullable = true)\n",
            " |-- user_session: string (nullable = true)\n",
            "\n"
          ]
        }
      ],
      "source": [
        "preprocessed_df.printSchema()"
      ]
    },
    {
      "cell_type": "markdown",
      "metadata": {
        "id": "ORQA_FHn_3tB"
      },
      "source": [
        "1) ***event_time*** : denotes the date and time of the user session.\n",
        "\n",
        "2) ***event_type***: There are 3 events in this dataset (viewing, adding to cart, and purchase).\n",
        "\n",
        "3) ***product_id***: indicates the specific product id.\n",
        "\n",
        "4) ***category_id***: indicates the specific category id.\n",
        "\n",
        "5) ***user_id***: pertains to the specific user.\n",
        "\n",
        "6) ***user session***: a single user can have multiple sessions indicating various events like view, purchase, add to cart.\n",
        "\n",
        "7) ***brand***: indicates the brand associated with the product and category.\n",
        "\n",
        "8) ***cateogry***: indicates a nested string having a structure liek electronics.smartphone.andorid which helps us in specifying the range of purchased item.\n",
        "\n"
      ]
    },
    {
      "cell_type": "markdown",
      "metadata": {
        "id": "SJ5zz0Htvh3h"
      },
      "source": [
        "# Data Summary and Pre-processing"
      ]
    },
    {
      "cell_type": "code",
      "execution_count": null,
      "metadata": {
        "id": "OMzSD5017e9O"
      },
      "outputs": [],
      "source": [
        "#Dropping NULL values in event_type is any\n",
        "preprocessed_df = preprocessed_df.dropna(subset=[\"event_type\"])"
      ]
    },
    {
      "cell_type": "markdown",
      "metadata": {
        "id": "z1CpJlwpzP0B"
      },
      "source": [
        "# Data Imputation"
      ]
    },
    {
      "cell_type": "markdown",
      "metadata": {
        "id": "l6JuX62A2Fp5"
      },
      "source": [
        "## Extracting Catgeory and Product"
      ]
    },
    {
      "cell_type": "code",
      "execution_count": null,
      "metadata": {
        "id": "VFiQnjQyJjYV"
      },
      "outputs": [],
      "source": [
        "# Imputing Category code and brand might have null values with the string \"empty\", instead of removing it.\n",
        "preprocessed_df = preprocessed_df.na.fill(value = \"empty\", subset = [\"category_code\",\"brand\"])"
      ]
    },
    {
      "cell_type": "code",
      "execution_count": null,
      "metadata": {
        "colab": {
          "base_uri": "https://localhost:8080/"
        },
        "id": "zTWc_uWx0ly8",
        "outputId": "4736cf73-addf-4938-e76f-b1a76ad7ddeb"
      },
      "outputs": [
        {
          "output_type": "stream",
          "name": "stdout",
          "text": [
            "+-------------------+----------+----------+-------------------+--------------------+--------+-------+---------+--------------------+\n",
            "|         event_time|event_type|product_id|        category_id|       category_code|   brand|  price|  user_id|        user_session|\n",
            "+-------------------+----------+----------+-------------------+--------------------+--------+-------+---------+--------------------+\n",
            "|2019-10-01 00:00:00|      view|  44600062|2103807459595387724|               empty|shiseido|  35.79|541312140|72d76fde-8bb3-4e0...|\n",
            "|2019-10-01 00:00:00|      view|   3900821|2053013552326770905|appliances.enviro...|    aqua|   33.2|554748717|9333dfbd-b87a-470...|\n",
            "|2019-10-01 00:00:01|      view|  17200506|2053013559792632471|furniture.living_...|   empty|  543.1|519107250|566511c2-e2e3-422...|\n",
            "|2019-10-01 00:00:01|      view|   1307067|2053013558920217191|  computers.notebook|  lenovo| 251.74|550050854|7c90fc70-0e80-459...|\n",
            "|2019-10-01 00:00:04|      view|   1004237|2053013555631882655|electronics.smart...|   apple|1081.98|535871217|c6bd7419-2748-4c5...|\n",
            "+-------------------+----------+----------+-------------------+--------------------+--------+-------+---------+--------------------+\n",
            "only showing top 5 rows\n",
            "\n"
          ]
        }
      ],
      "source": [
        "if output_show:\n",
        "  preprocessed_df.show(5)"
      ]
    },
    {
      "cell_type": "code",
      "execution_count": null,
      "metadata": {
        "id": "JGlPr8ppWnTC"
      },
      "outputs": [],
      "source": [
        "#Deriving category and product names from the category_code column using UDF.\n",
        "@udf\n",
        "def extract_category(category, brand):\n",
        "    newlist = str(category).split('.')\n",
        "    if newlist[0]==\"empty\":\n",
        "      if brand == \"empty\":\n",
        "        return \"unknown\"\n",
        "      return brand\n",
        "    return newlist[0]\n",
        "\n",
        "@udf\n",
        "def extract_product(category, brand):\n",
        "    newlist = str(category).split('.')\n",
        "    if newlist[-1] == \"empty\":\n",
        "      if brand == \"empty\":\n",
        "        return \"unknown\"\n",
        "      return brand\n",
        "    return newlist[-1]"
      ]
    },
    {
      "cell_type": "code",
      "execution_count": null,
      "metadata": {
        "colab": {
          "base_uri": "https://localhost:8080/"
        },
        "id": "f1JzY8C-XmyF",
        "outputId": "df58b8d4-6aff-4d10-9fe5-fa3eaf7598a0"
      },
      "outputs": [
        {
          "output_type": "stream",
          "name": "stdout",
          "text": [
            "+-------------------+----------+----------+-------------------+--------+-------+---------+--------------------+-----------+------------+\n",
            "|         event_time|event_type|product_id|        category_id|   brand|  price|  user_id|        user_session|   category|     product|\n",
            "+-------------------+----------+----------+-------------------+--------+-------+---------+--------------------+-----------+------------+\n",
            "|2019-10-01 00:00:00|      view|  44600062|2103807459595387724|shiseido|  35.79|541312140|72d76fde-8bb3-4e0...|   shiseido|    shiseido|\n",
            "|2019-10-01 00:00:00|      view|   3900821|2053013552326770905|    aqua|   33.2|554748717|9333dfbd-b87a-470...| appliances|water_heater|\n",
            "|2019-10-01 00:00:01|      view|  17200506|2053013559792632471|   empty|  543.1|519107250|566511c2-e2e3-422...|  furniture|        sofa|\n",
            "|2019-10-01 00:00:01|      view|   1307067|2053013558920217191|  lenovo| 251.74|550050854|7c90fc70-0e80-459...|  computers|    notebook|\n",
            "|2019-10-01 00:00:04|      view|   1004237|2053013555631882655|   apple|1081.98|535871217|c6bd7419-2748-4c5...|electronics|  smartphone|\n",
            "+-------------------+----------+----------+-------------------+--------+-------+---------+--------------------+-----------+------------+\n",
            "only showing top 5 rows\n",
            "\n"
          ]
        }
      ],
      "source": [
        "df_category_product_extracted = preprocessed_df.select(\"*\", extract_category(\"category_code\", \"brand\"),  extract_product(\"category_code\", \"brand\"))\n",
        "df_category_product_extracted = df_category_product_extracted.withColumnRenamed(\"extract_category(category_code, brand)\",\"category\").withColumnRenamed(\"extract_product(category_code, brand)\", \"product\")\n",
        "df_category_product_extracted = df_category_product_extracted.drop(\"category_code\")\n",
        "if output_show:\n",
        "  df_category_product_extracted.show(5)"
      ]
    },
    {
      "cell_type": "markdown",
      "metadata": {
        "id": "XqHg3b5N2CwA"
      },
      "source": [
        "## Extracting Time features like Day, Time, Hour from Timestamp"
      ]
    },
    {
      "cell_type": "code",
      "execution_count": null,
      "metadata": {
        "colab": {
          "base_uri": "https://localhost:8080/"
        },
        "id": "OJPHJN2618qz",
        "outputId": "7d5ee5a5-3c54-4470-9213-af160a55537e"
      },
      "outputs": [
        {
          "output_type": "stream",
          "name": "stdout",
          "text": [
            "+-------------------+----------+----------+-------------------+--------+-------+---------+--------------------+-----------+------------+--------+---+----+\n",
            "|         event_time|event_type|product_id|        category_id|   brand|  price|  user_id|        user_session|   category|     product|    Time|Day|Hour|\n",
            "+-------------------+----------+----------+-------------------+--------+-------+---------+--------------------+-----------+------------+--------+---+----+\n",
            "|2019-10-01 00:00:00|      view|  44600062|2103807459595387724|shiseido|  35.79|541312140|72d76fde-8bb3-4e0...|   shiseido|    shiseido|00:00:00| 01|  00|\n",
            "|2019-10-01 00:00:00|      view|   3900821|2053013552326770905|    aqua|   33.2|554748717|9333dfbd-b87a-470...| appliances|water_heater|00:00:00| 01|  00|\n",
            "|2019-10-01 00:00:01|      view|  17200506|2053013559792632471|   empty|  543.1|519107250|566511c2-e2e3-422...|  furniture|        sofa|00:00:01| 01|  00|\n",
            "|2019-10-01 00:00:01|      view|   1307067|2053013558920217191|  lenovo| 251.74|550050854|7c90fc70-0e80-459...|  computers|    notebook|00:00:01| 01|  00|\n",
            "|2019-10-01 00:00:04|      view|   1004237|2053013555631882655|   apple|1081.98|535871217|c6bd7419-2748-4c5...|electronics|  smartphone|00:00:04| 01|  00|\n",
            "+-------------------+----------+----------+-------------------+--------+-------+---------+--------------------+-----------+------------+--------+---+----+\n",
            "only showing top 5 rows\n",
            "\n"
          ]
        }
      ],
      "source": [
        "df_time = df_category_product_extracted.withColumn('Date', split(preprocessed_df['event_time'], ' ').getItem(0)).withColumn('Time', split(preprocessed_df['event_time'], ' ').getItem(1))\n",
        "df_time = df_time.withColumn('Day', split(df_time['Date'], '-').getItem(2)).withColumn('Hour', split(df_time['Time'], ':').getItem(0))\n",
        "df_time = df_time.drop(\"Date\")\n",
        "if output_show:\n",
        "  df_time.show(5)"
      ]
    },
    {
      "cell_type": "code",
      "execution_count": null,
      "metadata": {
        "id": "5m8bjVgL2m5m"
      },
      "outputs": [],
      "source": [
        "df = df_time"
      ]
    },
    {
      "cell_type": "markdown",
      "metadata": {
        "id": "6qVJErW-9vIp"
      },
      "source": [
        "# Unique visitors in October"
      ]
    },
    {
      "cell_type": "code",
      "execution_count": null,
      "metadata": {
        "colab": {
          "base_uri": "https://localhost:8080/",
          "height": 64
        },
        "id": "dIe_895k3DQN",
        "outputId": "0ba51a05-b61b-4ea9-b753-4bdfbeefc10b"
      },
      "outputs": [
        {
          "output_type": "execute_result",
          "data": {
            "text/plain": [
              "+-----------------------+\n",
              "|count(DISTINCT user_id)|\n",
              "+-----------------------+\n",
              "|                3022290|\n",
              "+-----------------------+"
            ],
            "text/html": [
              "<table border='1'>\n",
              "<tr><th>count(DISTINCT user_id)</th></tr>\n",
              "<tr><td>3022290</td></tr>\n",
              "</table>\n"
            ]
          },
          "metadata": {},
          "execution_count": 20
        }
      ],
      "source": [
        "unique_visitors = df.select(countDistinct(\"user_id\"))\n",
        "unique_visitors"
      ]
    },
    {
      "cell_type": "markdown",
      "metadata": {
        "id": "sTiPODJHBpvc"
      },
      "source": [
        "Analysis: The e-commerce site has a footfall of X unique visitors in the month of October\n",
        "\n",
        "Future scope: If latitude/longitude is captured, we can also obtain demographic insights about potential customers.\n"
      ]
    },
    {
      "cell_type": "markdown",
      "metadata": {
        "id": "gKP4bBcUOXRu"
      },
      "source": [
        "# Journey of a user in one session\n"
      ]
    },
    {
      "cell_type": "code",
      "execution_count": null,
      "metadata": {
        "colab": {
          "base_uri": "https://localhost:8080/",
          "height": 1000
        },
        "collapsed": true,
        "id": "pKRl6HzgjnhR",
        "outputId": "7a5ace5a-9217-4790-c5e8-f99bd812b3a1"
      },
      "outputs": [
        {
          "output_type": "execute_result",
          "data": {
            "text/plain": [
              "            event_time event_type  product_id          category_id  brand  \\\n",
              "0  2019-10-01 05:08:10       view     1005115  2053013555631882655  apple   \n",
              "1  2019-10-01 05:08:24       view     1005115  2053013555631882655  apple   \n",
              "2  2019-10-01 05:08:44       view     1005115  2053013555631882655  apple   \n",
              "3  2019-10-01 05:13:03       view     1005115  2053013555631882655  apple   \n",
              "4  2019-10-01 05:17:22       view     1003317  2053013555631882655  apple   \n",
              "5  2019-10-01 05:18:23       view     1002524  2053013555631882655  apple   \n",
              "6  2019-10-01 05:19:50       view     1005104  2053013555631882655  apple   \n",
              "7  2019-10-01 05:20:05       view     1002629  2053013555631882655  apple   \n",
              "8  2019-10-01 05:20:31       view     1003310  2053013555631882655  apple   \n",
              "9  2019-10-01 05:21:10       view     1005121  2053013555631882655  apple   \n",
              "10 2019-10-01 05:22:55       view     1004246  2053013555631882655  apple   \n",
              "11 2019-10-01 05:23:51       view     1004249  2053013555631882655  apple   \n",
              "12 2019-10-01 05:26:30       cart     1004249  2053013555631882655  apple   \n",
              "13 2019-10-01 05:28:10       view     1005122  2053013555631882655  apple   \n",
              "14 2019-10-01 05:30:00       view     1004255  2053013555631882655  apple   \n",
              "15 2019-10-01 05:30:12       view     1004252  2053013555631882655  apple   \n",
              "16 2019-10-01 05:31:39       view     1004253  2053013555631882655  apple   \n",
              "17 2019-10-01 05:34:23       cart     1004253  2053013555631882655  apple   \n",
              "18 2019-10-01 05:34:32       cart     1004253  2053013555631882655  apple   \n",
              "19 2019-10-01 05:36:23       view     1004253  2053013555631882655  apple   \n",
              "20 2019-10-01 05:39:31   purchase     1004253  2053013555631882655  apple   \n",
              "21 2019-10-01 05:40:10       view     1004253  2053013555631882655  apple   \n",
              "22 2019-10-01 05:40:47       view     1004249  2053013555631882655  apple   \n",
              "23 2019-10-01 05:41:04       cart     1004249  2053013555631882655  apple   \n",
              "24 2019-10-01 05:41:14   purchase     1004249  2053013555631882655  apple   \n",
              "25 2019-10-01 05:41:39       view     1004249  2053013555631882655  apple   \n",
              "26 2019-10-01 05:41:59       cart     1004249  2053013555631882655  apple   \n",
              "27 2019-10-01 05:42:04       view     1004249  2053013555631882655  apple   \n",
              "28 2019-10-01 05:42:21   purchase     1004249  2053013555631882655  apple   \n",
              "29 2019-10-01 05:42:41       view     1004249  2053013555631882655  apple   \n",
              "30 2019-10-01 05:42:43       view     1004249  2053013555631882655  apple   \n",
              "31 2019-10-01 05:42:50       view     1004249  2053013555631882655  apple   \n",
              "32 2019-10-01 05:42:53       view     1004249  2053013555631882655  apple   \n",
              "33 2019-10-01 05:42:55       view     1004249  2053013555631882655  apple   \n",
              "34 2019-10-01 05:43:10       view     1002524  2053013555631882655  apple   \n",
              "35 2019-10-01 05:43:42       cart     1002524  2053013555631882655  apple   \n",
              "36 2019-10-01 05:43:52   purchase     1002524  2053013555631882655  apple   \n",
              "37 2019-10-01 05:44:18       view     1002524  2053013555631882655  apple   \n",
              "38 2019-10-01 05:45:08       cart     1002524  2053013555631882655  apple   \n",
              "39 2019-10-01 05:45:51   purchase     1002524  2053013555631882655  apple   \n",
              "40 2019-10-01 05:46:16       view     1002524  2053013555631882655  apple   \n",
              "41 2019-10-01 05:46:29       view     1002524  2053013555631882655  apple   \n",
              "42 2019-10-01 05:46:37       view     1002524  2053013555631882655  apple   \n",
              "43 2019-10-01 05:46:43       view     1002524  2053013555631882655  apple   \n",
              "\n",
              "      price    user_id                          user_session     category  \\\n",
              "0    975.57  526823608  b37abd25-7672-4dd7-a098-40e50e314388  electronics   \n",
              "1    975.57  526823608  b37abd25-7672-4dd7-a098-40e50e314388  electronics   \n",
              "2    975.57  526823608  b37abd25-7672-4dd7-a098-40e50e314388  electronics   \n",
              "3    975.57  526823608  b37abd25-7672-4dd7-a098-40e50e314388  electronics   \n",
              "4    957.53  526823608  b37abd25-7672-4dd7-a098-40e50e314388  electronics   \n",
              "5    514.76  526823608  b37abd25-7672-4dd7-a098-40e50e314388  electronics   \n",
              "6    975.57  526823608  b37abd25-7672-4dd7-a098-40e50e314388  electronics   \n",
              "7    377.14  526823608  b37abd25-7672-4dd7-a098-40e50e314388  electronics   \n",
              "8    746.29  526823608  b37abd25-7672-4dd7-a098-40e50e314388  electronics   \n",
              "9    949.83  526823608  b37abd25-7672-4dd7-a098-40e50e314388  electronics   \n",
              "10   735.01  526823608  b37abd25-7672-4dd7-a098-40e50e314388  electronics   \n",
              "11   738.61  526823608  b37abd25-7672-4dd7-a098-40e50e314388  electronics   \n",
              "12   738.61  526823608  b37abd25-7672-4dd7-a098-40e50e314388  electronics   \n",
              "13  1027.05  526823608  b37abd25-7672-4dd7-a098-40e50e314388  electronics   \n",
              "14   744.39  526823608  b37abd25-7672-4dd7-a098-40e50e314388  electronics   \n",
              "15   759.06  526823608  b37abd25-7672-4dd7-a098-40e50e314388  electronics   \n",
              "16   816.52  526823608  b37abd25-7672-4dd7-a098-40e50e314388  electronics   \n",
              "17   816.52  526823608  b37abd25-7672-4dd7-a098-40e50e314388  electronics   \n",
              "18   816.52  526823608  b37abd25-7672-4dd7-a098-40e50e314388  electronics   \n",
              "19   816.52  526823608  b37abd25-7672-4dd7-a098-40e50e314388  electronics   \n",
              "20   816.52  526823608  b37abd25-7672-4dd7-a098-40e50e314388  electronics   \n",
              "21   816.52  526823608  b37abd25-7672-4dd7-a098-40e50e314388  electronics   \n",
              "22   738.61  526823608  b37abd25-7672-4dd7-a098-40e50e314388  electronics   \n",
              "23   738.61  526823608  b37abd25-7672-4dd7-a098-40e50e314388  electronics   \n",
              "24   738.61  526823608  b37abd25-7672-4dd7-a098-40e50e314388  electronics   \n",
              "25   738.61  526823608  b37abd25-7672-4dd7-a098-40e50e314388  electronics   \n",
              "26   738.61  526823608  b37abd25-7672-4dd7-a098-40e50e314388  electronics   \n",
              "27   738.61  526823608  b37abd25-7672-4dd7-a098-40e50e314388  electronics   \n",
              "28   738.61  526823608  b37abd25-7672-4dd7-a098-40e50e314388  electronics   \n",
              "29   738.61  526823608  b37abd25-7672-4dd7-a098-40e50e314388  electronics   \n",
              "30   738.61  526823608  b37abd25-7672-4dd7-a098-40e50e314388  electronics   \n",
              "31   738.61  526823608  b37abd25-7672-4dd7-a098-40e50e314388  electronics   \n",
              "32   738.61  526823608  b37abd25-7672-4dd7-a098-40e50e314388  electronics   \n",
              "33   738.61  526823608  b37abd25-7672-4dd7-a098-40e50e314388  electronics   \n",
              "34   514.76  526823608  b37abd25-7672-4dd7-a098-40e50e314388  electronics   \n",
              "35   514.76  526823608  b37abd25-7672-4dd7-a098-40e50e314388  electronics   \n",
              "36   514.76  526823608  b37abd25-7672-4dd7-a098-40e50e314388  electronics   \n",
              "37   514.76  526823608  b37abd25-7672-4dd7-a098-40e50e314388  electronics   \n",
              "38   514.76  526823608  b37abd25-7672-4dd7-a098-40e50e314388  electronics   \n",
              "39   514.76  526823608  b37abd25-7672-4dd7-a098-40e50e314388  electronics   \n",
              "40   514.76  526823608  b37abd25-7672-4dd7-a098-40e50e314388  electronics   \n",
              "41   514.76  526823608  b37abd25-7672-4dd7-a098-40e50e314388  electronics   \n",
              "42   514.76  526823608  b37abd25-7672-4dd7-a098-40e50e314388  electronics   \n",
              "43   514.76  526823608  b37abd25-7672-4dd7-a098-40e50e314388  electronics   \n",
              "\n",
              "       product      Time Day Hour  \n",
              "0   smartphone  05:08:10  01   05  \n",
              "1   smartphone  05:08:24  01   05  \n",
              "2   smartphone  05:08:44  01   05  \n",
              "3   smartphone  05:13:03  01   05  \n",
              "4   smartphone  05:17:22  01   05  \n",
              "5   smartphone  05:18:23  01   05  \n",
              "6   smartphone  05:19:50  01   05  \n",
              "7   smartphone  05:20:05  01   05  \n",
              "8   smartphone  05:20:31  01   05  \n",
              "9   smartphone  05:21:10  01   05  \n",
              "10  smartphone  05:22:55  01   05  \n",
              "11  smartphone  05:23:51  01   05  \n",
              "12  smartphone  05:26:30  01   05  \n",
              "13  smartphone  05:28:10  01   05  \n",
              "14  smartphone  05:30:00  01   05  \n",
              "15  smartphone  05:30:12  01   05  \n",
              "16  smartphone  05:31:39  01   05  \n",
              "17  smartphone  05:34:23  01   05  \n",
              "18  smartphone  05:34:32  01   05  \n",
              "19  smartphone  05:36:23  01   05  \n",
              "20  smartphone  05:39:31  01   05  \n",
              "21  smartphone  05:40:10  01   05  \n",
              "22  smartphone  05:40:47  01   05  \n",
              "23  smartphone  05:41:04  01   05  \n",
              "24  smartphone  05:41:14  01   05  \n",
              "25  smartphone  05:41:39  01   05  \n",
              "26  smartphone  05:41:59  01   05  \n",
              "27  smartphone  05:42:04  01   05  \n",
              "28  smartphone  05:42:21  01   05  \n",
              "29  smartphone  05:42:41  01   05  \n",
              "30  smartphone  05:42:43  01   05  \n",
              "31  smartphone  05:42:50  01   05  \n",
              "32  smartphone  05:42:53  01   05  \n",
              "33  smartphone  05:42:55  01   05  \n",
              "34  smartphone  05:43:10  01   05  \n",
              "35  smartphone  05:43:42  01   05  \n",
              "36  smartphone  05:43:52  01   05  \n",
              "37  smartphone  05:44:18  01   05  \n",
              "38  smartphone  05:45:08  01   05  \n",
              "39  smartphone  05:45:51  01   05  \n",
              "40  smartphone  05:46:16  01   05  \n",
              "41  smartphone  05:46:29  01   05  \n",
              "42  smartphone  05:46:37  01   05  \n",
              "43  smartphone  05:46:43  01   05  "
            ],
            "text/html": [
              "\n",
              "  <div id=\"df-4b7984d4-8f00-4444-b588-5df2cd288125\" class=\"colab-df-container\">\n",
              "    <div>\n",
              "<style scoped>\n",
              "    .dataframe tbody tr th:only-of-type {\n",
              "        vertical-align: middle;\n",
              "    }\n",
              "\n",
              "    .dataframe tbody tr th {\n",
              "        vertical-align: top;\n",
              "    }\n",
              "\n",
              "    .dataframe thead th {\n",
              "        text-align: right;\n",
              "    }\n",
              "</style>\n",
              "<table border=\"1\" class=\"dataframe\">\n",
              "  <thead>\n",
              "    <tr style=\"text-align: right;\">\n",
              "      <th></th>\n",
              "      <th>event_time</th>\n",
              "      <th>event_type</th>\n",
              "      <th>product_id</th>\n",
              "      <th>category_id</th>\n",
              "      <th>brand</th>\n",
              "      <th>price</th>\n",
              "      <th>user_id</th>\n",
              "      <th>user_session</th>\n",
              "      <th>category</th>\n",
              "      <th>product</th>\n",
              "      <th>Time</th>\n",
              "      <th>Day</th>\n",
              "      <th>Hour</th>\n",
              "    </tr>\n",
              "  </thead>\n",
              "  <tbody>\n",
              "    <tr>\n",
              "      <th>0</th>\n",
              "      <td>2019-10-01 05:08:10</td>\n",
              "      <td>view</td>\n",
              "      <td>1005115</td>\n",
              "      <td>2053013555631882655</td>\n",
              "      <td>apple</td>\n",
              "      <td>975.57</td>\n",
              "      <td>526823608</td>\n",
              "      <td>b37abd25-7672-4dd7-a098-40e50e314388</td>\n",
              "      <td>electronics</td>\n",
              "      <td>smartphone</td>\n",
              "      <td>05:08:10</td>\n",
              "      <td>01</td>\n",
              "      <td>05</td>\n",
              "    </tr>\n",
              "    <tr>\n",
              "      <th>1</th>\n",
              "      <td>2019-10-01 05:08:24</td>\n",
              "      <td>view</td>\n",
              "      <td>1005115</td>\n",
              "      <td>2053013555631882655</td>\n",
              "      <td>apple</td>\n",
              "      <td>975.57</td>\n",
              "      <td>526823608</td>\n",
              "      <td>b37abd25-7672-4dd7-a098-40e50e314388</td>\n",
              "      <td>electronics</td>\n",
              "      <td>smartphone</td>\n",
              "      <td>05:08:24</td>\n",
              "      <td>01</td>\n",
              "      <td>05</td>\n",
              "    </tr>\n",
              "    <tr>\n",
              "      <th>2</th>\n",
              "      <td>2019-10-01 05:08:44</td>\n",
              "      <td>view</td>\n",
              "      <td>1005115</td>\n",
              "      <td>2053013555631882655</td>\n",
              "      <td>apple</td>\n",
              "      <td>975.57</td>\n",
              "      <td>526823608</td>\n",
              "      <td>b37abd25-7672-4dd7-a098-40e50e314388</td>\n",
              "      <td>electronics</td>\n",
              "      <td>smartphone</td>\n",
              "      <td>05:08:44</td>\n",
              "      <td>01</td>\n",
              "      <td>05</td>\n",
              "    </tr>\n",
              "    <tr>\n",
              "      <th>3</th>\n",
              "      <td>2019-10-01 05:13:03</td>\n",
              "      <td>view</td>\n",
              "      <td>1005115</td>\n",
              "      <td>2053013555631882655</td>\n",
              "      <td>apple</td>\n",
              "      <td>975.57</td>\n",
              "      <td>526823608</td>\n",
              "      <td>b37abd25-7672-4dd7-a098-40e50e314388</td>\n",
              "      <td>electronics</td>\n",
              "      <td>smartphone</td>\n",
              "      <td>05:13:03</td>\n",
              "      <td>01</td>\n",
              "      <td>05</td>\n",
              "    </tr>\n",
              "    <tr>\n",
              "      <th>4</th>\n",
              "      <td>2019-10-01 05:17:22</td>\n",
              "      <td>view</td>\n",
              "      <td>1003317</td>\n",
              "      <td>2053013555631882655</td>\n",
              "      <td>apple</td>\n",
              "      <td>957.53</td>\n",
              "      <td>526823608</td>\n",
              "      <td>b37abd25-7672-4dd7-a098-40e50e314388</td>\n",
              "      <td>electronics</td>\n",
              "      <td>smartphone</td>\n",
              "      <td>05:17:22</td>\n",
              "      <td>01</td>\n",
              "      <td>05</td>\n",
              "    </tr>\n",
              "    <tr>\n",
              "      <th>5</th>\n",
              "      <td>2019-10-01 05:18:23</td>\n",
              "      <td>view</td>\n",
              "      <td>1002524</td>\n",
              "      <td>2053013555631882655</td>\n",
              "      <td>apple</td>\n",
              "      <td>514.76</td>\n",
              "      <td>526823608</td>\n",
              "      <td>b37abd25-7672-4dd7-a098-40e50e314388</td>\n",
              "      <td>electronics</td>\n",
              "      <td>smartphone</td>\n",
              "      <td>05:18:23</td>\n",
              "      <td>01</td>\n",
              "      <td>05</td>\n",
              "    </tr>\n",
              "    <tr>\n",
              "      <th>6</th>\n",
              "      <td>2019-10-01 05:19:50</td>\n",
              "      <td>view</td>\n",
              "      <td>1005104</td>\n",
              "      <td>2053013555631882655</td>\n",
              "      <td>apple</td>\n",
              "      <td>975.57</td>\n",
              "      <td>526823608</td>\n",
              "      <td>b37abd25-7672-4dd7-a098-40e50e314388</td>\n",
              "      <td>electronics</td>\n",
              "      <td>smartphone</td>\n",
              "      <td>05:19:50</td>\n",
              "      <td>01</td>\n",
              "      <td>05</td>\n",
              "    </tr>\n",
              "    <tr>\n",
              "      <th>7</th>\n",
              "      <td>2019-10-01 05:20:05</td>\n",
              "      <td>view</td>\n",
              "      <td>1002629</td>\n",
              "      <td>2053013555631882655</td>\n",
              "      <td>apple</td>\n",
              "      <td>377.14</td>\n",
              "      <td>526823608</td>\n",
              "      <td>b37abd25-7672-4dd7-a098-40e50e314388</td>\n",
              "      <td>electronics</td>\n",
              "      <td>smartphone</td>\n",
              "      <td>05:20:05</td>\n",
              "      <td>01</td>\n",
              "      <td>05</td>\n",
              "    </tr>\n",
              "    <tr>\n",
              "      <th>8</th>\n",
              "      <td>2019-10-01 05:20:31</td>\n",
              "      <td>view</td>\n",
              "      <td>1003310</td>\n",
              "      <td>2053013555631882655</td>\n",
              "      <td>apple</td>\n",
              "      <td>746.29</td>\n",
              "      <td>526823608</td>\n",
              "      <td>b37abd25-7672-4dd7-a098-40e50e314388</td>\n",
              "      <td>electronics</td>\n",
              "      <td>smartphone</td>\n",
              "      <td>05:20:31</td>\n",
              "      <td>01</td>\n",
              "      <td>05</td>\n",
              "    </tr>\n",
              "    <tr>\n",
              "      <th>9</th>\n",
              "      <td>2019-10-01 05:21:10</td>\n",
              "      <td>view</td>\n",
              "      <td>1005121</td>\n",
              "      <td>2053013555631882655</td>\n",
              "      <td>apple</td>\n",
              "      <td>949.83</td>\n",
              "      <td>526823608</td>\n",
              "      <td>b37abd25-7672-4dd7-a098-40e50e314388</td>\n",
              "      <td>electronics</td>\n",
              "      <td>smartphone</td>\n",
              "      <td>05:21:10</td>\n",
              "      <td>01</td>\n",
              "      <td>05</td>\n",
              "    </tr>\n",
              "    <tr>\n",
              "      <th>10</th>\n",
              "      <td>2019-10-01 05:22:55</td>\n",
              "      <td>view</td>\n",
              "      <td>1004246</td>\n",
              "      <td>2053013555631882655</td>\n",
              "      <td>apple</td>\n",
              "      <td>735.01</td>\n",
              "      <td>526823608</td>\n",
              "      <td>b37abd25-7672-4dd7-a098-40e50e314388</td>\n",
              "      <td>electronics</td>\n",
              "      <td>smartphone</td>\n",
              "      <td>05:22:55</td>\n",
              "      <td>01</td>\n",
              "      <td>05</td>\n",
              "    </tr>\n",
              "    <tr>\n",
              "      <th>11</th>\n",
              "      <td>2019-10-01 05:23:51</td>\n",
              "      <td>view</td>\n",
              "      <td>1004249</td>\n",
              "      <td>2053013555631882655</td>\n",
              "      <td>apple</td>\n",
              "      <td>738.61</td>\n",
              "      <td>526823608</td>\n",
              "      <td>b37abd25-7672-4dd7-a098-40e50e314388</td>\n",
              "      <td>electronics</td>\n",
              "      <td>smartphone</td>\n",
              "      <td>05:23:51</td>\n",
              "      <td>01</td>\n",
              "      <td>05</td>\n",
              "    </tr>\n",
              "    <tr>\n",
              "      <th>12</th>\n",
              "      <td>2019-10-01 05:26:30</td>\n",
              "      <td>cart</td>\n",
              "      <td>1004249</td>\n",
              "      <td>2053013555631882655</td>\n",
              "      <td>apple</td>\n",
              "      <td>738.61</td>\n",
              "      <td>526823608</td>\n",
              "      <td>b37abd25-7672-4dd7-a098-40e50e314388</td>\n",
              "      <td>electronics</td>\n",
              "      <td>smartphone</td>\n",
              "      <td>05:26:30</td>\n",
              "      <td>01</td>\n",
              "      <td>05</td>\n",
              "    </tr>\n",
              "    <tr>\n",
              "      <th>13</th>\n",
              "      <td>2019-10-01 05:28:10</td>\n",
              "      <td>view</td>\n",
              "      <td>1005122</td>\n",
              "      <td>2053013555631882655</td>\n",
              "      <td>apple</td>\n",
              "      <td>1027.05</td>\n",
              "      <td>526823608</td>\n",
              "      <td>b37abd25-7672-4dd7-a098-40e50e314388</td>\n",
              "      <td>electronics</td>\n",
              "      <td>smartphone</td>\n",
              "      <td>05:28:10</td>\n",
              "      <td>01</td>\n",
              "      <td>05</td>\n",
              "    </tr>\n",
              "    <tr>\n",
              "      <th>14</th>\n",
              "      <td>2019-10-01 05:30:00</td>\n",
              "      <td>view</td>\n",
              "      <td>1004255</td>\n",
              "      <td>2053013555631882655</td>\n",
              "      <td>apple</td>\n",
              "      <td>744.39</td>\n",
              "      <td>526823608</td>\n",
              "      <td>b37abd25-7672-4dd7-a098-40e50e314388</td>\n",
              "      <td>electronics</td>\n",
              "      <td>smartphone</td>\n",
              "      <td>05:30:00</td>\n",
              "      <td>01</td>\n",
              "      <td>05</td>\n",
              "    </tr>\n",
              "    <tr>\n",
              "      <th>15</th>\n",
              "      <td>2019-10-01 05:30:12</td>\n",
              "      <td>view</td>\n",
              "      <td>1004252</td>\n",
              "      <td>2053013555631882655</td>\n",
              "      <td>apple</td>\n",
              "      <td>759.06</td>\n",
              "      <td>526823608</td>\n",
              "      <td>b37abd25-7672-4dd7-a098-40e50e314388</td>\n",
              "      <td>electronics</td>\n",
              "      <td>smartphone</td>\n",
              "      <td>05:30:12</td>\n",
              "      <td>01</td>\n",
              "      <td>05</td>\n",
              "    </tr>\n",
              "    <tr>\n",
              "      <th>16</th>\n",
              "      <td>2019-10-01 05:31:39</td>\n",
              "      <td>view</td>\n",
              "      <td>1004253</td>\n",
              "      <td>2053013555631882655</td>\n",
              "      <td>apple</td>\n",
              "      <td>816.52</td>\n",
              "      <td>526823608</td>\n",
              "      <td>b37abd25-7672-4dd7-a098-40e50e314388</td>\n",
              "      <td>electronics</td>\n",
              "      <td>smartphone</td>\n",
              "      <td>05:31:39</td>\n",
              "      <td>01</td>\n",
              "      <td>05</td>\n",
              "    </tr>\n",
              "    <tr>\n",
              "      <th>17</th>\n",
              "      <td>2019-10-01 05:34:23</td>\n",
              "      <td>cart</td>\n",
              "      <td>1004253</td>\n",
              "      <td>2053013555631882655</td>\n",
              "      <td>apple</td>\n",
              "      <td>816.52</td>\n",
              "      <td>526823608</td>\n",
              "      <td>b37abd25-7672-4dd7-a098-40e50e314388</td>\n",
              "      <td>electronics</td>\n",
              "      <td>smartphone</td>\n",
              "      <td>05:34:23</td>\n",
              "      <td>01</td>\n",
              "      <td>05</td>\n",
              "    </tr>\n",
              "    <tr>\n",
              "      <th>18</th>\n",
              "      <td>2019-10-01 05:34:32</td>\n",
              "      <td>cart</td>\n",
              "      <td>1004253</td>\n",
              "      <td>2053013555631882655</td>\n",
              "      <td>apple</td>\n",
              "      <td>816.52</td>\n",
              "      <td>526823608</td>\n",
              "      <td>b37abd25-7672-4dd7-a098-40e50e314388</td>\n",
              "      <td>electronics</td>\n",
              "      <td>smartphone</td>\n",
              "      <td>05:34:32</td>\n",
              "      <td>01</td>\n",
              "      <td>05</td>\n",
              "    </tr>\n",
              "    <tr>\n",
              "      <th>19</th>\n",
              "      <td>2019-10-01 05:36:23</td>\n",
              "      <td>view</td>\n",
              "      <td>1004253</td>\n",
              "      <td>2053013555631882655</td>\n",
              "      <td>apple</td>\n",
              "      <td>816.52</td>\n",
              "      <td>526823608</td>\n",
              "      <td>b37abd25-7672-4dd7-a098-40e50e314388</td>\n",
              "      <td>electronics</td>\n",
              "      <td>smartphone</td>\n",
              "      <td>05:36:23</td>\n",
              "      <td>01</td>\n",
              "      <td>05</td>\n",
              "    </tr>\n",
              "    <tr>\n",
              "      <th>20</th>\n",
              "      <td>2019-10-01 05:39:31</td>\n",
              "      <td>purchase</td>\n",
              "      <td>1004253</td>\n",
              "      <td>2053013555631882655</td>\n",
              "      <td>apple</td>\n",
              "      <td>816.52</td>\n",
              "      <td>526823608</td>\n",
              "      <td>b37abd25-7672-4dd7-a098-40e50e314388</td>\n",
              "      <td>electronics</td>\n",
              "      <td>smartphone</td>\n",
              "      <td>05:39:31</td>\n",
              "      <td>01</td>\n",
              "      <td>05</td>\n",
              "    </tr>\n",
              "    <tr>\n",
              "      <th>21</th>\n",
              "      <td>2019-10-01 05:40:10</td>\n",
              "      <td>view</td>\n",
              "      <td>1004253</td>\n",
              "      <td>2053013555631882655</td>\n",
              "      <td>apple</td>\n",
              "      <td>816.52</td>\n",
              "      <td>526823608</td>\n",
              "      <td>b37abd25-7672-4dd7-a098-40e50e314388</td>\n",
              "      <td>electronics</td>\n",
              "      <td>smartphone</td>\n",
              "      <td>05:40:10</td>\n",
              "      <td>01</td>\n",
              "      <td>05</td>\n",
              "    </tr>\n",
              "    <tr>\n",
              "      <th>22</th>\n",
              "      <td>2019-10-01 05:40:47</td>\n",
              "      <td>view</td>\n",
              "      <td>1004249</td>\n",
              "      <td>2053013555631882655</td>\n",
              "      <td>apple</td>\n",
              "      <td>738.61</td>\n",
              "      <td>526823608</td>\n",
              "      <td>b37abd25-7672-4dd7-a098-40e50e314388</td>\n",
              "      <td>electronics</td>\n",
              "      <td>smartphone</td>\n",
              "      <td>05:40:47</td>\n",
              "      <td>01</td>\n",
              "      <td>05</td>\n",
              "    </tr>\n",
              "    <tr>\n",
              "      <th>23</th>\n",
              "      <td>2019-10-01 05:41:04</td>\n",
              "      <td>cart</td>\n",
              "      <td>1004249</td>\n",
              "      <td>2053013555631882655</td>\n",
              "      <td>apple</td>\n",
              "      <td>738.61</td>\n",
              "      <td>526823608</td>\n",
              "      <td>b37abd25-7672-4dd7-a098-40e50e314388</td>\n",
              "      <td>electronics</td>\n",
              "      <td>smartphone</td>\n",
              "      <td>05:41:04</td>\n",
              "      <td>01</td>\n",
              "      <td>05</td>\n",
              "    </tr>\n",
              "    <tr>\n",
              "      <th>24</th>\n",
              "      <td>2019-10-01 05:41:14</td>\n",
              "      <td>purchase</td>\n",
              "      <td>1004249</td>\n",
              "      <td>2053013555631882655</td>\n",
              "      <td>apple</td>\n",
              "      <td>738.61</td>\n",
              "      <td>526823608</td>\n",
              "      <td>b37abd25-7672-4dd7-a098-40e50e314388</td>\n",
              "      <td>electronics</td>\n",
              "      <td>smartphone</td>\n",
              "      <td>05:41:14</td>\n",
              "      <td>01</td>\n",
              "      <td>05</td>\n",
              "    </tr>\n",
              "    <tr>\n",
              "      <th>25</th>\n",
              "      <td>2019-10-01 05:41:39</td>\n",
              "      <td>view</td>\n",
              "      <td>1004249</td>\n",
              "      <td>2053013555631882655</td>\n",
              "      <td>apple</td>\n",
              "      <td>738.61</td>\n",
              "      <td>526823608</td>\n",
              "      <td>b37abd25-7672-4dd7-a098-40e50e314388</td>\n",
              "      <td>electronics</td>\n",
              "      <td>smartphone</td>\n",
              "      <td>05:41:39</td>\n",
              "      <td>01</td>\n",
              "      <td>05</td>\n",
              "    </tr>\n",
              "    <tr>\n",
              "      <th>26</th>\n",
              "      <td>2019-10-01 05:41:59</td>\n",
              "      <td>cart</td>\n",
              "      <td>1004249</td>\n",
              "      <td>2053013555631882655</td>\n",
              "      <td>apple</td>\n",
              "      <td>738.61</td>\n",
              "      <td>526823608</td>\n",
              "      <td>b37abd25-7672-4dd7-a098-40e50e314388</td>\n",
              "      <td>electronics</td>\n",
              "      <td>smartphone</td>\n",
              "      <td>05:41:59</td>\n",
              "      <td>01</td>\n",
              "      <td>05</td>\n",
              "    </tr>\n",
              "    <tr>\n",
              "      <th>27</th>\n",
              "      <td>2019-10-01 05:42:04</td>\n",
              "      <td>view</td>\n",
              "      <td>1004249</td>\n",
              "      <td>2053013555631882655</td>\n",
              "      <td>apple</td>\n",
              "      <td>738.61</td>\n",
              "      <td>526823608</td>\n",
              "      <td>b37abd25-7672-4dd7-a098-40e50e314388</td>\n",
              "      <td>electronics</td>\n",
              "      <td>smartphone</td>\n",
              "      <td>05:42:04</td>\n",
              "      <td>01</td>\n",
              "      <td>05</td>\n",
              "    </tr>\n",
              "    <tr>\n",
              "      <th>28</th>\n",
              "      <td>2019-10-01 05:42:21</td>\n",
              "      <td>purchase</td>\n",
              "      <td>1004249</td>\n",
              "      <td>2053013555631882655</td>\n",
              "      <td>apple</td>\n",
              "      <td>738.61</td>\n",
              "      <td>526823608</td>\n",
              "      <td>b37abd25-7672-4dd7-a098-40e50e314388</td>\n",
              "      <td>electronics</td>\n",
              "      <td>smartphone</td>\n",
              "      <td>05:42:21</td>\n",
              "      <td>01</td>\n",
              "      <td>05</td>\n",
              "    </tr>\n",
              "    <tr>\n",
              "      <th>29</th>\n",
              "      <td>2019-10-01 05:42:41</td>\n",
              "      <td>view</td>\n",
              "      <td>1004249</td>\n",
              "      <td>2053013555631882655</td>\n",
              "      <td>apple</td>\n",
              "      <td>738.61</td>\n",
              "      <td>526823608</td>\n",
              "      <td>b37abd25-7672-4dd7-a098-40e50e314388</td>\n",
              "      <td>electronics</td>\n",
              "      <td>smartphone</td>\n",
              "      <td>05:42:41</td>\n",
              "      <td>01</td>\n",
              "      <td>05</td>\n",
              "    </tr>\n",
              "    <tr>\n",
              "      <th>30</th>\n",
              "      <td>2019-10-01 05:42:43</td>\n",
              "      <td>view</td>\n",
              "      <td>1004249</td>\n",
              "      <td>2053013555631882655</td>\n",
              "      <td>apple</td>\n",
              "      <td>738.61</td>\n",
              "      <td>526823608</td>\n",
              "      <td>b37abd25-7672-4dd7-a098-40e50e314388</td>\n",
              "      <td>electronics</td>\n",
              "      <td>smartphone</td>\n",
              "      <td>05:42:43</td>\n",
              "      <td>01</td>\n",
              "      <td>05</td>\n",
              "    </tr>\n",
              "    <tr>\n",
              "      <th>31</th>\n",
              "      <td>2019-10-01 05:42:50</td>\n",
              "      <td>view</td>\n",
              "      <td>1004249</td>\n",
              "      <td>2053013555631882655</td>\n",
              "      <td>apple</td>\n",
              "      <td>738.61</td>\n",
              "      <td>526823608</td>\n",
              "      <td>b37abd25-7672-4dd7-a098-40e50e314388</td>\n",
              "      <td>electronics</td>\n",
              "      <td>smartphone</td>\n",
              "      <td>05:42:50</td>\n",
              "      <td>01</td>\n",
              "      <td>05</td>\n",
              "    </tr>\n",
              "    <tr>\n",
              "      <th>32</th>\n",
              "      <td>2019-10-01 05:42:53</td>\n",
              "      <td>view</td>\n",
              "      <td>1004249</td>\n",
              "      <td>2053013555631882655</td>\n",
              "      <td>apple</td>\n",
              "      <td>738.61</td>\n",
              "      <td>526823608</td>\n",
              "      <td>b37abd25-7672-4dd7-a098-40e50e314388</td>\n",
              "      <td>electronics</td>\n",
              "      <td>smartphone</td>\n",
              "      <td>05:42:53</td>\n",
              "      <td>01</td>\n",
              "      <td>05</td>\n",
              "    </tr>\n",
              "    <tr>\n",
              "      <th>33</th>\n",
              "      <td>2019-10-01 05:42:55</td>\n",
              "      <td>view</td>\n",
              "      <td>1004249</td>\n",
              "      <td>2053013555631882655</td>\n",
              "      <td>apple</td>\n",
              "      <td>738.61</td>\n",
              "      <td>526823608</td>\n",
              "      <td>b37abd25-7672-4dd7-a098-40e50e314388</td>\n",
              "      <td>electronics</td>\n",
              "      <td>smartphone</td>\n",
              "      <td>05:42:55</td>\n",
              "      <td>01</td>\n",
              "      <td>05</td>\n",
              "    </tr>\n",
              "    <tr>\n",
              "      <th>34</th>\n",
              "      <td>2019-10-01 05:43:10</td>\n",
              "      <td>view</td>\n",
              "      <td>1002524</td>\n",
              "      <td>2053013555631882655</td>\n",
              "      <td>apple</td>\n",
              "      <td>514.76</td>\n",
              "      <td>526823608</td>\n",
              "      <td>b37abd25-7672-4dd7-a098-40e50e314388</td>\n",
              "      <td>electronics</td>\n",
              "      <td>smartphone</td>\n",
              "      <td>05:43:10</td>\n",
              "      <td>01</td>\n",
              "      <td>05</td>\n",
              "    </tr>\n",
              "    <tr>\n",
              "      <th>35</th>\n",
              "      <td>2019-10-01 05:43:42</td>\n",
              "      <td>cart</td>\n",
              "      <td>1002524</td>\n",
              "      <td>2053013555631882655</td>\n",
              "      <td>apple</td>\n",
              "      <td>514.76</td>\n",
              "      <td>526823608</td>\n",
              "      <td>b37abd25-7672-4dd7-a098-40e50e314388</td>\n",
              "      <td>electronics</td>\n",
              "      <td>smartphone</td>\n",
              "      <td>05:43:42</td>\n",
              "      <td>01</td>\n",
              "      <td>05</td>\n",
              "    </tr>\n",
              "    <tr>\n",
              "      <th>36</th>\n",
              "      <td>2019-10-01 05:43:52</td>\n",
              "      <td>purchase</td>\n",
              "      <td>1002524</td>\n",
              "      <td>2053013555631882655</td>\n",
              "      <td>apple</td>\n",
              "      <td>514.76</td>\n",
              "      <td>526823608</td>\n",
              "      <td>b37abd25-7672-4dd7-a098-40e50e314388</td>\n",
              "      <td>electronics</td>\n",
              "      <td>smartphone</td>\n",
              "      <td>05:43:52</td>\n",
              "      <td>01</td>\n",
              "      <td>05</td>\n",
              "    </tr>\n",
              "    <tr>\n",
              "      <th>37</th>\n",
              "      <td>2019-10-01 05:44:18</td>\n",
              "      <td>view</td>\n",
              "      <td>1002524</td>\n",
              "      <td>2053013555631882655</td>\n",
              "      <td>apple</td>\n",
              "      <td>514.76</td>\n",
              "      <td>526823608</td>\n",
              "      <td>b37abd25-7672-4dd7-a098-40e50e314388</td>\n",
              "      <td>electronics</td>\n",
              "      <td>smartphone</td>\n",
              "      <td>05:44:18</td>\n",
              "      <td>01</td>\n",
              "      <td>05</td>\n",
              "    </tr>\n",
              "    <tr>\n",
              "      <th>38</th>\n",
              "      <td>2019-10-01 05:45:08</td>\n",
              "      <td>cart</td>\n",
              "      <td>1002524</td>\n",
              "      <td>2053013555631882655</td>\n",
              "      <td>apple</td>\n",
              "      <td>514.76</td>\n",
              "      <td>526823608</td>\n",
              "      <td>b37abd25-7672-4dd7-a098-40e50e314388</td>\n",
              "      <td>electronics</td>\n",
              "      <td>smartphone</td>\n",
              "      <td>05:45:08</td>\n",
              "      <td>01</td>\n",
              "      <td>05</td>\n",
              "    </tr>\n",
              "    <tr>\n",
              "      <th>39</th>\n",
              "      <td>2019-10-01 05:45:51</td>\n",
              "      <td>purchase</td>\n",
              "      <td>1002524</td>\n",
              "      <td>2053013555631882655</td>\n",
              "      <td>apple</td>\n",
              "      <td>514.76</td>\n",
              "      <td>526823608</td>\n",
              "      <td>b37abd25-7672-4dd7-a098-40e50e314388</td>\n",
              "      <td>electronics</td>\n",
              "      <td>smartphone</td>\n",
              "      <td>05:45:51</td>\n",
              "      <td>01</td>\n",
              "      <td>05</td>\n",
              "    </tr>\n",
              "    <tr>\n",
              "      <th>40</th>\n",
              "      <td>2019-10-01 05:46:16</td>\n",
              "      <td>view</td>\n",
              "      <td>1002524</td>\n",
              "      <td>2053013555631882655</td>\n",
              "      <td>apple</td>\n",
              "      <td>514.76</td>\n",
              "      <td>526823608</td>\n",
              "      <td>b37abd25-7672-4dd7-a098-40e50e314388</td>\n",
              "      <td>electronics</td>\n",
              "      <td>smartphone</td>\n",
              "      <td>05:46:16</td>\n",
              "      <td>01</td>\n",
              "      <td>05</td>\n",
              "    </tr>\n",
              "    <tr>\n",
              "      <th>41</th>\n",
              "      <td>2019-10-01 05:46:29</td>\n",
              "      <td>view</td>\n",
              "      <td>1002524</td>\n",
              "      <td>2053013555631882655</td>\n",
              "      <td>apple</td>\n",
              "      <td>514.76</td>\n",
              "      <td>526823608</td>\n",
              "      <td>b37abd25-7672-4dd7-a098-40e50e314388</td>\n",
              "      <td>electronics</td>\n",
              "      <td>smartphone</td>\n",
              "      <td>05:46:29</td>\n",
              "      <td>01</td>\n",
              "      <td>05</td>\n",
              "    </tr>\n",
              "    <tr>\n",
              "      <th>42</th>\n",
              "      <td>2019-10-01 05:46:37</td>\n",
              "      <td>view</td>\n",
              "      <td>1002524</td>\n",
              "      <td>2053013555631882655</td>\n",
              "      <td>apple</td>\n",
              "      <td>514.76</td>\n",
              "      <td>526823608</td>\n",
              "      <td>b37abd25-7672-4dd7-a098-40e50e314388</td>\n",
              "      <td>electronics</td>\n",
              "      <td>smartphone</td>\n",
              "      <td>05:46:37</td>\n",
              "      <td>01</td>\n",
              "      <td>05</td>\n",
              "    </tr>\n",
              "    <tr>\n",
              "      <th>43</th>\n",
              "      <td>2019-10-01 05:46:43</td>\n",
              "      <td>view</td>\n",
              "      <td>1002524</td>\n",
              "      <td>2053013555631882655</td>\n",
              "      <td>apple</td>\n",
              "      <td>514.76</td>\n",
              "      <td>526823608</td>\n",
              "      <td>b37abd25-7672-4dd7-a098-40e50e314388</td>\n",
              "      <td>electronics</td>\n",
              "      <td>smartphone</td>\n",
              "      <td>05:46:43</td>\n",
              "      <td>01</td>\n",
              "      <td>05</td>\n",
              "    </tr>\n",
              "  </tbody>\n",
              "</table>\n",
              "</div>\n",
              "    <div class=\"colab-df-buttons\">\n",
              "\n",
              "  <div class=\"colab-df-container\">\n",
              "    <button class=\"colab-df-convert\" onclick=\"convertToInteractive('df-4b7984d4-8f00-4444-b588-5df2cd288125')\"\n",
              "            title=\"Convert this dataframe to an interactive table.\"\n",
              "            style=\"display:none;\">\n",
              "\n",
              "  <svg xmlns=\"http://www.w3.org/2000/svg\" height=\"24px\" viewBox=\"0 -960 960 960\">\n",
              "    <path d=\"M120-120v-720h720v720H120Zm60-500h600v-160H180v160Zm220 220h160v-160H400v160Zm0 220h160v-160H400v160ZM180-400h160v-160H180v160Zm440 0h160v-160H620v160ZM180-180h160v-160H180v160Zm440 0h160v-160H620v160Z\"/>\n",
              "  </svg>\n",
              "    </button>\n",
              "\n",
              "  <style>\n",
              "    .colab-df-container {\n",
              "      display:flex;\n",
              "      gap: 12px;\n",
              "    }\n",
              "\n",
              "    .colab-df-convert {\n",
              "      background-color: #E8F0FE;\n",
              "      border: none;\n",
              "      border-radius: 50%;\n",
              "      cursor: pointer;\n",
              "      display: none;\n",
              "      fill: #1967D2;\n",
              "      height: 32px;\n",
              "      padding: 0 0 0 0;\n",
              "      width: 32px;\n",
              "    }\n",
              "\n",
              "    .colab-df-convert:hover {\n",
              "      background-color: #E2EBFA;\n",
              "      box-shadow: 0px 1px 2px rgba(60, 64, 67, 0.3), 0px 1px 3px 1px rgba(60, 64, 67, 0.15);\n",
              "      fill: #174EA6;\n",
              "    }\n",
              "\n",
              "    .colab-df-buttons div {\n",
              "      margin-bottom: 4px;\n",
              "    }\n",
              "\n",
              "    [theme=dark] .colab-df-convert {\n",
              "      background-color: #3B4455;\n",
              "      fill: #D2E3FC;\n",
              "    }\n",
              "\n",
              "    [theme=dark] .colab-df-convert:hover {\n",
              "      background-color: #434B5C;\n",
              "      box-shadow: 0px 1px 3px 1px rgba(0, 0, 0, 0.15);\n",
              "      filter: drop-shadow(0px 1px 2px rgba(0, 0, 0, 0.3));\n",
              "      fill: #FFFFFF;\n",
              "    }\n",
              "  </style>\n",
              "\n",
              "    <script>\n",
              "      const buttonEl =\n",
              "        document.querySelector('#df-4b7984d4-8f00-4444-b588-5df2cd288125 button.colab-df-convert');\n",
              "      buttonEl.style.display =\n",
              "        google.colab.kernel.accessAllowed ? 'block' : 'none';\n",
              "\n",
              "      async function convertToInteractive(key) {\n",
              "        const element = document.querySelector('#df-4b7984d4-8f00-4444-b588-5df2cd288125');\n",
              "        const dataTable =\n",
              "          await google.colab.kernel.invokeFunction('convertToInteractive',\n",
              "                                                    [key], {});\n",
              "        if (!dataTable) return;\n",
              "\n",
              "        const docLinkHtml = 'Like what you see? Visit the ' +\n",
              "          '<a target=\"_blank\" href=https://colab.research.google.com/notebooks/data_table.ipynb>data table notebook</a>'\n",
              "          + ' to learn more about interactive tables.';\n",
              "        element.innerHTML = '';\n",
              "        dataTable['output_type'] = 'display_data';\n",
              "        await google.colab.output.renderOutput(dataTable, element);\n",
              "        const docLink = document.createElement('div');\n",
              "        docLink.innerHTML = docLinkHtml;\n",
              "        element.appendChild(docLink);\n",
              "      }\n",
              "    </script>\n",
              "  </div>\n",
              "\n",
              "\n",
              "<div id=\"df-cba4faa9-e665-4545-a085-745b20a9a61f\">\n",
              "  <button class=\"colab-df-quickchart\" onclick=\"quickchart('df-cba4faa9-e665-4545-a085-745b20a9a61f')\"\n",
              "            title=\"Suggest charts\"\n",
              "            style=\"display:none;\">\n",
              "\n",
              "<svg xmlns=\"http://www.w3.org/2000/svg\" height=\"24px\"viewBox=\"0 0 24 24\"\n",
              "     width=\"24px\">\n",
              "    <g>\n",
              "        <path d=\"M19 3H5c-1.1 0-2 .9-2 2v14c0 1.1.9 2 2 2h14c1.1 0 2-.9 2-2V5c0-1.1-.9-2-2-2zM9 17H7v-7h2v7zm4 0h-2V7h2v10zm4 0h-2v-4h2v4z\"/>\n",
              "    </g>\n",
              "</svg>\n",
              "  </button>\n",
              "\n",
              "<style>\n",
              "  .colab-df-quickchart {\n",
              "      --bg-color: #E8F0FE;\n",
              "      --fill-color: #1967D2;\n",
              "      --hover-bg-color: #E2EBFA;\n",
              "      --hover-fill-color: #174EA6;\n",
              "      --disabled-fill-color: #AAA;\n",
              "      --disabled-bg-color: #DDD;\n",
              "  }\n",
              "\n",
              "  [theme=dark] .colab-df-quickchart {\n",
              "      --bg-color: #3B4455;\n",
              "      --fill-color: #D2E3FC;\n",
              "      --hover-bg-color: #434B5C;\n",
              "      --hover-fill-color: #FFFFFF;\n",
              "      --disabled-bg-color: #3B4455;\n",
              "      --disabled-fill-color: #666;\n",
              "  }\n",
              "\n",
              "  .colab-df-quickchart {\n",
              "    background-color: var(--bg-color);\n",
              "    border: none;\n",
              "    border-radius: 50%;\n",
              "    cursor: pointer;\n",
              "    display: none;\n",
              "    fill: var(--fill-color);\n",
              "    height: 32px;\n",
              "    padding: 0;\n",
              "    width: 32px;\n",
              "  }\n",
              "\n",
              "  .colab-df-quickchart:hover {\n",
              "    background-color: var(--hover-bg-color);\n",
              "    box-shadow: 0 1px 2px rgba(60, 64, 67, 0.3), 0 1px 3px 1px rgba(60, 64, 67, 0.15);\n",
              "    fill: var(--button-hover-fill-color);\n",
              "  }\n",
              "\n",
              "  .colab-df-quickchart-complete:disabled,\n",
              "  .colab-df-quickchart-complete:disabled:hover {\n",
              "    background-color: var(--disabled-bg-color);\n",
              "    fill: var(--disabled-fill-color);\n",
              "    box-shadow: none;\n",
              "  }\n",
              "\n",
              "  .colab-df-spinner {\n",
              "    border: 2px solid var(--fill-color);\n",
              "    border-color: transparent;\n",
              "    border-bottom-color: var(--fill-color);\n",
              "    animation:\n",
              "      spin 1s steps(1) infinite;\n",
              "  }\n",
              "\n",
              "  @keyframes spin {\n",
              "    0% {\n",
              "      border-color: transparent;\n",
              "      border-bottom-color: var(--fill-color);\n",
              "      border-left-color: var(--fill-color);\n",
              "    }\n",
              "    20% {\n",
              "      border-color: transparent;\n",
              "      border-left-color: var(--fill-color);\n",
              "      border-top-color: var(--fill-color);\n",
              "    }\n",
              "    30% {\n",
              "      border-color: transparent;\n",
              "      border-left-color: var(--fill-color);\n",
              "      border-top-color: var(--fill-color);\n",
              "      border-right-color: var(--fill-color);\n",
              "    }\n",
              "    40% {\n",
              "      border-color: transparent;\n",
              "      border-right-color: var(--fill-color);\n",
              "      border-top-color: var(--fill-color);\n",
              "    }\n",
              "    60% {\n",
              "      border-color: transparent;\n",
              "      border-right-color: var(--fill-color);\n",
              "    }\n",
              "    80% {\n",
              "      border-color: transparent;\n",
              "      border-right-color: var(--fill-color);\n",
              "      border-bottom-color: var(--fill-color);\n",
              "    }\n",
              "    90% {\n",
              "      border-color: transparent;\n",
              "      border-bottom-color: var(--fill-color);\n",
              "    }\n",
              "  }\n",
              "</style>\n",
              "\n",
              "  <script>\n",
              "    async function quickchart(key) {\n",
              "      const quickchartButtonEl =\n",
              "        document.querySelector('#' + key + ' button');\n",
              "      quickchartButtonEl.disabled = true;  // To prevent multiple clicks.\n",
              "      quickchartButtonEl.classList.add('colab-df-spinner');\n",
              "      try {\n",
              "        const charts = await google.colab.kernel.invokeFunction(\n",
              "            'suggestCharts', [key], {});\n",
              "      } catch (error) {\n",
              "        console.error('Error during call to suggestCharts:', error);\n",
              "      }\n",
              "      quickchartButtonEl.classList.remove('colab-df-spinner');\n",
              "      quickchartButtonEl.classList.add('colab-df-quickchart-complete');\n",
              "    }\n",
              "    (() => {\n",
              "      let quickchartButtonEl =\n",
              "        document.querySelector('#df-cba4faa9-e665-4545-a085-745b20a9a61f button');\n",
              "      quickchartButtonEl.style.display =\n",
              "        google.colab.kernel.accessAllowed ? 'block' : 'none';\n",
              "    })();\n",
              "  </script>\n",
              "</div>\n",
              "\n",
              "    </div>\n",
              "  </div>\n"
            ],
            "application/vnd.google.colaboratory.intrinsic+json": {
              "type": "dataframe",
              "summary": "{\n  \"name\": \"df\",\n  \"rows\": 44,\n  \"fields\": [\n    {\n      \"column\": \"event_time\",\n      \"properties\": {\n        \"dtype\": \"date\",\n        \"min\": \"2019-10-01 05:08:10\",\n        \"max\": \"2019-10-01 05:46:43\",\n        \"num_unique_values\": 44,\n        \"samples\": [\n          \"2019-10-01 05:44:18\",\n          \"2019-10-01 05:41:14\",\n          \"2019-10-01 05:41:39\"\n        ],\n        \"semantic_type\": \"\",\n        \"description\": \"\"\n      }\n    },\n    {\n      \"column\": \"event_type\",\n      \"properties\": {\n        \"dtype\": \"category\",\n        \"num_unique_values\": 3,\n        \"samples\": [\n          \"view\",\n          \"cart\",\n          \"purchase\"\n        ],\n        \"semantic_type\": \"\",\n        \"description\": \"\"\n      }\n    },\n    {\n      \"column\": \"product_id\",\n      \"properties\": {\n        \"dtype\": \"int32\",\n        \"num_unique_values\": 13,\n        \"samples\": [\n          1004252,\n          1005122,\n          1005115\n        ],\n        \"semantic_type\": \"\",\n        \"description\": \"\"\n      }\n    },\n    {\n      \"column\": \"category_id\",\n      \"properties\": {\n        \"dtype\": \"number\",\n        \"std\": 258,\n        \"min\": 2053013555631882655,\n        \"max\": 2053013555631882655,\n        \"num_unique_values\": 1,\n        \"samples\": [\n          2053013555631882655\n        ],\n        \"semantic_type\": \"\",\n        \"description\": \"\"\n      }\n    },\n    {\n      \"column\": \"brand\",\n      \"properties\": {\n        \"dtype\": \"category\",\n        \"num_unique_values\": 1,\n        \"samples\": [\n          \"apple\"\n        ],\n        \"semantic_type\": \"\",\n        \"description\": \"\"\n      }\n    },\n    {\n      \"column\": \"price\",\n      \"properties\": {\n        \"dtype\": \"number\",\n        \"std\": 165.0389975791615,\n        \"min\": 377.14,\n        \"max\": 1027.05,\n        \"num_unique_values\": 12,\n        \"samples\": [\n          759.06\n        ],\n        \"semantic_type\": \"\",\n        \"description\": \"\"\n      }\n    },\n    {\n      \"column\": \"user_id\",\n      \"properties\": {\n        \"dtype\": \"int32\",\n        \"num_unique_values\": 1,\n        \"samples\": [\n          526823608\n        ],\n        \"semantic_type\": \"\",\n        \"description\": \"\"\n      }\n    },\n    {\n      \"column\": \"user_session\",\n      \"properties\": {\n        \"dtype\": \"category\",\n        \"num_unique_values\": 1,\n        \"samples\": [\n          \"b37abd25-7672-4dd7-a098-40e50e314388\"\n        ],\n        \"semantic_type\": \"\",\n        \"description\": \"\"\n      }\n    },\n    {\n      \"column\": \"category\",\n      \"properties\": {\n        \"dtype\": \"category\",\n        \"num_unique_values\": 1,\n        \"samples\": [\n          \"electronics\"\n        ],\n        \"semantic_type\": \"\",\n        \"description\": \"\"\n      }\n    },\n    {\n      \"column\": \"product\",\n      \"properties\": {\n        \"dtype\": \"category\",\n        \"num_unique_values\": 1,\n        \"samples\": [\n          \"smartphone\"\n        ],\n        \"semantic_type\": \"\",\n        \"description\": \"\"\n      }\n    },\n    {\n      \"column\": \"Time\",\n      \"properties\": {\n        \"dtype\": \"object\",\n        \"num_unique_values\": 44,\n        \"samples\": [\n          \"05:44:18\"\n        ],\n        \"semantic_type\": \"\",\n        \"description\": \"\"\n      }\n    },\n    {\n      \"column\": \"Day\",\n      \"properties\": {\n        \"dtype\": \"category\",\n        \"num_unique_values\": 1,\n        \"samples\": [\n          \"01\"\n        ],\n        \"semantic_type\": \"\",\n        \"description\": \"\"\n      }\n    },\n    {\n      \"column\": \"Hour\",\n      \"properties\": {\n        \"dtype\": \"category\",\n        \"num_unique_values\": 1,\n        \"samples\": [\n          \"05\"\n        ],\n        \"semantic_type\": \"\",\n        \"description\": \"\"\n      }\n    }\n  ]\n}"
            }
          },
          "metadata": {},
          "execution_count": 21
        }
      ],
      "source": [
        "df.filter(df.user_session=='b37abd25-7672-4dd7-a098-40e50e314388').orderBy(\"event_time\").toPandas()"
      ]
    },
    {
      "cell_type": "markdown",
      "metadata": {
        "id": "Ubx6-tf71Gz1"
      },
      "source": [
        "# Analysis of User Behaviour on the e-commerce site"
      ]
    },
    {
      "cell_type": "code",
      "execution_count": null,
      "metadata": {
        "id": "sohmQUAR1GJh"
      },
      "outputs": [],
      "source": [
        "df_view = df[df['event_type'] == \"view\"]\n",
        "df_cart = df[df['event_type'] == \"cart\"]\n",
        "df_purchase = df[df['event_type'] == \"purchase\"]"
      ]
    },
    {
      "cell_type": "code",
      "execution_count": null,
      "metadata": {
        "colab": {
          "base_uri": "https://localhost:8080/",
          "height": 542
        },
        "id": "WGBvT1xD3lQT",
        "outputId": "7eeddaaa-85c2-423a-dfae-6ec777c69201"
      },
      "outputs": [
        {
          "output_type": "display_data",
          "data": {
            "text/html": [
              "<html>\n",
              "<head><meta charset=\"utf-8\" /></head>\n",
              "<body>\n",
              "    <div>            <script src=\"https://cdnjs.cloudflare.com/ajax/libs/mathjax/2.7.5/MathJax.js?config=TeX-AMS-MML_SVG\"></script><script type=\"text/javascript\">if (window.MathJax && window.MathJax.Hub && window.MathJax.Hub.Config) {window.MathJax.Hub.Config({SVG: {font: \"STIX-Web\"}});}</script>                <script type=\"text/javascript\">window.PlotlyConfig = {MathJaxConfig: 'local'};</script>\n",
              "        <script charset=\"utf-8\" src=\"https://cdn.plot.ly/plotly-2.35.2.min.js\"></script>                <div id=\"92869ea0-9d83-40a8-be52-acb4b47b0c92\" class=\"plotly-graph-div\" style=\"height:525px; width:100%;\"></div>            <script type=\"text/javascript\">                                    window.PLOTLYENV=window.PLOTLYENV || {};                                    if (document.getElementById(\"92869ea0-9d83-40a8-be52-acb4b47b0c92\")) {                    Plotly.newPlot(                        \"92869ea0-9d83-40a8-be52-acb4b47b0c92\",                        [{\"hovertemplate\":\"event_type=%{x}\\u003cbr\\u003ecount=%{y}\\u003cextra\\u003e\\u003c\\u002fextra\\u003e\",\"legendgroup\":\"\",\"marker\":{\"color\":\"#636efa\"},\"name\":\"\",\"orientation\":\"v\",\"showlegend\":false,\"x\":[\"View\",\"Cart\",\"Purchase\"],\"xaxis\":\"x\",\"y\":[40779399,926516,742849],\"yaxis\":\"y\",\"type\":\"funnel\"}],                        {\"template\":{\"data\":{\"histogram2dcontour\":[{\"type\":\"histogram2dcontour\",\"colorbar\":{\"outlinewidth\":0,\"ticks\":\"\"},\"colorscale\":[[0.0,\"#0d0887\"],[0.1111111111111111,\"#46039f\"],[0.2222222222222222,\"#7201a8\"],[0.3333333333333333,\"#9c179e\"],[0.4444444444444444,\"#bd3786\"],[0.5555555555555556,\"#d8576b\"],[0.6666666666666666,\"#ed7953\"],[0.7777777777777778,\"#fb9f3a\"],[0.8888888888888888,\"#fdca26\"],[1.0,\"#f0f921\"]]}],\"choropleth\":[{\"type\":\"choropleth\",\"colorbar\":{\"outlinewidth\":0,\"ticks\":\"\"}}],\"histogram2d\":[{\"type\":\"histogram2d\",\"colorbar\":{\"outlinewidth\":0,\"ticks\":\"\"},\"colorscale\":[[0.0,\"#0d0887\"],[0.1111111111111111,\"#46039f\"],[0.2222222222222222,\"#7201a8\"],[0.3333333333333333,\"#9c179e\"],[0.4444444444444444,\"#bd3786\"],[0.5555555555555556,\"#d8576b\"],[0.6666666666666666,\"#ed7953\"],[0.7777777777777778,\"#fb9f3a\"],[0.8888888888888888,\"#fdca26\"],[1.0,\"#f0f921\"]]}],\"heatmap\":[{\"type\":\"heatmap\",\"colorbar\":{\"outlinewidth\":0,\"ticks\":\"\"},\"colorscale\":[[0.0,\"#0d0887\"],[0.1111111111111111,\"#46039f\"],[0.2222222222222222,\"#7201a8\"],[0.3333333333333333,\"#9c179e\"],[0.4444444444444444,\"#bd3786\"],[0.5555555555555556,\"#d8576b\"],[0.6666666666666666,\"#ed7953\"],[0.7777777777777778,\"#fb9f3a\"],[0.8888888888888888,\"#fdca26\"],[1.0,\"#f0f921\"]]}],\"heatmapgl\":[{\"type\":\"heatmapgl\",\"colorbar\":{\"outlinewidth\":0,\"ticks\":\"\"},\"colorscale\":[[0.0,\"#0d0887\"],[0.1111111111111111,\"#46039f\"],[0.2222222222222222,\"#7201a8\"],[0.3333333333333333,\"#9c179e\"],[0.4444444444444444,\"#bd3786\"],[0.5555555555555556,\"#d8576b\"],[0.6666666666666666,\"#ed7953\"],[0.7777777777777778,\"#fb9f3a\"],[0.8888888888888888,\"#fdca26\"],[1.0,\"#f0f921\"]]}],\"contourcarpet\":[{\"type\":\"contourcarpet\",\"colorbar\":{\"outlinewidth\":0,\"ticks\":\"\"}}],\"contour\":[{\"type\":\"contour\",\"colorbar\":{\"outlinewidth\":0,\"ticks\":\"\"},\"colorscale\":[[0.0,\"#0d0887\"],[0.1111111111111111,\"#46039f\"],[0.2222222222222222,\"#7201a8\"],[0.3333333333333333,\"#9c179e\"],[0.4444444444444444,\"#bd3786\"],[0.5555555555555556,\"#d8576b\"],[0.6666666666666666,\"#ed7953\"],[0.7777777777777778,\"#fb9f3a\"],[0.8888888888888888,\"#fdca26\"],[1.0,\"#f0f921\"]]}],\"surface\":[{\"type\":\"surface\",\"colorbar\":{\"outlinewidth\":0,\"ticks\":\"\"},\"colorscale\":[[0.0,\"#0d0887\"],[0.1111111111111111,\"#46039f\"],[0.2222222222222222,\"#7201a8\"],[0.3333333333333333,\"#9c179e\"],[0.4444444444444444,\"#bd3786\"],[0.5555555555555556,\"#d8576b\"],[0.6666666666666666,\"#ed7953\"],[0.7777777777777778,\"#fb9f3a\"],[0.8888888888888888,\"#fdca26\"],[1.0,\"#f0f921\"]]}],\"mesh3d\":[{\"type\":\"mesh3d\",\"colorbar\":{\"outlinewidth\":0,\"ticks\":\"\"}}],\"scatter\":[{\"fillpattern\":{\"fillmode\":\"overlay\",\"size\":10,\"solidity\":0.2},\"type\":\"scatter\"}],\"parcoords\":[{\"type\":\"parcoords\",\"line\":{\"colorbar\":{\"outlinewidth\":0,\"ticks\":\"\"}}}],\"scatterpolargl\":[{\"type\":\"scatterpolargl\",\"marker\":{\"colorbar\":{\"outlinewidth\":0,\"ticks\":\"\"}}}],\"bar\":[{\"error_x\":{\"color\":\"#2a3f5f\"},\"error_y\":{\"color\":\"#2a3f5f\"},\"marker\":{\"line\":{\"color\":\"#E5ECF6\",\"width\":0.5},\"pattern\":{\"fillmode\":\"overlay\",\"size\":10,\"solidity\":0.2}},\"type\":\"bar\"}],\"scattergeo\":[{\"type\":\"scattergeo\",\"marker\":{\"colorbar\":{\"outlinewidth\":0,\"ticks\":\"\"}}}],\"scatterpolar\":[{\"type\":\"scatterpolar\",\"marker\":{\"colorbar\":{\"outlinewidth\":0,\"ticks\":\"\"}}}],\"histogram\":[{\"marker\":{\"pattern\":{\"fillmode\":\"overlay\",\"size\":10,\"solidity\":0.2}},\"type\":\"histogram\"}],\"scattergl\":[{\"type\":\"scattergl\",\"marker\":{\"colorbar\":{\"outlinewidth\":0,\"ticks\":\"\"}}}],\"scatter3d\":[{\"type\":\"scatter3d\",\"line\":{\"colorbar\":{\"outlinewidth\":0,\"ticks\":\"\"}},\"marker\":{\"colorbar\":{\"outlinewidth\":0,\"ticks\":\"\"}}}],\"scattermapbox\":[{\"type\":\"scattermapbox\",\"marker\":{\"colorbar\":{\"outlinewidth\":0,\"ticks\":\"\"}}}],\"scatterternary\":[{\"type\":\"scatterternary\",\"marker\":{\"colorbar\":{\"outlinewidth\":0,\"ticks\":\"\"}}}],\"scattercarpet\":[{\"type\":\"scattercarpet\",\"marker\":{\"colorbar\":{\"outlinewidth\":0,\"ticks\":\"\"}}}],\"carpet\":[{\"aaxis\":{\"endlinecolor\":\"#2a3f5f\",\"gridcolor\":\"white\",\"linecolor\":\"white\",\"minorgridcolor\":\"white\",\"startlinecolor\":\"#2a3f5f\"},\"baxis\":{\"endlinecolor\":\"#2a3f5f\",\"gridcolor\":\"white\",\"linecolor\":\"white\",\"minorgridcolor\":\"white\",\"startlinecolor\":\"#2a3f5f\"},\"type\":\"carpet\"}],\"table\":[{\"cells\":{\"fill\":{\"color\":\"#EBF0F8\"},\"line\":{\"color\":\"white\"}},\"header\":{\"fill\":{\"color\":\"#C8D4E3\"},\"line\":{\"color\":\"white\"}},\"type\":\"table\"}],\"barpolar\":[{\"marker\":{\"line\":{\"color\":\"#E5ECF6\",\"width\":0.5},\"pattern\":{\"fillmode\":\"overlay\",\"size\":10,\"solidity\":0.2}},\"type\":\"barpolar\"}],\"pie\":[{\"automargin\":true,\"type\":\"pie\"}]},\"layout\":{\"autotypenumbers\":\"strict\",\"colorway\":[\"#636efa\",\"#EF553B\",\"#00cc96\",\"#ab63fa\",\"#FFA15A\",\"#19d3f3\",\"#FF6692\",\"#B6E880\",\"#FF97FF\",\"#FECB52\"],\"font\":{\"color\":\"#2a3f5f\"},\"hovermode\":\"closest\",\"hoverlabel\":{\"align\":\"left\"},\"paper_bgcolor\":\"white\",\"plot_bgcolor\":\"#E5ECF6\",\"polar\":{\"bgcolor\":\"#E5ECF6\",\"angularaxis\":{\"gridcolor\":\"white\",\"linecolor\":\"white\",\"ticks\":\"\"},\"radialaxis\":{\"gridcolor\":\"white\",\"linecolor\":\"white\",\"ticks\":\"\"}},\"ternary\":{\"bgcolor\":\"#E5ECF6\",\"aaxis\":{\"gridcolor\":\"white\",\"linecolor\":\"white\",\"ticks\":\"\"},\"baxis\":{\"gridcolor\":\"white\",\"linecolor\":\"white\",\"ticks\":\"\"},\"caxis\":{\"gridcolor\":\"white\",\"linecolor\":\"white\",\"ticks\":\"\"}},\"coloraxis\":{\"colorbar\":{\"outlinewidth\":0,\"ticks\":\"\"}},\"colorscale\":{\"sequential\":[[0.0,\"#0d0887\"],[0.1111111111111111,\"#46039f\"],[0.2222222222222222,\"#7201a8\"],[0.3333333333333333,\"#9c179e\"],[0.4444444444444444,\"#bd3786\"],[0.5555555555555556,\"#d8576b\"],[0.6666666666666666,\"#ed7953\"],[0.7777777777777778,\"#fb9f3a\"],[0.8888888888888888,\"#fdca26\"],[1.0,\"#f0f921\"]],\"sequentialminus\":[[0.0,\"#0d0887\"],[0.1111111111111111,\"#46039f\"],[0.2222222222222222,\"#7201a8\"],[0.3333333333333333,\"#9c179e\"],[0.4444444444444444,\"#bd3786\"],[0.5555555555555556,\"#d8576b\"],[0.6666666666666666,\"#ed7953\"],[0.7777777777777778,\"#fb9f3a\"],[0.8888888888888888,\"#fdca26\"],[1.0,\"#f0f921\"]],\"diverging\":[[0,\"#8e0152\"],[0.1,\"#c51b7d\"],[0.2,\"#de77ae\"],[0.3,\"#f1b6da\"],[0.4,\"#fde0ef\"],[0.5,\"#f7f7f7\"],[0.6,\"#e6f5d0\"],[0.7,\"#b8e186\"],[0.8,\"#7fbc41\"],[0.9,\"#4d9221\"],[1,\"#276419\"]]},\"xaxis\":{\"gridcolor\":\"white\",\"linecolor\":\"white\",\"ticks\":\"\",\"title\":{\"standoff\":15},\"zerolinecolor\":\"white\",\"automargin\":true,\"zerolinewidth\":2},\"yaxis\":{\"gridcolor\":\"white\",\"linecolor\":\"white\",\"ticks\":\"\",\"title\":{\"standoff\":15},\"zerolinecolor\":\"white\",\"automargin\":true,\"zerolinewidth\":2},\"scene\":{\"xaxis\":{\"backgroundcolor\":\"#E5ECF6\",\"gridcolor\":\"white\",\"linecolor\":\"white\",\"showbackground\":true,\"ticks\":\"\",\"zerolinecolor\":\"white\",\"gridwidth\":2},\"yaxis\":{\"backgroundcolor\":\"#E5ECF6\",\"gridcolor\":\"white\",\"linecolor\":\"white\",\"showbackground\":true,\"ticks\":\"\",\"zerolinecolor\":\"white\",\"gridwidth\":2},\"zaxis\":{\"backgroundcolor\":\"#E5ECF6\",\"gridcolor\":\"white\",\"linecolor\":\"white\",\"showbackground\":true,\"ticks\":\"\",\"zerolinecolor\":\"white\",\"gridwidth\":2}},\"shapedefaults\":{\"line\":{\"color\":\"#2a3f5f\"}},\"annotationdefaults\":{\"arrowcolor\":\"#2a3f5f\",\"arrowhead\":0,\"arrowwidth\":1},\"geo\":{\"bgcolor\":\"white\",\"landcolor\":\"#E5ECF6\",\"subunitcolor\":\"white\",\"showland\":true,\"showlakes\":true,\"lakecolor\":\"white\"},\"title\":{\"x\":0.05},\"mapbox\":{\"style\":\"light\"}}},\"xaxis\":{\"anchor\":\"y\",\"domain\":[0.0,1.0],\"title\":{\"text\":\"event_type\"}},\"yaxis\":{\"anchor\":\"x\",\"domain\":[0.0,1.0],\"title\":{\"text\":\"count\"}},\"legend\":{\"tracegroupgap\":0},\"margin\":{\"t\":60}},                        {\"responsive\": true}                    ).then(function(){\n",
              "                            \n",
              "var gd = document.getElementById('92869ea0-9d83-40a8-be52-acb4b47b0c92');\n",
              "var x = new MutationObserver(function (mutations, observer) {{\n",
              "        var display = window.getComputedStyle(gd).display;\n",
              "        if (!display || display === 'none') {{\n",
              "            console.log([gd, 'removed!']);\n",
              "            Plotly.purge(gd);\n",
              "            observer.disconnect();\n",
              "        }}\n",
              "}});\n",
              "\n",
              "// Listen for the removal of the full notebook cells\n",
              "var notebookContainer = gd.closest('#notebook-container');\n",
              "if (notebookContainer) {{\n",
              "    x.observe(notebookContainer, {childList: true});\n",
              "}}\n",
              "\n",
              "// Listen for the clearing of the current output cell\n",
              "var outputEl = gd.closest('.output');\n",
              "if (outputEl) {{\n",
              "    x.observe(outputEl, {childList: true});\n",
              "}}\n",
              "\n",
              "                        })                };                            </script>        </div>\n",
              "</body>\n",
              "</html>"
            ]
          },
          "metadata": {}
        }
      ],
      "source": [
        "data = dict(\n",
        "    count=[df_view.count(), df_cart.count(), df_purchase.count()],\n",
        "    event_type=[\"View\", \"Cart\", \"Purchase\"])\n",
        "fig = px.funnel(data, x='event_type', y='count')\n",
        "fig.show()"
      ]
    },
    {
      "cell_type": "markdown",
      "metadata": {
        "id": "1wW1hC0LEaKO"
      },
      "source": [
        "# Part 1: Determine best performing categories based on purchases\n",
        "\n"
      ]
    },
    {
      "cell_type": "markdown",
      "metadata": {
        "id": "ZwjdxLpHFimu"
      },
      "source": [
        "## Top 10 Categories Browsed and Purchased"
      ]
    },
    {
      "cell_type": "markdown",
      "metadata": {
        "id": "V3vB_6E85gEd"
      },
      "source": [
        "### Top 10 Categories browsed"
      ]
    },
    {
      "cell_type": "code",
      "execution_count": null,
      "metadata": {
        "id": "3qhb1b_SMmdA"
      },
      "outputs": [],
      "source": [
        "df_cat_browsed = df.select(\"*\").filter(\"event_type == 'view' OR event_type == 'cart'\")\n",
        "df_cat_purchased = df.select(\"*\").filter(\"event_type == 'purchase'\")\n",
        "\n",
        "df_cat_browsed = df_cat_browsed.select(\"*\").filter(\"category!='unknown'\")\n",
        "df_cat_browsed = df_cat_browsed.select(\"*\").filter(\"product!='unknown'\")\n",
        "\n",
        "df_cat_purchased = df_cat_purchased.select(\"*\").filter(\"category!='unknown'\")\n",
        "df_cat_purchased = df_cat_purchased.select(\"*\").filter(\"product!='unknown'\")"
      ]
    },
    {
      "cell_type": "code",
      "execution_count": null,
      "metadata": {
        "id": "7NC_6xiCFzkx"
      },
      "outputs": [],
      "source": [
        "df_cat_browsed_count = df_cat_browsed.groupBy(\"category\").count().orderBy(desc(\"count\")).limit(10)\n",
        "df_cat_browsed_count = df_cat_browsed_count.withColumnRenamed(\"count\", \"category_browsed_count\")\n"
      ]
    },
    {
      "cell_type": "code",
      "execution_count": null,
      "metadata": {
        "colab": {
          "base_uri": "https://localhost:8080/"
        },
        "id": "bpCoxGdmGjnv",
        "outputId": "75416df1-287a-48ef-c2d3-9bae74a63a18"
      },
      "outputs": [
        {
          "output_type": "stream",
          "name": "stdout",
          "text": [
            "+-----------+----------------------+\n",
            "|   category|category_browsed_count|\n",
            "+-----------+----------------------+\n",
            "|electronics|              15712595|\n",
            "| appliances|               4892298|\n",
            "|  computers|               2296362|\n",
            "|    apparel|               1534922|\n",
            "|  furniture|               1238859|\n",
            "+-----------+----------------------+\n",
            "only showing top 5 rows\n",
            "\n"
          ]
        }
      ],
      "source": [
        "if output_show:\n",
        "  df_cat_browsed_count.show(5)"
      ]
    },
    {
      "cell_type": "code",
      "execution_count": null,
      "metadata": {
        "id": "EM2ot1Md_iuH",
        "colab": {
          "base_uri": "https://localhost:8080/",
          "height": 542
        },
        "outputId": "415efc6b-7252-4782-e9fb-246b75f1a4b3"
      },
      "outputs": [
        {
          "output_type": "display_data",
          "data": {
            "text/html": [
              "<html>\n",
              "<head><meta charset=\"utf-8\" /></head>\n",
              "<body>\n",
              "    <div>            <script src=\"https://cdnjs.cloudflare.com/ajax/libs/mathjax/2.7.5/MathJax.js?config=TeX-AMS-MML_SVG\"></script><script type=\"text/javascript\">if (window.MathJax && window.MathJax.Hub && window.MathJax.Hub.Config) {window.MathJax.Hub.Config({SVG: {font: \"STIX-Web\"}});}</script>                <script type=\"text/javascript\">window.PlotlyConfig = {MathJaxConfig: 'local'};</script>\n",
              "        <script charset=\"utf-8\" src=\"https://cdn.plot.ly/plotly-2.35.2.min.js\"></script>                <div id=\"0fda5e8b-de99-43f0-84d6-393cfd28abc7\" class=\"plotly-graph-div\" style=\"height:525px; width:100%;\"></div>            <script type=\"text/javascript\">                                    window.PLOTLYENV=window.PLOTLYENV || {};                                    if (document.getElementById(\"0fda5e8b-de99-43f0-84d6-393cfd28abc7\")) {                    Plotly.newPlot(                        \"0fda5e8b-de99-43f0-84d6-393cfd28abc7\",                        [{\"alignmentgroup\":\"True\",\"hovertemplate\":\"browsed_category=%{x}\\u003cbr\\u003ebrowsed_count=%{y}\\u003cextra\\u003e\\u003c\\u002fextra\\u003e\",\"legendgroup\":\"\",\"marker\":{\"color\":\"#636efa\",\"pattern\":{\"shape\":\"\"}},\"name\":\"\",\"offsetgroup\":\"\",\"orientation\":\"v\",\"showlegend\":false,\"textposition\":\"auto\",\"texttemplate\":\"%{y:.2s}\",\"x\":[\"electronics\",\"appliances\",\"computers\",\"apparel\",\"furniture\",\"auto\",\"construction\",\"lucente\",\"kids\",\"xiaomi\"],\"xaxis\":\"x\",\"y\":[15712595,4892298,2296362,1534922,1238859,1002495,723033,644283,515137,376098],\"yaxis\":\"y\",\"type\":\"bar\"}],                        {\"template\":{\"data\":{\"histogram2dcontour\":[{\"type\":\"histogram2dcontour\",\"colorbar\":{\"outlinewidth\":0,\"ticks\":\"\"},\"colorscale\":[[0.0,\"#0d0887\"],[0.1111111111111111,\"#46039f\"],[0.2222222222222222,\"#7201a8\"],[0.3333333333333333,\"#9c179e\"],[0.4444444444444444,\"#bd3786\"],[0.5555555555555556,\"#d8576b\"],[0.6666666666666666,\"#ed7953\"],[0.7777777777777778,\"#fb9f3a\"],[0.8888888888888888,\"#fdca26\"],[1.0,\"#f0f921\"]]}],\"choropleth\":[{\"type\":\"choropleth\",\"colorbar\":{\"outlinewidth\":0,\"ticks\":\"\"}}],\"histogram2d\":[{\"type\":\"histogram2d\",\"colorbar\":{\"outlinewidth\":0,\"ticks\":\"\"},\"colorscale\":[[0.0,\"#0d0887\"],[0.1111111111111111,\"#46039f\"],[0.2222222222222222,\"#7201a8\"],[0.3333333333333333,\"#9c179e\"],[0.4444444444444444,\"#bd3786\"],[0.5555555555555556,\"#d8576b\"],[0.6666666666666666,\"#ed7953\"],[0.7777777777777778,\"#fb9f3a\"],[0.8888888888888888,\"#fdca26\"],[1.0,\"#f0f921\"]]}],\"heatmap\":[{\"type\":\"heatmap\",\"colorbar\":{\"outlinewidth\":0,\"ticks\":\"\"},\"colorscale\":[[0.0,\"#0d0887\"],[0.1111111111111111,\"#46039f\"],[0.2222222222222222,\"#7201a8\"],[0.3333333333333333,\"#9c179e\"],[0.4444444444444444,\"#bd3786\"],[0.5555555555555556,\"#d8576b\"],[0.6666666666666666,\"#ed7953\"],[0.7777777777777778,\"#fb9f3a\"],[0.8888888888888888,\"#fdca26\"],[1.0,\"#f0f921\"]]}],\"heatmapgl\":[{\"type\":\"heatmapgl\",\"colorbar\":{\"outlinewidth\":0,\"ticks\":\"\"},\"colorscale\":[[0.0,\"#0d0887\"],[0.1111111111111111,\"#46039f\"],[0.2222222222222222,\"#7201a8\"],[0.3333333333333333,\"#9c179e\"],[0.4444444444444444,\"#bd3786\"],[0.5555555555555556,\"#d8576b\"],[0.6666666666666666,\"#ed7953\"],[0.7777777777777778,\"#fb9f3a\"],[0.8888888888888888,\"#fdca26\"],[1.0,\"#f0f921\"]]}],\"contourcarpet\":[{\"type\":\"contourcarpet\",\"colorbar\":{\"outlinewidth\":0,\"ticks\":\"\"}}],\"contour\":[{\"type\":\"contour\",\"colorbar\":{\"outlinewidth\":0,\"ticks\":\"\"},\"colorscale\":[[0.0,\"#0d0887\"],[0.1111111111111111,\"#46039f\"],[0.2222222222222222,\"#7201a8\"],[0.3333333333333333,\"#9c179e\"],[0.4444444444444444,\"#bd3786\"],[0.5555555555555556,\"#d8576b\"],[0.6666666666666666,\"#ed7953\"],[0.7777777777777778,\"#fb9f3a\"],[0.8888888888888888,\"#fdca26\"],[1.0,\"#f0f921\"]]}],\"surface\":[{\"type\":\"surface\",\"colorbar\":{\"outlinewidth\":0,\"ticks\":\"\"},\"colorscale\":[[0.0,\"#0d0887\"],[0.1111111111111111,\"#46039f\"],[0.2222222222222222,\"#7201a8\"],[0.3333333333333333,\"#9c179e\"],[0.4444444444444444,\"#bd3786\"],[0.5555555555555556,\"#d8576b\"],[0.6666666666666666,\"#ed7953\"],[0.7777777777777778,\"#fb9f3a\"],[0.8888888888888888,\"#fdca26\"],[1.0,\"#f0f921\"]]}],\"mesh3d\":[{\"type\":\"mesh3d\",\"colorbar\":{\"outlinewidth\":0,\"ticks\":\"\"}}],\"scatter\":[{\"fillpattern\":{\"fillmode\":\"overlay\",\"size\":10,\"solidity\":0.2},\"type\":\"scatter\"}],\"parcoords\":[{\"type\":\"parcoords\",\"line\":{\"colorbar\":{\"outlinewidth\":0,\"ticks\":\"\"}}}],\"scatterpolargl\":[{\"type\":\"scatterpolargl\",\"marker\":{\"colorbar\":{\"outlinewidth\":0,\"ticks\":\"\"}}}],\"bar\":[{\"error_x\":{\"color\":\"#2a3f5f\"},\"error_y\":{\"color\":\"#2a3f5f\"},\"marker\":{\"line\":{\"color\":\"#E5ECF6\",\"width\":0.5},\"pattern\":{\"fillmode\":\"overlay\",\"size\":10,\"solidity\":0.2}},\"type\":\"bar\"}],\"scattergeo\":[{\"type\":\"scattergeo\",\"marker\":{\"colorbar\":{\"outlinewidth\":0,\"ticks\":\"\"}}}],\"scatterpolar\":[{\"type\":\"scatterpolar\",\"marker\":{\"colorbar\":{\"outlinewidth\":0,\"ticks\":\"\"}}}],\"histogram\":[{\"marker\":{\"pattern\":{\"fillmode\":\"overlay\",\"size\":10,\"solidity\":0.2}},\"type\":\"histogram\"}],\"scattergl\":[{\"type\":\"scattergl\",\"marker\":{\"colorbar\":{\"outlinewidth\":0,\"ticks\":\"\"}}}],\"scatter3d\":[{\"type\":\"scatter3d\",\"line\":{\"colorbar\":{\"outlinewidth\":0,\"ticks\":\"\"}},\"marker\":{\"colorbar\":{\"outlinewidth\":0,\"ticks\":\"\"}}}],\"scattermapbox\":[{\"type\":\"scattermapbox\",\"marker\":{\"colorbar\":{\"outlinewidth\":0,\"ticks\":\"\"}}}],\"scatterternary\":[{\"type\":\"scatterternary\",\"marker\":{\"colorbar\":{\"outlinewidth\":0,\"ticks\":\"\"}}}],\"scattercarpet\":[{\"type\":\"scattercarpet\",\"marker\":{\"colorbar\":{\"outlinewidth\":0,\"ticks\":\"\"}}}],\"carpet\":[{\"aaxis\":{\"endlinecolor\":\"#2a3f5f\",\"gridcolor\":\"white\",\"linecolor\":\"white\",\"minorgridcolor\":\"white\",\"startlinecolor\":\"#2a3f5f\"},\"baxis\":{\"endlinecolor\":\"#2a3f5f\",\"gridcolor\":\"white\",\"linecolor\":\"white\",\"minorgridcolor\":\"white\",\"startlinecolor\":\"#2a3f5f\"},\"type\":\"carpet\"}],\"table\":[{\"cells\":{\"fill\":{\"color\":\"#EBF0F8\"},\"line\":{\"color\":\"white\"}},\"header\":{\"fill\":{\"color\":\"#C8D4E3\"},\"line\":{\"color\":\"white\"}},\"type\":\"table\"}],\"barpolar\":[{\"marker\":{\"line\":{\"color\":\"#E5ECF6\",\"width\":0.5},\"pattern\":{\"fillmode\":\"overlay\",\"size\":10,\"solidity\":0.2}},\"type\":\"barpolar\"}],\"pie\":[{\"automargin\":true,\"type\":\"pie\"}]},\"layout\":{\"autotypenumbers\":\"strict\",\"colorway\":[\"#636efa\",\"#EF553B\",\"#00cc96\",\"#ab63fa\",\"#FFA15A\",\"#19d3f3\",\"#FF6692\",\"#B6E880\",\"#FF97FF\",\"#FECB52\"],\"font\":{\"color\":\"#2a3f5f\"},\"hovermode\":\"closest\",\"hoverlabel\":{\"align\":\"left\"},\"paper_bgcolor\":\"white\",\"plot_bgcolor\":\"#E5ECF6\",\"polar\":{\"bgcolor\":\"#E5ECF6\",\"angularaxis\":{\"gridcolor\":\"white\",\"linecolor\":\"white\",\"ticks\":\"\"},\"radialaxis\":{\"gridcolor\":\"white\",\"linecolor\":\"white\",\"ticks\":\"\"}},\"ternary\":{\"bgcolor\":\"#E5ECF6\",\"aaxis\":{\"gridcolor\":\"white\",\"linecolor\":\"white\",\"ticks\":\"\"},\"baxis\":{\"gridcolor\":\"white\",\"linecolor\":\"white\",\"ticks\":\"\"},\"caxis\":{\"gridcolor\":\"white\",\"linecolor\":\"white\",\"ticks\":\"\"}},\"coloraxis\":{\"colorbar\":{\"outlinewidth\":0,\"ticks\":\"\"}},\"colorscale\":{\"sequential\":[[0.0,\"#0d0887\"],[0.1111111111111111,\"#46039f\"],[0.2222222222222222,\"#7201a8\"],[0.3333333333333333,\"#9c179e\"],[0.4444444444444444,\"#bd3786\"],[0.5555555555555556,\"#d8576b\"],[0.6666666666666666,\"#ed7953\"],[0.7777777777777778,\"#fb9f3a\"],[0.8888888888888888,\"#fdca26\"],[1.0,\"#f0f921\"]],\"sequentialminus\":[[0.0,\"#0d0887\"],[0.1111111111111111,\"#46039f\"],[0.2222222222222222,\"#7201a8\"],[0.3333333333333333,\"#9c179e\"],[0.4444444444444444,\"#bd3786\"],[0.5555555555555556,\"#d8576b\"],[0.6666666666666666,\"#ed7953\"],[0.7777777777777778,\"#fb9f3a\"],[0.8888888888888888,\"#fdca26\"],[1.0,\"#f0f921\"]],\"diverging\":[[0,\"#8e0152\"],[0.1,\"#c51b7d\"],[0.2,\"#de77ae\"],[0.3,\"#f1b6da\"],[0.4,\"#fde0ef\"],[0.5,\"#f7f7f7\"],[0.6,\"#e6f5d0\"],[0.7,\"#b8e186\"],[0.8,\"#7fbc41\"],[0.9,\"#4d9221\"],[1,\"#276419\"]]},\"xaxis\":{\"gridcolor\":\"white\",\"linecolor\":\"white\",\"ticks\":\"\",\"title\":{\"standoff\":15},\"zerolinecolor\":\"white\",\"automargin\":true,\"zerolinewidth\":2},\"yaxis\":{\"gridcolor\":\"white\",\"linecolor\":\"white\",\"ticks\":\"\",\"title\":{\"standoff\":15},\"zerolinecolor\":\"white\",\"automargin\":true,\"zerolinewidth\":2},\"scene\":{\"xaxis\":{\"backgroundcolor\":\"#E5ECF6\",\"gridcolor\":\"white\",\"linecolor\":\"white\",\"showbackground\":true,\"ticks\":\"\",\"zerolinecolor\":\"white\",\"gridwidth\":2},\"yaxis\":{\"backgroundcolor\":\"#E5ECF6\",\"gridcolor\":\"white\",\"linecolor\":\"white\",\"showbackground\":true,\"ticks\":\"\",\"zerolinecolor\":\"white\",\"gridwidth\":2},\"zaxis\":{\"backgroundcolor\":\"#E5ECF6\",\"gridcolor\":\"white\",\"linecolor\":\"white\",\"showbackground\":true,\"ticks\":\"\",\"zerolinecolor\":\"white\",\"gridwidth\":2}},\"shapedefaults\":{\"line\":{\"color\":\"#2a3f5f\"}},\"annotationdefaults\":{\"arrowcolor\":\"#2a3f5f\",\"arrowhead\":0,\"arrowwidth\":1},\"geo\":{\"bgcolor\":\"white\",\"landcolor\":\"#E5ECF6\",\"subunitcolor\":\"white\",\"showland\":true,\"showlakes\":true,\"lakecolor\":\"white\"},\"title\":{\"x\":0.05},\"mapbox\":{\"style\":\"light\"}}},\"xaxis\":{\"anchor\":\"y\",\"domain\":[0.0,1.0],\"title\":{\"text\":\"browsed_category\"}},\"yaxis\":{\"anchor\":\"x\",\"domain\":[0.0,1.0],\"title\":{\"text\":\"browsed_count\"}},\"legend\":{\"tracegroupgap\":0},\"title\":{\"text\":\"Top 10 Categories Browsed\"},\"barmode\":\"relative\"},                        {\"responsive\": true}                    ).then(function(){\n",
              "                            \n",
              "var gd = document.getElementById('0fda5e8b-de99-43f0-84d6-393cfd28abc7');\n",
              "var x = new MutationObserver(function (mutations, observer) {{\n",
              "        var display = window.getComputedStyle(gd).display;\n",
              "        if (!display || display === 'none') {{\n",
              "            console.log([gd, 'removed!']);\n",
              "            Plotly.purge(gd);\n",
              "            observer.disconnect();\n",
              "        }}\n",
              "}});\n",
              "\n",
              "// Listen for the removal of the full notebook cells\n",
              "var notebookContainer = gd.closest('#notebook-container');\n",
              "if (notebookContainer) {{\n",
              "    x.observe(notebookContainer, {childList: true});\n",
              "}}\n",
              "\n",
              "// Listen for the clearing of the current output cell\n",
              "var outputEl = gd.closest('.output');\n",
              "if (outputEl) {{\n",
              "    x.observe(outputEl, {childList: true});\n",
              "}}\n",
              "\n",
              "                        })                };                            </script>        </div>\n",
              "</body>\n",
              "</html>"
            ]
          },
          "metadata": {}
        }
      ],
      "source": [
        "browsed_category = [val.category for val in df_cat_browsed_count.select('category').collect()]\n",
        "browsed_count = [val.category_browsed_count for val in df_cat_browsed_count.select('category_browsed_count').collect()]\n",
        "d = {'browsed_category': browsed_category, 'browsed_count': browsed_count}\n",
        "fig = px.bar(d, x=\"browsed_category\", y=\"browsed_count\", title=\"Top 10 Categories Browsed\", text_auto='.2s')\n",
        "fig.show()"
      ]
    },
    {
      "cell_type": "markdown",
      "metadata": {
        "id": "9SXnfbv85n9m"
      },
      "source": [
        "### Top 10 Categories Purchased"
      ]
    },
    {
      "cell_type": "code",
      "execution_count": null,
      "metadata": {
        "id": "sbmrLiE1NEnS"
      },
      "outputs": [],
      "source": [
        "df_cat_purchased_count = df_cat_purchased.groupBy(\"category\").count().orderBy(desc(\"count\")).limit(10)\n",
        "df_cat_purchased_count = df_cat_purchased_count.withColumnRenamed(\"count\", \"category_purchase_count\")"
      ]
    },
    {
      "cell_type": "code",
      "execution_count": null,
      "metadata": {
        "colab": {
          "base_uri": "https://localhost:8080/"
        },
        "id": "Lz7w7OJ3Ik_g",
        "outputId": "fca74673-69c9-4337-f867-d289f63c9855"
      },
      "outputs": [
        {
          "name": "stdout",
          "output_type": "stream",
          "text": [
            "+------------+-----------------------+\n",
            "|    category|category_purchase_count|\n",
            "+------------+-----------------------+\n",
            "| electronics|                 423028|\n",
            "|  appliances|                  74996|\n",
            "|   computers|                  27855|\n",
            "|     lucente|                  11578|\n",
            "|        auto|                  10620|\n",
            "|    cordiant|                  10551|\n",
            "|      xiaomi|                  10021|\n",
            "|   furniture|                   8301|\n",
            "|     apparel|                   8002|\n",
            "|construction|                   7801|\n",
            "+------------+-----------------------+\n",
            "\n"
          ]
        }
      ],
      "source": [
        "if output_show:\n",
        "  df_cat_purchased_count.show()"
      ]
    },
    {
      "cell_type": "code",
      "execution_count": null,
      "metadata": {
        "colab": {
          "base_uri": "https://localhost:8080/",
          "height": 542
        },
        "id": "k6JZ5r8eBGwk",
        "outputId": "b329d3eb-6272-4f47-af11-a126e5822773"
      },
      "outputs": [
        {
          "data": {
            "text/html": [
              "<html>\n",
              "<head><meta charset=\"utf-8\" /></head>\n",
              "<body>\n",
              "    <div>            <script src=\"https://cdnjs.cloudflare.com/ajax/libs/mathjax/2.7.5/MathJax.js?config=TeX-AMS-MML_SVG\"></script><script type=\"text/javascript\">if (window.MathJax) {MathJax.Hub.Config({SVG: {font: \"STIX-Web\"}});}</script>                <script type=\"text/javascript\">window.PlotlyConfig = {MathJaxConfig: 'local'};</script>\n",
              "        <script src=\"https://cdn.plot.ly/plotly-2.8.3.min.js\"></script>                <div id=\"df871a07-fa3a-41d6-9d64-ab4bc27de59e\" class=\"plotly-graph-div\" style=\"height:525px; width:100%;\"></div>            <script type=\"text/javascript\">                                    window.PLOTLYENV=window.PLOTLYENV || {};                                    if (document.getElementById(\"df871a07-fa3a-41d6-9d64-ab4bc27de59e\")) {                    Plotly.newPlot(                        \"df871a07-fa3a-41d6-9d64-ab4bc27de59e\",                        [{\"alignmentgroup\":\"True\",\"hovertemplate\":\"purchase_category=%{x}<br>purchase_count=%{y}<extra></extra>\",\"legendgroup\":\"\",\"marker\":{\"color\":\"#636efa\",\"pattern\":{\"shape\":\"\"}},\"name\":\"\",\"offsetgroup\":\"\",\"orientation\":\"v\",\"showlegend\":false,\"textposition\":\"auto\",\"texttemplate\":\"%{y:.2s}\",\"x\":[\"electronics\",\"appliances\",\"computers\",\"lucente\",\"auto\",\"cordiant\",\"xiaomi\",\"furniture\",\"apparel\",\"construction\"],\"xaxis\":\"x\",\"y\":[423028,74996,27855,11578,10620,10551,10021,8301,8002,7801],\"yaxis\":\"y\",\"type\":\"bar\"}],                        {\"template\":{\"data\":{\"bar\":[{\"error_x\":{\"color\":\"#2a3f5f\"},\"error_y\":{\"color\":\"#2a3f5f\"},\"marker\":{\"line\":{\"color\":\"#E5ECF6\",\"width\":0.5},\"pattern\":{\"fillmode\":\"overlay\",\"size\":10,\"solidity\":0.2}},\"type\":\"bar\"}],\"barpolar\":[{\"marker\":{\"line\":{\"color\":\"#E5ECF6\",\"width\":0.5},\"pattern\":{\"fillmode\":\"overlay\",\"size\":10,\"solidity\":0.2}},\"type\":\"barpolar\"}],\"carpet\":[{\"aaxis\":{\"endlinecolor\":\"#2a3f5f\",\"gridcolor\":\"white\",\"linecolor\":\"white\",\"minorgridcolor\":\"white\",\"startlinecolor\":\"#2a3f5f\"},\"baxis\":{\"endlinecolor\":\"#2a3f5f\",\"gridcolor\":\"white\",\"linecolor\":\"white\",\"minorgridcolor\":\"white\",\"startlinecolor\":\"#2a3f5f\"},\"type\":\"carpet\"}],\"choropleth\":[{\"colorbar\":{\"outlinewidth\":0,\"ticks\":\"\"},\"type\":\"choropleth\"}],\"contour\":[{\"colorbar\":{\"outlinewidth\":0,\"ticks\":\"\"},\"colorscale\":[[0.0,\"#0d0887\"],[0.1111111111111111,\"#46039f\"],[0.2222222222222222,\"#7201a8\"],[0.3333333333333333,\"#9c179e\"],[0.4444444444444444,\"#bd3786\"],[0.5555555555555556,\"#d8576b\"],[0.6666666666666666,\"#ed7953\"],[0.7777777777777778,\"#fb9f3a\"],[0.8888888888888888,\"#fdca26\"],[1.0,\"#f0f921\"]],\"type\":\"contour\"}],\"contourcarpet\":[{\"colorbar\":{\"outlinewidth\":0,\"ticks\":\"\"},\"type\":\"contourcarpet\"}],\"heatmap\":[{\"colorbar\":{\"outlinewidth\":0,\"ticks\":\"\"},\"colorscale\":[[0.0,\"#0d0887\"],[0.1111111111111111,\"#46039f\"],[0.2222222222222222,\"#7201a8\"],[0.3333333333333333,\"#9c179e\"],[0.4444444444444444,\"#bd3786\"],[0.5555555555555556,\"#d8576b\"],[0.6666666666666666,\"#ed7953\"],[0.7777777777777778,\"#fb9f3a\"],[0.8888888888888888,\"#fdca26\"],[1.0,\"#f0f921\"]],\"type\":\"heatmap\"}],\"heatmapgl\":[{\"colorbar\":{\"outlinewidth\":0,\"ticks\":\"\"},\"colorscale\":[[0.0,\"#0d0887\"],[0.1111111111111111,\"#46039f\"],[0.2222222222222222,\"#7201a8\"],[0.3333333333333333,\"#9c179e\"],[0.4444444444444444,\"#bd3786\"],[0.5555555555555556,\"#d8576b\"],[0.6666666666666666,\"#ed7953\"],[0.7777777777777778,\"#fb9f3a\"],[0.8888888888888888,\"#fdca26\"],[1.0,\"#f0f921\"]],\"type\":\"heatmapgl\"}],\"histogram\":[{\"marker\":{\"pattern\":{\"fillmode\":\"overlay\",\"size\":10,\"solidity\":0.2}},\"type\":\"histogram\"}],\"histogram2d\":[{\"colorbar\":{\"outlinewidth\":0,\"ticks\":\"\"},\"colorscale\":[[0.0,\"#0d0887\"],[0.1111111111111111,\"#46039f\"],[0.2222222222222222,\"#7201a8\"],[0.3333333333333333,\"#9c179e\"],[0.4444444444444444,\"#bd3786\"],[0.5555555555555556,\"#d8576b\"],[0.6666666666666666,\"#ed7953\"],[0.7777777777777778,\"#fb9f3a\"],[0.8888888888888888,\"#fdca26\"],[1.0,\"#f0f921\"]],\"type\":\"histogram2d\"}],\"histogram2dcontour\":[{\"colorbar\":{\"outlinewidth\":0,\"ticks\":\"\"},\"colorscale\":[[0.0,\"#0d0887\"],[0.1111111111111111,\"#46039f\"],[0.2222222222222222,\"#7201a8\"],[0.3333333333333333,\"#9c179e\"],[0.4444444444444444,\"#bd3786\"],[0.5555555555555556,\"#d8576b\"],[0.6666666666666666,\"#ed7953\"],[0.7777777777777778,\"#fb9f3a\"],[0.8888888888888888,\"#fdca26\"],[1.0,\"#f0f921\"]],\"type\":\"histogram2dcontour\"}],\"mesh3d\":[{\"colorbar\":{\"outlinewidth\":0,\"ticks\":\"\"},\"type\":\"mesh3d\"}],\"parcoords\":[{\"line\":{\"colorbar\":{\"outlinewidth\":0,\"ticks\":\"\"}},\"type\":\"parcoords\"}],\"pie\":[{\"automargin\":true,\"type\":\"pie\"}],\"scatter\":[{\"marker\":{\"colorbar\":{\"outlinewidth\":0,\"ticks\":\"\"}},\"type\":\"scatter\"}],\"scatter3d\":[{\"line\":{\"colorbar\":{\"outlinewidth\":0,\"ticks\":\"\"}},\"marker\":{\"colorbar\":{\"outlinewidth\":0,\"ticks\":\"\"}},\"type\":\"scatter3d\"}],\"scattercarpet\":[{\"marker\":{\"colorbar\":{\"outlinewidth\":0,\"ticks\":\"\"}},\"type\":\"scattercarpet\"}],\"scattergeo\":[{\"marker\":{\"colorbar\":{\"outlinewidth\":0,\"ticks\":\"\"}},\"type\":\"scattergeo\"}],\"scattergl\":[{\"marker\":{\"colorbar\":{\"outlinewidth\":0,\"ticks\":\"\"}},\"type\":\"scattergl\"}],\"scattermapbox\":[{\"marker\":{\"colorbar\":{\"outlinewidth\":0,\"ticks\":\"\"}},\"type\":\"scattermapbox\"}],\"scatterpolar\":[{\"marker\":{\"colorbar\":{\"outlinewidth\":0,\"ticks\":\"\"}},\"type\":\"scatterpolar\"}],\"scatterpolargl\":[{\"marker\":{\"colorbar\":{\"outlinewidth\":0,\"ticks\":\"\"}},\"type\":\"scatterpolargl\"}],\"scatterternary\":[{\"marker\":{\"colorbar\":{\"outlinewidth\":0,\"ticks\":\"\"}},\"type\":\"scatterternary\"}],\"surface\":[{\"colorbar\":{\"outlinewidth\":0,\"ticks\":\"\"},\"colorscale\":[[0.0,\"#0d0887\"],[0.1111111111111111,\"#46039f\"],[0.2222222222222222,\"#7201a8\"],[0.3333333333333333,\"#9c179e\"],[0.4444444444444444,\"#bd3786\"],[0.5555555555555556,\"#d8576b\"],[0.6666666666666666,\"#ed7953\"],[0.7777777777777778,\"#fb9f3a\"],[0.8888888888888888,\"#fdca26\"],[1.0,\"#f0f921\"]],\"type\":\"surface\"}],\"table\":[{\"cells\":{\"fill\":{\"color\":\"#EBF0F8\"},\"line\":{\"color\":\"white\"}},\"header\":{\"fill\":{\"color\":\"#C8D4E3\"},\"line\":{\"color\":\"white\"}},\"type\":\"table\"}]},\"layout\":{\"annotationdefaults\":{\"arrowcolor\":\"#2a3f5f\",\"arrowhead\":0,\"arrowwidth\":1},\"autotypenumbers\":\"strict\",\"coloraxis\":{\"colorbar\":{\"outlinewidth\":0,\"ticks\":\"\"}},\"colorscale\":{\"diverging\":[[0,\"#8e0152\"],[0.1,\"#c51b7d\"],[0.2,\"#de77ae\"],[0.3,\"#f1b6da\"],[0.4,\"#fde0ef\"],[0.5,\"#f7f7f7\"],[0.6,\"#e6f5d0\"],[0.7,\"#b8e186\"],[0.8,\"#7fbc41\"],[0.9,\"#4d9221\"],[1,\"#276419\"]],\"sequential\":[[0.0,\"#0d0887\"],[0.1111111111111111,\"#46039f\"],[0.2222222222222222,\"#7201a8\"],[0.3333333333333333,\"#9c179e\"],[0.4444444444444444,\"#bd3786\"],[0.5555555555555556,\"#d8576b\"],[0.6666666666666666,\"#ed7953\"],[0.7777777777777778,\"#fb9f3a\"],[0.8888888888888888,\"#fdca26\"],[1.0,\"#f0f921\"]],\"sequentialminus\":[[0.0,\"#0d0887\"],[0.1111111111111111,\"#46039f\"],[0.2222222222222222,\"#7201a8\"],[0.3333333333333333,\"#9c179e\"],[0.4444444444444444,\"#bd3786\"],[0.5555555555555556,\"#d8576b\"],[0.6666666666666666,\"#ed7953\"],[0.7777777777777778,\"#fb9f3a\"],[0.8888888888888888,\"#fdca26\"],[1.0,\"#f0f921\"]]},\"colorway\":[\"#636efa\",\"#EF553B\",\"#00cc96\",\"#ab63fa\",\"#FFA15A\",\"#19d3f3\",\"#FF6692\",\"#B6E880\",\"#FF97FF\",\"#FECB52\"],\"font\":{\"color\":\"#2a3f5f\"},\"geo\":{\"bgcolor\":\"white\",\"lakecolor\":\"white\",\"landcolor\":\"#E5ECF6\",\"showlakes\":true,\"showland\":true,\"subunitcolor\":\"white\"},\"hoverlabel\":{\"align\":\"left\"},\"hovermode\":\"closest\",\"mapbox\":{\"style\":\"light\"},\"paper_bgcolor\":\"white\",\"plot_bgcolor\":\"#E5ECF6\",\"polar\":{\"angularaxis\":{\"gridcolor\":\"white\",\"linecolor\":\"white\",\"ticks\":\"\"},\"bgcolor\":\"#E5ECF6\",\"radialaxis\":{\"gridcolor\":\"white\",\"linecolor\":\"white\",\"ticks\":\"\"}},\"scene\":{\"xaxis\":{\"backgroundcolor\":\"#E5ECF6\",\"gridcolor\":\"white\",\"gridwidth\":2,\"linecolor\":\"white\",\"showbackground\":true,\"ticks\":\"\",\"zerolinecolor\":\"white\"},\"yaxis\":{\"backgroundcolor\":\"#E5ECF6\",\"gridcolor\":\"white\",\"gridwidth\":2,\"linecolor\":\"white\",\"showbackground\":true,\"ticks\":\"\",\"zerolinecolor\":\"white\"},\"zaxis\":{\"backgroundcolor\":\"#E5ECF6\",\"gridcolor\":\"white\",\"gridwidth\":2,\"linecolor\":\"white\",\"showbackground\":true,\"ticks\":\"\",\"zerolinecolor\":\"white\"}},\"shapedefaults\":{\"line\":{\"color\":\"#2a3f5f\"}},\"ternary\":{\"aaxis\":{\"gridcolor\":\"white\",\"linecolor\":\"white\",\"ticks\":\"\"},\"baxis\":{\"gridcolor\":\"white\",\"linecolor\":\"white\",\"ticks\":\"\"},\"bgcolor\":\"#E5ECF6\",\"caxis\":{\"gridcolor\":\"white\",\"linecolor\":\"white\",\"ticks\":\"\"}},\"title\":{\"x\":0.05},\"xaxis\":{\"automargin\":true,\"gridcolor\":\"white\",\"linecolor\":\"white\",\"ticks\":\"\",\"title\":{\"standoff\":15},\"zerolinecolor\":\"white\",\"zerolinewidth\":2},\"yaxis\":{\"automargin\":true,\"gridcolor\":\"white\",\"linecolor\":\"white\",\"ticks\":\"\",\"title\":{\"standoff\":15},\"zerolinecolor\":\"white\",\"zerolinewidth\":2}}},\"xaxis\":{\"anchor\":\"y\",\"domain\":[0.0,1.0],\"title\":{\"text\":\"purchase_category\"}},\"yaxis\":{\"anchor\":\"x\",\"domain\":[0.0,1.0],\"title\":{\"text\":\"purchase_count\"}},\"legend\":{\"tracegroupgap\":0},\"title\":{\"text\":\"Top 10 Categories Purchased\"},\"barmode\":\"relative\"},                        {\"responsive\": true}                    ).then(function(){\n",
              "                            \n",
              "var gd = document.getElementById('df871a07-fa3a-41d6-9d64-ab4bc27de59e');\n",
              "var x = new MutationObserver(function (mutations, observer) {{\n",
              "        var display = window.getComputedStyle(gd).display;\n",
              "        if (!display || display === 'none') {{\n",
              "            console.log([gd, 'removed!']);\n",
              "            Plotly.purge(gd);\n",
              "            observer.disconnect();\n",
              "        }}\n",
              "}});\n",
              "\n",
              "// Listen for the removal of the full notebook cells\n",
              "var notebookContainer = gd.closest('#notebook-container');\n",
              "if (notebookContainer) {{\n",
              "    x.observe(notebookContainer, {childList: true});\n",
              "}}\n",
              "\n",
              "// Listen for the clearing of the current output cell\n",
              "var outputEl = gd.closest('.output');\n",
              "if (outputEl) {{\n",
              "    x.observe(outputEl, {childList: true});\n",
              "}}\n",
              "\n",
              "                        })                };                            </script>        </div>\n",
              "</body>\n",
              "</html>"
            ]
          },
          "metadata": {},
          "output_type": "display_data"
        }
      ],
      "source": [
        "purchase_category = [val.category for val in df_cat_purchased_count.select('category').collect()]\n",
        "purchase_count = [val.category_purchase_count for val in df_cat_purchased_count.select('category_purchase_count').collect()]\n",
        "d = {'purchase_category': purchase_category, 'purchase_count': purchase_count}\n",
        "fig = px.bar(d, x=\"purchase_category\", y=\"purchase_count\", title=\"Top 10 Categories Purchased\", text_auto='.2s')\n",
        "fig.show()"
      ]
    },
    {
      "cell_type": "markdown",
      "metadata": {
        "id": "RBRMt7HlxmBk"
      },
      "source": [
        "Analysis: Top 10 for viewed and purchased differ"
      ]
    },
    {
      "cell_type": "markdown",
      "metadata": {
        "id": "D7UCT3uJLR46"
      },
      "source": [
        "## Carted vs Purchased - Top Performing Products"
      ]
    },
    {
      "cell_type": "code",
      "execution_count": null,
      "metadata": {
        "colab": {
          "base_uri": "https://localhost:8080/"
        },
        "id": "eQ2AamBHLQ2e",
        "outputId": "555fb832-73ff-4979-fc1b-39a748542992"
      },
      "outputs": [
        {
          "name": "stdout",
          "output_type": "stream",
          "text": [
            "+-----------+----------+----------+\n",
            "|   category|   product|cart_count|\n",
            "+-----------+----------+----------+\n",
            "|electronics|smartphone|    549765|\n",
            "|electronics| headphone|     51143|\n",
            "|electronics|        tv|     36224|\n",
            "|     xiaomi|    xiaomi|     22246|\n",
            "| appliances|    washer|     21977|\n",
            "+-----------+----------+----------+\n",
            "only showing top 5 rows\n",
            "\n"
          ]
        }
      ],
      "source": [
        "df_cat_carted = df.select(\"*\").filter(\"event_type == 'cart'\")\n",
        "df_cp_cart_count = df_cat_carted.groupBy(\"category\",\"product\").count().orderBy(desc(\"count\"))\n",
        "df_cp_cart_count = df_cp_cart_count.withColumnRenamed(\"count\", \"cart_count\")\n",
        "if output_show:\n",
        "  df_cp_cart_count.show(5)"
      ]
    },
    {
      "cell_type": "code",
      "execution_count": null,
      "metadata": {
        "colab": {
          "base_uri": "https://localhost:8080/"
        },
        "id": "xuVblWjJoDof",
        "outputId": "df0502f5-c133-4c86-9970-138efe0c474a"
      },
      "outputs": [
        {
          "name": "stdout",
          "output_type": "stream",
          "text": [
            "+-----------+-------------+--------------+\n",
            "|   category|      product|purchase_count|\n",
            "+-----------+-------------+--------------+\n",
            "|electronics|   smartphone|        338018|\n",
            "|electronics|    headphone|         30503|\n",
            "|electronics|           tv|         21565|\n",
            "|electronics|       clocks|         17906|\n",
            "| appliances|       washer|         16148|\n",
            "|  computers|     notebook|         15590|\n",
            "| appliances|       vacuum|         12378|\n",
            "|    lucente|      lucente|         11578|\n",
            "| appliances|refrigerators|         11218|\n",
            "|   cordiant|     cordiant|         10551|\n",
            "|     xiaomi|       xiaomi|         10021|\n",
            "|   triangle|     triangle|          5835|\n",
            "|electronics|       tablet|          5603|\n",
            "|     nokian|       nokian|          4907|\n",
            "|       auto|       player|          4647|\n",
            "|       sony|         sony|          4496|\n",
            "|    apparel|        shoes|          4255|\n",
            "|electronics|    telephone|          3738|\n",
            "| appliances|    microwave|          3709|\n",
            "| appliances|         iron|          3653|\n",
            "+-----------+-------------+--------------+\n",
            "only showing top 20 rows\n",
            "\n"
          ]
        }
      ],
      "source": [
        "df_cp_purchase_count = df_cat_purchased.groupBy(\"category\",\"product\").count().orderBy(desc(\"count\"))\n",
        "df_cp_purchase_count = df_cp_purchase_count.withColumnRenamed(\"count\", \"purchase_count\")\n",
        "if output_show:\n",
        "  df_cp_purchase_count.show()"
      ]
    },
    {
      "cell_type": "code",
      "execution_count": null,
      "metadata": {
        "colab": {
          "base_uri": "https://localhost:8080/"
        },
        "id": "_-ljfwBPrDHR",
        "outputId": "84d75fac-a06f-4f11-a606-90046ccbbb46"
      },
      "outputs": [
        {
          "name": "stdout",
          "output_type": "stream",
          "text": [
            "+-----------+-------------+----------+--------------+\n",
            "|   category|      product|cart_count|purchase_count|\n",
            "+-----------+-------------+----------+--------------+\n",
            "|electronics|   smartphone|    549765|        338018|\n",
            "|electronics|    headphone|     51143|         30503|\n",
            "|electronics|           tv|     36224|         21565|\n",
            "|electronics|       clocks|     20344|         17906|\n",
            "| appliances|       washer|     21977|         16148|\n",
            "|  computers|     notebook|     15627|         15590|\n",
            "| appliances|       vacuum|     17263|         12378|\n",
            "| appliances|refrigerators|     13126|         11218|\n",
            "|   cordiant|     cordiant|      5730|         10551|\n",
            "|     xiaomi|       xiaomi|     22246|         10021|\n",
            "|   triangle|     triangle|       557|          5835|\n",
            "|electronics|       tablet|      9140|          5603|\n",
            "|     nokian|       nokian|      4906|          4907|\n",
            "|       auto|       player|      1289|          4647|\n",
            "|       sony|         sony|      6997|          4496|\n",
            "|electronics|    telephone|      5342|          3738|\n",
            "| appliances|    microwave|      4717|          3709|\n",
            "| appliances|         iron|      4095|          3653|\n",
            "|electronics|    subwoofer|       356|          3348|\n",
            "|  computers|      desktop|      3231|          3232|\n",
            "+-----------+-------------+----------+--------------+\n",
            "\n"
          ]
        }
      ],
      "source": [
        "df_product = df_cp_cart_count.join(df_cp_purchase_count, [\"category\", \"product\"], \"left\").orderBy(desc(\"purchase_count\")).limit(20)\n",
        "if output_show:\n",
        "  df_product.show()"
      ]
    },
    {
      "cell_type": "code",
      "execution_count": null,
      "metadata": {
        "id": "86XX9oN4q5qW"
      },
      "outputs": [],
      "source": [
        "#Getting values for x-axis and y-axis\n",
        "product = [val.product for val in df_product.select('product').collect()]\n",
        "cart_count = [val.cart_count for val in df_product.select('cart_count').collect()]\n",
        "purchase_count = [val.purchase_count for val in df_product.select('purchase_count').collect()]"
      ]
    },
    {
      "cell_type": "code",
      "execution_count": null,
      "metadata": {
        "colab": {
          "base_uri": "https://localhost:8080/",
          "height": 542
        },
        "id": "tLrDZp7PTYPj",
        "outputId": "158ff073-edca-48f2-b9d9-6b507553c1b0"
      },
      "outputs": [
        {
          "data": {
            "text/html": [
              "<html>\n",
              "<head><meta charset=\"utf-8\" /></head>\n",
              "<body>\n",
              "    <div>            <script src=\"https://cdnjs.cloudflare.com/ajax/libs/mathjax/2.7.5/MathJax.js?config=TeX-AMS-MML_SVG\"></script><script type=\"text/javascript\">if (window.MathJax) {MathJax.Hub.Config({SVG: {font: \"STIX-Web\"}});}</script>                <script type=\"text/javascript\">window.PlotlyConfig = {MathJaxConfig: 'local'};</script>\n",
              "        <script src=\"https://cdn.plot.ly/plotly-2.8.3.min.js\"></script>                <div id=\"104d894e-6ba9-4b42-a72c-d1a96e52bc06\" class=\"plotly-graph-div\" style=\"height:525px; width:100%;\"></div>            <script type=\"text/javascript\">                                    window.PLOTLYENV=window.PLOTLYENV || {};                                    if (document.getElementById(\"104d894e-6ba9-4b42-a72c-d1a96e52bc06\")) {                    Plotly.newPlot(                        \"104d894e-6ba9-4b42-a72c-d1a96e52bc06\",                        [{\"name\":\"Cart Count\",\"x\":[\"smartphone\",\"headphone\",\"tv\",\"clocks\",\"washer\",\"notebook\",\"vacuum\",\"refrigerators\",\"cordiant\",\"xiaomi\",\"triangle\",\"tablet\",\"nokian\",\"player\",\"sony\",\"telephone\",\"microwave\",\"iron\",\"subwoofer\",\"desktop\"],\"y\":[549765,51143,36224,20344,21977,15627,17263,13126,5730,22246,557,9140,4906,1289,6997,5342,4717,4095,356,3231],\"type\":\"bar\"},{\"name\":\"Purchase Count\",\"x\":[\"smartphone\",\"headphone\",\"tv\",\"clocks\",\"washer\",\"notebook\",\"vacuum\",\"refrigerators\",\"cordiant\",\"xiaomi\",\"triangle\",\"tablet\",\"nokian\",\"player\",\"sony\",\"telephone\",\"microwave\",\"iron\",\"subwoofer\",\"desktop\"],\"y\":[338018,30503,21565,17906,16148,15590,12378,11218,10551,10021,5835,5603,4907,4647,4496,3738,3709,3653,3348,3232],\"type\":\"bar\"}],                        {\"template\":{\"data\":{\"bar\":[{\"error_x\":{\"color\":\"#2a3f5f\"},\"error_y\":{\"color\":\"#2a3f5f\"},\"marker\":{\"line\":{\"color\":\"#E5ECF6\",\"width\":0.5},\"pattern\":{\"fillmode\":\"overlay\",\"size\":10,\"solidity\":0.2}},\"type\":\"bar\"}],\"barpolar\":[{\"marker\":{\"line\":{\"color\":\"#E5ECF6\",\"width\":0.5},\"pattern\":{\"fillmode\":\"overlay\",\"size\":10,\"solidity\":0.2}},\"type\":\"barpolar\"}],\"carpet\":[{\"aaxis\":{\"endlinecolor\":\"#2a3f5f\",\"gridcolor\":\"white\",\"linecolor\":\"white\",\"minorgridcolor\":\"white\",\"startlinecolor\":\"#2a3f5f\"},\"baxis\":{\"endlinecolor\":\"#2a3f5f\",\"gridcolor\":\"white\",\"linecolor\":\"white\",\"minorgridcolor\":\"white\",\"startlinecolor\":\"#2a3f5f\"},\"type\":\"carpet\"}],\"choropleth\":[{\"colorbar\":{\"outlinewidth\":0,\"ticks\":\"\"},\"type\":\"choropleth\"}],\"contour\":[{\"colorbar\":{\"outlinewidth\":0,\"ticks\":\"\"},\"colorscale\":[[0.0,\"#0d0887\"],[0.1111111111111111,\"#46039f\"],[0.2222222222222222,\"#7201a8\"],[0.3333333333333333,\"#9c179e\"],[0.4444444444444444,\"#bd3786\"],[0.5555555555555556,\"#d8576b\"],[0.6666666666666666,\"#ed7953\"],[0.7777777777777778,\"#fb9f3a\"],[0.8888888888888888,\"#fdca26\"],[1.0,\"#f0f921\"]],\"type\":\"contour\"}],\"contourcarpet\":[{\"colorbar\":{\"outlinewidth\":0,\"ticks\":\"\"},\"type\":\"contourcarpet\"}],\"heatmap\":[{\"colorbar\":{\"outlinewidth\":0,\"ticks\":\"\"},\"colorscale\":[[0.0,\"#0d0887\"],[0.1111111111111111,\"#46039f\"],[0.2222222222222222,\"#7201a8\"],[0.3333333333333333,\"#9c179e\"],[0.4444444444444444,\"#bd3786\"],[0.5555555555555556,\"#d8576b\"],[0.6666666666666666,\"#ed7953\"],[0.7777777777777778,\"#fb9f3a\"],[0.8888888888888888,\"#fdca26\"],[1.0,\"#f0f921\"]],\"type\":\"heatmap\"}],\"heatmapgl\":[{\"colorbar\":{\"outlinewidth\":0,\"ticks\":\"\"},\"colorscale\":[[0.0,\"#0d0887\"],[0.1111111111111111,\"#46039f\"],[0.2222222222222222,\"#7201a8\"],[0.3333333333333333,\"#9c179e\"],[0.4444444444444444,\"#bd3786\"],[0.5555555555555556,\"#d8576b\"],[0.6666666666666666,\"#ed7953\"],[0.7777777777777778,\"#fb9f3a\"],[0.8888888888888888,\"#fdca26\"],[1.0,\"#f0f921\"]],\"type\":\"heatmapgl\"}],\"histogram\":[{\"marker\":{\"pattern\":{\"fillmode\":\"overlay\",\"size\":10,\"solidity\":0.2}},\"type\":\"histogram\"}],\"histogram2d\":[{\"colorbar\":{\"outlinewidth\":0,\"ticks\":\"\"},\"colorscale\":[[0.0,\"#0d0887\"],[0.1111111111111111,\"#46039f\"],[0.2222222222222222,\"#7201a8\"],[0.3333333333333333,\"#9c179e\"],[0.4444444444444444,\"#bd3786\"],[0.5555555555555556,\"#d8576b\"],[0.6666666666666666,\"#ed7953\"],[0.7777777777777778,\"#fb9f3a\"],[0.8888888888888888,\"#fdca26\"],[1.0,\"#f0f921\"]],\"type\":\"histogram2d\"}],\"histogram2dcontour\":[{\"colorbar\":{\"outlinewidth\":0,\"ticks\":\"\"},\"colorscale\":[[0.0,\"#0d0887\"],[0.1111111111111111,\"#46039f\"],[0.2222222222222222,\"#7201a8\"],[0.3333333333333333,\"#9c179e\"],[0.4444444444444444,\"#bd3786\"],[0.5555555555555556,\"#d8576b\"],[0.6666666666666666,\"#ed7953\"],[0.7777777777777778,\"#fb9f3a\"],[0.8888888888888888,\"#fdca26\"],[1.0,\"#f0f921\"]],\"type\":\"histogram2dcontour\"}],\"mesh3d\":[{\"colorbar\":{\"outlinewidth\":0,\"ticks\":\"\"},\"type\":\"mesh3d\"}],\"parcoords\":[{\"line\":{\"colorbar\":{\"outlinewidth\":0,\"ticks\":\"\"}},\"type\":\"parcoords\"}],\"pie\":[{\"automargin\":true,\"type\":\"pie\"}],\"scatter\":[{\"marker\":{\"colorbar\":{\"outlinewidth\":0,\"ticks\":\"\"}},\"type\":\"scatter\"}],\"scatter3d\":[{\"line\":{\"colorbar\":{\"outlinewidth\":0,\"ticks\":\"\"}},\"marker\":{\"colorbar\":{\"outlinewidth\":0,\"ticks\":\"\"}},\"type\":\"scatter3d\"}],\"scattercarpet\":[{\"marker\":{\"colorbar\":{\"outlinewidth\":0,\"ticks\":\"\"}},\"type\":\"scattercarpet\"}],\"scattergeo\":[{\"marker\":{\"colorbar\":{\"outlinewidth\":0,\"ticks\":\"\"}},\"type\":\"scattergeo\"}],\"scattergl\":[{\"marker\":{\"colorbar\":{\"outlinewidth\":0,\"ticks\":\"\"}},\"type\":\"scattergl\"}],\"scattermapbox\":[{\"marker\":{\"colorbar\":{\"outlinewidth\":0,\"ticks\":\"\"}},\"type\":\"scattermapbox\"}],\"scatterpolar\":[{\"marker\":{\"colorbar\":{\"outlinewidth\":0,\"ticks\":\"\"}},\"type\":\"scatterpolar\"}],\"scatterpolargl\":[{\"marker\":{\"colorbar\":{\"outlinewidth\":0,\"ticks\":\"\"}},\"type\":\"scatterpolargl\"}],\"scatterternary\":[{\"marker\":{\"colorbar\":{\"outlinewidth\":0,\"ticks\":\"\"}},\"type\":\"scatterternary\"}],\"surface\":[{\"colorbar\":{\"outlinewidth\":0,\"ticks\":\"\"},\"colorscale\":[[0.0,\"#0d0887\"],[0.1111111111111111,\"#46039f\"],[0.2222222222222222,\"#7201a8\"],[0.3333333333333333,\"#9c179e\"],[0.4444444444444444,\"#bd3786\"],[0.5555555555555556,\"#d8576b\"],[0.6666666666666666,\"#ed7953\"],[0.7777777777777778,\"#fb9f3a\"],[0.8888888888888888,\"#fdca26\"],[1.0,\"#f0f921\"]],\"type\":\"surface\"}],\"table\":[{\"cells\":{\"fill\":{\"color\":\"#EBF0F8\"},\"line\":{\"color\":\"white\"}},\"header\":{\"fill\":{\"color\":\"#C8D4E3\"},\"line\":{\"color\":\"white\"}},\"type\":\"table\"}]},\"layout\":{\"annotationdefaults\":{\"arrowcolor\":\"#2a3f5f\",\"arrowhead\":0,\"arrowwidth\":1},\"autotypenumbers\":\"strict\",\"coloraxis\":{\"colorbar\":{\"outlinewidth\":0,\"ticks\":\"\"}},\"colorscale\":{\"diverging\":[[0,\"#8e0152\"],[0.1,\"#c51b7d\"],[0.2,\"#de77ae\"],[0.3,\"#f1b6da\"],[0.4,\"#fde0ef\"],[0.5,\"#f7f7f7\"],[0.6,\"#e6f5d0\"],[0.7,\"#b8e186\"],[0.8,\"#7fbc41\"],[0.9,\"#4d9221\"],[1,\"#276419\"]],\"sequential\":[[0.0,\"#0d0887\"],[0.1111111111111111,\"#46039f\"],[0.2222222222222222,\"#7201a8\"],[0.3333333333333333,\"#9c179e\"],[0.4444444444444444,\"#bd3786\"],[0.5555555555555556,\"#d8576b\"],[0.6666666666666666,\"#ed7953\"],[0.7777777777777778,\"#fb9f3a\"],[0.8888888888888888,\"#fdca26\"],[1.0,\"#f0f921\"]],\"sequentialminus\":[[0.0,\"#0d0887\"],[0.1111111111111111,\"#46039f\"],[0.2222222222222222,\"#7201a8\"],[0.3333333333333333,\"#9c179e\"],[0.4444444444444444,\"#bd3786\"],[0.5555555555555556,\"#d8576b\"],[0.6666666666666666,\"#ed7953\"],[0.7777777777777778,\"#fb9f3a\"],[0.8888888888888888,\"#fdca26\"],[1.0,\"#f0f921\"]]},\"colorway\":[\"#636efa\",\"#EF553B\",\"#00cc96\",\"#ab63fa\",\"#FFA15A\",\"#19d3f3\",\"#FF6692\",\"#B6E880\",\"#FF97FF\",\"#FECB52\"],\"font\":{\"color\":\"#2a3f5f\"},\"geo\":{\"bgcolor\":\"white\",\"lakecolor\":\"white\",\"landcolor\":\"#E5ECF6\",\"showlakes\":true,\"showland\":true,\"subunitcolor\":\"white\"},\"hoverlabel\":{\"align\":\"left\"},\"hovermode\":\"closest\",\"mapbox\":{\"style\":\"light\"},\"paper_bgcolor\":\"white\",\"plot_bgcolor\":\"#E5ECF6\",\"polar\":{\"angularaxis\":{\"gridcolor\":\"white\",\"linecolor\":\"white\",\"ticks\":\"\"},\"bgcolor\":\"#E5ECF6\",\"radialaxis\":{\"gridcolor\":\"white\",\"linecolor\":\"white\",\"ticks\":\"\"}},\"scene\":{\"xaxis\":{\"backgroundcolor\":\"#E5ECF6\",\"gridcolor\":\"white\",\"gridwidth\":2,\"linecolor\":\"white\",\"showbackground\":true,\"ticks\":\"\",\"zerolinecolor\":\"white\"},\"yaxis\":{\"backgroundcolor\":\"#E5ECF6\",\"gridcolor\":\"white\",\"gridwidth\":2,\"linecolor\":\"white\",\"showbackground\":true,\"ticks\":\"\",\"zerolinecolor\":\"white\"},\"zaxis\":{\"backgroundcolor\":\"#E5ECF6\",\"gridcolor\":\"white\",\"gridwidth\":2,\"linecolor\":\"white\",\"showbackground\":true,\"ticks\":\"\",\"zerolinecolor\":\"white\"}},\"shapedefaults\":{\"line\":{\"color\":\"#2a3f5f\"}},\"ternary\":{\"aaxis\":{\"gridcolor\":\"white\",\"linecolor\":\"white\",\"ticks\":\"\"},\"baxis\":{\"gridcolor\":\"white\",\"linecolor\":\"white\",\"ticks\":\"\"},\"bgcolor\":\"#E5ECF6\",\"caxis\":{\"gridcolor\":\"white\",\"linecolor\":\"white\",\"ticks\":\"\"}},\"title\":{\"x\":0.05},\"xaxis\":{\"automargin\":true,\"gridcolor\":\"white\",\"linecolor\":\"white\",\"ticks\":\"\",\"title\":{\"standoff\":15},\"zerolinecolor\":\"white\",\"zerolinewidth\":2},\"yaxis\":{\"automargin\":true,\"gridcolor\":\"white\",\"linecolor\":\"white\",\"ticks\":\"\",\"title\":{\"standoff\":15},\"zerolinecolor\":\"white\",\"zerolinewidth\":2}}},\"title\":{\"text\":\"Carted vs Purchase Count - Top Performing Products\"},\"barmode\":\"group\",\"xaxis\":{\"title\":{\"text\":\"Products\"}},\"yaxis\":{\"title\":{\"text\":\"Count\"}}},                        {\"responsive\": true}                    ).then(function(){\n",
              "                            \n",
              "var gd = document.getElementById('104d894e-6ba9-4b42-a72c-d1a96e52bc06');\n",
              "var x = new MutationObserver(function (mutations, observer) {{\n",
              "        var display = window.getComputedStyle(gd).display;\n",
              "        if (!display || display === 'none') {{\n",
              "            console.log([gd, 'removed!']);\n",
              "            Plotly.purge(gd);\n",
              "            observer.disconnect();\n",
              "        }}\n",
              "}});\n",
              "\n",
              "// Listen for the removal of the full notebook cells\n",
              "var notebookContainer = gd.closest('#notebook-container');\n",
              "if (notebookContainer) {{\n",
              "    x.observe(notebookContainer, {childList: true});\n",
              "}}\n",
              "\n",
              "// Listen for the clearing of the current output cell\n",
              "var outputEl = gd.closest('.output');\n",
              "if (outputEl) {{\n",
              "    x.observe(outputEl, {childList: true});\n",
              "}}\n",
              "\n",
              "                        })                };                            </script>        </div>\n",
              "</body>\n",
              "</html>"
            ]
          },
          "metadata": {},
          "output_type": "display_data"
        }
      ],
      "source": [
        "import plotly.graph_objects as go\n",
        "\n",
        "fig = go.Figure(data=[\n",
        "    go.Bar(name='Cart Count', x=product, y=cart_count),\n",
        "    go.Bar(name='Purchase Count', x=product, y=purchase_count)\n",
        "])\n",
        "# Change the bar mode\n",
        "fig.update_layout(barmode='group', title_text='Carted vs Purchase Count - Top Performing Products', xaxis_title = \"Products\", yaxis_title = 'Count')\n",
        "fig.show()"
      ]
    },
    {
      "cell_type": "markdown",
      "metadata": {
        "id": "GI1CLqAp8rkw"
      },
      "source": [
        "### Top 5 Products Purchased in each Category"
      ]
    },
    {
      "cell_type": "code",
      "execution_count": null,
      "metadata": {
        "colab": {
          "base_uri": "https://localhost:8080/"
        },
        "id": "6mrhr9f5czha",
        "outputId": "a55296ac-4dfb-4cfa-ec0a-e99acace0579"
      },
      "outputs": [
        {
          "name": "stdout",
          "output_type": "stream",
          "text": [
            "+-----------+-------------+--------------+----+\n",
            "|   category|      product|purchase_count|rank|\n",
            "+-----------+-------------+--------------+----+\n",
            "|electronics|   smartphone|        338018|   1|\n",
            "|electronics|    headphone|         30503|   2|\n",
            "|electronics|           tv|         21565|   3|\n",
            "|electronics|       clocks|         17906|   4|\n",
            "| appliances|       washer|         16148|   1|\n",
            "|  computers|     notebook|         15590|   1|\n",
            "| appliances|       vacuum|         12378|   2|\n",
            "|    lucente|      lucente|         11578|   1|\n",
            "| appliances|refrigerators|         11218|   3|\n",
            "|   cordiant|     cordiant|         10551|   1|\n",
            "|     xiaomi|       xiaomi|         10021|   1|\n",
            "|   triangle|     triangle|          5835|   1|\n",
            "|electronics|       tablet|          5603|   5|\n",
            "|     nokian|       nokian|          4907|   1|\n",
            "|       auto|       player|          4647|   1|\n",
            "|       sony|         sony|          4496|   1|\n",
            "|    apparel|        shoes|          4255|   1|\n",
            "| appliances|    microwave|          3709|   4|\n",
            "| appliances|         iron|          3653|   5|\n",
            "|  computers|      desktop|          3232|   2|\n",
            "+-----------+-------------+--------------+----+\n",
            "only showing top 20 rows\n",
            "\n"
          ]
        }
      ],
      "source": [
        "from pyspark.sql.window import Window\n",
        "window = Window.partitionBy(df_cp_purchase_count['category']).orderBy(df_cp_purchase_count['purchase_count'].desc())\n",
        "ranked =  df_cp_purchase_count.select(\"*\", rank().over(window).alias(\"rank\")).filter(col('rank')<=5)\n",
        "if output_show:\n",
        "  ranked.orderBy(desc(\"count\")).show(20)"
      ]
    },
    {
      "cell_type": "markdown",
      "metadata": {
        "id": "IJDIqiPF85ED"
      },
      "source": [
        "Analysis: We can see that within electronics, smartphones are the most purchased products"
      ]
    },
    {
      "cell_type": "markdown",
      "metadata": {
        "id": "6tTuEDwARqtS"
      },
      "source": [
        "### Top 5 Brands Browsed within each category"
      ]
    },
    {
      "cell_type": "code",
      "execution_count": null,
      "metadata": {
        "colab": {
          "base_uri": "https://localhost:8080/"
        },
        "id": "rfZZkRWYRp7d",
        "outputId": "c6f28214-5c52-47e3-fae1-c7423766ae8d"
      },
      "outputs": [
        {
          "name": "stdout",
          "output_type": "stream",
          "text": [
            "+-----------+-------+-------+\n",
            "|   category|  brand|  count|\n",
            "+-----------+-------+-------+\n",
            "|electronics|samsung|4356048|\n",
            "|electronics|  apple|3847629|\n",
            "|electronics| xiaomi|2483135|\n",
            "|electronics| huawei|1066546|\n",
            "|  furniture|  empty| 703390|\n",
            "+-----------+-------+-------+\n",
            "only showing top 5 rows\n",
            "\n"
          ]
        }
      ],
      "source": [
        "df_cb_browsed_count = df_cat_browsed.groupBy(\"category\",\"brand\").count().orderBy(desc(\"count\"))\n",
        "if output_show:\n",
        "  df_cb_browsed_count.show(5)"
      ]
    },
    {
      "cell_type": "code",
      "execution_count": null,
      "metadata": {
        "colab": {
          "base_uri": "https://localhost:8080/"
        },
        "id": "72JXze3WR-B5",
        "outputId": "7450acb7-3a48-4de5-964d-78c76ece108f"
      },
      "outputs": [
        {
          "name": "stdout",
          "output_type": "stream",
          "text": [
            "+-----------+-------+-------+----+\n",
            "|   category|  brand|  count|rank|\n",
            "+-----------+-------+-------+----+\n",
            "|electronics|samsung|4356048|   1|\n",
            "|electronics|  apple|3847629|   2|\n",
            "|electronics| xiaomi|2483135|   3|\n",
            "|electronics| huawei|1066546|   4|\n",
            "|  furniture|  empty| 703390|   1|\n",
            "+-----------+-------+-------+----+\n",
            "only showing top 5 rows\n",
            "\n"
          ]
        }
      ],
      "source": [
        "window = Window.partitionBy(df_cb_browsed_count['category']).orderBy(df_cb_browsed_count['count'].desc())\n",
        "ranked =  df_cb_browsed_count.select(\"*\", rank().over(window).alias(\"rank\")).filter(col('rank')<=5)\n",
        "if output_show:\n",
        "  ranked.orderBy(desc(\"count\")).show(5)"
      ]
    },
    {
      "cell_type": "markdown",
      "metadata": {
        "id": "p26pn4XmSVM5"
      },
      "source": [
        "Analysis: We can see that within electronics, samsung is most browsed brand"
      ]
    },
    {
      "cell_type": "markdown",
      "metadata": {
        "id": "4S897mnb7gaF"
      },
      "source": [
        "### Top 5 brands within each category Purchased"
      ]
    },
    {
      "cell_type": "code",
      "execution_count": null,
      "metadata": {
        "colab": {
          "base_uri": "https://localhost:8080/"
        },
        "id": "kaMaCp3wSUMF",
        "outputId": "de394d9d-6137-48e0-cf7e-dcd93558d68d"
      },
      "outputs": [
        {
          "name": "stdout",
          "output_type": "stream",
          "text": [
            "+-----------+-------+------+\n",
            "|   category|  brand| count|\n",
            "+-----------+-------+------+\n",
            "|electronics|samsung|159621|\n",
            "|electronics|  apple|141394|\n",
            "|electronics| xiaomi| 44767|\n",
            "|electronics| huawei| 23220|\n",
            "|    lucente|lucente| 11578|\n",
            "+-----------+-------+------+\n",
            "only showing top 5 rows\n",
            "\n"
          ]
        }
      ],
      "source": [
        "df_cb_purchased_count = df_cat_purchased.groupBy(\"category\",\"brand\").count().orderBy(desc(\"count\"))\n",
        "if output_show:\n",
        "  df_cb_purchased_count.show(5)"
      ]
    },
    {
      "cell_type": "code",
      "execution_count": null,
      "metadata": {
        "id": "RofqWSQSSzgH"
      },
      "outputs": [],
      "source": [
        "window = Window.partitionBy(df_cb_purchased_count['category']).orderBy(df_cb_purchased_count['count'].desc())\n",
        "ranked =  df_cb_purchased_count.select(\"*\", rank().over(window).alias(\"rank\")).filter(col('rank')<=5)\n",
        "if output_show:\n",
        "  ranked.orderBy(desc(\"count\")).show(5)"
      ]
    },
    {
      "cell_type": "code",
      "execution_count": null,
      "metadata": {
        "id": "0mpHeN8jErBS"
      },
      "outputs": [],
      "source": [
        "import circlify\n",
        "data = [{'id': 'World', 'datum': 6964195249, 'children' : [\n",
        "              {'id' : \"electronics\", 'datum': 450448697,\n",
        "                   'children' : [\n",
        "                     {'id' : \"samsung\", 'datum' : 308865000},\n",
        "                     {'id' : \"apple\", 'datum' : 107550697},\n",
        "                     {'id' : \"xiaomi\", 'datum' : 34033000}\n",
        "                   ]},\n",
        "              {'id' : \"appliances\", 'datum' : 278095425,\n",
        "                   'children' : [\n",
        "                     {'id' : \"samsung\", 'datum' : 192612000},\n",
        "                     {'id' : \"elenberg\", 'datum' : 45349000},\n",
        "                     {'id' : \"LG\", 'datum' : 40134425}\n",
        "                   ]},\n",
        "              {'id' : \"computers\", 'datum' : 278095425,\n",
        "              'children' : [\n",
        "                {'id' : \"acer\", 'datum' : 192612000},\n",
        "                {'id' : \"lenovo\", 'datum' : 45349000},\n",
        "                {'id' : \"Hp\", 'datum' : 40134425}\n",
        "              ]},\n",
        "    ]}]"
      ]
    },
    {
      "cell_type": "code",
      "execution_count": null,
      "metadata": {
        "id": "J-S2tKn1Ggy7"
      },
      "outputs": [],
      "source": [
        "# Compute circle positions thanks to the circlify() function\n",
        "circles = circlify.circlify(\n",
        "    data,\n",
        "    show_enclosure=False,\n",
        "    target_enclosure=circlify.Circle(x=0, y=0, r=1)\n",
        ")"
      ]
    },
    {
      "cell_type": "code",
      "execution_count": null,
      "metadata": {
        "colab": {
          "base_uri": "https://localhost:8080/",
          "height": 808
        },
        "id": "PiQ2kItBGmRB",
        "outputId": "bf62ab9b-8b19-432d-c0f5-62142ad82740"
      },
      "outputs": [
        {
          "data": {
            "image/png": "[encoded data removed]",
            "text/plain": [
              "<Figure size 1008x1008 with 1 Axes>"
            ]
          },
          "metadata": {},
          "output_type": "display_data"
        }
      ],
      "source": [
        "# import libraries\n",
        "import circlify\n",
        "import matplotlib.pyplot as plt\n",
        "import numpy as np\n",
        "# Create just a figure and only one subplot\n",
        "fig, ax = plt.subplots(figsize=(14,14))\n",
        "\n",
        "# Title\n",
        "ax.set_title('Top brands in category')\n",
        "\n",
        "# Remove axes\n",
        "ax.axis('off')\n",
        "\n",
        "# Find axis boundaries\n",
        "lim = -1\n",
        "for circle in circles:\n",
        "  k = np.max([np.abs(circle.x) + circle.r, np.abs(circle.y) + circle.r])\n",
        "  lim = np.max([lim, k])\n",
        "\n",
        "plt.xlim(-lim, lim)\n",
        "plt.ylim(-lim, lim)\n",
        "\n",
        "# Print circle the highest level (continents):\n",
        "for circle in circles:\n",
        "    if circle.level != 2:\n",
        "      continue\n",
        "    x, y, r = circle\n",
        "    ax.add_patch( plt.Circle((x, y), r, alpha=0.5, linewidth=2, color=\"lightblue\"))\n",
        "\n",
        "# Print circle and labels for the highest level:\n",
        "for circle in circles:\n",
        "    if circle.level != 3:\n",
        "      continue\n",
        "    x, y, r = circle\n",
        "    label = circle.ex[\"id\"]\n",
        "    ax.add_patch( plt.Circle((x, y), r, alpha=0.5, linewidth=2, color=\"#69b3a2\"))\n",
        "    plt.annotate(label, (x,y ), ha='center', color=\"white\")\n",
        "\n",
        "# Print labels for the continents\n",
        "for circle in circles:\n",
        "    if circle.level != 2:\n",
        "      continue\n",
        "    x, y, r = circle\n",
        "    label = circle.ex[\"id\"]\n",
        "    plt.annotate(label, (x,y ) ,va='center', ha='center', bbox=dict(facecolor='white', edgecolor='black', boxstyle='round', pad=.5))\n"
      ]
    },
    {
      "cell_type": "markdown",
      "metadata": {
        "id": "A6qeWh9pS5OV"
      },
      "source": [
        "Analysis: TBD"
      ]
    },
    {
      "cell_type": "markdown",
      "metadata": {
        "id": "5hc77AnhgnZv"
      },
      "source": [
        "# Part 2: Evaluate Add to Cart and Cart Abandonment Rate\n",
        "\n"
      ]
    },
    {
      "cell_type": "markdown",
      "metadata": {
        "id": "8QxUEzos-N9i"
      },
      "source": [
        "## Cart Abandonment Rate"
      ]
    },
    {
      "cell_type": "code",
      "execution_count": null,
      "metadata": {
        "id": "b15xveUDfMJE"
      },
      "outputs": [],
      "source": [
        "df_only_cart = df.filter(df.event_type==\"cart\")\n",
        "df_only_purchase = df.filter(df.event_type==\"purchase\")"
      ]
    },
    {
      "cell_type": "markdown",
      "metadata": {
        "id": "gaKpNSVib54P"
      },
      "source": [
        "### CAR by Category"
      ]
    },
    {
      "cell_type": "code",
      "execution_count": null,
      "metadata": {
        "colab": {
          "base_uri": "https://localhost:8080/"
        },
        "id": "tLPUG6S3bawl",
        "outputId": "f462b108-bd77-466a-9ab2-f414b4c936f7"
      },
      "outputs": [
        {
          "name": "stdout",
          "output_type": "stream",
          "text": [
            "+---------+----------+--------------+\n",
            "| category|cart_count|purchase_count|\n",
            "+---------+----------+--------------+\n",
            "| yokohama|      1758|          2735|\n",
            "|  versace|       270|           465|\n",
            "|  philips|      3337|          2417|\n",
            "|energizer|         2|            14|\n",
            "|microsoft|       298|           202|\n",
            "+---------+----------+--------------+\n",
            "only showing top 5 rows\n",
            "\n"
          ]
        }
      ],
      "source": [
        "#Distinct category in cart\n",
        "df_only_cart_cat_dis = df_only_cart.groupBy(\"category\").count()\n",
        "df_only_cart_cat_dis = df_only_cart_cat_dis.withColumnRenamed(\"count\", \"cart_count\")\n",
        "\n",
        "#Distinct category in purchase\n",
        "df_only_purchase_cat_dis = df_only_purchase.groupBy(\"category\").count()\n",
        "df_only_purchase_cat_dis = df_only_purchase_cat_dis.withColumnRenamed(\"count\", \"purchase_count\")\n",
        "\n",
        "#Performing a left join\n",
        "columns_ = df.columns\n",
        "cart_purchase = df_only_cart_cat_dis.alias(\"cart_cat\").join(df_only_purchase_cat_dis.alias(\"purchase_cat\"),\n",
        "                                                            df_only_cart_cat_dis[\"category\"]==df_only_purchase_cat_dis[\"category\"]).select(\"cart_cat.category\", \"cart_cat.cart_count\", \"purchase_cat.purchase_count\")\n",
        "if output_show:\n",
        "  cart_purchase.show(5)"
      ]
    },
    {
      "cell_type": "code",
      "execution_count": null,
      "metadata": {
        "id": "Fv7LhP-PJyAX"
      },
      "outputs": [],
      "source": [
        "#Creating a UDF for calculating Cart Abandonment Rate\n",
        "@udf(returnType=FloatType())\n",
        "def cart_miss_rate_udf(cart_count, purchase_count):\n",
        "  rate = (1 - purchase_count/cart_count)*100\n",
        "  #rate_string = \"{:.2f}\".format(rate)\n",
        "  return rate"
      ]
    },
    {
      "cell_type": "code",
      "execution_count": null,
      "metadata": {
        "colab": {
          "base_uri": "https://localhost:8080/"
        },
        "id": "EspnXfcJdnnH",
        "outputId": "371d3203-b89f-4fb6-eeaf-8772d5568064"
      },
      "outputs": [
        {
          "name": "stdout",
          "output_type": "stream",
          "text": [
            "+------------+----------+--------------+--------------+\n",
            "|    category|cart_count|purchase_count|cart_miss_rate|\n",
            "+------------+----------+--------------+--------------+\n",
            "|      xiaomi|     22246|         10021|       54.9537|\n",
            "| electronics|    674205|        423028|     37.255287|\n",
            "|        sony|      6997|          4496|      35.74389|\n",
            "|construction|     10343|          7801|      24.57701|\n",
            "|  appliances|     92362|         74996|     18.802105|\n",
            "+------------+----------+--------------+--------------+\n",
            "\n"
          ]
        }
      ],
      "source": [
        "df_cart_miss_rate = cart_purchase.select(\"*\", cart_miss_rate_udf(\"cart_count\", \"purchase_count\"))\n",
        "df_cart_miss_rate = df_cart_miss_rate.withColumnRenamed(\"cart_miss_rate_udf(cart_count, purchase_count)\", \"cart_miss_rate\")\n",
        "df_cart_miss_rate = df_cart_miss_rate.filter(\"cart_miss_rate>0\")\n",
        "df_cart_miss_rate = df_cart_miss_rate.filter(\"cart_count>5000\")\n",
        "df_cart_miss_rate = df_cart_miss_rate.orderBy(desc(\"cart_miss_rate\")).limit(10)\n",
        "if output_show:\n",
        "  df_cart_miss_rate.show(5)"
      ]
    },
    {
      "cell_type": "code",
      "execution_count": null,
      "metadata": {
        "colab": {
          "base_uri": "https://localhost:8080/",
          "height": 542
        },
        "id": "z0Mccg8IPkkn",
        "outputId": "ef5049f4-79b7-48ce-de8d-546db6d2466f"
      },
      "outputs": [
        {
          "data": {
            "text/html": [
              "<html>\n",
              "<head><meta charset=\"utf-8\" /></head>\n",
              "<body>\n",
              "    <div>            <script src=\"https://cdnjs.cloudflare.com/ajax/libs/mathjax/2.7.5/MathJax.js?config=TeX-AMS-MML_SVG\"></script><script type=\"text/javascript\">if (window.MathJax) {MathJax.Hub.Config({SVG: {font: \"STIX-Web\"}});}</script>                <script type=\"text/javascript\">window.PlotlyConfig = {MathJaxConfig: 'local'};</script>\n",
              "        <script src=\"https://cdn.plot.ly/plotly-2.8.3.min.js\"></script>                <div id=\"e2c5291c-f73d-4f74-8fd1-bf5b7b8e58da\" class=\"plotly-graph-div\" style=\"height:525px; width:100%;\"></div>            <script type=\"text/javascript\">                                    window.PLOTLYENV=window.PLOTLYENV || {};                                    if (document.getElementById(\"e2c5291c-f73d-4f74-8fd1-bf5b7b8e58da\")) {                    Plotly.newPlot(                        \"e2c5291c-f73d-4f74-8fd1-bf5b7b8e58da\",                        [{\"domain\":{\"x\":[0.0,1.0],\"y\":[0.0,1.0]},\"hovertemplate\":\"category=%{label}<br>cart_miss_rate=%{value}<extra></extra>\",\"labels\":[\"xiaomi\",\"electronics\",\"sony\",\"construction\",\"appliances\"],\"legendgroup\":\"\",\"name\":\"\",\"showlegend\":true,\"values\":[54.95370101928711,37.255287170410156,35.74388885498047,24.577009201049805,18.802104949951172],\"type\":\"pie\"}],                        {\"template\":{\"data\":{\"bar\":[{\"error_x\":{\"color\":\"#2a3f5f\"},\"error_y\":{\"color\":\"#2a3f5f\"},\"marker\":{\"line\":{\"color\":\"#E5ECF6\",\"width\":0.5},\"pattern\":{\"fillmode\":\"overlay\",\"size\":10,\"solidity\":0.2}},\"type\":\"bar\"}],\"barpolar\":[{\"marker\":{\"line\":{\"color\":\"#E5ECF6\",\"width\":0.5},\"pattern\":{\"fillmode\":\"overlay\",\"size\":10,\"solidity\":0.2}},\"type\":\"barpolar\"}],\"carpet\":[{\"aaxis\":{\"endlinecolor\":\"#2a3f5f\",\"gridcolor\":\"white\",\"linecolor\":\"white\",\"minorgridcolor\":\"white\",\"startlinecolor\":\"#2a3f5f\"},\"baxis\":{\"endlinecolor\":\"#2a3f5f\",\"gridcolor\":\"white\",\"linecolor\":\"white\",\"minorgridcolor\":\"white\",\"startlinecolor\":\"#2a3f5f\"},\"type\":\"carpet\"}],\"choropleth\":[{\"colorbar\":{\"outlinewidth\":0,\"ticks\":\"\"},\"type\":\"choropleth\"}],\"contour\":[{\"colorbar\":{\"outlinewidth\":0,\"ticks\":\"\"},\"colorscale\":[[0.0,\"#0d0887\"],[0.1111111111111111,\"#46039f\"],[0.2222222222222222,\"#7201a8\"],[0.3333333333333333,\"#9c179e\"],[0.4444444444444444,\"#bd3786\"],[0.5555555555555556,\"#d8576b\"],[0.6666666666666666,\"#ed7953\"],[0.7777777777777778,\"#fb9f3a\"],[0.8888888888888888,\"#fdca26\"],[1.0,\"#f0f921\"]],\"type\":\"contour\"}],\"contourcarpet\":[{\"colorbar\":{\"outlinewidth\":0,\"ticks\":\"\"},\"type\":\"contourcarpet\"}],\"heatmap\":[{\"colorbar\":{\"outlinewidth\":0,\"ticks\":\"\"},\"colorscale\":[[0.0,\"#0d0887\"],[0.1111111111111111,\"#46039f\"],[0.2222222222222222,\"#7201a8\"],[0.3333333333333333,\"#9c179e\"],[0.4444444444444444,\"#bd3786\"],[0.5555555555555556,\"#d8576b\"],[0.6666666666666666,\"#ed7953\"],[0.7777777777777778,\"#fb9f3a\"],[0.8888888888888888,\"#fdca26\"],[1.0,\"#f0f921\"]],\"type\":\"heatmap\"}],\"heatmapgl\":[{\"colorbar\":{\"outlinewidth\":0,\"ticks\":\"\"},\"colorscale\":[[0.0,\"#0d0887\"],[0.1111111111111111,\"#46039f\"],[0.2222222222222222,\"#7201a8\"],[0.3333333333333333,\"#9c179e\"],[0.4444444444444444,\"#bd3786\"],[0.5555555555555556,\"#d8576b\"],[0.6666666666666666,\"#ed7953\"],[0.7777777777777778,\"#fb9f3a\"],[0.8888888888888888,\"#fdca26\"],[1.0,\"#f0f921\"]],\"type\":\"heatmapgl\"}],\"histogram\":[{\"marker\":{\"pattern\":{\"fillmode\":\"overlay\",\"size\":10,\"solidity\":0.2}},\"type\":\"histogram\"}],\"histogram2d\":[{\"colorbar\":{\"outlinewidth\":0,\"ticks\":\"\"},\"colorscale\":[[0.0,\"#0d0887\"],[0.1111111111111111,\"#46039f\"],[0.2222222222222222,\"#7201a8\"],[0.3333333333333333,\"#9c179e\"],[0.4444444444444444,\"#bd3786\"],[0.5555555555555556,\"#d8576b\"],[0.6666666666666666,\"#ed7953\"],[0.7777777777777778,\"#fb9f3a\"],[0.8888888888888888,\"#fdca26\"],[1.0,\"#f0f921\"]],\"type\":\"histogram2d\"}],\"histogram2dcontour\":[{\"colorbar\":{\"outlinewidth\":0,\"ticks\":\"\"},\"colorscale\":[[0.0,\"#0d0887\"],[0.1111111111111111,\"#46039f\"],[0.2222222222222222,\"#7201a8\"],[0.3333333333333333,\"#9c179e\"],[0.4444444444444444,\"#bd3786\"],[0.5555555555555556,\"#d8576b\"],[0.6666666666666666,\"#ed7953\"],[0.7777777777777778,\"#fb9f3a\"],[0.8888888888888888,\"#fdca26\"],[1.0,\"#f0f921\"]],\"type\":\"histogram2dcontour\"}],\"mesh3d\":[{\"colorbar\":{\"outlinewidth\":0,\"ticks\":\"\"},\"type\":\"mesh3d\"}],\"parcoords\":[{\"line\":{\"colorbar\":{\"outlinewidth\":0,\"ticks\":\"\"}},\"type\":\"parcoords\"}],\"pie\":[{\"automargin\":true,\"type\":\"pie\"}],\"scatter\":[{\"marker\":{\"colorbar\":{\"outlinewidth\":0,\"ticks\":\"\"}},\"type\":\"scatter\"}],\"scatter3d\":[{\"line\":{\"colorbar\":{\"outlinewidth\":0,\"ticks\":\"\"}},\"marker\":{\"colorbar\":{\"outlinewidth\":0,\"ticks\":\"\"}},\"type\":\"scatter3d\"}],\"scattercarpet\":[{\"marker\":{\"colorbar\":{\"outlinewidth\":0,\"ticks\":\"\"}},\"type\":\"scattercarpet\"}],\"scattergeo\":[{\"marker\":{\"colorbar\":{\"outlinewidth\":0,\"ticks\":\"\"}},\"type\":\"scattergeo\"}],\"scattergl\":[{\"marker\":{\"colorbar\":{\"outlinewidth\":0,\"ticks\":\"\"}},\"type\":\"scattergl\"}],\"scattermapbox\":[{\"marker\":{\"colorbar\":{\"outlinewidth\":0,\"ticks\":\"\"}},\"type\":\"scattermapbox\"}],\"scatterpolar\":[{\"marker\":{\"colorbar\":{\"outlinewidth\":0,\"ticks\":\"\"}},\"type\":\"scatterpolar\"}],\"scatterpolargl\":[{\"marker\":{\"colorbar\":{\"outlinewidth\":0,\"ticks\":\"\"}},\"type\":\"scatterpolargl\"}],\"scatterternary\":[{\"marker\":{\"colorbar\":{\"outlinewidth\":0,\"ticks\":\"\"}},\"type\":\"scatterternary\"}],\"surface\":[{\"colorbar\":{\"outlinewidth\":0,\"ticks\":\"\"},\"colorscale\":[[0.0,\"#0d0887\"],[0.1111111111111111,\"#46039f\"],[0.2222222222222222,\"#7201a8\"],[0.3333333333333333,\"#9c179e\"],[0.4444444444444444,\"#bd3786\"],[0.5555555555555556,\"#d8576b\"],[0.6666666666666666,\"#ed7953\"],[0.7777777777777778,\"#fb9f3a\"],[0.8888888888888888,\"#fdca26\"],[1.0,\"#f0f921\"]],\"type\":\"surface\"}],\"table\":[{\"cells\":{\"fill\":{\"color\":\"#EBF0F8\"},\"line\":{\"color\":\"white\"}},\"header\":{\"fill\":{\"color\":\"#C8D4E3\"},\"line\":{\"color\":\"white\"}},\"type\":\"table\"}]},\"layout\":{\"annotationdefaults\":{\"arrowcolor\":\"#2a3f5f\",\"arrowhead\":0,\"arrowwidth\":1},\"autotypenumbers\":\"strict\",\"coloraxis\":{\"colorbar\":{\"outlinewidth\":0,\"ticks\":\"\"}},\"colorscale\":{\"diverging\":[[0,\"#8e0152\"],[0.1,\"#c51b7d\"],[0.2,\"#de77ae\"],[0.3,\"#f1b6da\"],[0.4,\"#fde0ef\"],[0.5,\"#f7f7f7\"],[0.6,\"#e6f5d0\"],[0.7,\"#b8e186\"],[0.8,\"#7fbc41\"],[0.9,\"#4d9221\"],[1,\"#276419\"]],\"sequential\":[[0.0,\"#0d0887\"],[0.1111111111111111,\"#46039f\"],[0.2222222222222222,\"#7201a8\"],[0.3333333333333333,\"#9c179e\"],[0.4444444444444444,\"#bd3786\"],[0.5555555555555556,\"#d8576b\"],[0.6666666666666666,\"#ed7953\"],[0.7777777777777778,\"#fb9f3a\"],[0.8888888888888888,\"#fdca26\"],[1.0,\"#f0f921\"]],\"sequentialminus\":[[0.0,\"#0d0887\"],[0.1111111111111111,\"#46039f\"],[0.2222222222222222,\"#7201a8\"],[0.3333333333333333,\"#9c179e\"],[0.4444444444444444,\"#bd3786\"],[0.5555555555555556,\"#d8576b\"],[0.6666666666666666,\"#ed7953\"],[0.7777777777777778,\"#fb9f3a\"],[0.8888888888888888,\"#fdca26\"],[1.0,\"#f0f921\"]]},\"colorway\":[\"#636efa\",\"#EF553B\",\"#00cc96\",\"#ab63fa\",\"#FFA15A\",\"#19d3f3\",\"#FF6692\",\"#B6E880\",\"#FF97FF\",\"#FECB52\"],\"font\":{\"color\":\"#2a3f5f\"},\"geo\":{\"bgcolor\":\"white\",\"lakecolor\":\"white\",\"landcolor\":\"#E5ECF6\",\"showlakes\":true,\"showland\":true,\"subunitcolor\":\"white\"},\"hoverlabel\":{\"align\":\"left\"},\"hovermode\":\"closest\",\"mapbox\":{\"style\":\"light\"},\"paper_bgcolor\":\"white\",\"plot_bgcolor\":\"#E5ECF6\",\"polar\":{\"angularaxis\":{\"gridcolor\":\"white\",\"linecolor\":\"white\",\"ticks\":\"\"},\"bgcolor\":\"#E5ECF6\",\"radialaxis\":{\"gridcolor\":\"white\",\"linecolor\":\"white\",\"ticks\":\"\"}},\"scene\":{\"xaxis\":{\"backgroundcolor\":\"#E5ECF6\",\"gridcolor\":\"white\",\"gridwidth\":2,\"linecolor\":\"white\",\"showbackground\":true,\"ticks\":\"\",\"zerolinecolor\":\"white\"},\"yaxis\":{\"backgroundcolor\":\"#E5ECF6\",\"gridcolor\":\"white\",\"gridwidth\":2,\"linecolor\":\"white\",\"showbackground\":true,\"ticks\":\"\",\"zerolinecolor\":\"white\"},\"zaxis\":{\"backgroundcolor\":\"#E5ECF6\",\"gridcolor\":\"white\",\"gridwidth\":2,\"linecolor\":\"white\",\"showbackground\":true,\"ticks\":\"\",\"zerolinecolor\":\"white\"}},\"shapedefaults\":{\"line\":{\"color\":\"#2a3f5f\"}},\"ternary\":{\"aaxis\":{\"gridcolor\":\"white\",\"linecolor\":\"white\",\"ticks\":\"\"},\"baxis\":{\"gridcolor\":\"white\",\"linecolor\":\"white\",\"ticks\":\"\"},\"bgcolor\":\"#E5ECF6\",\"caxis\":{\"gridcolor\":\"white\",\"linecolor\":\"white\",\"ticks\":\"\"}},\"title\":{\"x\":0.05},\"xaxis\":{\"automargin\":true,\"gridcolor\":\"white\",\"linecolor\":\"white\",\"ticks\":\"\",\"title\":{\"standoff\":15},\"zerolinecolor\":\"white\",\"zerolinewidth\":2},\"yaxis\":{\"automargin\":true,\"gridcolor\":\"white\",\"linecolor\":\"white\",\"ticks\":\"\",\"title\":{\"standoff\":15},\"zerolinecolor\":\"white\",\"zerolinewidth\":2}}},\"legend\":{\"tracegroupgap\":0},\"title\":{\"text\":\"Cart Abandonment Rate for category\"}},                        {\"responsive\": true}                    ).then(function(){\n",
              "                            \n",
              "var gd = document.getElementById('e2c5291c-f73d-4f74-8fd1-bf5b7b8e58da');\n",
              "var x = new MutationObserver(function (mutations, observer) {{\n",
              "        var display = window.getComputedStyle(gd).display;\n",
              "        if (!display || display === 'none') {{\n",
              "            console.log([gd, 'removed!']);\n",
              "            Plotly.purge(gd);\n",
              "            observer.disconnect();\n",
              "        }}\n",
              "}});\n",
              "\n",
              "// Listen for the removal of the full notebook cells\n",
              "var notebookContainer = gd.closest('#notebook-container');\n",
              "if (notebookContainer) {{\n",
              "    x.observe(notebookContainer, {childList: true});\n",
              "}}\n",
              "\n",
              "// Listen for the clearing of the current output cell\n",
              "var outputEl = gd.closest('.output');\n",
              "if (outputEl) {{\n",
              "    x.observe(outputEl, {childList: true});\n",
              "}}\n",
              "\n",
              "                        })                };                            </script>        </div>\n",
              "</body>\n",
              "</html>"
            ]
          },
          "metadata": {},
          "output_type": "display_data"
        }
      ],
      "source": [
        "category = [val.category for val in df_cart_miss_rate.select('category').collect()]\n",
        "cart_miss_rate_list = [val.cart_miss_rate for val in df_cart_miss_rate.select('cart_miss_rate').collect()]\n",
        "\n",
        "d = {'category':category, 'cart_miss_rate': cart_miss_rate_list}\n",
        "fig = px.pie(d, values='cart_miss_rate', names='category', title=\"Cart Abandonment Rate for category\")\n",
        "fig.show()"
      ]
    },
    {
      "cell_type": "markdown",
      "metadata": {
        "id": "5wWRTFox-r83"
      },
      "source": [
        "Analysis: We can see that X category had the most cart abandonment rate with X%"
      ]
    },
    {
      "cell_type": "markdown",
      "metadata": {
        "id": "TKS0wIAy-n6R"
      },
      "source": [
        "### CAR by Brands"
      ]
    },
    {
      "cell_type": "code",
      "execution_count": null,
      "metadata": {
        "colab": {
          "base_uri": "https://localhost:8080/"
        },
        "id": "5IZEhnH3QTay",
        "outputId": "4187b8ba-4ba4-4694-fda9-2bfd759976d2"
      },
      "outputs": [
        {
          "name": "stdout",
          "output_type": "stream",
          "text": [
            "+--------+----------+--------------+\n",
            "|   brand|cart_count|purchase_count|\n",
            "+--------+----------+--------------+\n",
            "| philips|       835|           426|\n",
            "|takamine|         1|             6|\n",
            "|   olmio|         4|           145|\n",
            "|   epson|        89|            33|\n",
            "|   texet|       592|           554|\n",
            "+--------+----------+--------------+\n",
            "only showing top 5 rows\n",
            "\n"
          ]
        }
      ],
      "source": [
        "# distinct brands in cart\n",
        "\n",
        "df_only_cart_brand_dis = df_only_cart.filter(\"category=='electronics'\").groupBy(\"brand\").count()\n",
        "df_only_cart_brand_dis = df_only_cart_brand_dis.withColumnRenamed(\"count\", \"cart_count\")\n",
        "\n",
        "# distinct brands in purchase\n",
        "df_only_purchase_brand_dis = df_only_purchase.filter(\"category=='electronics'\").groupBy(\"brand\").count()\n",
        "df_only_purchase_brand_dis = df_only_purchase_brand_dis.withColumnRenamed(\"count\", \"purchase_count\")\n",
        "\n",
        "#Performing a left join\n",
        "cart_purchase_brand = df_only_cart_brand_dis.alias(\"cart_cat\").join(df_only_purchase_brand_dis.alias(\"purchase_cat\"),\n",
        "                                                            df_only_cart_brand_dis[\"brand\"]==df_only_purchase_brand_dis[\"brand\"]).select(\"cart_cat.brand\", \"cart_cat.cart_count\", \"purchase_cat.purchase_count\")\n",
        "if output_show:\n",
        "  cart_purchase_brand.show(5)\n"
      ]
    },
    {
      "cell_type": "code",
      "execution_count": null,
      "metadata": {
        "colab": {
          "base_uri": "https://localhost:8080/",
          "height": 206
        },
        "id": "vAllhEzzRYEL",
        "outputId": "598f49c0-8e8e-44db-ca3f-9ac6bfadc0b9"
      },
      "outputs": [
        {
          "data": {
            "text/html": [
              "\n",
              "  <div id=\"df-f7f6874e-3f2e-48e0-adb1-a5d3b0830edd\">\n",
              "    <div class=\"colab-df-container\">\n",
              "      <div>\n",
              "<style scoped>\n",
              "    .dataframe tbody tr th:only-of-type {\n",
              "        vertical-align: middle;\n",
              "    }\n",
              "\n",
              "    .dataframe tbody tr th {\n",
              "        vertical-align: top;\n",
              "    }\n",
              "\n",
              "    .dataframe thead th {\n",
              "        text-align: right;\n",
              "    }\n",
              "</style>\n",
              "<table border=\"1\" class=\"dataframe\">\n",
              "  <thead>\n",
              "    <tr style=\"text-align: right;\">\n",
              "      <th></th>\n",
              "      <th>brand</th>\n",
              "      <th>cart_count</th>\n",
              "      <th>purchase_count</th>\n",
              "      <th>cart_miss_rate_brand</th>\n",
              "    </tr>\n",
              "  </thead>\n",
              "  <tbody>\n",
              "    <tr>\n",
              "      <th>0</th>\n",
              "      <td>oppo</td>\n",
              "      <td>20547</td>\n",
              "      <td>10891</td>\n",
              "      <td>46.994694</td>\n",
              "    </tr>\n",
              "    <tr>\n",
              "      <th>1</th>\n",
              "      <td>huawei</td>\n",
              "      <td>41683</td>\n",
              "      <td>23220</td>\n",
              "      <td>44.293839</td>\n",
              "    </tr>\n",
              "    <tr>\n",
              "      <th>2</th>\n",
              "      <td>xiaomi</td>\n",
              "      <td>79299</td>\n",
              "      <td>44767</td>\n",
              "      <td>43.546577</td>\n",
              "    </tr>\n",
              "    <tr>\n",
              "      <th>3</th>\n",
              "      <td>samsung</td>\n",
              "      <td>281410</td>\n",
              "      <td>159621</td>\n",
              "      <td>43.278133</td>\n",
              "    </tr>\n",
              "    <tr>\n",
              "      <th>4</th>\n",
              "      <td>apple</td>\n",
              "      <td>207504</td>\n",
              "      <td>141394</td>\n",
              "      <td>31.859627</td>\n",
              "    </tr>\n",
              "  </tbody>\n",
              "</table>\n",
              "</div>\n",
              "      <button class=\"colab-df-convert\" onclick=\"convertToInteractive('df-f7f6874e-3f2e-48e0-adb1-a5d3b0830edd')\"\n",
              "              title=\"Convert this dataframe to an interactive table.\"\n",
              "              style=\"display:none;\">\n",
              "        \n",
              "  <svg xmlns=\"http://www.w3.org/2000/svg\" height=\"24px\"viewBox=\"0 0 24 24\"\n",
              "       width=\"24px\">\n",
              "    <path d=\"M0 0h24v24H0V0z\" fill=\"none\"/>\n",
              "    <path d=\"M18.56 5.44l.94 2.06.94-2.06 2.06-.94-2.06-.94-.94-2.06-.94 2.06-2.06.94zm-11 1L8.5 8.5l.94-2.06 2.06-.94-2.06-.94L8.5 2.5l-.94 2.06-2.06.94zm10 10l.94 2.06.94-2.06 2.06-.94-2.06-.94-.94-2.06-.94 2.06-2.06.94z\"/><path d=\"M17.41 7.96l-1.37-1.37c-.4-.4-.92-.59-1.43-.59-.52 0-1.04.2-1.43.59L10.3 9.45l-7.72 7.72c-.78.78-.78 2.05 0 2.83L4 21.41c.39.39.9.59 1.41.59.51 0 1.02-.2 1.41-.59l7.78-7.78 2.81-2.81c.8-.78.8-2.07 0-2.86zM5.41 20L4 18.59l7.72-7.72 1.47 1.35L5.41 20z\"/>\n",
              "  </svg>\n",
              "      </button>\n",
              "      \n",
              "  <style>\n",
              "    .colab-df-container {\n",
              "      display:flex;\n",
              "      flex-wrap:wrap;\n",
              "      gap: 12px;\n",
              "    }\n",
              "\n",
              "    .colab-df-convert {\n",
              "      background-color: #E8F0FE;\n",
              "      border: none;\n",
              "      border-radius: 50%;\n",
              "      cursor: pointer;\n",
              "      display: none;\n",
              "      fill: #1967D2;\n",
              "      height: 32px;\n",
              "      padding: 0 0 0 0;\n",
              "      width: 32px;\n",
              "    }\n",
              "\n",
              "    .colab-df-convert:hover {\n",
              "      background-color: #E2EBFA;\n",
              "      box-shadow: 0px 1px 2px rgba(60, 64, 67, 0.3), 0px 1px 3px 1px rgba(60, 64, 67, 0.15);\n",
              "      fill: #174EA6;\n",
              "    }\n",
              "\n",
              "    [theme=dark] .colab-df-convert {\n",
              "      background-color: #3B4455;\n",
              "      fill: #D2E3FC;\n",
              "    }\n",
              "\n",
              "    [theme=dark] .colab-df-convert:hover {\n",
              "      background-color: #434B5C;\n",
              "      box-shadow: 0px 1px 3px 1px rgba(0, 0, 0, 0.15);\n",
              "      filter: drop-shadow(0px 1px 2px rgba(0, 0, 0, 0.3));\n",
              "      fill: #FFFFFF;\n",
              "    }\n",
              "  </style>\n",
              "\n",
              "      <script>\n",
              "        const buttonEl =\n",
              "          document.querySelector('#df-f7f6874e-3f2e-48e0-adb1-a5d3b0830edd button.colab-df-convert');\n",
              "        buttonEl.style.display =\n",
              "          google.colab.kernel.accessAllowed ? 'block' : 'none';\n",
              "\n",
              "        async function convertToInteractive(key) {\n",
              "          const element = document.querySelector('#df-f7f6874e-3f2e-48e0-adb1-a5d3b0830edd');\n",
              "          const dataTable =\n",
              "            await google.colab.kernel.invokeFunction('convertToInteractive',\n",
              "                                                     [key], {});\n",
              "          if (!dataTable) return;\n",
              "\n",
              "          const docLinkHtml = 'Like what you see? Visit the ' +\n",
              "            '<a target=\"_blank\" href=https://colab.research.google.com/notebooks/data_table.ipynb>data table notebook</a>'\n",
              "            + ' to learn more about interactive tables.';\n",
              "          element.innerHTML = '';\n",
              "          dataTable['output_type'] = 'display_data';\n",
              "          await google.colab.output.renderOutput(dataTable, element);\n",
              "          const docLink = document.createElement('div');\n",
              "          docLink.innerHTML = docLinkHtml;\n",
              "          element.appendChild(docLink);\n",
              "        }\n",
              "      </script>\n",
              "    </div>\n",
              "  </div>\n",
              "  "
            ],
            "text/plain": [
              "     brand  cart_count  purchase_count  cart_miss_rate_brand\n",
              "0     oppo       20547           10891             46.994694\n",
              "1   huawei       41683           23220             44.293839\n",
              "2   xiaomi       79299           44767             43.546577\n",
              "3  samsung      281410          159621             43.278133\n",
              "4    apple      207504          141394             31.859627"
            ]
          },
          "execution_count": 51,
          "metadata": {},
          "output_type": "execute_result"
        }
      ],
      "source": [
        "df_cart_miss_rate_brand = cart_purchase_brand.select(\"*\", cart_miss_rate_udf(\"cart_count\", \"purchase_count\"))\n",
        "df_cart_miss_rate_brand = df_cart_miss_rate_brand.withColumnRenamed(\"cart_miss_rate_udf(cart_count, purchase_count)\", \"cart_miss_rate_brand\")\n",
        "df_cart_miss_rate_brand = df_cart_miss_rate_brand.filter(\"cart_miss_rate_brand>0\")\n",
        "df_cart_miss_rate_brand = df_cart_miss_rate_brand.filter(\"cart_count>5000\")\n",
        "df_cart_miss_rate_brand = df_cart_miss_rate_brand.orderBy(desc(\"cart_miss_rate_brand\")).limit(10)\n",
        "df_cart_miss_rate_brand.toPandas()"
      ]
    },
    {
      "cell_type": "code",
      "execution_count": null,
      "metadata": {
        "colab": {
          "base_uri": "https://localhost:8080/",
          "height": 542
        },
        "id": "NzeGpSR8Zd2Q",
        "outputId": "c5a04b15-c0e1-4749-b327-c3b6f99aa53f"
      },
      "outputs": [
        {
          "data": {
            "text/html": [
              "<html>\n",
              "<head><meta charset=\"utf-8\" /></head>\n",
              "<body>\n",
              "    <div>            <script src=\"https://cdnjs.cloudflare.com/ajax/libs/mathjax/2.7.5/MathJax.js?config=TeX-AMS-MML_SVG\"></script><script type=\"text/javascript\">if (window.MathJax) {MathJax.Hub.Config({SVG: {font: \"STIX-Web\"}});}</script>                <script type=\"text/javascript\">window.PlotlyConfig = {MathJaxConfig: 'local'};</script>\n",
              "        <script src=\"https://cdn.plot.ly/plotly-2.8.3.min.js\"></script>                <div id=\"6084924d-3818-4cba-917e-863f1bba6fac\" class=\"plotly-graph-div\" style=\"height:525px; width:100%;\"></div>            <script type=\"text/javascript\">                                    window.PLOTLYENV=window.PLOTLYENV || {};                                    if (document.getElementById(\"6084924d-3818-4cba-917e-863f1bba6fac\")) {                    Plotly.newPlot(                        \"6084924d-3818-4cba-917e-863f1bba6fac\",                        [{\"domain\":{\"x\":[0.0,1.0],\"y\":[0.0,1.0]},\"hovertemplate\":\"brand=%{label}<br>cart_miss_rate=%{value}<extra></extra>\",\"labels\":[\"oppo\",\"huawei\",\"xiaomi\",\"samsung\",\"apple\"],\"legendgroup\":\"\",\"name\":\"\",\"showlegend\":true,\"values\":[46.994693756103516,44.29383850097656,43.54657745361328,43.278133392333984,31.85962677001953],\"type\":\"pie\"}],                        {\"template\":{\"data\":{\"bar\":[{\"error_x\":{\"color\":\"#2a3f5f\"},\"error_y\":{\"color\":\"#2a3f5f\"},\"marker\":{\"line\":{\"color\":\"#E5ECF6\",\"width\":0.5},\"pattern\":{\"fillmode\":\"overlay\",\"size\":10,\"solidity\":0.2}},\"type\":\"bar\"}],\"barpolar\":[{\"marker\":{\"line\":{\"color\":\"#E5ECF6\",\"width\":0.5},\"pattern\":{\"fillmode\":\"overlay\",\"size\":10,\"solidity\":0.2}},\"type\":\"barpolar\"}],\"carpet\":[{\"aaxis\":{\"endlinecolor\":\"#2a3f5f\",\"gridcolor\":\"white\",\"linecolor\":\"white\",\"minorgridcolor\":\"white\",\"startlinecolor\":\"#2a3f5f\"},\"baxis\":{\"endlinecolor\":\"#2a3f5f\",\"gridcolor\":\"white\",\"linecolor\":\"white\",\"minorgridcolor\":\"white\",\"startlinecolor\":\"#2a3f5f\"},\"type\":\"carpet\"}],\"choropleth\":[{\"colorbar\":{\"outlinewidth\":0,\"ticks\":\"\"},\"type\":\"choropleth\"}],\"contour\":[{\"colorbar\":{\"outlinewidth\":0,\"ticks\":\"\"},\"colorscale\":[[0.0,\"#0d0887\"],[0.1111111111111111,\"#46039f\"],[0.2222222222222222,\"#7201a8\"],[0.3333333333333333,\"#9c179e\"],[0.4444444444444444,\"#bd3786\"],[0.5555555555555556,\"#d8576b\"],[0.6666666666666666,\"#ed7953\"],[0.7777777777777778,\"#fb9f3a\"],[0.8888888888888888,\"#fdca26\"],[1.0,\"#f0f921\"]],\"type\":\"contour\"}],\"contourcarpet\":[{\"colorbar\":{\"outlinewidth\":0,\"ticks\":\"\"},\"type\":\"contourcarpet\"}],\"heatmap\":[{\"colorbar\":{\"outlinewidth\":0,\"ticks\":\"\"},\"colorscale\":[[0.0,\"#0d0887\"],[0.1111111111111111,\"#46039f\"],[0.2222222222222222,\"#7201a8\"],[0.3333333333333333,\"#9c179e\"],[0.4444444444444444,\"#bd3786\"],[0.5555555555555556,\"#d8576b\"],[0.6666666666666666,\"#ed7953\"],[0.7777777777777778,\"#fb9f3a\"],[0.8888888888888888,\"#fdca26\"],[1.0,\"#f0f921\"]],\"type\":\"heatmap\"}],\"heatmapgl\":[{\"colorbar\":{\"outlinewidth\":0,\"ticks\":\"\"},\"colorscale\":[[0.0,\"#0d0887\"],[0.1111111111111111,\"#46039f\"],[0.2222222222222222,\"#7201a8\"],[0.3333333333333333,\"#9c179e\"],[0.4444444444444444,\"#bd3786\"],[0.5555555555555556,\"#d8576b\"],[0.6666666666666666,\"#ed7953\"],[0.7777777777777778,\"#fb9f3a\"],[0.8888888888888888,\"#fdca26\"],[1.0,\"#f0f921\"]],\"type\":\"heatmapgl\"}],\"histogram\":[{\"marker\":{\"pattern\":{\"fillmode\":\"overlay\",\"size\":10,\"solidity\":0.2}},\"type\":\"histogram\"}],\"histogram2d\":[{\"colorbar\":{\"outlinewidth\":0,\"ticks\":\"\"},\"colorscale\":[[0.0,\"#0d0887\"],[0.1111111111111111,\"#46039f\"],[0.2222222222222222,\"#7201a8\"],[0.3333333333333333,\"#9c179e\"],[0.4444444444444444,\"#bd3786\"],[0.5555555555555556,\"#d8576b\"],[0.6666666666666666,\"#ed7953\"],[0.7777777777777778,\"#fb9f3a\"],[0.8888888888888888,\"#fdca26\"],[1.0,\"#f0f921\"]],\"type\":\"histogram2d\"}],\"histogram2dcontour\":[{\"colorbar\":{\"outlinewidth\":0,\"ticks\":\"\"},\"colorscale\":[[0.0,\"#0d0887\"],[0.1111111111111111,\"#46039f\"],[0.2222222222222222,\"#7201a8\"],[0.3333333333333333,\"#9c179e\"],[0.4444444444444444,\"#bd3786\"],[0.5555555555555556,\"#d8576b\"],[0.6666666666666666,\"#ed7953\"],[0.7777777777777778,\"#fb9f3a\"],[0.8888888888888888,\"#fdca26\"],[1.0,\"#f0f921\"]],\"type\":\"histogram2dcontour\"}],\"mesh3d\":[{\"colorbar\":{\"outlinewidth\":0,\"ticks\":\"\"},\"type\":\"mesh3d\"}],\"parcoords\":[{\"line\":{\"colorbar\":{\"outlinewidth\":0,\"ticks\":\"\"}},\"type\":\"parcoords\"}],\"pie\":[{\"automargin\":true,\"type\":\"pie\"}],\"scatter\":[{\"marker\":{\"colorbar\":{\"outlinewidth\":0,\"ticks\":\"\"}},\"type\":\"scatter\"}],\"scatter3d\":[{\"line\":{\"colorbar\":{\"outlinewidth\":0,\"ticks\":\"\"}},\"marker\":{\"colorbar\":{\"outlinewidth\":0,\"ticks\":\"\"}},\"type\":\"scatter3d\"}],\"scattercarpet\":[{\"marker\":{\"colorbar\":{\"outlinewidth\":0,\"ticks\":\"\"}},\"type\":\"scattercarpet\"}],\"scattergeo\":[{\"marker\":{\"colorbar\":{\"outlinewidth\":0,\"ticks\":\"\"}},\"type\":\"scattergeo\"}],\"scattergl\":[{\"marker\":{\"colorbar\":{\"outlinewidth\":0,\"ticks\":\"\"}},\"type\":\"scattergl\"}],\"scattermapbox\":[{\"marker\":{\"colorbar\":{\"outlinewidth\":0,\"ticks\":\"\"}},\"type\":\"scattermapbox\"}],\"scatterpolar\":[{\"marker\":{\"colorbar\":{\"outlinewidth\":0,\"ticks\":\"\"}},\"type\":\"scatterpolar\"}],\"scatterpolargl\":[{\"marker\":{\"colorbar\":{\"outlinewidth\":0,\"ticks\":\"\"}},\"type\":\"scatterpolargl\"}],\"scatterternary\":[{\"marker\":{\"colorbar\":{\"outlinewidth\":0,\"ticks\":\"\"}},\"type\":\"scatterternary\"}],\"surface\":[{\"colorbar\":{\"outlinewidth\":0,\"ticks\":\"\"},\"colorscale\":[[0.0,\"#0d0887\"],[0.1111111111111111,\"#46039f\"],[0.2222222222222222,\"#7201a8\"],[0.3333333333333333,\"#9c179e\"],[0.4444444444444444,\"#bd3786\"],[0.5555555555555556,\"#d8576b\"],[0.6666666666666666,\"#ed7953\"],[0.7777777777777778,\"#fb9f3a\"],[0.8888888888888888,\"#fdca26\"],[1.0,\"#f0f921\"]],\"type\":\"surface\"}],\"table\":[{\"cells\":{\"fill\":{\"color\":\"#EBF0F8\"},\"line\":{\"color\":\"white\"}},\"header\":{\"fill\":{\"color\":\"#C8D4E3\"},\"line\":{\"color\":\"white\"}},\"type\":\"table\"}]},\"layout\":{\"annotationdefaults\":{\"arrowcolor\":\"#2a3f5f\",\"arrowhead\":0,\"arrowwidth\":1},\"autotypenumbers\":\"strict\",\"coloraxis\":{\"colorbar\":{\"outlinewidth\":0,\"ticks\":\"\"}},\"colorscale\":{\"diverging\":[[0,\"#8e0152\"],[0.1,\"#c51b7d\"],[0.2,\"#de77ae\"],[0.3,\"#f1b6da\"],[0.4,\"#fde0ef\"],[0.5,\"#f7f7f7\"],[0.6,\"#e6f5d0\"],[0.7,\"#b8e186\"],[0.8,\"#7fbc41\"],[0.9,\"#4d9221\"],[1,\"#276419\"]],\"sequential\":[[0.0,\"#0d0887\"],[0.1111111111111111,\"#46039f\"],[0.2222222222222222,\"#7201a8\"],[0.3333333333333333,\"#9c179e\"],[0.4444444444444444,\"#bd3786\"],[0.5555555555555556,\"#d8576b\"],[0.6666666666666666,\"#ed7953\"],[0.7777777777777778,\"#fb9f3a\"],[0.8888888888888888,\"#fdca26\"],[1.0,\"#f0f921\"]],\"sequentialminus\":[[0.0,\"#0d0887\"],[0.1111111111111111,\"#46039f\"],[0.2222222222222222,\"#7201a8\"],[0.3333333333333333,\"#9c179e\"],[0.4444444444444444,\"#bd3786\"],[0.5555555555555556,\"#d8576b\"],[0.6666666666666666,\"#ed7953\"],[0.7777777777777778,\"#fb9f3a\"],[0.8888888888888888,\"#fdca26\"],[1.0,\"#f0f921\"]]},\"colorway\":[\"#636efa\",\"#EF553B\",\"#00cc96\",\"#ab63fa\",\"#FFA15A\",\"#19d3f3\",\"#FF6692\",\"#B6E880\",\"#FF97FF\",\"#FECB52\"],\"font\":{\"color\":\"#2a3f5f\"},\"geo\":{\"bgcolor\":\"white\",\"lakecolor\":\"white\",\"landcolor\":\"#E5ECF6\",\"showlakes\":true,\"showland\":true,\"subunitcolor\":\"white\"},\"hoverlabel\":{\"align\":\"left\"},\"hovermode\":\"closest\",\"mapbox\":{\"style\":\"light\"},\"paper_bgcolor\":\"white\",\"plot_bgcolor\":\"#E5ECF6\",\"polar\":{\"angularaxis\":{\"gridcolor\":\"white\",\"linecolor\":\"white\",\"ticks\":\"\"},\"bgcolor\":\"#E5ECF6\",\"radialaxis\":{\"gridcolor\":\"white\",\"linecolor\":\"white\",\"ticks\":\"\"}},\"scene\":{\"xaxis\":{\"backgroundcolor\":\"#E5ECF6\",\"gridcolor\":\"white\",\"gridwidth\":2,\"linecolor\":\"white\",\"showbackground\":true,\"ticks\":\"\",\"zerolinecolor\":\"white\"},\"yaxis\":{\"backgroundcolor\":\"#E5ECF6\",\"gridcolor\":\"white\",\"gridwidth\":2,\"linecolor\":\"white\",\"showbackground\":true,\"ticks\":\"\",\"zerolinecolor\":\"white\"},\"zaxis\":{\"backgroundcolor\":\"#E5ECF6\",\"gridcolor\":\"white\",\"gridwidth\":2,\"linecolor\":\"white\",\"showbackground\":true,\"ticks\":\"\",\"zerolinecolor\":\"white\"}},\"shapedefaults\":{\"line\":{\"color\":\"#2a3f5f\"}},\"ternary\":{\"aaxis\":{\"gridcolor\":\"white\",\"linecolor\":\"white\",\"ticks\":\"\"},\"baxis\":{\"gridcolor\":\"white\",\"linecolor\":\"white\",\"ticks\":\"\"},\"bgcolor\":\"#E5ECF6\",\"caxis\":{\"gridcolor\":\"white\",\"linecolor\":\"white\",\"ticks\":\"\"}},\"title\":{\"x\":0.05},\"xaxis\":{\"automargin\":true,\"gridcolor\":\"white\",\"linecolor\":\"white\",\"ticks\":\"\",\"title\":{\"standoff\":15},\"zerolinecolor\":\"white\",\"zerolinewidth\":2},\"yaxis\":{\"automargin\":true,\"gridcolor\":\"white\",\"linecolor\":\"white\",\"ticks\":\"\",\"title\":{\"standoff\":15},\"zerolinecolor\":\"white\",\"zerolinewidth\":2}}},\"legend\":{\"tracegroupgap\":0},\"title\":{\"text\":\"Cart Abandonment Rate for brands\"}},                        {\"responsive\": true}                    ).then(function(){\n",
              "                            \n",
              "var gd = document.getElementById('6084924d-3818-4cba-917e-863f1bba6fac');\n",
              "var x = new MutationObserver(function (mutations, observer) {{\n",
              "        var display = window.getComputedStyle(gd).display;\n",
              "        if (!display || display === 'none') {{\n",
              "            console.log([gd, 'removed!']);\n",
              "            Plotly.purge(gd);\n",
              "            observer.disconnect();\n",
              "        }}\n",
              "}});\n",
              "\n",
              "// Listen for the removal of the full notebook cells\n",
              "var notebookContainer = gd.closest('#notebook-container');\n",
              "if (notebookContainer) {{\n",
              "    x.observe(notebookContainer, {childList: true});\n",
              "}}\n",
              "\n",
              "// Listen for the clearing of the current output cell\n",
              "var outputEl = gd.closest('.output');\n",
              "if (outputEl) {{\n",
              "    x.observe(outputEl, {childList: true});\n",
              "}}\n",
              "\n",
              "                        })                };                            </script>        </div>\n",
              "</body>\n",
              "</html>"
            ]
          },
          "metadata": {},
          "output_type": "display_data"
        }
      ],
      "source": [
        "brand = [val.brand for val in df_cart_miss_rate_brand.select('brand').collect()]\n",
        "cart_miss_rate_brand_list = [val.cart_miss_rate_brand for val in df_cart_miss_rate_brand.select('cart_miss_rate_brand').collect()]\n",
        "\n",
        "d = {'brand':brand, 'cart_miss_rate': cart_miss_rate_brand_list}\n",
        "fig = px.pie(d, values='cart_miss_rate', names='brand', title=\"Cart Abandonment Rate for brands\")\n",
        "#fig.update_traces(textinfo='value')\n",
        "fig.show()"
      ]
    },
    {
      "cell_type": "markdown",
      "metadata": {
        "id": "UgJqAaxJRlkA"
      },
      "source": [
        "Analysis: Show brands with highest abandonment rate. Business users need to talk to brand people to work on their campaign."
      ]
    },
    {
      "cell_type": "markdown",
      "metadata": {
        "id": "2HsOlBl-BXZI"
      },
      "source": [
        "# Part 3: Effect of day-time on purchase trends"
      ]
    },
    {
      "cell_type": "markdown",
      "metadata": {
        "id": "Kd8gIIKbCHe8"
      },
      "source": [
        "## Purchase trends across the month"
      ]
    },
    {
      "cell_type": "code",
      "execution_count": null,
      "metadata": {
        "id": "YC0t8xJoBnSY"
      },
      "outputs": [],
      "source": [
        "df_view = df[df['event_type'] == \"view\"]\n",
        "df_purchase = df[df['event_type'] == \"purchase\"]\n",
        "df_cart = df[df['event_type'] == \"cart\"]"
      ]
    },
    {
      "cell_type": "code",
      "execution_count": null,
      "metadata": {
        "id": "yY5jjerGBzBz"
      },
      "outputs": [],
      "source": [
        "df_purchase_date_count = df_purchase.groupby(\"Day\").count()"
      ]
    },
    {
      "cell_type": "code",
      "execution_count": null,
      "metadata": {
        "colab": {
          "base_uri": "https://localhost:8080/",
          "height": 513
        },
        "id": "O-BrLxURB3er",
        "outputId": "6ccf6736-a47d-4e17-9bdd-bda7cf4b45d6"
      },
      "outputs": [
        {
          "data": {
            "image/png": "[encoded data removed]",
            "text/plain": [
              "<Figure size 1440x576 with 1 Axes>"
            ]
          },
          "metadata": {},
          "output_type": "display_data"
        }
      ],
      "source": [
        "import pandas as pd\n",
        "import matplotlib.pyplot as plt\n",
        "\n",
        "count = [val[0] for val in df_purchase_date_count.select('count').collect()]\n",
        "date = [val.Day for val in df_purchase_date_count.select('Day').collect()]\n",
        "\n",
        "plt.figure(figsize=(20, 8))\n",
        "plt.bar(date, count)\n",
        "\n",
        "plt.ylabel('Purchase Count')\n",
        "plt.xlabel('Date')\n",
        "plt.title('Purchase Trends across the Month')\n",
        "plt.legend(['purchase'], loc='upper right')\n",
        "\n",
        "plt.show()"
      ]
    },
    {
      "cell_type": "markdown",
      "metadata": {
        "id": "XN0jxMYaCA-F"
      },
      "source": [
        "Analysis: User's buying interest is gradually increasing in the middle of the month until day 16, therefore, to increase the sales we can offer mid-month sale/discount from day 11 until 16"
      ]
    },
    {
      "cell_type": "markdown",
      "metadata": {
        "id": "X5otrmQPCMRB"
      },
      "source": [
        "## E-Commerce Prime Time"
      ]
    },
    {
      "cell_type": "code",
      "execution_count": null,
      "metadata": {
        "id": "O6TgGoSaCSz9"
      },
      "outputs": [],
      "source": [
        "df_view_hour_count = df_view.groupby(\"Hour\").count().withColumnRenamed(\"count\",\"view_count\")\n",
        "df_cart_hour_count = df_cart.groupby(\"Hour\").count().withColumnRenamed(\"count\",\"cart_count\")\n",
        "df_purchase_hour_count = df_purchase.groupby(\"Hour\").count().withColumnRenamed(\"count\",\"purchase_count\")"
      ]
    },
    {
      "cell_type": "code",
      "execution_count": null,
      "metadata": {
        "id": "I6j_nfQSCVXL"
      },
      "outputs": [],
      "source": [
        "df_combined_type_hour = df_view_hour_count.join(df_cart_hour_count, [\"Hour\"],\"left\")\n",
        "df_combined_type_hour = df_combined_type_hour.join(df_purchase_hour_count, [\"Hour\"], \"left\")\n",
        "df_combined_type_hour = df_combined_type_hour.na.fill(value=0).orderBy('Hour')"
      ]
    },
    {
      "cell_type": "code",
      "execution_count": null,
      "metadata": {
        "id": "SikJpmRUCYvc"
      },
      "outputs": [],
      "source": [
        "#purchase_count\n",
        "hour = [val.Hour for val in df_combined_type_hour.select('Hour').collect()]\n",
        "view_count = [val.view_count for val in df_combined_type_hour.select('view_count').collect()]\n",
        "cart_count = [val.cart_count for val in df_combined_type_hour.select('cart_count').collect()]\n",
        "purchase_count = [val.purchase_count for val in df_combined_type_hour.select('purchase_count').collect()]"
      ]
    },
    {
      "cell_type": "code",
      "execution_count": null,
      "metadata": {
        "colab": {
          "base_uri": "https://localhost:8080/",
          "height": 513
        },
        "id": "6pEqaRD_Cbh5",
        "outputId": "7e86be4f-c683-45a8-8acb-a36dddb63bf4"
      },
      "outputs": [
        {
          "data": {
            "image/png": "[encoded data removed]",
            "text/plain": [
              "<Figure size 1440x576 with 1 Axes>"
            ]
          },
          "metadata": {},
          "output_type": "display_data"
        }
      ],
      "source": [
        "#Data visualization of Ecommerce Prime Time\n",
        "import pandas as pd\n",
        "import matplotlib.pyplot as plt\n",
        "\n",
        "plt.figure(figsize=(20, 8))\n",
        "plt.bar(hour, view_count, color='y')\n",
        "plt.bar(hour, cart_count, bottom=view_count, color='r')\n",
        "plt.bar(hour, purchase_count, bottom=[view + cart for view, cart in zip(view_count, cart_count)], color='g')\n",
        "plt.xlabel(\"Hour\")\n",
        "plt.ylabel(\"Count\")\n",
        "plt.legend([\"View\", \"Cart\", \"Purchase\"])\n",
        "plt.title(\"Ecommerce Prime Time\")\n",
        "plt.show()"
      ]
    },
    {
      "cell_type": "markdown",
      "metadata": {
        "id": "ufnlrpOICsrD"
      },
      "source": [
        "Analysis: We can see from the graph that X number of users have already accessed our Ecommerce at 3:00 In the morning, it is increasing significantly in the afternoon and reached peak time at 16:00. Hence, a flash sale from 13:00 until 16:00 will help in increasing the impulsivity of the user for buying items"
      ]
    },
    {
      "cell_type": "markdown",
      "metadata": {
        "id": "fwfHQUv3Ldj1"
      },
      "source": [
        "#Part 4: Predict whether the product added to cart is actually purchased?\n",
        "\n"
      ]
    },
    {
      "cell_type": "markdown",
      "metadata": {
        "id": "3ewOAQ9uDwTj"
      },
      "source": [
        "## Data Processing"
      ]
    },
    {
      "cell_type": "code",
      "execution_count": null,
      "metadata": {
        "colab": {
          "base_uri": "https://localhost:8080/",
          "height": 114
        },
        "id": "PdOfX4NPzwUl",
        "outputId": "fafa05f5-47d7-4a7a-c37d-fb0af0c15ebc"
      },
      "outputs": [
        {
          "data": {
            "text/html": [
              "<table border='1'>\n",
              "<tr><th>event_type</th><th>count</th></tr>\n",
              "<tr><td>purchase</td><td>742849</td></tr>\n",
              "<tr><td>view</td><td>40779399</td></tr>\n",
              "<tr><td>cart</td><td>926516</td></tr>\n",
              "</table>\n"
            ],
            "text/plain": [
              "+----------+--------+\n",
              "|event_type|   count|\n",
              "+----------+--------+\n",
              "|  purchase|  742849|\n",
              "|      view|40779399|\n",
              "|      cart|  926516|\n",
              "+----------+--------+"
            ]
          },
          "execution_count": 60,
          "metadata": {},
          "output_type": "execute_result"
        }
      ],
      "source": [
        "df.groupBy(\"event_type\").count()"
      ]
    },
    {
      "cell_type": "code",
      "execution_count": null,
      "metadata": {
        "colab": {
          "base_uri": "https://localhost:8080/",
          "height": 91
        },
        "id": "IPcuq5HoytZ6",
        "outputId": "10fc2d32-bbd3-49f9-b996-58d6b08ca409"
      },
      "outputs": [
        {
          "data": {
            "text/html": [
              "<table border='1'>\n",
              "<tr><th>event_type</th><th>count</th></tr>\n",
              "<tr><td>purchase</td><td>690618</td></tr>\n",
              "<tr><td>cart</td><td>628955</td></tr>\n",
              "</table>\n"
            ],
            "text/plain": [
              "+----------+------+\n",
              "|event_type| count|\n",
              "+----------+------+\n",
              "|  purchase|690618|\n",
              "|      cart|628955|\n",
              "+----------+------+"
            ]
          },
          "execution_count": 61,
          "metadata": {},
          "output_type": "execute_result"
        }
      ],
      "source": [
        "#Unique number of people who have added products to the cart or purchase\n",
        "cart_purchase_users = df.filter(\"event_type == 'cart' OR event_type == 'purchase' \")\n",
        "distinct_cart_purchase = cart_purchase_users.drop_duplicates(subset=['event_type', 'product_id','price', 'user_id','user_session'])\n",
        "distinct_cart_purchase.groupby(\"event_type\").count()"
      ]
    },
    {
      "cell_type": "code",
      "execution_count": null,
      "metadata": {
        "colab": {
          "base_uri": "https://localhost:8080/",
          "height": 114
        },
        "id": "8DYkOXayeiAb",
        "outputId": "204161e3-6882-494b-a0df-f08bc63d7113"
      },
      "outputs": [
        {
          "data": {
            "text/html": [
              "<table border='1'>\n",
              "<tr><th>event_type</th><th>count</th></tr>\n",
              "<tr><td>purchase</td><td>10733318</td></tr>\n",
              "<tr><td>view</td><td>100913032</td></tr>\n",
              "<tr><td>cart</td><td>12799325</td></tr>\n",
              "</table>\n"
            ],
            "text/plain": [
              "+----------+---------+\n",
              "|event_type|    count|\n",
              "+----------+---------+\n",
              "|  purchase| 10733318|\n",
              "|      view|100913032|\n",
              "|      cart| 12799325|\n",
              "+----------+---------+"
            ]
          },
          "execution_count": 62,
          "metadata": {},
          "output_type": "execute_result"
        }
      ],
      "source": [
        "#All user activity for adding product to cart or purchased\n",
        "columns_ = df.columns\n",
        "cart_purchase_users_all_activity = df.alias(\"d\").join(cart_purchase_users.alias(\"c\"), df[\"user_id\"]==cart_purchase_users[\"user_id\"]).select(\"d.user_id\", \"d.event_time\", \"d.event_type\", \"d.product_id\", \"d.category_id\", \"d.brand\", \"d.price\", \"d.user_session\", \"d.category\", \"d.product\")\n",
        "cart_purchase_users_all_activity.groupBy(\"event_type\").count()"
      ]
    },
    {
      "cell_type": "markdown",
      "metadata": {
        "id": "CsyGCfFZEfnl"
      },
      "source": [
        "## High Value Customers"
      ]
    },
    {
      "cell_type": "code",
      "execution_count": null,
      "metadata": {
        "colab": {
          "base_uri": "https://localhost:8080/"
        },
        "id": "909KEA-bOkXu",
        "outputId": "9ef3b40e-2e7a-48d0-8331-dd79c0b600f5"
      },
      "outputs": [
        {
          "name": "stdout",
          "output_type": "stream",
          "text": [
            "+--------------------+-----+\n",
            "|        user_session|count|\n",
            "+--------------------+-----+\n",
            "|ec82d195-6607-47a...|    7|\n",
            "|f6dd0b68-7280-495...|    4|\n",
            "|62b9a2b1-c85b-441...|  100|\n",
            "|bf56200c-93bc-4f0...|    8|\n",
            "|6a996a01-2154-482...|    1|\n",
            "+--------------------+-----+\n",
            "only showing top 5 rows\n",
            "\n"
          ]
        }
      ],
      "source": [
        "activity_in_session = cart_purchase_users_all_activity.groupby(['user_session']).count()\n",
        "if output_show:\n",
        "  activity_in_session.show(5)"
      ]
    },
    {
      "cell_type": "markdown",
      "metadata": {
        "id": "44HpjIvED1T_"
      },
      "source": [
        "## Label Encoding Target Variable"
      ]
    },
    {
      "cell_type": "code",
      "execution_count": null,
      "metadata": {
        "id": "CBjOrgK40_XQ"
      },
      "outputs": [],
      "source": [
        "@udf(returnType=IntegerType())\n",
        "def is_purchased_label(purchase):\n",
        "  if purchase == \"purchase\":\n",
        "    return 1\n",
        "  return 0"
      ]
    },
    {
      "cell_type": "code",
      "execution_count": null,
      "metadata": {
        "id": "-Je53NR40S7I"
      },
      "outputs": [],
      "source": [
        "df_targets = distinct_cart_purchase.select(\"*\", is_purchased_label(\"event_type\"))\n",
        "df_targets = df_targets.withColumnRenamed(\"is_purchased_label(event_type)\",\"is_purchased\")"
      ]
    },
    {
      "cell_type": "code",
      "execution_count": null,
      "metadata": {
        "id": "hlZv4mo1IEXc"
      },
      "outputs": [],
      "source": [
        "df_targets = df_targets.join(activity_in_session, on=\"user_session\",how=\"left\")"
      ]
    },
    {
      "cell_type": "code",
      "execution_count": null,
      "metadata": {
        "id": "tycGYi80Nr5i"
      },
      "outputs": [],
      "source": [
        "from datetime import datetime\n",
        "@udf(returnType=IntegerType())\n",
        "def week(s):\n",
        "  return datetime.strptime(str(s)[0:10], \"%Y-%m-%d\").weekday()"
      ]
    },
    {
      "cell_type": "code",
      "execution_count": null,
      "metadata": {
        "id": "OQhB7WC-Iw_c"
      },
      "outputs": [],
      "source": [
        "df_targets_week = df_targets.select(\"*\", week(\"event_time\"))\n",
        "df_targets_week = df_targets_week.withColumnRenamed(\"week(event_time)\", \"week\")"
      ]
    },
    {
      "cell_type": "code",
      "execution_count": null,
      "metadata": {
        "colab": {
          "base_uri": "https://localhost:8080/"
        },
        "id": "9JUAOLzPAsh1",
        "outputId": "ed1b37fb-7d15-4a70-d6ea-4deb06f811ab"
      },
      "outputs": [
        {
          "name": "stdout",
          "output_type": "stream",
          "text": [
            "root\n",
            " |-- user_session: string (nullable = true)\n",
            " |-- event_time: string (nullable = true)\n",
            " |-- event_type: string (nullable = true)\n",
            " |-- product_id: integer (nullable = true)\n",
            " |-- category_id: long (nullable = true)\n",
            " |-- brand: string (nullable = false)\n",
            " |-- price: double (nullable = true)\n",
            " |-- user_id: integer (nullable = true)\n",
            " |-- category: string (nullable = true)\n",
            " |-- product: string (nullable = true)\n",
            " |-- Time: string (nullable = true)\n",
            " |-- Day: string (nullable = true)\n",
            " |-- Hour: string (nullable = true)\n",
            " |-- is_purchased: integer (nullable = true)\n",
            " |-- count: long (nullable = true)\n",
            " |-- week: integer (nullable = true)\n",
            "\n"
          ]
        }
      ],
      "source": [
        "df_targets_week.printSchema()"
      ]
    },
    {
      "cell_type": "code",
      "execution_count": null,
      "metadata": {
        "id": "YoPCwGcgxo9C"
      },
      "outputs": [],
      "source": [
        "df_targets_week = df_targets_week.dropDuplicates([\"user_session\"])"
      ]
    },
    {
      "cell_type": "markdown",
      "metadata": {
        "id": "y14hCfFmFCJ4"
      },
      "source": [
        "## Feature Selection"
      ]
    },
    {
      "cell_type": "code",
      "execution_count": null,
      "metadata": {
        "colab": {
          "base_uri": "https://localhost:8080/"
        },
        "id": "_6HApnSgxp6D",
        "outputId": "12beca01-56e9-4262-a80b-4b041b51b78b"
      },
      "outputs": [
        {
          "name": "stdout",
          "output_type": "stream",
          "text": [
            "root\n",
            " |-- event_type: string (nullable = true)\n",
            " |-- brand: string (nullable = false)\n",
            " |-- price: double (nullable = true)\n",
            " |-- count: long (nullable = true)\n",
            " |-- week: integer (nullable = true)\n",
            " |-- category: string (nullable = true)\n",
            " |-- product: string (nullable = true)\n",
            " |-- is_purchased: integer (nullable = true)\n",
            "\n"
          ]
        }
      ],
      "source": [
        "features = df_targets_week.select(\"event_type\", \"brand\", \"price\", \"count\",\"week\",\"category\", \"product\",\"is_purchased\")\n",
        "features.printSchema()"
      ]
    },
    {
      "cell_type": "code",
      "execution_count": null,
      "metadata": {
        "colab": {
          "base_uri": "https://localhost:8080/"
        },
        "id": "3TESqe-Lu9FM",
        "outputId": "23554d3a-a440-4b21-f386-adc779ecc199"
      },
      "outputs": [
        {
          "data": {
            "text/plain": [
              "910797"
            ]
          },
          "execution_count": 72,
          "metadata": {},
          "output_type": "execute_result"
        }
      ],
      "source": [
        "features.count()"
      ]
    },
    {
      "cell_type": "markdown",
      "metadata": {
        "id": "c4rJKXqLFJcf"
      },
      "source": [
        "## Prediction Model - SparkML"
      ]
    },
    {
      "cell_type": "code",
      "execution_count": null,
      "metadata": {
        "id": "Fie4VNXpLPFK"
      },
      "outputs": [],
      "source": [
        "from pyspark.ml.feature import StringIndexer, OneHotEncoder\n",
        "from pyspark.ml.feature import VectorAssembler\n",
        "from pyspark.ml import Pipeline\n",
        "\n",
        "categotyIdxer = StringIndexer(inputCol='category',outputCol='category_idx')\n",
        "event_typeIdxer = StringIndexer(inputCol='event_type',outputCol='event_type_idx')\n",
        "brandIdxer = StringIndexer(inputCol='brand',outputCol='brand_idx')\n",
        "productIdxer = StringIndexer(inputCol='product',outputCol='product_idx')\n",
        "labelIndexer = StringIndexer(inputCol=\"is_purchased\", outputCol=\"label\")\n",
        "\n",
        "one_hot_encoder_category = OneHotEncoder(inputCol=\"category_idx\", outputCol=\"category_vec\")\n",
        "one_hot_encoder_product = OneHotEncoder(inputCol=\"product_idx\", outputCol=\"product_vec\")\n",
        "one_hot_encoder_brand = OneHotEncoder(inputCol=\"brand_idx\", outputCol=\"brand_vec\")\n",
        "one_hot_encoder_event_type = OneHotEncoder(inputCol=\"event_type_idx\", outputCol=\"event_type_vec\")\n",
        "\n",
        "stages_indexer = [categotyIdxer,\n",
        "          event_typeIdxer,\n",
        "          brandIdxer,\n",
        "          productIdxer,\n",
        "          labelIndexer]\n",
        "stages_one_hot = [\n",
        "          one_hot_encoder_category,\n",
        "          one_hot_encoder_event_type,\n",
        "          one_hot_encoder_brand,\n",
        "          one_hot_encoder_product]\n",
        "\n",
        "\n",
        "assembler_cat = VectorAssembler(inputCols=[encoder.getOutputCol() for encoder in stages_one_hot], outputCol=\"features_cat\")\n",
        "num_cols = [\"count\", \"week\", \"price\"]\n",
        "assemblerNum = VectorAssembler(inputCols = num_cols, outputCol = \"features_num\")\n",
        "final_assembler = VectorAssembler(inputCols = [\"features_cat\", \"features_num\"], outputCol = \"features\")\n",
        "pipeline = Pipeline(stages = stages_indexer + stages_one_hot + [assembler_cat] + [assemblerNum]+ [final_assembler])"
      ]
    },
    {
      "cell_type": "code",
      "execution_count": null,
      "metadata": {
        "colab": {
          "base_uri": "https://localhost:8080/"
        },
        "id": "rDKI5mc6pvQX",
        "outputId": "6e9d6dd0-aff7-4446-eabb-4aa76a3d3c1b"
      },
      "outputs": [
        {
          "name": "stdout",
          "output_type": "stream",
          "text": [
            "+----------+-------+------+-----+----+-----------+----------+------------+------------+--------------+---------+-----------+-----+----------------+--------------+----------------+----------------+--------------------+-----------------+--------------------+\n",
            "|event_type|  brand| price|count|week|   category|   product|is_purchased|category_idx|event_type_idx|brand_idx|product_idx|label|    category_vec|event_type_vec|       brand_vec|     product_vec|        features_cat|     features_num|            features|\n",
            "+----------+-------+------+-----+----+-----------+----------+------------+------------+--------------+---------+-----------+-----+----------------+--------------+----------------+----------------+--------------------+-----------------+--------------------+\n",
            "|      cart|samsung| 171.9|  165|   4|electronics|smartphone|           0|         0.0|           0.0|      0.0|        0.0|  0.0|(1334,[0],[1.0])| (1,[0],[1.0])|(1971,[0],[1.0])|(1439,[0],[1.0])|(4745,[0,1334,133...|[165.0,4.0,171.9]|(4748,[0,1334,133...|\n",
            "|  purchase| xiaomi|189.89|   42|   3|electronics|smartphone|           1|         0.0|           1.0|      2.0|        0.0|  1.0|(1334,[0],[1.0])|     (1,[],[])|(1971,[2],[1.0])|(1439,[0],[1.0])|(4745,[0,1337,330...|[42.0,3.0,189.89]|(4748,[0,1337,330...|\n",
            "+----------+-------+------+-----+----+-----------+----------+------------+------------+--------------+---------+-----------+-----+----------------+--------------+----------------+----------------+--------------------+-----------------+--------------------+\n",
            "only showing top 2 rows\n",
            "\n"
          ]
        }
      ],
      "source": [
        "features = features.na.drop()\n",
        "df_transformed = pipeline.fit(features).transform(features)\n",
        "if output_show:\n",
        "  df_transformed.show(2)"
      ]
    },
    {
      "cell_type": "code",
      "execution_count": null,
      "metadata": {
        "colab": {
          "base_uri": "https://localhost:8080/"
        },
        "id": "-H6LTakAokwD",
        "outputId": "5a8970eb-dae6-4e8f-cfef-ed1d028995da"
      },
      "outputs": [
        {
          "name": "stdout",
          "output_type": "stream",
          "text": [
            "root\n",
            " |-- features: vector (nullable = true)\n",
            " |-- label: double (nullable = false)\n",
            "\n"
          ]
        }
      ],
      "source": [
        "final_data = df_transformed.select(\"features\", \"label\")\n",
        "final_data = final_data.na.drop()\n",
        "final_data.printSchema()"
      ]
    },
    {
      "cell_type": "code",
      "execution_count": null,
      "metadata": {
        "id": "HUQh3pzuo9KG"
      },
      "outputs": [],
      "source": [
        "(trainingData, testData) = final_data.randomSplit([0.7, 0.3])"
      ]
    },
    {
      "cell_type": "markdown",
      "metadata": {
        "id": "l-_YkBQpWrN3"
      },
      "source": [
        "Random Forest"
      ]
    },
    {
      "cell_type": "code",
      "execution_count": null,
      "metadata": {
        "id": "XakF8gtskhpU"
      },
      "outputs": [],
      "source": [
        "from pyspark.ml.classification import RandomForestClassifier\n",
        "\n",
        "rf = RandomForestClassifier(labelCol='label',\n",
        "                            featuresCol='features',\n",
        "                            maxDepth=5)\n",
        "model = rf.fit(trainingData)\n",
        "rf_predictions = model.transform(testData)"
      ]
    },
    {
      "cell_type": "markdown",
      "metadata": {
        "id": "SDMQUFmxsfIE"
      },
      "source": [
        "Saving and loading model from file"
      ]
    },
    {
      "cell_type": "code",
      "execution_count": null,
      "metadata": {
        "id": "sxS-oS-Sks5x"
      },
      "outputs": [],
      "source": [
        "path_to_model = \"/content/drive/MyDrive/Awesom_Big_Data_Project/bd_models/RF_model\"\n",
        "model.save(path_to_model)"
      ]
    },
    {
      "cell_type": "code",
      "execution_count": null,
      "metadata": {
        "colab": {
          "base_uri": "https://localhost:8080/"
        },
        "id": "-p9vi0_aXzKb",
        "outputId": "7affca1c-48bc-4bdc-cf8c-0d7f96834ce3"
      },
      "outputs": [
        {
          "name": "stdout",
          "output_type": "stream",
          "text": [
            "Accuracy :  0.7842197931186267\n"
          ]
        }
      ],
      "source": [
        "from pyspark.ml.classification import RandomForestClassificationModel\n",
        "model_1 = RandomForestClassificationModel.load(path_to_model)\n",
        "accuracy = rf_predictions.filter(rf_predictions.label == rf_predictions.prediction).count() / float(rf_predictions.count())\n",
        "print(\"Accuracy : \",accuracy)\n"
      ]
    }
  ],
  "metadata": {
    "accelerator": "GPU",
    "colab": {
      "gpuType": "T4",
      "provenance": []
    },
    "kernelspec": {
      "display_name": "Python 3",
      "name": "python3"
    },
    "language_info": {
      "codemirror_mode": {
        "name": "ipython",
        "version": 3
      },
      "file_extension": ".py",
      "mimetype": "text/x-python",
      "name": "python",
      "nbconvert_exporter": "python",
      "pygments_lexer": "ipython3",
      "version": "3.8.5"
    }
  },
  "nbformat": 4,
  "nbformat_minor": 0
}
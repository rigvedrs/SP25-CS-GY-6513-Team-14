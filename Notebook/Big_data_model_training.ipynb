{
 "cells": [
  {
   "cell_type": "markdown",
   "id": "558df72e",
   "metadata": {
    "id": "DdJR9DolpYpn",
    "papermill": {
     "duration": 0.007272,
     "end_time": "2025-05-07T18:47:53.146026",
     "exception": false,
     "start_time": "2025-05-07T18:47:53.138754",
     "status": "completed"
    },
    "tags": []
   },
   "source": [
    "## Retai Clickstream Analysis and Prediction"
   ]
  },
  {
   "cell_type": "code",
   "execution_count": 1,
   "id": "ade3cd1f",
   "metadata": {
    "execution": {
     "iopub.execute_input": "2025-05-07T18:47:53.159674Z",
     "iopub.status.busy": "2025-05-07T18:47:53.159409Z",
     "iopub.status.idle": "2025-05-07T18:48:00.137099Z",
     "shell.execute_reply": "2025-05-07T18:48:00.136362Z"
    },
    "id": "gN8rqpND_Gj5",
    "outputId": "4446ac12-6f23-46e7-e1aa-77eb1516cb4c",
    "papermill": {
     "duration": 6.986119,
     "end_time": "2025-05-07T18:48:00.138609",
     "exception": false,
     "start_time": "2025-05-07T18:47:53.152490",
     "status": "completed"
    },
    "tags": []
   },
   "outputs": [
    {
     "name": "stdout",
     "output_type": "stream",
     "text": [
      "Requirement already satisfied: pyspark in /usr/local/lib/python3.11/dist-packages (3.5.4)\r\n",
      "Requirement already satisfied: py4j==0.10.9.7 in /usr/local/lib/python3.11/dist-packages (from pyspark) (0.10.9.7)\r\n",
      "Collecting circlify\r\n",
      "  Downloading circlify-0.15.0-py2.py3-none-any.whl.metadata (8.4 kB)\r\n",
      "Downloading circlify-0.15.0-py2.py3-none-any.whl (11 kB)\r\n",
      "Installing collected packages: circlify\r\n",
      "Successfully installed circlify-0.15.0\r\n"
     ]
    }
   ],
   "source": [
    "#Install Pyspark and circlify\n",
    "!pip install pyspark\n",
    "!pip install circlify"
   ]
  },
  {
   "cell_type": "code",
   "execution_count": 2,
   "id": "e297e0ee",
   "metadata": {
    "execution": {
     "iopub.execute_input": "2025-05-07T18:48:00.152629Z",
     "iopub.status.busy": "2025-05-07T18:48:00.152361Z",
     "iopub.status.idle": "2025-05-07T18:48:00.163544Z",
     "shell.execute_reply": "2025-05-07T18:48:00.162919Z"
    },
    "papermill": {
     "duration": 0.019351,
     "end_time": "2025-05-07T18:48:00.164622",
     "exception": false,
     "start_time": "2025-05-07T18:48:00.145271",
     "status": "completed"
    },
    "tags": []
   },
   "outputs": [
    {
     "name": "stdout",
     "output_type": "stream",
     "text": [
      "/kaggle/input/ecommerce-behavior-data-from-multi-category-store/2019-Nov.csv\n",
      "/kaggle/input/ecommerce-behavior-data-from-multi-category-store/2019-Oct.csv\n"
     ]
    }
   ],
   "source": [
    "import os\n",
    "\n",
    "# List all files in the input directory\n",
    "input_dir = \"/kaggle/input\"\n",
    "for root, dirs, files in os.walk(input_dir):\n",
    "    for file in files:\n",
    "        print(os.path.join(root, file))"
   ]
  },
  {
   "cell_type": "code",
   "execution_count": 3,
   "id": "dcc2d155",
   "metadata": {
    "execution": {
     "iopub.execute_input": "2025-05-07T18:48:00.178005Z",
     "iopub.status.busy": "2025-05-07T18:48:00.177818Z",
     "iopub.status.idle": "2025-05-07T18:48:00.180764Z",
     "shell.execute_reply": "2025-05-07T18:48:00.180235Z"
    },
    "id": "xCV2xhWq-UZj",
    "outputId": "2cdf3ac5-47f3-4576-f402-553fe4d99c1f",
    "papermill": {
     "duration": 0.010742,
     "end_time": "2025-05-07T18:48:00.181780",
     "exception": false,
     "start_time": "2025-05-07T18:48:00.171038",
     "status": "completed"
    },
    "tags": []
   },
   "outputs": [],
   "source": [
    "# from google.colab import drive\n",
    "# drive.mount('/content/drive')"
   ]
  },
  {
   "cell_type": "code",
   "execution_count": 4,
   "id": "c0a3338f",
   "metadata": {
    "execution": {
     "iopub.execute_input": "2025-05-07T18:48:00.195428Z",
     "iopub.status.busy": "2025-05-07T18:48:00.195219Z",
     "iopub.status.idle": "2025-05-07T18:48:00.198212Z",
     "shell.execute_reply": "2025-05-07T18:48:00.197679Z"
    },
    "id": "QzHJ1vSU_U9T",
    "outputId": "f5bada7a-03dd-401c-aec3-ac6371216447",
    "papermill": {
     "duration": 0.011153,
     "end_time": "2025-05-07T18:48:00.199251",
     "exception": false,
     "start_time": "2025-05-07T18:48:00.188098",
     "status": "completed"
    },
    "tags": []
   },
   "outputs": [],
   "source": [
    "# path = \"../input/2019-oct/2019-Oct.csv\"\n",
    "# # !unzip \"/content/drive/MyDrive/Awesom_Big_Data_Project/nk_data.zip\"\n",
    "# !unzip \"/content/drive/MyDrive/BigDataSet/archive.zip\""
   ]
  },
  {
   "cell_type": "code",
   "execution_count": 5,
   "id": "d8f1fd18",
   "metadata": {
    "execution": {
     "iopub.execute_input": "2025-05-07T18:48:00.213051Z",
     "iopub.status.busy": "2025-05-07T18:48:00.212875Z",
     "iopub.status.idle": "2025-05-07T18:48:02.902614Z",
     "shell.execute_reply": "2025-05-07T18:48:02.901997Z"
    },
    "id": "X5rYkbq3_y_e",
    "papermill": {
     "duration": 2.69811,
     "end_time": "2025-05-07T18:48:02.903967",
     "exception": false,
     "start_time": "2025-05-07T18:48:00.205857",
     "status": "completed"
    },
    "tags": []
   },
   "outputs": [],
   "source": [
    "import pyspark\n",
    "from pyspark.sql.functions import *\n",
    "from pyspark.sql.types import StructType, StructField, StringType, FloatType, IntegerType\n",
    "from pyspark.sql.window import Window\n",
    "from pyspark.sql.functions import element_at, split, col\n",
    "import pandas as pd\n",
    "import os\n",
    "import plotly.express as px"
   ]
  },
  {
   "cell_type": "code",
   "execution_count": 6,
   "id": "88dd1085",
   "metadata": {
    "execution": {
     "iopub.execute_input": "2025-05-07T18:48:02.918095Z",
     "iopub.status.busy": "2025-05-07T18:48:02.917721Z",
     "iopub.status.idle": "2025-05-07T18:48:08.966471Z",
     "shell.execute_reply": "2025-05-07T18:48:08.965566Z"
    },
    "id": "P5Bof43hBWbC",
    "outputId": "b2eeddde-9a73-42ba-83fb-8c69b1805319",
    "papermill": {
     "duration": 6.057405,
     "end_time": "2025-05-07T18:48:08.968131",
     "exception": false,
     "start_time": "2025-05-07T18:48:02.910726",
     "status": "completed"
    },
    "tags": []
   },
   "outputs": [
    {
     "name": "stderr",
     "output_type": "stream",
     "text": [
      "Setting default log level to \"WARN\".\n",
      "To adjust logging level use sc.setLogLevel(newLevel). For SparkR, use setLogLevel(newLevel).\n",
      "25/05/07 18:48:06 WARN NativeCodeLoader: Unable to load native-hadoop library for your platform... using builtin-java classes where applicable\n",
      "/usr/local/lib/python3.11/dist-packages/pyspark/sql/context.py:158: FutureWarning: Deprecated in 3.0.0. Use SparkSession.builder.getOrCreate() instead.\n",
      "  warnings.warn(\n"
     ]
    }
   ],
   "source": [
    "# Initialize Spark configuration\n",
    "configuration = pyspark.SparkConf()\n",
    "configuration.set('spark.sql.repl.eagerEval.enabled', True)\n",
    "\n",
    "# Set up Spark Context\n",
    "spark_context = pyspark.SparkContext(conf=configuration)\n",
    "\n",
    "# Create or retrieve the existing Spark SQL Context\n",
    "sql_context = pyspark.SQLContext.getOrCreate(spark_context)\n"
   ]
  },
  {
   "cell_type": "code",
   "execution_count": 7,
   "id": "4659e48b",
   "metadata": {
    "execution": {
     "iopub.execute_input": "2025-05-07T18:48:08.984416Z",
     "iopub.status.busy": "2025-05-07T18:48:08.983700Z",
     "iopub.status.idle": "2025-05-07T18:48:08.987436Z",
     "shell.execute_reply": "2025-05-07T18:48:08.986839Z"
    },
    "id": "jFNRHd8fluqu",
    "papermill": {
     "duration": 0.012492,
     "end_time": "2025-05-07T18:48:08.988613",
     "exception": false,
     "start_time": "2025-05-07T18:48:08.976121",
     "status": "completed"
    },
    "tags": []
   },
   "outputs": [],
   "source": [
    "#Creating a subset of\n",
    "# def read_with_pandas(input_filepath):\n",
    "#   raw_data = pd.read_csv(input_filepath, nrows = 500000)\n",
    "#   output_filepath = \"small_oct_2019.csv\"\n",
    "#   raw_data.to_csv(output_filepath)\n",
    "#   return output_filepath\n",
    "\n",
    "# input_filepath = \"/content/2019-Oct.csv\"\n",
    "# input_filepath = read_with_pandas(input_filepath)"
   ]
  },
  {
   "cell_type": "code",
   "execution_count": 8,
   "id": "882c6732",
   "metadata": {
    "execution": {
     "iopub.execute_input": "2025-05-07T18:48:09.003208Z",
     "iopub.status.busy": "2025-05-07T18:48:09.002716Z",
     "iopub.status.idle": "2025-05-07T18:48:09.007811Z",
     "shell.execute_reply": "2025-05-07T18:48:09.007012Z"
    },
    "id": "SSAY6gDae-_4",
    "outputId": "9a072053-aa51-411f-a672-762391794b9f",
    "papermill": {
     "duration": 0.013466,
     "end_time": "2025-05-07T18:48:09.008867",
     "exception": false,
     "start_time": "2025-05-07T18:48:08.995401",
     "status": "completed"
    },
    "tags": []
   },
   "outputs": [
    {
     "name": "stdout",
     "output_type": "stream",
     "text": [
      "the file chosen is  /kaggle/input/ecommerce-behavior-data-from-multi-category-store/2019-Oct.csv\n",
      "small data testing is  False\n"
     ]
    }
   ],
   "source": [
    "import pandas as pd\n",
    "\n",
    "# Set the path to the dataset in Kaggle\n",
    "path_file_2019 = \"/kaggle/input/ecommerce-behavior-data-from-multi-category-store/2019-Oct.csv\"\n",
    "output_show = True  # it makes .show() on/off\n",
    "small_data_testing = False  # make it false when testing on whole dataset\n",
    "\n",
    "if small_data_testing:\n",
    "    # Read a subset of the data for testing\n",
    "    raw_data = pd.read_csv(path_file_2019, nrows=5000000)\n",
    "    raw_data.head(2)\n",
    "    # Save the subset to Kaggle's working directory\n",
    "    raw_data.to_csv(\"/kaggle/working/small_oct_2019.csv\")\n",
    "    path_file_2019 = \"/kaggle/working/small_oct_2019.csv\"\n",
    "\n",
    "print(\"the file chosen is \", path_file_2019)\n",
    "print(\"small data testing is \", small_data_testing)"
   ]
  },
  {
   "cell_type": "code",
   "execution_count": 9,
   "id": "48d12bb2",
   "metadata": {
    "execution": {
     "iopub.execute_input": "2025-05-07T18:48:09.022953Z",
     "iopub.status.busy": "2025-05-07T18:48:09.022770Z",
     "iopub.status.idle": "2025-05-07T18:49:45.903772Z",
     "shell.execute_reply": "2025-05-07T18:49:45.902963Z"
    },
    "id": "LdnkWYE5CGfy",
    "papermill": {
     "duration": 96.90327,
     "end_time": "2025-05-07T18:49:45.918817",
     "exception": false,
     "start_time": "2025-05-07T18:48:09.015547",
     "status": "completed"
    },
    "tags": []
   },
   "outputs": [
    {
     "name": "stderr",
     "output_type": "stream",
     "text": [
      "                                                                                                    \r"
     ]
    }
   ],
   "source": [
    "# Load the dataset from the chosen path (either full or subset)\n",
    "initial_df = sql_context.read \\\n",
    "    .format(\"csv\") \\\n",
    "    .option(\"header\", \"true\") \\\n",
    "    .option(\"inferSchema\", \"true\") \\\n",
    "    .load(path_file_2019)"
   ]
  },
  {
   "cell_type": "code",
   "execution_count": 10,
   "id": "10cf2475",
   "metadata": {
    "execution": {
     "iopub.execute_input": "2025-05-07T18:49:45.937769Z",
     "iopub.status.busy": "2025-05-07T18:49:45.937207Z",
     "iopub.status.idle": "2025-05-07T18:49:45.940662Z",
     "shell.execute_reply": "2025-05-07T18:49:45.940092Z"
    },
    "id": "_XsEUsdKxRze",
    "papermill": {
     "duration": 0.012755,
     "end_time": "2025-05-07T18:49:45.941660",
     "exception": false,
     "start_time": "2025-05-07T18:49:45.928905",
     "status": "completed"
    },
    "tags": []
   },
   "outputs": [],
   "source": [
    "# Just keeping original_df in case we do some operation on df and loose track of original df\n",
    "# add hyperloglog. Thats faster(Daniel)\n",
    "# https://mungingdata.com/apache-spark/hyperloglog-count-distinct/\n",
    "preprocessed_df = initial_df"
   ]
  },
  {
   "cell_type": "markdown",
   "id": "e6f6e327",
   "metadata": {
    "id": "_0KgXUVt_OxV",
    "papermill": {
     "duration": 0.007361,
     "end_time": "2025-05-07T18:49:45.956431",
     "exception": false,
     "start_time": "2025-05-07T18:49:45.949070",
     "status": "completed"
    },
    "tags": []
   },
   "source": [
    "# **Dataset Overview**"
   ]
  },
  {
   "cell_type": "code",
   "execution_count": 11,
   "id": "2954841d",
   "metadata": {
    "execution": {
     "iopub.execute_input": "2025-05-07T18:49:45.971984Z",
     "iopub.status.busy": "2025-05-07T18:49:45.971799Z",
     "iopub.status.idle": "2025-05-07T18:49:45.978326Z",
     "shell.execute_reply": "2025-05-07T18:49:45.977486Z"
    },
    "id": "MoBE245D_1EK",
    "outputId": "d3f3f559-21a2-4f4c-b22d-b76dc2c98c16",
    "papermill": {
     "duration": 0.015906,
     "end_time": "2025-05-07T18:49:45.979681",
     "exception": false,
     "start_time": "2025-05-07T18:49:45.963775",
     "status": "completed"
    },
    "tags": []
   },
   "outputs": [
    {
     "name": "stdout",
     "output_type": "stream",
     "text": [
      "root\n",
      " |-- event_time: timestamp (nullable = true)\n",
      " |-- event_type: string (nullable = true)\n",
      " |-- product_id: integer (nullable = true)\n",
      " |-- category_id: long (nullable = true)\n",
      " |-- category_code: string (nullable = true)\n",
      " |-- brand: string (nullable = true)\n",
      " |-- price: double (nullable = true)\n",
      " |-- user_id: integer (nullable = true)\n",
      " |-- user_session: string (nullable = true)\n",
      "\n"
     ]
    }
   ],
   "source": [
    "preprocessed_df.printSchema()"
   ]
  },
  {
   "cell_type": "markdown",
   "id": "e44ee6cd",
   "metadata": {
    "id": "ORQA_FHn_3tB",
    "papermill": {
     "duration": 0.007446,
     "end_time": "2025-05-07T18:49:45.997401",
     "exception": false,
     "start_time": "2025-05-07T18:49:45.989955",
     "status": "completed"
    },
    "tags": []
   },
   "source": [
    "1) ***event_time*** : denotes the date and time of the user session.\n",
    "\n",
    "2) ***event_type***: There are 3 events in this dataset (viewing, adding to cart, and purchase).\n",
    "\n",
    "3) ***product_id***: indicates the specific product id.\n",
    "\n",
    "4) ***category_id***: indicates the specific category id.\n",
    "\n",
    "5) ***user_id***: pertains to the specific user.\n",
    "\n",
    "6) ***user session***: a single user can have multiple sessions indicating various events like view, purchase, add to cart.\n",
    "\n",
    "7) ***brand***: indicates the brand associated with the product and category.\n",
    "\n",
    "8) ***cateogry***: indicates a nested string having a structure liek electronics.smartphone.andorid which helps us in specifying the range of purchased item.\n",
    "\n"
   ]
  },
  {
   "cell_type": "markdown",
   "id": "7bba809e",
   "metadata": {
    "id": "SJ5zz0Htvh3h",
    "papermill": {
     "duration": 0.007235,
     "end_time": "2025-05-07T18:49:46.012159",
     "exception": false,
     "start_time": "2025-05-07T18:49:46.004924",
     "status": "completed"
    },
    "tags": []
   },
   "source": [
    "# Data Summary and Pre-processing"
   ]
  },
  {
   "cell_type": "code",
   "execution_count": 12,
   "id": "0ddd02ff",
   "metadata": {
    "execution": {
     "iopub.execute_input": "2025-05-07T18:49:46.028349Z",
     "iopub.status.busy": "2025-05-07T18:49:46.027770Z",
     "iopub.status.idle": "2025-05-07T18:49:46.048719Z",
     "shell.execute_reply": "2025-05-07T18:49:46.047918Z"
    },
    "id": "OMzSD5017e9O",
    "papermill": {
     "duration": 0.030258,
     "end_time": "2025-05-07T18:49:46.049868",
     "exception": false,
     "start_time": "2025-05-07T18:49:46.019610",
     "status": "completed"
    },
    "tags": []
   },
   "outputs": [],
   "source": [
    "# Remove rows where 'event_type' field is missing\n",
    "cleaned_df = preprocessed_df.na.drop(subset=[\"event_type\"])"
   ]
  },
  {
   "cell_type": "markdown",
   "id": "4107b366",
   "metadata": {
    "id": "z1CpJlwpzP0B",
    "papermill": {
     "duration": 0.007371,
     "end_time": "2025-05-07T18:49:46.111939",
     "exception": false,
     "start_time": "2025-05-07T18:49:46.104568",
     "status": "completed"
    },
    "tags": []
   },
   "source": [
    "# Data Imputation"
   ]
  },
  {
   "cell_type": "markdown",
   "id": "cd62cf98",
   "metadata": {
    "id": "l6JuX62A2Fp5",
    "papermill": {
     "duration": 0.007234,
     "end_time": "2025-05-07T18:49:46.126594",
     "exception": false,
     "start_time": "2025-05-07T18:49:46.119360",
     "status": "completed"
    },
    "tags": []
   },
   "source": [
    "## Extracting Catgeory and Product"
   ]
  },
  {
   "cell_type": "code",
   "execution_count": 13,
   "id": "1adc9608",
   "metadata": {
    "execution": {
     "iopub.execute_input": "2025-05-07T18:49:46.142747Z",
     "iopub.status.busy": "2025-05-07T18:49:46.142127Z",
     "iopub.status.idle": "2025-05-07T18:49:46.169454Z",
     "shell.execute_reply": "2025-05-07T18:49:46.168637Z"
    },
    "id": "VFiQnjQyJjYV",
    "papermill": {
     "duration": 0.036871,
     "end_time": "2025-05-07T18:49:46.170807",
     "exception": false,
     "start_time": "2025-05-07T18:49:46.133936",
     "status": "completed"
    },
    "tags": []
   },
   "outputs": [],
   "source": [
    "# Fill missing values in 'category_code' and 'brand' columns with the placeholder \"empty\"\n",
    "filled_df = cleaned_df.fillna(\"empty\", subset=[\"category_code\", \"brand\"])"
   ]
  },
  {
   "cell_type": "code",
   "execution_count": 14,
   "id": "8d318a72",
   "metadata": {
    "execution": {
     "iopub.execute_input": "2025-05-07T18:49:46.188016Z",
     "iopub.status.busy": "2025-05-07T18:49:46.187788Z",
     "iopub.status.idle": "2025-05-07T18:49:46.537541Z",
     "shell.execute_reply": "2025-05-07T18:49:46.536656Z"
    },
    "id": "zTWc_uWx0ly8",
    "outputId": "82f879c6-e93e-44b3-de6c-9d455e81cc69",
    "papermill": {
     "duration": 0.360336,
     "end_time": "2025-05-07T18:49:46.539134",
     "exception": false,
     "start_time": "2025-05-07T18:49:46.178798",
     "status": "completed"
    },
    "tags": []
   },
   "outputs": [
    {
     "name": "stdout",
     "output_type": "stream",
     "text": [
      "+-------------------+----------+----------+-------------------+--------------------+--------+-------+---------+--------------------+\n",
      "|         event_time|event_type|product_id|        category_id|       category_code|   brand|  price|  user_id|        user_session|\n",
      "+-------------------+----------+----------+-------------------+--------------------+--------+-------+---------+--------------------+\n",
      "|2019-10-01 00:00:00|      view|  44600062|2103807459595387724|                NULL|shiseido|  35.79|541312140|72d76fde-8bb3-4e0...|\n",
      "|2019-10-01 00:00:00|      view|   3900821|2053013552326770905|appliances.enviro...|    aqua|   33.2|554748717|9333dfbd-b87a-470...|\n",
      "|2019-10-01 00:00:01|      view|  17200506|2053013559792632471|furniture.living_...|    NULL|  543.1|519107250|566511c2-e2e3-422...|\n",
      "|2019-10-01 00:00:01|      view|   1307067|2053013558920217191|  computers.notebook|  lenovo| 251.74|550050854|7c90fc70-0e80-459...|\n",
      "|2019-10-01 00:00:04|      view|   1004237|2053013555631882655|electronics.smart...|   apple|1081.98|535871217|c6bd7419-2748-4c5...|\n",
      "+-------------------+----------+----------+-------------------+--------------------+--------+-------+---------+--------------------+\n",
      "only showing top 5 rows\n",
      "\n"
     ]
    }
   ],
   "source": [
    "if output_show:\n",
    "  preprocessed_df.show(5)"
   ]
  },
  {
   "cell_type": "code",
   "execution_count": 15,
   "id": "8f2955da",
   "metadata": {
    "execution": {
     "iopub.execute_input": "2025-05-07T18:49:46.568907Z",
     "iopub.status.busy": "2025-05-07T18:49:46.568218Z",
     "iopub.status.idle": "2025-05-07T18:49:46.575783Z",
     "shell.execute_reply": "2025-05-07T18:49:46.575132Z"
    },
    "id": "JGlPr8ppWnTC",
    "papermill": {
     "duration": 0.023486,
     "end_time": "2025-05-07T18:49:46.576905",
     "exception": false,
     "start_time": "2025-05-07T18:49:46.553419",
     "status": "completed"
    },
    "tags": []
   },
   "outputs": [],
   "source": [
    "# Define UDFs to extract category and product names from 'category_code' or fallback to 'brand'\n",
    "from pyspark.sql.functions import udf\n",
    "\n",
    "@udf\n",
    "def get_category_name(category_code, brand_name):\n",
    "    parts = str(category_code).split('.')\n",
    "    if parts[0] == \"empty\":\n",
    "        return brand_name if brand_name != \"empty\" else \"unknown\"\n",
    "    return parts[0]\n",
    "\n",
    "@udf\n",
    "def get_product_name(category_code, brand_name):\n",
    "    parts = str(category_code).split('.')\n",
    "    if parts[-1] == \"empty\":\n",
    "        return brand_name if brand_name != \"empty\" else \"unknown\"\n",
    "    return parts[-1]"
   ]
  },
  {
   "cell_type": "code",
   "execution_count": 16,
   "id": "0453c2b7",
   "metadata": {
    "execution": {
     "iopub.execute_input": "2025-05-07T18:49:46.593573Z",
     "iopub.status.busy": "2025-05-07T18:49:46.593049Z",
     "iopub.status.idle": "2025-05-07T18:49:48.091273Z",
     "shell.execute_reply": "2025-05-07T18:49:48.090641Z"
    },
    "id": "f1JzY8C-XmyF",
    "outputId": "36e8e7cb-ae5f-4c31-a065-6f093fd180ee",
    "papermill": {
     "duration": 1.508169,
     "end_time": "2025-05-07T18:49:48.092903",
     "exception": false,
     "start_time": "2025-05-07T18:49:46.584734",
     "status": "completed"
    },
    "tags": []
   },
   "outputs": [
    {
     "name": "stderr",
     "output_type": "stream",
     "text": [
      "[Stage 3:>                                                                              (0 + 1) / 1]\r"
     ]
    },
    {
     "name": "stdout",
     "output_type": "stream",
     "text": [
      "+-------------------+----------+----------+-------------------+--------+-------+---------+--------------------+-----------+------------+\n",
      "|         event_time|event_type|product_id|        category_id|   brand|  price|  user_id|        user_session|   category|     product|\n",
      "+-------------------+----------+----------+-------------------+--------+-------+---------+--------------------+-----------+------------+\n",
      "|2019-10-01 00:00:00|      view|  44600062|2103807459595387724|shiseido|  35.79|541312140|72d76fde-8bb3-4e0...|   shiseido|    shiseido|\n",
      "|2019-10-01 00:00:00|      view|   3900821|2053013552326770905|    aqua|   33.2|554748717|9333dfbd-b87a-470...| appliances|water_heater|\n",
      "|2019-10-01 00:00:01|      view|  17200506|2053013559792632471|   empty|  543.1|519107250|566511c2-e2e3-422...|  furniture|        sofa|\n",
      "|2019-10-01 00:00:01|      view|   1307067|2053013558920217191|  lenovo| 251.74|550050854|7c90fc70-0e80-459...|  computers|    notebook|\n",
      "|2019-10-01 00:00:04|      view|   1004237|2053013555631882655|   apple|1081.98|535871217|c6bd7419-2748-4c5...|electronics|  smartphone|\n",
      "+-------------------+----------+----------+-------------------+--------+-------+---------+--------------------+-----------+------------+\n",
      "only showing top 5 rows\n",
      "\n"
     ]
    },
    {
     "name": "stderr",
     "output_type": "stream",
     "text": [
      "                                                                                                    \r"
     ]
    }
   ],
   "source": [
    "# Apply the UDFs to extract category and product names\n",
    "df_with_extracted_fields = filled_df.select(\n",
    "    \"*\",\n",
    "    get_category_name(\"category_code\", \"brand\").alias(\"category\"),\n",
    "    get_product_name(\"category_code\", \"brand\").alias(\"product\")\n",
    ")\n",
    "\n",
    "# Drop the original 'category_code' column\n",
    "df_with_extracted_fields = df_with_extracted_fields.drop(\"category_code\")\n",
    "\n",
    "# Display the first 5 rows if output is enabled\n",
    "if output_show:\n",
    "    df_with_extracted_fields.show(5)\n"
   ]
  },
  {
   "cell_type": "markdown",
   "id": "bce095a0",
   "metadata": {
    "id": "XqHg3b5N2CwA",
    "papermill": {
     "duration": 0.014898,
     "end_time": "2025-05-07T18:49:48.122794",
     "exception": false,
     "start_time": "2025-05-07T18:49:48.107896",
     "status": "completed"
    },
    "tags": []
   },
   "source": [
    "## Extracting Time features like Day, Time, Hour from Timestamp"
   ]
  },
  {
   "cell_type": "code",
   "execution_count": 17,
   "id": "a1c5e4bf",
   "metadata": {
    "execution": {
     "iopub.execute_input": "2025-05-07T18:49:48.140742Z",
     "iopub.status.busy": "2025-05-07T18:49:48.140411Z",
     "iopub.status.idle": "2025-05-07T18:49:48.764644Z",
     "shell.execute_reply": "2025-05-07T18:49:48.763879Z"
    },
    "id": "OJPHJN2618qz",
    "outputId": "84f9fb2d-a497-4b36-e51d-0a09f13a0300",
    "papermill": {
     "duration": 0.634656,
     "end_time": "2025-05-07T18:49:48.766426",
     "exception": false,
     "start_time": "2025-05-07T18:49:48.131770",
     "status": "completed"
    },
    "tags": []
   },
   "outputs": [
    {
     "name": "stdout",
     "output_type": "stream",
     "text": [
      "+-------------------+----------+----------+-------------------+--------+-------+---------+--------------------+-----------+------------+------------+---+----+\n",
      "|         event_time|event_type|product_id|        category_id|   brand|  price|  user_id|        user_session|   category|     product|time_section|Day|Hour|\n",
      "+-------------------+----------+----------+-------------------+--------+-------+---------+--------------------+-----------+------------+------------+---+----+\n",
      "|2019-10-01 00:00:00|      view|  44600062|2103807459595387724|shiseido|  35.79|541312140|72d76fde-8bb3-4e0...|   shiseido|    shiseido|    00:00:00| 01|  00|\n",
      "|2019-10-01 00:00:00|      view|   3900821|2053013552326770905|    aqua|   33.2|554748717|9333dfbd-b87a-470...| appliances|water_heater|    00:00:00| 01|  00|\n",
      "|2019-10-01 00:00:01|      view|  17200506|2053013559792632471|   empty|  543.1|519107250|566511c2-e2e3-422...|  furniture|        sofa|    00:00:01| 01|  00|\n",
      "|2019-10-01 00:00:01|      view|   1307067|2053013558920217191|  lenovo| 251.74|550050854|7c90fc70-0e80-459...|  computers|    notebook|    00:00:01| 01|  00|\n",
      "|2019-10-01 00:00:04|      view|   1004237|2053013555631882655|   apple|1081.98|535871217|c6bd7419-2748-4c5...|electronics|  smartphone|    00:00:04| 01|  00|\n",
      "+-------------------+----------+----------+-------------------+--------+-------+---------+--------------------+-----------+------------+------------+---+----+\n",
      "only showing top 5 rows\n",
      "\n"
     ]
    }
   ],
   "source": [
    "# Extract 'Day' and 'Hour' from the 'event_time' column\n",
    "df_time_transformed = df_with_extracted_fields \\\n",
    "    .withColumn('date_section', split(col('event_time'), ' ').getItem(0)) \\\n",
    "    .withColumn('time_section', split(col('event_time'), ' ').getItem(1)) \\\n",
    "    .withColumn('Day', split(col('date_section'), '-').getItem(2)) \\\n",
    "    .withColumn('Hour', split(col('time_section'), ':').getItem(0)) \\\n",
    "    .drop('date_section')\n",
    "\n",
    "# Display top 5 records if output flag is enabled\n",
    "if output_show:\n",
    "    df_time_transformed.show(5)\n"
   ]
  },
  {
   "cell_type": "code",
   "execution_count": 18,
   "id": "21877837",
   "metadata": {
    "execution": {
     "iopub.execute_input": "2025-05-07T18:49:48.783906Z",
     "iopub.status.busy": "2025-05-07T18:49:48.783664Z",
     "iopub.status.idle": "2025-05-07T18:49:48.787172Z",
     "shell.execute_reply": "2025-05-07T18:49:48.786501Z"
    },
    "id": "5m8bjVgL2m5m",
    "papermill": {
     "duration": 0.013454,
     "end_time": "2025-05-07T18:49:48.788345",
     "exception": false,
     "start_time": "2025-05-07T18:49:48.774891",
     "status": "completed"
    },
    "tags": []
   },
   "outputs": [],
   "source": [
    "df = df_time_transformed"
   ]
  },
  {
   "cell_type": "markdown",
   "id": "5a089bb3",
   "metadata": {
    "id": "gKP4bBcUOXRu",
    "papermill": {
     "duration": 0.00819,
     "end_time": "2025-05-07T18:49:48.804627",
     "exception": false,
     "start_time": "2025-05-07T18:49:48.796437",
     "status": "completed"
    },
    "tags": []
   },
   "source": [
    "# Journey of a user in one session\n"
   ]
  },
  {
   "cell_type": "code",
   "execution_count": 19,
   "id": "94ca191e",
   "metadata": {
    "execution": {
     "iopub.execute_input": "2025-05-07T18:49:48.821631Z",
     "iopub.status.busy": "2025-05-07T18:49:48.821384Z",
     "iopub.status.idle": "2025-05-07T18:52:30.390167Z",
     "shell.execute_reply": "2025-05-07T18:52:30.389276Z"
    },
    "id": "pKRl6HzgjnhR",
    "papermill": {
     "duration": 161.578875,
     "end_time": "2025-05-07T18:52:30.391471",
     "exception": false,
     "start_time": "2025-05-07T18:49:48.812596",
     "status": "completed"
    },
    "tags": []
   },
   "outputs": [
    {
     "name": "stderr",
     "output_type": "stream",
     "text": [
      "                                                                                                    \r"
     ]
    }
   ],
   "source": [
    "# Retrieve all events for a specific user session and sort them by event time\n",
    "session_events_df = df.filter(col('user_session') == 'b37abd25-7672-4dd7-a098-40e50e314388') \\\n",
    "                      .orderBy('event_time') \\\n",
    "                      .toPandas()"
   ]
  },
  {
   "cell_type": "markdown",
   "id": "8f64600a",
   "metadata": {
    "id": "3ewOAQ9uDwTj",
    "papermill": {
     "duration": 0.009909,
     "end_time": "2025-05-07T18:52:30.411621",
     "exception": false,
     "start_time": "2025-05-07T18:52:30.401712",
     "status": "completed"
    },
    "tags": []
   },
   "source": [
    "## Data Processing"
   ]
  },
  {
   "cell_type": "code",
   "execution_count": 20,
   "id": "03b9a0e1",
   "metadata": {
    "execution": {
     "iopub.execute_input": "2025-05-07T18:52:30.431895Z",
     "iopub.status.busy": "2025-05-07T18:52:30.431354Z",
     "iopub.status.idle": "2025-05-07T18:53:46.457155Z",
     "shell.execute_reply": "2025-05-07T18:53:46.456244Z"
    },
    "id": "PdOfX4NPzwUl",
    "outputId": "57d810a5-9840-4891-bbba-0336339bf7e6",
    "papermill": {
     "duration": 76.037379,
     "end_time": "2025-05-07T18:53:46.458403",
     "exception": false,
     "start_time": "2025-05-07T18:52:30.421024",
     "status": "completed"
    },
    "tags": []
   },
   "outputs": [
    {
     "name": "stderr",
     "output_type": "stream",
     "text": [
      "                                                                                                    \r"
     ]
    },
    {
     "data": {
      "text/html": [
       "<table border='1'>\n",
       "<tr><th>event_type</th><th>count</th></tr>\n",
       "<tr><td>purchase</td><td>742849</td></tr>\n",
       "<tr><td>view</td><td>40779399</td></tr>\n",
       "<tr><td>cart</td><td>926516</td></tr>\n",
       "</table>\n"
      ],
      "text/plain": [
       "+----------+--------+\n",
       "|event_type|   count|\n",
       "+----------+--------+\n",
       "|  purchase|  742849|\n",
       "|      view|40779399|\n",
       "|      cart|  926516|\n",
       "+----------+--------+"
      ]
     },
     "execution_count": 20,
     "metadata": {},
     "output_type": "execute_result"
    }
   ],
   "source": [
    "df.groupBy(\"event_type\").count()"
   ]
  },
  {
   "cell_type": "code",
   "execution_count": 21,
   "id": "fdbd6391",
   "metadata": {
    "execution": {
     "iopub.execute_input": "2025-05-07T18:53:46.482727Z",
     "iopub.status.busy": "2025-05-07T18:53:46.482516Z",
     "iopub.status.idle": "2025-05-07T18:54:21.723468Z",
     "shell.execute_reply": "2025-05-07T18:54:21.722560Z"
    },
    "id": "IPcuq5HoytZ6",
    "outputId": "54f69f04-3cb4-4b3d-85f3-21aaad44967a",
    "papermill": {
     "duration": 35.25509,
     "end_time": "2025-05-07T18:54:21.725258",
     "exception": false,
     "start_time": "2025-05-07T18:53:46.470168",
     "status": "completed"
    },
    "tags": []
   },
   "outputs": [
    {
     "name": "stderr",
     "output_type": "stream",
     "text": [
      "[Stage 17:>                                                                             (0 + 4) / 5]\r"
     ]
    },
    {
     "name": "stdout",
     "output_type": "stream",
     "text": [
      "+----------+------+\n",
      "|event_type| count|\n",
      "+----------+------+\n",
      "|  purchase|690618|\n",
      "|      cart|628955|\n",
      "+----------+------+\n",
      "\n"
     ]
    },
    {
     "name": "stderr",
     "output_type": "stream",
     "text": [
      "                                                                                                    \r"
     ]
    }
   ],
   "source": [
    "# Identify unique users who added products to cart or made purchases\n",
    "cart_purchase_users_df = df.filter(\n",
    "    (col('event_type') == 'cart') | (col('event_type') == 'purchase')\n",
    ")\n",
    "\n",
    "# Drop duplicate actions based on event type, product, price, user, and session\n",
    "distinct_cart_purchase_df = cart_purchase_users_df.dropDuplicates(\n",
    "    subset=['event_type', 'product_id', 'price', 'user_id', 'user_session']\n",
    ")\n",
    "\n",
    "# Group by event type and count unique actions\n",
    "distinct_cart_purchase_df.groupBy('event_type').count().show()\n"
   ]
  },
  {
   "cell_type": "code",
   "execution_count": 22,
   "id": "b2cab398",
   "metadata": {
    "execution": {
     "iopub.execute_input": "2025-05-07T18:54:21.771701Z",
     "iopub.status.busy": "2025-05-07T18:54:21.771378Z",
     "iopub.status.idle": "2025-05-07T18:56:02.299875Z",
     "shell.execute_reply": "2025-05-07T18:56:02.296552Z"
    },
    "id": "8DYkOXayeiAb",
    "outputId": "8f35a5a6-bebd-4dc1-b915-35170d524fe0",
    "papermill": {
     "duration": 100.554788,
     "end_time": "2025-05-07T18:56:02.303017",
     "exception": false,
     "start_time": "2025-05-07T18:54:21.748229",
     "status": "completed"
    },
    "tags": []
   },
   "outputs": [
    {
     "name": "stderr",
     "output_type": "stream",
     "text": [
      "25/05/07 18:55:45 WARN RowBasedKeyValueBatch: Calling spill() on RowBasedKeyValueBatch. Will not spill but return 0.\n",
      "25/05/07 18:55:45 WARN RowBasedKeyValueBatch: Calling spill() on RowBasedKeyValueBatch. Will not spill but return 0.\n",
      "25/05/07 18:55:45 WARN RowBasedKeyValueBatch: Calling spill() on RowBasedKeyValueBatch. Will not spill but return 0.\n",
      "25/05/07 18:55:45 WARN RowBasedKeyValueBatch: Calling spill() on RowBasedKeyValueBatch. Will not spill but return 0.\n",
      "25/05/07 18:55:46 WARN RowBasedKeyValueBatch: Calling spill() on RowBasedKeyValueBatch. Will not spill but return 0.\n",
      "25/05/07 18:55:46 WARN RowBasedKeyValueBatch: Calling spill() on RowBasedKeyValueBatch. Will not spill but return 0.\n",
      "25/05/07 18:55:46 WARN RowBasedKeyValueBatch: Calling spill() on RowBasedKeyValueBatch. Will not spill but return 0.\n",
      "25/05/07 18:55:46 WARN RowBasedKeyValueBatch: Calling spill() on RowBasedKeyValueBatch. Will not spill but return 0.\n",
      "25/05/07 18:55:47 WARN RowBasedKeyValueBatch: Calling spill() on RowBasedKeyValueBatch. Will not spill but return 0.\n",
      "25/05/07 18:55:47 WARN RowBasedKeyValueBatch: Calling spill() on RowBasedKeyValueBatch. Will not spill but return 0.\n",
      "25/05/07 18:55:47 WARN RowBasedKeyValueBatch: Calling spill() on RowBasedKeyValueBatch. Will not spill but return 0.\n",
      "25/05/07 18:55:47 WARN RowBasedKeyValueBatch: Calling spill() on RowBasedKeyValueBatch. Will not spill but return 0.\n",
      "25/05/07 18:55:47 WARN RowBasedKeyValueBatch: Calling spill() on RowBasedKeyValueBatch. Will not spill but return 0.\n",
      "25/05/07 18:55:47 WARN RowBasedKeyValueBatch: Calling spill() on RowBasedKeyValueBatch. Will not spill but return 0.\n",
      "25/05/07 18:55:47 WARN RowBasedKeyValueBatch: Calling spill() on RowBasedKeyValueBatch. Will not spill but return 0.\n",
      "25/05/07 18:55:47 WARN RowBasedKeyValueBatch: Calling spill() on RowBasedKeyValueBatch. Will not spill but return 0.\n",
      "25/05/07 18:55:48 WARN RowBasedKeyValueBatch: Calling spill() on RowBasedKeyValueBatch. Will not spill but return 0.\n",
      "25/05/07 18:55:48 WARN RowBasedKeyValueBatch: Calling spill() on RowBasedKeyValueBatch. Will not spill but return 0.\n",
      "25/05/07 18:55:48 WARN RowBasedKeyValueBatch: Calling spill() on RowBasedKeyValueBatch. Will not spill but return 0.\n",
      "25/05/07 18:55:48 WARN RowBasedKeyValueBatch: Calling spill() on RowBasedKeyValueBatch. Will not spill but return 0.\n",
      "25/05/07 18:55:48 WARN RowBasedKeyValueBatch: Calling spill() on RowBasedKeyValueBatch. Will not spill but return 0.\n",
      "25/05/07 18:55:48 WARN RowBasedKeyValueBatch: Calling spill() on RowBasedKeyValueBatch. Will not spill but return 0.\n",
      "25/05/07 18:55:48 WARN RowBasedKeyValueBatch: Calling spill() on RowBasedKeyValueBatch. Will not spill but return 0.\n",
      "25/05/07 18:55:49 WARN RowBasedKeyValueBatch: Calling spill() on RowBasedKeyValueBatch. Will not spill but return 0.\n",
      "25/05/07 18:55:49 WARN RowBasedKeyValueBatch: Calling spill() on RowBasedKeyValueBatch. Will not spill but return 0.\n",
      "25/05/07 18:55:49 WARN RowBasedKeyValueBatch: Calling spill() on RowBasedKeyValueBatch. Will not spill but return 0.\n",
      "25/05/07 18:55:49 WARN RowBasedKeyValueBatch: Calling spill() on RowBasedKeyValueBatch. Will not spill but return 0.\n",
      "25/05/07 18:55:49 WARN RowBasedKeyValueBatch: Calling spill() on RowBasedKeyValueBatch. Will not spill but return 0.\n",
      "25/05/07 18:55:50 WARN RowBasedKeyValueBatch: Calling spill() on RowBasedKeyValueBatch. Will not spill but return 0.\n",
      "25/05/07 18:55:50 WARN RowBasedKeyValueBatch: Calling spill() on RowBasedKeyValueBatch. Will not spill but return 0.\n",
      "25/05/07 18:55:50 WARN RowBasedKeyValueBatch: Calling spill() on RowBasedKeyValueBatch. Will not spill but return 0.\n",
      "25/05/07 18:55:50 WARN RowBasedKeyValueBatch: Calling spill() on RowBasedKeyValueBatch. Will not spill but return 0.\n",
      "25/05/07 18:55:50 WARN RowBasedKeyValueBatch: Calling spill() on RowBasedKeyValueBatch. Will not spill but return 0.\n",
      "25/05/07 18:55:50 WARN RowBasedKeyValueBatch: Calling spill() on RowBasedKeyValueBatch. Will not spill but return 0.\n",
      "25/05/07 18:55:50 WARN RowBasedKeyValueBatch: Calling spill() on RowBasedKeyValueBatch. Will not spill but return 0.\n",
      "25/05/07 18:55:50 WARN RowBasedKeyValueBatch: Calling spill() on RowBasedKeyValueBatch. Will not spill but return 0.\n",
      "25/05/07 18:55:51 WARN RowBasedKeyValueBatch: Calling spill() on RowBasedKeyValueBatch. Will not spill but return 0.\n",
      "25/05/07 18:55:51 WARN RowBasedKeyValueBatch: Calling spill() on RowBasedKeyValueBatch. Will not spill but return 0.\n",
      "[Stage 25:===============================>                                              (2 + 3) / 5]\r"
     ]
    },
    {
     "name": "stdout",
     "output_type": "stream",
     "text": [
      "+----------+---------+\n",
      "|event_type|    count|\n",
      "+----------+---------+\n",
      "|  purchase| 10733318|\n",
      "|      view|100913032|\n",
      "|      cart| 12799325|\n",
      "+----------+---------+\n",
      "\n"
     ]
    },
    {
     "name": "stderr",
     "output_type": "stream",
     "text": [
      "                                                                                                    \r"
     ]
    }
   ],
   "source": [
    "# Capture all user activity for users who added products to cart or made purchases\n",
    "all_user_activity_df = df.alias('d').join(\n",
    "    cart_purchase_users_df.alias('c'),\n",
    "    on=df['user_id'] == cart_purchase_users_df['user_id'],\n",
    "    how='inner'\n",
    ").select(\n",
    "    'd.user_id',\n",
    "    'd.event_time',\n",
    "    'd.event_type',\n",
    "    'd.product_id',\n",
    "    'd.category_id',\n",
    "    'd.brand',\n",
    "    'd.price',\n",
    "    'd.user_session',\n",
    "    'd.category',\n",
    "    'd.product'\n",
    ")\n",
    "\n",
    "# Group by event type and count the activities\n",
    "all_user_activity_df.groupBy('event_type').count().show()\n"
   ]
  },
  {
   "cell_type": "markdown",
   "id": "8aa63609",
   "metadata": {
    "id": "CsyGCfFZEfnl",
    "papermill": {
     "duration": 0.014801,
     "end_time": "2025-05-07T18:56:02.333228",
     "exception": false,
     "start_time": "2025-05-07T18:56:02.318427",
     "status": "completed"
    },
    "tags": []
   },
   "source": [
    "## High Value Customers"
   ]
  },
  {
   "cell_type": "code",
   "execution_count": 23,
   "id": "f25c5e79",
   "metadata": {
    "execution": {
     "iopub.execute_input": "2025-05-07T18:56:02.364479Z",
     "iopub.status.busy": "2025-05-07T18:56:02.363632Z",
     "iopub.status.idle": "2025-05-07T18:57:53.652979Z",
     "shell.execute_reply": "2025-05-07T18:57:53.651090Z"
    },
    "id": "909KEA-bOkXu",
    "outputId": "6be3c9d9-3701-4b56-dc2d-0a228036af53",
    "papermill": {
     "duration": 111.306763,
     "end_time": "2025-05-07T18:57:53.654832",
     "exception": false,
     "start_time": "2025-05-07T18:56:02.348069",
     "status": "completed"
    },
    "tags": []
   },
   "outputs": [
    {
     "name": "stderr",
     "output_type": "stream",
     "text": [
      "25/05/07 18:57:23 WARN RowBasedKeyValueBatch: Calling spill() on RowBasedKeyValueBatch. Will not spill but return 0.\n",
      "25/05/07 18:57:23 WARN RowBasedKeyValueBatch: Calling spill() on RowBasedKeyValueBatch. Will not spill but return 0.\n",
      "25/05/07 18:57:23 WARN RowBasedKeyValueBatch: Calling spill() on RowBasedKeyValueBatch. Will not spill but return 0.\n",
      "25/05/07 18:57:23 WARN RowBasedKeyValueBatch: Calling spill() on RowBasedKeyValueBatch. Will not spill but return 0.\n",
      "25/05/07 18:57:24 WARN RowBasedKeyValueBatch: Calling spill() on RowBasedKeyValueBatch. Will not spill but return 0.\n",
      "25/05/07 18:57:24 WARN RowBasedKeyValueBatch: Calling spill() on RowBasedKeyValueBatch. Will not spill but return 0.\n",
      "25/05/07 18:57:24 WARN RowBasedKeyValueBatch: Calling spill() on RowBasedKeyValueBatch. Will not spill but return 0.\n",
      "25/05/07 18:57:24 WARN RowBasedKeyValueBatch: Calling spill() on RowBasedKeyValueBatch. Will not spill but return 0.\n",
      "25/05/07 18:57:25 WARN RowBasedKeyValueBatch: Calling spill() on RowBasedKeyValueBatch. Will not spill but return 0.\n",
      "25/05/07 18:57:25 WARN RowBasedKeyValueBatch: Calling spill() on RowBasedKeyValueBatch. Will not spill but return 0.\n",
      "25/05/07 18:57:25 WARN RowBasedKeyValueBatch: Calling spill() on RowBasedKeyValueBatch. Will not spill but return 0.\n",
      "25/05/07 18:57:25 WARN RowBasedKeyValueBatch: Calling spill() on RowBasedKeyValueBatch. Will not spill but return 0.\n",
      "25/05/07 18:57:26 WARN RowBasedKeyValueBatch: Calling spill() on RowBasedKeyValueBatch. Will not spill but return 0.\n",
      "25/05/07 18:57:26 WARN RowBasedKeyValueBatch: Calling spill() on RowBasedKeyValueBatch. Will not spill but return 0.\n",
      "25/05/07 18:57:26 WARN RowBasedKeyValueBatch: Calling spill() on RowBasedKeyValueBatch. Will not spill but return 0.\n",
      "25/05/07 18:57:26 WARN RowBasedKeyValueBatch: Calling spill() on RowBasedKeyValueBatch. Will not spill but return 0.\n",
      "25/05/07 18:57:29 WARN RowBasedKeyValueBatch: Calling spill() on RowBasedKeyValueBatch. Will not spill but return 0.\n",
      "25/05/07 18:57:32 WARN RowBasedKeyValueBatch: Calling spill() on RowBasedKeyValueBatch. Will not spill but return 0.\n",
      "25/05/07 18:57:33 WARN RowBasedKeyValueBatch: Calling spill() on RowBasedKeyValueBatch. Will not spill but return 0.\n",
      "25/05/07 18:57:33 WARN RowBasedKeyValueBatch: Calling spill() on RowBasedKeyValueBatch. Will not spill but return 0.\n",
      "25/05/07 18:57:36 WARN RowBasedKeyValueBatch: Calling spill() on RowBasedKeyValueBatch. Will not spill but return 0.\n",
      "25/05/07 18:57:36 WARN RowBasedKeyValueBatch: Calling spill() on RowBasedKeyValueBatch. Will not spill but return 0.\n",
      "25/05/07 18:57:36 WARN RowBasedKeyValueBatch: Calling spill() on RowBasedKeyValueBatch. Will not spill but return 0.\n",
      "25/05/07 18:57:36 WARN RowBasedKeyValueBatch: Calling spill() on RowBasedKeyValueBatch. Will not spill but return 0.\n",
      "25/05/07 18:57:37 WARN RowBasedKeyValueBatch: Calling spill() on RowBasedKeyValueBatch. Will not spill but return 0.\n",
      "25/05/07 18:57:37 WARN RowBasedKeyValueBatch: Calling spill() on RowBasedKeyValueBatch. Will not spill but return 0.\n",
      "25/05/07 18:57:37 WARN RowBasedKeyValueBatch: Calling spill() on RowBasedKeyValueBatch. Will not spill but return 0.\n",
      "25/05/07 18:57:37 WARN RowBasedKeyValueBatch: Calling spill() on RowBasedKeyValueBatch. Will not spill but return 0.\n",
      "25/05/07 18:57:38 WARN RowBasedKeyValueBatch: Calling spill() on RowBasedKeyValueBatch. Will not spill but return 0.\n",
      "25/05/07 18:57:38 WARN RowBasedKeyValueBatch: Calling spill() on RowBasedKeyValueBatch. Will not spill but return 0.\n",
      "25/05/07 18:57:38 WARN RowBasedKeyValueBatch: Calling spill() on RowBasedKeyValueBatch. Will not spill but return 0.\n",
      "25/05/07 18:57:38 WARN RowBasedKeyValueBatch: Calling spill() on RowBasedKeyValueBatch. Will not spill but return 0.\n",
      "25/05/07 18:57:38 WARN RowBasedKeyValueBatch: Calling spill() on RowBasedKeyValueBatch. Will not spill but return 0.\n",
      "25/05/07 18:57:38 WARN RowBasedKeyValueBatch: Calling spill() on RowBasedKeyValueBatch. Will not spill but return 0.\n",
      "25/05/07 18:57:39 WARN RowBasedKeyValueBatch: Calling spill() on RowBasedKeyValueBatch. Will not spill but return 0.\n",
      "25/05/07 18:57:39 WARN RowBasedKeyValueBatch: Calling spill() on RowBasedKeyValueBatch. Will not spill but return 0.\n",
      "25/05/07 18:57:39 WARN RowBasedKeyValueBatch: Calling spill() on RowBasedKeyValueBatch. Will not spill but return 0.\n",
      "25/05/07 18:57:42 WARN RowBasedKeyValueBatch: Calling spill() on RowBasedKeyValueBatch. Will not spill but return 0.\n",
      "25/05/07 18:57:45 WARN RowBasedKeyValueBatch: Calling spill() on RowBasedKeyValueBatch. Will not spill but return 0.\n",
      "25/05/07 18:57:45 WARN RowBasedKeyValueBatch: Calling spill() on RowBasedKeyValueBatch. Will not spill but return 0.\n",
      "25/05/07 18:57:46 WARN RowBasedKeyValueBatch: Calling spill() on RowBasedKeyValueBatch. Will not spill but return 0.\n",
      "25/05/07 18:57:48 WARN RowBasedKeyValueBatch: Calling spill() on RowBasedKeyValueBatch. Will not spill but return 0.\n",
      "25/05/07 18:57:49 WARN RowBasedKeyValueBatch: Calling spill() on RowBasedKeyValueBatch. Will not spill but return 0.\n",
      "[Stage 34:=====================================================================>        (8 + 1) / 9]\r"
     ]
    },
    {
     "name": "stdout",
     "output_type": "stream",
     "text": [
      "+--------------------+-----+\n",
      "|        user_session|count|\n",
      "+--------------------+-----+\n",
      "|ec82d195-6607-47a...|    7|\n",
      "|f6dd0b68-7280-495...|    4|\n",
      "|62b9a2b1-c85b-441...|  100|\n",
      "|bf56200c-93bc-4f0...|    8|\n",
      "|6a996a01-2154-482...|    1|\n",
      "+--------------------+-----+\n",
      "only showing top 5 rows\n",
      "\n"
     ]
    },
    {
     "name": "stderr",
     "output_type": "stream",
     "text": [
      "                                                                                                    \r"
     ]
    }
   ],
   "source": [
    "# Count the number of activities per user session\n",
    "activity_per_session_df = all_user_activity_df.groupBy('user_session').count()\n",
    "\n",
    "# Display the first 5 sessions with their activity counts if output display is enabled\n",
    "if output_show:\n",
    "    activity_per_session_df.show(5)\n"
   ]
  },
  {
   "cell_type": "markdown",
   "id": "4b43e851",
   "metadata": {
    "id": "44HpjIvED1T_",
    "papermill": {
     "duration": 0.017717,
     "end_time": "2025-05-07T18:57:53.691716",
     "exception": false,
     "start_time": "2025-05-07T18:57:53.673999",
     "status": "completed"
    },
    "tags": []
   },
   "source": [
    "## Label Encoding Target Variable"
   ]
  },
  {
   "cell_type": "code",
   "execution_count": 24,
   "id": "4f2d3274",
   "metadata": {
    "execution": {
     "iopub.execute_input": "2025-05-07T18:57:53.729556Z",
     "iopub.status.busy": "2025-05-07T18:57:53.728990Z",
     "iopub.status.idle": "2025-05-07T18:57:53.733357Z",
     "shell.execute_reply": "2025-05-07T18:57:53.732801Z"
    },
    "id": "CBjOrgK40_XQ",
    "papermill": {
     "duration": 0.025109,
     "end_time": "2025-05-07T18:57:53.734405",
     "exception": false,
     "start_time": "2025-05-07T18:57:53.709296",
     "status": "completed"
    },
    "tags": []
   },
   "outputs": [],
   "source": [
    "# Define a UDF to label if an event is a purchase\n",
    "from pyspark.sql.functions import udf\n",
    "from pyspark.sql.types import IntegerType\n",
    "\n",
    "@udf(returnType=IntegerType())\n",
    "def is_purchase_label(event_type):\n",
    "    if event_type == 'purchase':\n",
    "        return 1\n",
    "    else:\n",
    "        return 0\n"
   ]
  },
  {
   "cell_type": "code",
   "execution_count": 25,
   "id": "0922d8ce",
   "metadata": {
    "execution": {
     "iopub.execute_input": "2025-05-07T18:57:53.770339Z",
     "iopub.status.busy": "2025-05-07T18:57:53.769890Z",
     "iopub.status.idle": "2025-05-07T18:57:53.799800Z",
     "shell.execute_reply": "2025-05-07T18:57:53.799085Z"
    },
    "id": "-Je53NR40S7I",
    "papermill": {
     "duration": 0.049233,
     "end_time": "2025-05-07T18:57:53.801252",
     "exception": false,
     "start_time": "2025-05-07T18:57:53.752019",
     "status": "completed"
    },
    "tags": []
   },
   "outputs": [],
   "source": [
    "# Apply the purchase label UDF to create a target column\n",
    "df_targets = distinct_cart_purchase_df.select(\n",
    "    \"*\",\n",
    "    is_purchase_label('event_type').alias('is_purchased')\n",
    ")"
   ]
  },
  {
   "cell_type": "code",
   "execution_count": 26,
   "id": "800c528e",
   "metadata": {
    "execution": {
     "iopub.execute_input": "2025-05-07T18:57:53.838874Z",
     "iopub.status.busy": "2025-05-07T18:57:53.838376Z",
     "iopub.status.idle": "2025-05-07T18:57:53.869446Z",
     "shell.execute_reply": "2025-05-07T18:57:53.868661Z"
    },
    "id": "hlZv4mo1IEXc",
    "papermill": {
     "duration": 0.05098,
     "end_time": "2025-05-07T18:57:53.870836",
     "exception": false,
     "start_time": "2025-05-07T18:57:53.819856",
     "status": "completed"
    },
    "tags": []
   },
   "outputs": [],
   "source": [
    "# Join the target labels with activity counts per session\n",
    "df_targets = df_targets.join(\n",
    "    activity_per_session_df,\n",
    "    on='user_session',\n",
    "    how='left'\n",
    ")\n"
   ]
  },
  {
   "cell_type": "code",
   "execution_count": 27,
   "id": "faeb3cf2",
   "metadata": {
    "execution": {
     "iopub.execute_input": "2025-05-07T18:57:53.911904Z",
     "iopub.status.busy": "2025-05-07T18:57:53.911634Z",
     "iopub.status.idle": "2025-05-07T18:57:53.916609Z",
     "shell.execute_reply": "2025-05-07T18:57:53.915856Z"
    },
    "id": "tycGYi80Nr5i",
    "papermill": {
     "duration": 0.025509,
     "end_time": "2025-05-07T18:57:53.917884",
     "exception": false,
     "start_time": "2025-05-07T18:57:53.892375",
     "status": "completed"
    },
    "tags": []
   },
   "outputs": [],
   "source": [
    "# Define a UDF to extract the weekday (0 = Monday, 6 = Sunday) from the event timestamp\n",
    "from datetime import datetime\n",
    "from pyspark.sql.functions import udf\n",
    "from pyspark.sql.types import IntegerType\n",
    "\n",
    "@udf(returnType=IntegerType())\n",
    "def extract_weekday(event_time):\n",
    "    try:\n",
    "        return datetime.strptime(str(event_time)[:10], \"%Y-%m-%d\").weekday()\n",
    "    except Exception:\n",
    "        return None  # Handle parsing errors gracefully\n"
   ]
  },
  {
   "cell_type": "code",
   "execution_count": 28,
   "id": "7c71296a",
   "metadata": {
    "execution": {
     "iopub.execute_input": "2025-05-07T18:57:53.960127Z",
     "iopub.status.busy": "2025-05-07T18:57:53.959364Z",
     "iopub.status.idle": "2025-05-07T18:57:53.993823Z",
     "shell.execute_reply": "2025-05-07T18:57:53.993174Z"
    },
    "id": "OQhB7WC-Iw_c",
    "papermill": {
     "duration": 0.054652,
     "end_time": "2025-05-07T18:57:53.994998",
     "exception": false,
     "start_time": "2025-05-07T18:57:53.940346",
     "status": "completed"
    },
    "tags": []
   },
   "outputs": [],
   "source": [
    "# Apply the weekday extraction UDF to the event_time column\n",
    "df_targets_week = df_targets.select(\n",
    "    \"*\",\n",
    "    extract_weekday('event_time').alias('week')\n",
    ")\n"
   ]
  },
  {
   "cell_type": "code",
   "execution_count": 29,
   "id": "3fedd375",
   "metadata": {
    "execution": {
     "iopub.execute_input": "2025-05-07T18:57:54.031269Z",
     "iopub.status.busy": "2025-05-07T18:57:54.031036Z",
     "iopub.status.idle": "2025-05-07T18:57:54.035447Z",
     "shell.execute_reply": "2025-05-07T18:57:54.034683Z"
    },
    "id": "9JUAOLzPAsh1",
    "outputId": "e8bd7aeb-bc0f-459c-a60d-090774d61943",
    "papermill": {
     "duration": 0.023721,
     "end_time": "2025-05-07T18:57:54.036535",
     "exception": false,
     "start_time": "2025-05-07T18:57:54.012814",
     "status": "completed"
    },
    "tags": []
   },
   "outputs": [
    {
     "name": "stdout",
     "output_type": "stream",
     "text": [
      "root\n",
      " |-- user_session: string (nullable = true)\n",
      " |-- event_time: timestamp (nullable = true)\n",
      " |-- event_type: string (nullable = true)\n",
      " |-- product_id: integer (nullable = true)\n",
      " |-- category_id: long (nullable = true)\n",
      " |-- brand: string (nullable = false)\n",
      " |-- price: double (nullable = true)\n",
      " |-- user_id: integer (nullable = true)\n",
      " |-- category: string (nullable = true)\n",
      " |-- product: string (nullable = true)\n",
      " |-- time_section: string (nullable = true)\n",
      " |-- Day: string (nullable = true)\n",
      " |-- Hour: string (nullable = true)\n",
      " |-- is_purchased: integer (nullable = true)\n",
      " |-- count: long (nullable = true)\n",
      " |-- week: integer (nullable = true)\n",
      "\n"
     ]
    }
   ],
   "source": [
    "df_targets_week.printSchema()"
   ]
  },
  {
   "cell_type": "code",
   "execution_count": 30,
   "id": "2a57d83a",
   "metadata": {
    "execution": {
     "iopub.execute_input": "2025-05-07T18:57:54.072257Z",
     "iopub.status.busy": "2025-05-07T18:57:54.072065Z",
     "iopub.status.idle": "2025-05-07T18:57:54.080101Z",
     "shell.execute_reply": "2025-05-07T18:57:54.079589Z"
    },
    "id": "YoPCwGcgxo9C",
    "papermill": {
     "duration": 0.027272,
     "end_time": "2025-05-07T18:57:54.081175",
     "exception": false,
     "start_time": "2025-05-07T18:57:54.053903",
     "status": "completed"
    },
    "tags": []
   },
   "outputs": [],
   "source": [
    "df_targets_week = df_targets_week.dropDuplicates([\"user_session\"])"
   ]
  },
  {
   "cell_type": "markdown",
   "id": "cdfd1d8b",
   "metadata": {
    "id": "y14hCfFmFCJ4",
    "papermill": {
     "duration": 0.017529,
     "end_time": "2025-05-07T18:57:54.116547",
     "exception": false,
     "start_time": "2025-05-07T18:57:54.099018",
     "status": "completed"
    },
    "tags": []
   },
   "source": [
    "## Feature Selection"
   ]
  },
  {
   "cell_type": "code",
   "execution_count": 31,
   "id": "cb85eea4",
   "metadata": {
    "execution": {
     "iopub.execute_input": "2025-05-07T18:57:54.152451Z",
     "iopub.status.busy": "2025-05-07T18:57:54.152121Z",
     "iopub.status.idle": "2025-05-07T18:57:54.175891Z",
     "shell.execute_reply": "2025-05-07T18:57:54.175027Z"
    },
    "id": "_6HApnSgxp6D",
    "outputId": "66e4918b-e8f1-4bd5-9efe-299780fbd2b1",
    "papermill": {
     "duration": 0.043233,
     "end_time": "2025-05-07T18:57:54.177139",
     "exception": false,
     "start_time": "2025-05-07T18:57:54.133906",
     "status": "completed"
    },
    "tags": []
   },
   "outputs": [
    {
     "name": "stdout",
     "output_type": "stream",
     "text": [
      "root\n",
      " |-- event_type: string (nullable = true)\n",
      " |-- brand: string (nullable = false)\n",
      " |-- price: double (nullable = true)\n",
      " |-- count: long (nullable = true)\n",
      " |-- week: integer (nullable = true)\n",
      " |-- category: string (nullable = true)\n",
      " |-- product: string (nullable = true)\n",
      " |-- is_purchased: integer (nullable = true)\n",
      "\n"
     ]
    }
   ],
   "source": [
    "features = df_targets_week.select(\"event_type\", \"brand\", \"price\", \"count\",\"week\",\"category\", \"product\",\"is_purchased\")\n",
    "features.printSchema()"
   ]
  },
  {
   "cell_type": "code",
   "execution_count": 32,
   "id": "99116674",
   "metadata": {
    "execution": {
     "iopub.execute_input": "2025-05-07T18:57:54.214022Z",
     "iopub.status.busy": "2025-05-07T18:57:54.213801Z",
     "iopub.status.idle": "2025-05-07T18:58:25.321502Z",
     "shell.execute_reply": "2025-05-07T18:58:25.320638Z"
    },
    "id": "3TESqe-Lu9FM",
    "outputId": "02bdc0e9-3166-4d0f-d3ea-e17d8e0b2016",
    "papermill": {
     "duration": 31.127333,
     "end_time": "2025-05-07T18:58:25.322829",
     "exception": false,
     "start_time": "2025-05-07T18:57:54.195496",
     "status": "completed"
    },
    "tags": []
   },
   "outputs": [
    {
     "name": "stderr",
     "output_type": "stream",
     "text": [
      "                                                                                                    \r"
     ]
    },
    {
     "data": {
      "text/plain": [
       "910797"
      ]
     },
     "execution_count": 32,
     "metadata": {},
     "output_type": "execute_result"
    }
   ],
   "source": [
    "features.count()"
   ]
  },
  {
   "cell_type": "markdown",
   "id": "216085bd",
   "metadata": {
    "id": "c4rJKXqLFJcf",
    "papermill": {
     "duration": 0.018364,
     "end_time": "2025-05-07T18:58:25.360265",
     "exception": false,
     "start_time": "2025-05-07T18:58:25.341901",
     "status": "completed"
    },
    "tags": []
   },
   "source": [
    "## Prediction Model - SparkML"
   ]
  },
  {
   "cell_type": "code",
   "execution_count": 33,
   "id": "b8c1c423",
   "metadata": {
    "execution": {
     "iopub.execute_input": "2025-05-07T18:58:25.398385Z",
     "iopub.status.busy": "2025-05-07T18:58:25.398082Z",
     "iopub.status.idle": "2025-05-07T18:58:26.246270Z",
     "shell.execute_reply": "2025-05-07T18:58:26.245496Z"
    },
    "id": "Fie4VNXpLPFK",
    "papermill": {
     "duration": 0.868974,
     "end_time": "2025-05-07T18:58:26.247681",
     "exception": false,
     "start_time": "2025-05-07T18:58:25.378707",
     "status": "completed"
    },
    "tags": []
   },
   "outputs": [],
   "source": [
    "from pyspark.ml.feature import StringIndexer, OneHotEncoder, VectorAssembler\n",
    "from pyspark.ml import Pipeline\n",
    "\n",
    "# Index categorical columns\n",
    "category_indexer = StringIndexer(inputCol='category', outputCol='category_index')\n",
    "event_type_indexer = StringIndexer(inputCol='event_type', outputCol='event_type_index')\n",
    "brand_indexer = StringIndexer(inputCol='brand', outputCol='brand_index')\n",
    "product_indexer = StringIndexer(inputCol='product', outputCol='product_index')\n",
    "label_indexer = StringIndexer(inputCol='is_purchased', outputCol='label')\n",
    "\n",
    "# One-hot encode the indexed columns\n",
    "category_encoder = OneHotEncoder(inputCol='category_index', outputCol='category_vector')\n",
    "event_type_encoder = OneHotEncoder(inputCol='event_type_index', outputCol='event_type_vector')\n",
    "brand_encoder = OneHotEncoder(inputCol='brand_index', outputCol='brand_vector')\n",
    "product_encoder = OneHotEncoder(inputCol='product_index', outputCol='product_vector')\n",
    "\n",
    "# Assemble the categorical feature vectors\n",
    "categorical_assembler = VectorAssembler(\n",
    "    inputCols=[\n",
    "        'category_vector',\n",
    "        'event_type_vector',\n",
    "        'brand_vector',\n",
    "        'product_vector'\n",
    "    ],\n",
    "    outputCol='categorical_features'\n",
    ")\n",
    "\n",
    "# Assemble the numerical feature vectors\n",
    "numerical_features = ['count', 'week', 'price']\n",
    "numerical_assembler = VectorAssembler(\n",
    "    inputCols=numerical_features,\n",
    "    outputCol='numerical_features'\n",
    ")\n",
    "\n",
    "# Final feature assembler combining categorical and numerical features\n",
    "full_feature_assembler = VectorAssembler(\n",
    "    inputCols=['categorical_features', 'numerical_features'],\n",
    "    outputCol='features'\n",
    ")\n",
    "\n",
    "# Define the complete pipeline\n",
    "feature_pipeline = Pipeline(stages=[\n",
    "    category_indexer,\n",
    "    event_type_indexer,\n",
    "    brand_indexer,\n",
    "    product_indexer,\n",
    "    label_indexer,\n",
    "    category_encoder,\n",
    "    event_type_encoder,\n",
    "    brand_encoder,\n",
    "    product_encoder,\n",
    "    categorical_assembler,\n",
    "    numerical_assembler,\n",
    "    full_feature_assembler\n",
    "])\n"
   ]
  },
  {
   "cell_type": "code",
   "execution_count": 34,
   "id": "0ed1a295",
   "metadata": {
    "execution": {
     "iopub.execute_input": "2025-05-07T18:58:26.286919Z",
     "iopub.status.busy": "2025-05-07T18:58:26.286467Z",
     "iopub.status.idle": "2025-05-07T19:19:19.181324Z",
     "shell.execute_reply": "2025-05-07T19:19:19.179085Z"
    },
    "id": "rDKI5mc6pvQX",
    "papermill": {
     "duration": 1252.917186,
     "end_time": "2025-05-07T19:19:19.184020",
     "exception": false,
     "start_time": "2025-05-07T18:58:26.266834",
     "status": "completed"
    },
    "tags": []
   },
   "outputs": [
    {
     "name": "stderr",
     "output_type": "stream",
     "text": [
      "25/05/07 19:01:10 WARN RowBasedKeyValueBatch: Calling spill() on RowBasedKeyValueBatch. Will not spill but return 0.\n",
      "25/05/07 19:01:11 WARN RowBasedKeyValueBatch: Calling spill() on RowBasedKeyValueBatch. Will not spill but return 0.\n",
      "25/05/07 19:01:12 WARN RowBasedKeyValueBatch: Calling spill() on RowBasedKeyValueBatch. Will not spill but return 0.\n",
      "25/05/07 19:01:12 WARN RowBasedKeyValueBatch: Calling spill() on RowBasedKeyValueBatch. Will not spill but return 0.\n",
      "25/05/07 19:01:12 WARN RowBasedKeyValueBatch: Calling spill() on RowBasedKeyValueBatch. Will not spill but return 0.\n",
      "25/05/07 19:01:12 WARN RowBasedKeyValueBatch: Calling spill() on RowBasedKeyValueBatch. Will not spill but return 0.\n",
      "25/05/07 19:01:12 WARN RowBasedKeyValueBatch: Calling spill() on RowBasedKeyValueBatch. Will not spill but return 0.\n",
      "25/05/07 19:01:13 WARN RowBasedKeyValueBatch: Calling spill() on RowBasedKeyValueBatch. Will not spill but return 0.\n",
      "25/05/07 19:01:13 WARN RowBasedKeyValueBatch: Calling spill() on RowBasedKeyValueBatch. Will not spill but return 0.\n",
      "25/05/07 19:01:13 WARN RowBasedKeyValueBatch: Calling spill() on RowBasedKeyValueBatch. Will not spill but return 0.\n",
      "25/05/07 19:01:13 WARN RowBasedKeyValueBatch: Calling spill() on RowBasedKeyValueBatch. Will not spill but return 0.\n",
      "25/05/07 19:01:13 WARN RowBasedKeyValueBatch: Calling spill() on RowBasedKeyValueBatch. Will not spill but return 0.\n",
      "25/05/07 19:01:13 WARN RowBasedKeyValueBatch: Calling spill() on RowBasedKeyValueBatch. Will not spill but return 0.\n",
      "25/05/07 19:01:14 WARN RowBasedKeyValueBatch: Calling spill() on RowBasedKeyValueBatch. Will not spill but return 0.\n",
      "25/05/07 19:01:15 WARN RowBasedKeyValueBatch: Calling spill() on RowBasedKeyValueBatch. Will not spill but return 0.\n",
      "25/05/07 19:01:15 WARN RowBasedKeyValueBatch: Calling spill() on RowBasedKeyValueBatch. Will not spill but return 0.\n",
      "25/05/07 19:01:18 WARN RowBasedKeyValueBatch: Calling spill() on RowBasedKeyValueBatch. Will not spill but return 0.\n",
      "25/05/07 19:01:20 WARN RowBasedKeyValueBatch: Calling spill() on RowBasedKeyValueBatch. Will not spill but return 0.\n",
      "25/05/07 19:01:20 WARN RowBasedKeyValueBatch: Calling spill() on RowBasedKeyValueBatch. Will not spill but return 0.\n",
      "25/05/07 19:01:21 WARN RowBasedKeyValueBatch: Calling spill() on RowBasedKeyValueBatch. Will not spill but return 0.\n",
      "25/05/07 19:01:24 WARN RowBasedKeyValueBatch: Calling spill() on RowBasedKeyValueBatch. Will not spill but return 0.\n",
      "25/05/07 19:01:25 WARN RowBasedKeyValueBatch: Calling spill() on RowBasedKeyValueBatch. Will not spill but return 0.\n",
      "25/05/07 19:01:25 WARN RowBasedKeyValueBatch: Calling spill() on RowBasedKeyValueBatch. Will not spill but return 0.\n",
      "25/05/07 19:01:25 WARN RowBasedKeyValueBatch: Calling spill() on RowBasedKeyValueBatch. Will not spill but return 0.\n",
      "25/05/07 19:01:25 WARN RowBasedKeyValueBatch: Calling spill() on RowBasedKeyValueBatch. Will not spill but return 0.\n",
      "25/05/07 19:01:25 WARN RowBasedKeyValueBatch: Calling spill() on RowBasedKeyValueBatch. Will not spill but return 0.\n",
      "25/05/07 19:01:25 WARN RowBasedKeyValueBatch: Calling spill() on RowBasedKeyValueBatch. Will not spill but return 0.\n",
      "25/05/07 19:01:25 WARN RowBasedKeyValueBatch: Calling spill() on RowBasedKeyValueBatch. Will not spill but return 0.\n",
      "25/05/07 19:01:26 WARN RowBasedKeyValueBatch: Calling spill() on RowBasedKeyValueBatch. Will not spill but return 0.\n",
      "25/05/07 19:01:26 WARN RowBasedKeyValueBatch: Calling spill() on RowBasedKeyValueBatch. Will not spill but return 0.\n",
      "25/05/07 19:01:26 WARN RowBasedKeyValueBatch: Calling spill() on RowBasedKeyValueBatch. Will not spill but return 0.\n",
      "25/05/07 19:01:26 WARN RowBasedKeyValueBatch: Calling spill() on RowBasedKeyValueBatch. Will not spill but return 0.\n",
      "25/05/07 19:01:27 WARN RowBasedKeyValueBatch: Calling spill() on RowBasedKeyValueBatch. Will not spill but return 0.\n",
      "25/05/07 19:01:27 WARN RowBasedKeyValueBatch: Calling spill() on RowBasedKeyValueBatch. Will not spill but return 0.\n",
      "25/05/07 19:01:27 WARN RowBasedKeyValueBatch: Calling spill() on RowBasedKeyValueBatch. Will not spill but return 0.\n",
      "25/05/07 19:01:27 WARN RowBasedKeyValueBatch: Calling spill() on RowBasedKeyValueBatch. Will not spill but return 0.\n",
      "25/05/07 19:01:30 WARN RowBasedKeyValueBatch: Calling spill() on RowBasedKeyValueBatch. Will not spill but return 0.\n",
      "25/05/07 19:01:31 WARN RowBasedKeyValueBatch: Calling spill() on RowBasedKeyValueBatch. Will not spill but return 0.\n",
      "25/05/07 19:01:33 WARN RowBasedKeyValueBatch: Calling spill() on RowBasedKeyValueBatch. Will not spill but return 0.\n",
      "25/05/07 19:01:33 WARN RowBasedKeyValueBatch: Calling spill() on RowBasedKeyValueBatch. Will not spill but return 0.\n",
      "25/05/07 19:01:34 WARN RowBasedKeyValueBatch: Calling spill() on RowBasedKeyValueBatch. Will not spill but return 0.\n",
      "25/05/07 19:01:35 WARN RowBasedKeyValueBatch: Calling spill() on RowBasedKeyValueBatch. Will not spill but return 0.\n",
      "25/05/07 19:01:36 WARN RowBasedKeyValueBatch: Calling spill() on RowBasedKeyValueBatch. Will not spill but return 0.\n",
      "25/05/07 19:01:37 WARN RowBasedKeyValueBatch: Calling spill() on RowBasedKeyValueBatch. Will not spill but return 0.\n",
      "25/05/07 19:04:40 WARN RowBasedKeyValueBatch: Calling spill() on RowBasedKeyValueBatch. Will not spill but return 0.\n",
      "25/05/07 19:04:41 WARN RowBasedKeyValueBatch: Calling spill() on RowBasedKeyValueBatch. Will not spill but return 0.\n",
      "25/05/07 19:04:42 WARN RowBasedKeyValueBatch: Calling spill() on RowBasedKeyValueBatch. Will not spill but return 0.\n",
      "25/05/07 19:04:42 WARN RowBasedKeyValueBatch: Calling spill() on RowBasedKeyValueBatch. Will not spill but return 0.\n",
      "25/05/07 19:04:43 WARN RowBasedKeyValueBatch: Calling spill() on RowBasedKeyValueBatch. Will not spill but return 0.\n",
      "25/05/07 19:04:43 WARN RowBasedKeyValueBatch: Calling spill() on RowBasedKeyValueBatch. Will not spill but return 0.\n",
      "25/05/07 19:04:43 WARN RowBasedKeyValueBatch: Calling spill() on RowBasedKeyValueBatch. Will not spill but return 0.\n",
      "25/05/07 19:04:43 WARN RowBasedKeyValueBatch: Calling spill() on RowBasedKeyValueBatch. Will not spill but return 0.\n",
      "25/05/07 19:04:43 WARN RowBasedKeyValueBatch: Calling spill() on RowBasedKeyValueBatch. Will not spill but return 0.\n",
      "25/05/07 19:04:43 WARN RowBasedKeyValueBatch: Calling spill() on RowBasedKeyValueBatch. Will not spill but return 0.\n",
      "25/05/07 19:04:43 WARN RowBasedKeyValueBatch: Calling spill() on RowBasedKeyValueBatch. Will not spill but return 0.\n",
      "25/05/07 19:04:44 WARN RowBasedKeyValueBatch: Calling spill() on RowBasedKeyValueBatch. Will not spill but return 0.\n",
      "25/05/07 19:04:44 WARN RowBasedKeyValueBatch: Calling spill() on RowBasedKeyValueBatch. Will not spill but return 0.\n",
      "25/05/07 19:04:44 WARN RowBasedKeyValueBatch: Calling spill() on RowBasedKeyValueBatch. Will not spill but return 0.\n",
      "25/05/07 19:04:44 WARN RowBasedKeyValueBatch: Calling spill() on RowBasedKeyValueBatch. Will not spill but return 0.\n",
      "25/05/07 19:04:45 WARN RowBasedKeyValueBatch: Calling spill() on RowBasedKeyValueBatch. Will not spill but return 0.\n",
      "25/05/07 19:04:45 WARN RowBasedKeyValueBatch: Calling spill() on RowBasedKeyValueBatch. Will not spill but return 0.\n",
      "25/05/07 19:04:48 WARN RowBasedKeyValueBatch: Calling spill() on RowBasedKeyValueBatch. Will not spill but return 0.\n",
      "25/05/07 19:04:49 WARN RowBasedKeyValueBatch: Calling spill() on RowBasedKeyValueBatch. Will not spill but return 0.\n",
      "25/05/07 19:04:51 WARN RowBasedKeyValueBatch: Calling spill() on RowBasedKeyValueBatch. Will not spill but return 0.\n",
      "25/05/07 19:04:53 WARN RowBasedKeyValueBatch: Calling spill() on RowBasedKeyValueBatch. Will not spill but return 0.\n",
      "25/05/07 19:04:53 WARN RowBasedKeyValueBatch: Calling spill() on RowBasedKeyValueBatch. Will not spill but return 0.\n",
      "25/05/07 19:04:54 WARN RowBasedKeyValueBatch: Calling spill() on RowBasedKeyValueBatch. Will not spill but return 0.\n",
      "25/05/07 19:04:54 WARN RowBasedKeyValueBatch: Calling spill() on RowBasedKeyValueBatch. Will not spill but return 0.\n",
      "25/05/07 19:04:55 WARN RowBasedKeyValueBatch: Calling spill() on RowBasedKeyValueBatch. Will not spill but return 0.\n",
      "25/05/07 19:04:55 WARN RowBasedKeyValueBatch: Calling spill() on RowBasedKeyValueBatch. Will not spill but return 0.\n",
      "25/05/07 19:04:55 WARN RowBasedKeyValueBatch: Calling spill() on RowBasedKeyValueBatch. Will not spill but return 0.\n",
      "25/05/07 19:04:55 WARN RowBasedKeyValueBatch: Calling spill() on RowBasedKeyValueBatch. Will not spill but return 0.\n",
      "25/05/07 19:04:56 WARN RowBasedKeyValueBatch: Calling spill() on RowBasedKeyValueBatch. Will not spill but return 0.\n",
      "25/05/07 19:04:56 WARN RowBasedKeyValueBatch: Calling spill() on RowBasedKeyValueBatch. Will not spill but return 0.\n",
      "25/05/07 19:04:56 WARN RowBasedKeyValueBatch: Calling spill() on RowBasedKeyValueBatch. Will not spill but return 0.\n",
      "25/05/07 19:04:56 WARN RowBasedKeyValueBatch: Calling spill() on RowBasedKeyValueBatch. Will not spill but return 0.\n",
      "25/05/07 19:04:56 WARN RowBasedKeyValueBatch: Calling spill() on RowBasedKeyValueBatch. Will not spill but return 0.\n",
      "25/05/07 19:04:57 WARN RowBasedKeyValueBatch: Calling spill() on RowBasedKeyValueBatch. Will not spill but return 0.\n",
      "25/05/07 19:04:57 WARN RowBasedKeyValueBatch: Calling spill() on RowBasedKeyValueBatch. Will not spill but return 0.\n",
      "25/05/07 19:04:57 WARN RowBasedKeyValueBatch: Calling spill() on RowBasedKeyValueBatch. Will not spill but return 0.\n",
      "25/05/07 19:04:58 WARN RowBasedKeyValueBatch: Calling spill() on RowBasedKeyValueBatch. Will not spill but return 0.\n",
      "25/05/07 19:05:00 WARN RowBasedKeyValueBatch: Calling spill() on RowBasedKeyValueBatch. Will not spill but return 0.\n",
      "25/05/07 19:05:01 WARN RowBasedKeyValueBatch: Calling spill() on RowBasedKeyValueBatch. Will not spill but return 0.\n",
      "25/05/07 19:05:03 WARN RowBasedKeyValueBatch: Calling spill() on RowBasedKeyValueBatch. Will not spill but return 0.\n",
      "25/05/07 19:05:03 WARN RowBasedKeyValueBatch: Calling spill() on RowBasedKeyValueBatch. Will not spill but return 0.\n",
      "25/05/07 19:05:04 WARN RowBasedKeyValueBatch: Calling spill() on RowBasedKeyValueBatch. Will not spill but return 0.\n",
      "25/05/07 19:05:04 WARN RowBasedKeyValueBatch: Calling spill() on RowBasedKeyValueBatch. Will not spill but return 0.\n",
      "25/05/07 19:05:05 WARN RowBasedKeyValueBatch: Calling spill() on RowBasedKeyValueBatch. Will not spill but return 0.\n",
      "25/05/07 19:05:06 WARN RowBasedKeyValueBatch: Calling spill() on RowBasedKeyValueBatch. Will not spill but return 0.\n",
      "25/05/07 19:05:07 WARN RowBasedKeyValueBatch: Calling spill() on RowBasedKeyValueBatch. Will not spill but return 0.\n",
      "25/05/07 19:08:07 WARN RowBasedKeyValueBatch: Calling spill() on RowBasedKeyValueBatch. Will not spill but return 0.\n",
      "25/05/07 19:08:07 WARN RowBasedKeyValueBatch: Calling spill() on RowBasedKeyValueBatch. Will not spill but return 0.\n",
      "25/05/07 19:08:08 WARN RowBasedKeyValueBatch: Calling spill() on RowBasedKeyValueBatch. Will not spill but return 0.\n",
      "25/05/07 19:08:08 WARN RowBasedKeyValueBatch: Calling spill() on RowBasedKeyValueBatch. Will not spill but return 0.\n",
      "25/05/07 19:08:09 WARN RowBasedKeyValueBatch: Calling spill() on RowBasedKeyValueBatch. Will not spill but return 0.\n",
      "25/05/07 19:08:09 WARN RowBasedKeyValueBatch: Calling spill() on RowBasedKeyValueBatch. Will not spill but return 0.\n",
      "25/05/07 19:08:09 WARN RowBasedKeyValueBatch: Calling spill() on RowBasedKeyValueBatch. Will not spill but return 0.\n",
      "25/05/07 19:08:09 WARN RowBasedKeyValueBatch: Calling spill() on RowBasedKeyValueBatch. Will not spill but return 0.\n",
      "25/05/07 19:08:10 WARN RowBasedKeyValueBatch: Calling spill() on RowBasedKeyValueBatch. Will not spill but return 0.\n",
      "25/05/07 19:08:10 WARN RowBasedKeyValueBatch: Calling spill() on RowBasedKeyValueBatch. Will not spill but return 0.\n",
      "25/05/07 19:08:10 WARN RowBasedKeyValueBatch: Calling spill() on RowBasedKeyValueBatch. Will not spill but return 0.\n",
      "25/05/07 19:08:10 WARN RowBasedKeyValueBatch: Calling spill() on RowBasedKeyValueBatch. Will not spill but return 0.\n",
      "25/05/07 19:08:11 WARN RowBasedKeyValueBatch: Calling spill() on RowBasedKeyValueBatch. Will not spill but return 0.\n",
      "25/05/07 19:08:11 WARN RowBasedKeyValueBatch: Calling spill() on RowBasedKeyValueBatch. Will not spill but return 0.\n",
      "25/05/07 19:08:12 WARN RowBasedKeyValueBatch: Calling spill() on RowBasedKeyValueBatch. Will not spill but return 0.\n",
      "25/05/07 19:08:12 WARN RowBasedKeyValueBatch: Calling spill() on RowBasedKeyValueBatch. Will not spill but return 0.\n",
      "25/05/07 19:08:15 WARN RowBasedKeyValueBatch: Calling spill() on RowBasedKeyValueBatch. Will not spill but return 0.\n",
      "25/05/07 19:08:17 WARN RowBasedKeyValueBatch: Calling spill() on RowBasedKeyValueBatch. Will not spill but return 0.\n",
      "25/05/07 19:08:17 WARN RowBasedKeyValueBatch: Calling spill() on RowBasedKeyValueBatch. Will not spill but return 0.\n",
      "25/05/07 19:08:18 WARN RowBasedKeyValueBatch: Calling spill() on RowBasedKeyValueBatch. Will not spill but return 0.\n",
      "25/05/07 19:08:20 WARN RowBasedKeyValueBatch: Calling spill() on RowBasedKeyValueBatch. Will not spill but return 0.\n",
      "25/05/07 19:08:20 WARN RowBasedKeyValueBatch: Calling spill() on RowBasedKeyValueBatch. Will not spill but return 0.\n",
      "25/05/07 19:08:21 WARN RowBasedKeyValueBatch: Calling spill() on RowBasedKeyValueBatch. Will not spill but return 0.\n",
      "25/05/07 19:08:21 WARN RowBasedKeyValueBatch: Calling spill() on RowBasedKeyValueBatch. Will not spill but return 0.\n",
      "25/05/07 19:08:21 WARN RowBasedKeyValueBatch: Calling spill() on RowBasedKeyValueBatch. Will not spill but return 0.\n",
      "25/05/07 19:08:22 WARN RowBasedKeyValueBatch: Calling spill() on RowBasedKeyValueBatch. Will not spill but return 0.\n",
      "25/05/07 19:08:22 WARN RowBasedKeyValueBatch: Calling spill() on RowBasedKeyValueBatch. Will not spill but return 0.\n",
      "25/05/07 19:08:22 WARN RowBasedKeyValueBatch: Calling spill() on RowBasedKeyValueBatch. Will not spill but return 0.\n",
      "25/05/07 19:08:22 WARN RowBasedKeyValueBatch: Calling spill() on RowBasedKeyValueBatch. Will not spill but return 0.\n",
      "25/05/07 19:08:22 WARN RowBasedKeyValueBatch: Calling spill() on RowBasedKeyValueBatch. Will not spill but return 0.\n",
      "25/05/07 19:08:23 WARN RowBasedKeyValueBatch: Calling spill() on RowBasedKeyValueBatch. Will not spill but return 0.\n",
      "25/05/07 19:08:23 WARN RowBasedKeyValueBatch: Calling spill() on RowBasedKeyValueBatch. Will not spill but return 0.\n",
      "25/05/07 19:08:23 WARN RowBasedKeyValueBatch: Calling spill() on RowBasedKeyValueBatch. Will not spill but return 0.\n",
      "25/05/07 19:08:23 WARN RowBasedKeyValueBatch: Calling spill() on RowBasedKeyValueBatch. Will not spill but return 0.\n",
      "25/05/07 19:08:24 WARN RowBasedKeyValueBatch: Calling spill() on RowBasedKeyValueBatch. Will not spill but return 0.\n",
      "25/05/07 19:08:24 WARN RowBasedKeyValueBatch: Calling spill() on RowBasedKeyValueBatch. Will not spill but return 0.\n",
      "25/05/07 19:08:27 WARN RowBasedKeyValueBatch: Calling spill() on RowBasedKeyValueBatch. Will not spill but return 0.\n",
      "25/05/07 19:08:28 WARN RowBasedKeyValueBatch: Calling spill() on RowBasedKeyValueBatch. Will not spill but return 0.\n",
      "25/05/07 19:08:30 WARN RowBasedKeyValueBatch: Calling spill() on RowBasedKeyValueBatch. Will not spill but return 0.\n",
      "25/05/07 19:08:30 WARN RowBasedKeyValueBatch: Calling spill() on RowBasedKeyValueBatch. Will not spill but return 0.\n",
      "25/05/07 19:08:30 WARN RowBasedKeyValueBatch: Calling spill() on RowBasedKeyValueBatch. Will not spill but return 0.\n",
      "25/05/07 19:08:30 WARN RowBasedKeyValueBatch: Calling spill() on RowBasedKeyValueBatch. Will not spill but return 0.\n",
      "25/05/07 19:08:32 WARN RowBasedKeyValueBatch: Calling spill() on RowBasedKeyValueBatch. Will not spill but return 0.\n",
      "25/05/07 19:08:32 WARN RowBasedKeyValueBatch: Calling spill() on RowBasedKeyValueBatch. Will not spill but return 0.\n",
      "25/05/07 19:08:33 WARN RowBasedKeyValueBatch: Calling spill() on RowBasedKeyValueBatch. Will not spill but return 0.\n",
      "25/05/07 19:11:37 WARN RowBasedKeyValueBatch: Calling spill() on RowBasedKeyValueBatch. Will not spill but return 0.\n",
      "25/05/07 19:11:37 WARN RowBasedKeyValueBatch: Calling spill() on RowBasedKeyValueBatch. Will not spill but return 0.\n",
      "25/05/07 19:11:37 WARN RowBasedKeyValueBatch: Calling spill() on RowBasedKeyValueBatch. Will not spill but return 0.\n",
      "25/05/07 19:11:38 WARN RowBasedKeyValueBatch: Calling spill() on RowBasedKeyValueBatch. Will not spill but return 0.\n",
      "25/05/07 19:11:38 WARN RowBasedKeyValueBatch: Calling spill() on RowBasedKeyValueBatch. Will not spill but return 0.\n",
      "25/05/07 19:11:38 WARN RowBasedKeyValueBatch: Calling spill() on RowBasedKeyValueBatch. Will not spill but return 0.\n",
      "25/05/07 19:11:39 WARN RowBasedKeyValueBatch: Calling spill() on RowBasedKeyValueBatch. Will not spill but return 0.\n",
      "25/05/07 19:11:39 WARN RowBasedKeyValueBatch: Calling spill() on RowBasedKeyValueBatch. Will not spill but return 0.\n",
      "25/05/07 19:11:39 WARN RowBasedKeyValueBatch: Calling spill() on RowBasedKeyValueBatch. Will not spill but return 0.\n",
      "25/05/07 19:11:39 WARN RowBasedKeyValueBatch: Calling spill() on RowBasedKeyValueBatch. Will not spill but return 0.\n",
      "25/05/07 19:11:39 WARN RowBasedKeyValueBatch: Calling spill() on RowBasedKeyValueBatch. Will not spill but return 0.\n",
      "25/05/07 19:11:39 WARN RowBasedKeyValueBatch: Calling spill() on RowBasedKeyValueBatch. Will not spill but return 0.\n",
      "25/05/07 19:11:40 WARN RowBasedKeyValueBatch: Calling spill() on RowBasedKeyValueBatch. Will not spill but return 0.\n",
      "25/05/07 19:11:40 WARN RowBasedKeyValueBatch: Calling spill() on RowBasedKeyValueBatch. Will not spill but return 0.\n",
      "25/05/07 19:11:40 WARN RowBasedKeyValueBatch: Calling spill() on RowBasedKeyValueBatch. Will not spill but return 0.\n",
      "25/05/07 19:11:41 WARN RowBasedKeyValueBatch: Calling spill() on RowBasedKeyValueBatch. Will not spill but return 0.\n",
      "25/05/07 19:11:43 WARN RowBasedKeyValueBatch: Calling spill() on RowBasedKeyValueBatch. Will not spill but return 0.\n",
      "25/05/07 19:11:46 WARN RowBasedKeyValueBatch: Calling spill() on RowBasedKeyValueBatch. Will not spill but return 0.\n",
      "25/05/07 19:11:46 WARN RowBasedKeyValueBatch: Calling spill() on RowBasedKeyValueBatch. Will not spill but return 0.\n",
      "25/05/07 19:11:47 WARN RowBasedKeyValueBatch: Calling spill() on RowBasedKeyValueBatch. Will not spill but return 0.\n",
      "25/05/07 19:11:49 WARN RowBasedKeyValueBatch: Calling spill() on RowBasedKeyValueBatch. Will not spill but return 0.\n",
      "25/05/07 19:11:50 WARN RowBasedKeyValueBatch: Calling spill() on RowBasedKeyValueBatch. Will not spill but return 0.\n",
      "25/05/07 19:11:50 WARN RowBasedKeyValueBatch: Calling spill() on RowBasedKeyValueBatch. Will not spill but return 0.\n",
      "25/05/07 19:11:51 WARN RowBasedKeyValueBatch: Calling spill() on RowBasedKeyValueBatch. Will not spill but return 0.\n",
      "25/05/07 19:11:51 WARN RowBasedKeyValueBatch: Calling spill() on RowBasedKeyValueBatch. Will not spill but return 0.\n",
      "25/05/07 19:11:51 WARN RowBasedKeyValueBatch: Calling spill() on RowBasedKeyValueBatch. Will not spill but return 0.\n",
      "25/05/07 19:11:51 WARN RowBasedKeyValueBatch: Calling spill() on RowBasedKeyValueBatch. Will not spill but return 0.\n",
      "25/05/07 19:11:51 WARN RowBasedKeyValueBatch: Calling spill() on RowBasedKeyValueBatch. Will not spill but return 0.\n",
      "25/05/07 19:11:51 WARN RowBasedKeyValueBatch: Calling spill() on RowBasedKeyValueBatch. Will not spill but return 0.\n",
      "25/05/07 19:11:52 WARN RowBasedKeyValueBatch: Calling spill() on RowBasedKeyValueBatch. Will not spill but return 0.\n",
      "25/05/07 19:11:52 WARN RowBasedKeyValueBatch: Calling spill() on RowBasedKeyValueBatch. Will not spill but return 0.\n",
      "25/05/07 19:11:52 WARN RowBasedKeyValueBatch: Calling spill() on RowBasedKeyValueBatch. Will not spill but return 0.\n",
      "25/05/07 19:11:52 WARN RowBasedKeyValueBatch: Calling spill() on RowBasedKeyValueBatch. Will not spill but return 0.\n",
      "25/05/07 19:11:52 WARN RowBasedKeyValueBatch: Calling spill() on RowBasedKeyValueBatch. Will not spill but return 0.\n",
      "25/05/07 19:11:52 WARN RowBasedKeyValueBatch: Calling spill() on RowBasedKeyValueBatch. Will not spill but return 0.\n",
      "25/05/07 19:11:53 WARN RowBasedKeyValueBatch: Calling spill() on RowBasedKeyValueBatch. Will not spill but return 0.\n",
      "25/05/07 19:11:53 WARN RowBasedKeyValueBatch: Calling spill() on RowBasedKeyValueBatch. Will not spill but return 0.\n",
      "25/05/07 19:11:53 WARN RowBasedKeyValueBatch: Calling spill() on RowBasedKeyValueBatch. Will not spill but return 0.\n",
      "25/05/07 19:11:54 WARN RowBasedKeyValueBatch: Calling spill() on RowBasedKeyValueBatch. Will not spill but return 0.\n",
      "25/05/07 19:11:56 WARN RowBasedKeyValueBatch: Calling spill() on RowBasedKeyValueBatch. Will not spill but return 0.\n",
      "25/05/07 19:12:00 WARN RowBasedKeyValueBatch: Calling spill() on RowBasedKeyValueBatch. Will not spill but return 0.\n",
      "25/05/07 19:12:01 WARN RowBasedKeyValueBatch: Calling spill() on RowBasedKeyValueBatch. Will not spill but return 0.\n",
      "25/05/07 19:12:02 WARN RowBasedKeyValueBatch: Calling spill() on RowBasedKeyValueBatch. Will not spill but return 0.\n",
      "25/05/07 19:12:03 WARN RowBasedKeyValueBatch: Calling spill() on RowBasedKeyValueBatch. Will not spill but return 0.\n",
      "25/05/07 19:15:06 WARN RowBasedKeyValueBatch: Calling spill() on RowBasedKeyValueBatch. Will not spill but return 0.\n",
      "25/05/07 19:15:06 WARN RowBasedKeyValueBatch: Calling spill() on RowBasedKeyValueBatch. Will not spill but return 0.\n",
      "25/05/07 19:15:06 WARN RowBasedKeyValueBatch: Calling spill() on RowBasedKeyValueBatch. Will not spill but return 0.\n",
      "25/05/07 19:15:06 WARN RowBasedKeyValueBatch: Calling spill() on RowBasedKeyValueBatch. Will not spill but return 0.\n",
      "25/05/07 19:15:06 WARN RowBasedKeyValueBatch: Calling spill() on RowBasedKeyValueBatch. Will not spill but return 0.\n",
      "25/05/07 19:15:06 WARN RowBasedKeyValueBatch: Calling spill() on RowBasedKeyValueBatch. Will not spill but return 0.\n",
      "25/05/07 19:15:06 WARN RowBasedKeyValueBatch: Calling spill() on RowBasedKeyValueBatch. Will not spill but return 0.\n",
      "25/05/07 19:15:07 WARN RowBasedKeyValueBatch: Calling spill() on RowBasedKeyValueBatch. Will not spill but return 0.\n",
      "25/05/07 19:15:07 WARN RowBasedKeyValueBatch: Calling spill() on RowBasedKeyValueBatch. Will not spill but return 0.\n",
      "25/05/07 19:15:07 WARN RowBasedKeyValueBatch: Calling spill() on RowBasedKeyValueBatch. Will not spill but return 0.\n",
      "25/05/07 19:15:07 WARN RowBasedKeyValueBatch: Calling spill() on RowBasedKeyValueBatch. Will not spill but return 0.\n",
      "25/05/07 19:15:07 WARN RowBasedKeyValueBatch: Calling spill() on RowBasedKeyValueBatch. Will not spill but return 0.\n",
      "25/05/07 19:15:08 WARN RowBasedKeyValueBatch: Calling spill() on RowBasedKeyValueBatch. Will not spill but return 0.\n",
      "25/05/07 19:15:08 WARN RowBasedKeyValueBatch: Calling spill() on RowBasedKeyValueBatch. Will not spill but return 0.\n",
      "25/05/07 19:15:08 WARN RowBasedKeyValueBatch: Calling spill() on RowBasedKeyValueBatch. Will not spill but return 0.\n",
      "25/05/07 19:15:08 WARN RowBasedKeyValueBatch: Calling spill() on RowBasedKeyValueBatch. Will not spill but return 0.\n",
      "25/05/07 19:15:11 WARN RowBasedKeyValueBatch: Calling spill() on RowBasedKeyValueBatch. Will not spill but return 0.\n",
      "25/05/07 19:15:14 WARN RowBasedKeyValueBatch: Calling spill() on RowBasedKeyValueBatch. Will not spill but return 0.\n",
      "25/05/07 19:15:15 WARN RowBasedKeyValueBatch: Calling spill() on RowBasedKeyValueBatch. Will not spill but return 0.\n",
      "25/05/07 19:15:16 WARN RowBasedKeyValueBatch: Calling spill() on RowBasedKeyValueBatch. Will not spill but return 0.\n",
      "25/05/07 19:15:18 WARN RowBasedKeyValueBatch: Calling spill() on RowBasedKeyValueBatch. Will not spill but return 0.\n",
      "25/05/07 19:15:18 WARN RowBasedKeyValueBatch: Calling spill() on RowBasedKeyValueBatch. Will not spill but return 0.\n",
      "25/05/07 19:15:19 WARN RowBasedKeyValueBatch: Calling spill() on RowBasedKeyValueBatch. Will not spill but return 0.\n",
      "25/05/07 19:15:19 WARN RowBasedKeyValueBatch: Calling spill() on RowBasedKeyValueBatch. Will not spill but return 0.\n",
      "25/05/07 19:15:19 WARN RowBasedKeyValueBatch: Calling spill() on RowBasedKeyValueBatch. Will not spill but return 0.\n",
      "25/05/07 19:15:19 WARN RowBasedKeyValueBatch: Calling spill() on RowBasedKeyValueBatch. Will not spill but return 0.\n",
      "25/05/07 19:15:19 WARN RowBasedKeyValueBatch: Calling spill() on RowBasedKeyValueBatch. Will not spill but return 0.\n",
      "25/05/07 19:15:20 WARN RowBasedKeyValueBatch: Calling spill() on RowBasedKeyValueBatch. Will not spill but return 0.\n",
      "25/05/07 19:15:20 WARN RowBasedKeyValueBatch: Calling spill() on RowBasedKeyValueBatch. Will not spill but return 0.\n",
      "25/05/07 19:15:20 WARN RowBasedKeyValueBatch: Calling spill() on RowBasedKeyValueBatch. Will not spill but return 0.\n",
      "25/05/07 19:15:20 WARN RowBasedKeyValueBatch: Calling spill() on RowBasedKeyValueBatch. Will not spill but return 0.\n",
      "25/05/07 19:15:20 WARN RowBasedKeyValueBatch: Calling spill() on RowBasedKeyValueBatch. Will not spill but return 0.\n",
      "25/05/07 19:15:21 WARN RowBasedKeyValueBatch: Calling spill() on RowBasedKeyValueBatch. Will not spill but return 0.\n",
      "25/05/07 19:15:21 WARN RowBasedKeyValueBatch: Calling spill() on RowBasedKeyValueBatch. Will not spill but return 0.\n",
      "25/05/07 19:15:21 WARN RowBasedKeyValueBatch: Calling spill() on RowBasedKeyValueBatch. Will not spill but return 0.\n",
      "25/05/07 19:15:21 WARN RowBasedKeyValueBatch: Calling spill() on RowBasedKeyValueBatch. Will not spill but return 0.\n",
      "25/05/07 19:15:24 WARN RowBasedKeyValueBatch: Calling spill() on RowBasedKeyValueBatch. Will not spill but return 0.\n",
      "25/05/07 19:15:24 WARN RowBasedKeyValueBatch: Calling spill() on RowBasedKeyValueBatch. Will not spill but return 0.\n",
      "25/05/07 19:15:27 WARN RowBasedKeyValueBatch: Calling spill() on RowBasedKeyValueBatch. Will not spill but return 0.\n",
      "25/05/07 19:15:27 WARN RowBasedKeyValueBatch: Calling spill() on RowBasedKeyValueBatch. Will not spill but return 0.\n",
      "25/05/07 19:15:28 WARN RowBasedKeyValueBatch: Calling spill() on RowBasedKeyValueBatch. Will not spill but return 0.\n",
      "25/05/07 19:15:29 WARN RowBasedKeyValueBatch: Calling spill() on RowBasedKeyValueBatch. Will not spill but return 0.\n",
      "25/05/07 19:15:31 WARN RowBasedKeyValueBatch: Calling spill() on RowBasedKeyValueBatch. Will not spill but return 0.\n",
      "25/05/07 19:18:34 WARN RowBasedKeyValueBatch: Calling spill() on RowBasedKeyValueBatch. Will not spill but return 0.\n",
      "25/05/07 19:18:34 WARN RowBasedKeyValueBatch: Calling spill() on RowBasedKeyValueBatch. Will not spill but return 0.\n",
      "25/05/07 19:18:36 WARN RowBasedKeyValueBatch: Calling spill() on RowBasedKeyValueBatch. Will not spill but return 0.\n",
      "25/05/07 19:18:36 WARN RowBasedKeyValueBatch: Calling spill() on RowBasedKeyValueBatch. Will not spill but return 0.\n",
      "25/05/07 19:18:36 WARN RowBasedKeyValueBatch: Calling spill() on RowBasedKeyValueBatch. Will not spill but return 0.\n",
      "25/05/07 19:18:36 WARN RowBasedKeyValueBatch: Calling spill() on RowBasedKeyValueBatch. Will not spill but return 0.\n",
      "25/05/07 19:18:36 WARN RowBasedKeyValueBatch: Calling spill() on RowBasedKeyValueBatch. Will not spill but return 0.\n",
      "25/05/07 19:18:36 WARN RowBasedKeyValueBatch: Calling spill() on RowBasedKeyValueBatch. Will not spill but return 0.\n",
      "25/05/07 19:18:36 WARN RowBasedKeyValueBatch: Calling spill() on RowBasedKeyValueBatch. Will not spill but return 0.\n",
      "25/05/07 19:18:37 WARN RowBasedKeyValueBatch: Calling spill() on RowBasedKeyValueBatch. Will not spill but return 0.\n",
      "25/05/07 19:18:37 WARN RowBasedKeyValueBatch: Calling spill() on RowBasedKeyValueBatch. Will not spill but return 0.\n",
      "25/05/07 19:18:37 WARN RowBasedKeyValueBatch: Calling spill() on RowBasedKeyValueBatch. Will not spill but return 0.\n",
      "25/05/07 19:18:37 WARN RowBasedKeyValueBatch: Calling spill() on RowBasedKeyValueBatch. Will not spill but return 0.\n",
      "25/05/07 19:18:38 WARN RowBasedKeyValueBatch: Calling spill() on RowBasedKeyValueBatch. Will not spill but return 0.\n",
      "25/05/07 19:18:38 WARN RowBasedKeyValueBatch: Calling spill() on RowBasedKeyValueBatch. Will not spill but return 0.\n",
      "25/05/07 19:18:39 WARN RowBasedKeyValueBatch: Calling spill() on RowBasedKeyValueBatch. Will not spill but return 0.\n",
      "25/05/07 19:18:42 WARN RowBasedKeyValueBatch: Calling spill() on RowBasedKeyValueBatch. Will not spill but return 0.\n",
      "25/05/07 19:18:44 WARN RowBasedKeyValueBatch: Calling spill() on RowBasedKeyValueBatch. Will not spill but return 0.\n",
      "25/05/07 19:18:45 WARN RowBasedKeyValueBatch: Calling spill() on RowBasedKeyValueBatch. Will not spill but return 0.\n",
      "25/05/07 19:18:45 WARN RowBasedKeyValueBatch: Calling spill() on RowBasedKeyValueBatch. Will not spill but return 0.\n",
      "25/05/07 19:18:48 WARN RowBasedKeyValueBatch: Calling spill() on RowBasedKeyValueBatch. Will not spill but return 0.\n",
      "25/05/07 19:18:48 WARN RowBasedKeyValueBatch: Calling spill() on RowBasedKeyValueBatch. Will not spill but return 0.\n",
      "25/05/07 19:18:48 WARN RowBasedKeyValueBatch: Calling spill() on RowBasedKeyValueBatch. Will not spill but return 0.\n",
      "25/05/07 19:18:49 WARN RowBasedKeyValueBatch: Calling spill() on RowBasedKeyValueBatch. Will not spill but return 0.\n",
      "25/05/07 19:18:49 WARN RowBasedKeyValueBatch: Calling spill() on RowBasedKeyValueBatch. Will not spill but return 0.\n",
      "25/05/07 19:18:49 WARN RowBasedKeyValueBatch: Calling spill() on RowBasedKeyValueBatch. Will not spill but return 0.\n",
      "25/05/07 19:18:49 WARN RowBasedKeyValueBatch: Calling spill() on RowBasedKeyValueBatch. Will not spill but return 0.\n",
      "25/05/07 19:18:49 WARN RowBasedKeyValueBatch: Calling spill() on RowBasedKeyValueBatch. Will not spill but return 0.\n",
      "25/05/07 19:18:49 WARN RowBasedKeyValueBatch: Calling spill() on RowBasedKeyValueBatch. Will not spill but return 0.\n",
      "25/05/07 19:18:50 WARN RowBasedKeyValueBatch: Calling spill() on RowBasedKeyValueBatch. Will not spill but return 0.\n",
      "25/05/07 19:18:50 WARN RowBasedKeyValueBatch: Calling spill() on RowBasedKeyValueBatch. Will not spill but return 0.\n",
      "25/05/07 19:18:50 WARN RowBasedKeyValueBatch: Calling spill() on RowBasedKeyValueBatch. Will not spill but return 0.\n",
      "25/05/07 19:18:50 WARN RowBasedKeyValueBatch: Calling spill() on RowBasedKeyValueBatch. Will not spill but return 0.\n",
      "25/05/07 19:18:51 WARN RowBasedKeyValueBatch: Calling spill() on RowBasedKeyValueBatch. Will not spill but return 0.\n",
      "25/05/07 19:18:51 WARN RowBasedKeyValueBatch: Calling spill() on RowBasedKeyValueBatch. Will not spill but return 0.\n",
      "25/05/07 19:18:51 WARN RowBasedKeyValueBatch: Calling spill() on RowBasedKeyValueBatch. Will not spill but return 0.\n",
      "25/05/07 19:18:52 WARN RowBasedKeyValueBatch: Calling spill() on RowBasedKeyValueBatch. Will not spill but return 0.\n",
      "25/05/07 19:18:52 WARN RowBasedKeyValueBatch: Calling spill() on RowBasedKeyValueBatch. Will not spill but return 0.\n",
      "25/05/07 19:18:57 WARN RowBasedKeyValueBatch: Calling spill() on RowBasedKeyValueBatch. Will not spill but return 0.\n",
      "25/05/07 19:18:57 WARN RowBasedKeyValueBatch: Calling spill() on RowBasedKeyValueBatch. Will not spill but return 0.\n",
      "25/05/07 19:18:59 WARN RowBasedKeyValueBatch: Calling spill() on RowBasedKeyValueBatch. Will not spill but return 0.\n",
      "25/05/07 19:19:00 WARN RowBasedKeyValueBatch: Calling spill() on RowBasedKeyValueBatch. Will not spill but return 0.\n",
      "[Stage 203:==============================================>                              (3 + 2) / 5]\r"
     ]
    },
    {
     "name": "stdout",
     "output_type": "stream",
     "text": [
      "+----------+-------+------+-----+----+-----------+----------+------------+--------------+----------------+-----------+-------------+-----+----------------+-----------------+----------------+----------------+--------------------+------------------+--------------------+\n",
      "|event_type|  brand| price|count|week|   category|   product|is_purchased|category_index|event_type_index|brand_index|product_index|label| category_vector|event_type_vector|    brand_vector|  product_vector|categorical_features|numerical_features|            features|\n",
      "+----------+-------+------+-----+----+-----------+----------+------------+--------------+----------------+-----------+-------------+-----+----------------+-----------------+----------------+----------------+--------------------+------------------+--------------------+\n",
      "|      cart|samsung| 171.9|  165|   4|electronics|smartphone|           0|           0.0|             0.0|        0.0|          0.0|  0.0|(1335,[0],[1.0])|    (1,[0],[1.0])|(1969,[0],[1.0])|(1440,[0],[1.0])|(4745,[0,1335,133...| [165.0,4.0,171.9]|(4748,[0,1335,133...|\n",
      "|  purchase| xiaomi|189.89|   42|   3|electronics|smartphone|           1|           0.0|             1.0|        2.0|          0.0|  1.0|(1335,[0],[1.0])|        (1,[],[])|(1969,[2],[1.0])|(1440,[0],[1.0])|(4745,[0,1338,330...| [42.0,3.0,189.89]|(4748,[0,1338,330...|\n",
      "+----------+-------+------+-----+----+-----------+----------+------------+--------------+----------------+-----------+-------------+-----+----------------+-----------------+----------------+----------------+--------------------+------------------+--------------------+\n",
      "only showing top 2 rows\n",
      "\n"
     ]
    },
    {
     "name": "stderr",
     "output_type": "stream",
     "text": [
      "                                                                                                    \r"
     ]
    }
   ],
   "source": [
    "features = features.na.drop()\n",
    "df_transformed = feature_pipeline.fit(features).transform(features)\n",
    "if output_show:\n",
    "  df_transformed.show(2)"
   ]
  },
  {
   "cell_type": "code",
   "execution_count": 35,
   "id": "45dac1f1",
   "metadata": {
    "execution": {
     "iopub.execute_input": "2025-05-07T19:19:19.293462Z",
     "iopub.status.busy": "2025-05-07T19:19:19.293161Z",
     "iopub.status.idle": "2025-05-07T19:19:19.401079Z",
     "shell.execute_reply": "2025-05-07T19:19:19.400445Z"
    },
    "id": "-H6LTakAokwD",
    "papermill": {
     "duration": 0.161293,
     "end_time": "2025-05-07T19:19:19.402632",
     "exception": false,
     "start_time": "2025-05-07T19:19:19.241339",
     "status": "completed"
    },
    "tags": []
   },
   "outputs": [
    {
     "name": "stdout",
     "output_type": "stream",
     "text": [
      "root\n",
      " |-- features: vector (nullable = true)\n",
      " |-- label: double (nullable = false)\n",
      "\n"
     ]
    }
   ],
   "source": [
    "final_data = df_transformed.select(\"features\", \"label\")\n",
    "final_data = final_data.na.drop()\n",
    "final_data.printSchema()"
   ]
  },
  {
   "cell_type": "code",
   "execution_count": 36,
   "id": "2832a58e",
   "metadata": {
    "execution": {
     "iopub.execute_input": "2025-05-07T19:19:19.581816Z",
     "iopub.status.busy": "2025-05-07T19:19:19.581067Z",
     "iopub.status.idle": "2025-05-07T19:19:19.601984Z",
     "shell.execute_reply": "2025-05-07T19:19:19.601344Z"
    },
    "id": "HUQh3pzuo9KG",
    "papermill": {
     "duration": 0.130773,
     "end_time": "2025-05-07T19:19:19.603146",
     "exception": false,
     "start_time": "2025-05-07T19:19:19.472373",
     "status": "completed"
    },
    "tags": []
   },
   "outputs": [],
   "source": [
    "(trainingData, testData) = final_data.randomSplit([0.7, 0.3])"
   ]
  },
  {
   "cell_type": "markdown",
   "id": "a0de081d",
   "metadata": {
    "id": "l-_YkBQpWrN3",
    "papermill": {
     "duration": 0.051888,
     "end_time": "2025-05-07T19:19:19.709444",
     "exception": false,
     "start_time": "2025-05-07T19:19:19.657556",
     "status": "completed"
    },
    "tags": []
   },
   "source": [
    "Random Forest"
   ]
  },
  {
   "cell_type": "code",
   "execution_count": 37,
   "id": "a6ef7764",
   "metadata": {
    "execution": {
     "iopub.execute_input": "2025-05-07T19:19:19.815342Z",
     "iopub.status.busy": "2025-05-07T19:19:19.814574Z",
     "iopub.status.idle": "2025-05-07T19:35:00.704431Z",
     "shell.execute_reply": "2025-05-07T19:35:00.703875Z"
    },
    "id": "XakF8gtskhpU",
    "papermill": {
     "duration": 940.944397,
     "end_time": "2025-05-07T19:35:00.705794",
     "exception": false,
     "start_time": "2025-05-07T19:19:19.761397",
     "status": "completed"
    },
    "tags": []
   },
   "outputs": [
    {
     "name": "stderr",
     "output_type": "stream",
     "text": [
      "25/05/07 19:22:01 WARN RowBasedKeyValueBatch: Calling spill() on RowBasedKeyValueBatch. Will not spill but return 0.\n",
      "25/05/07 19:22:01 WARN RowBasedKeyValueBatch: Calling spill() on RowBasedKeyValueBatch. Will not spill but return 0.\n",
      "25/05/07 19:22:02 WARN RowBasedKeyValueBatch: Calling spill() on RowBasedKeyValueBatch. Will not spill but return 0.\n",
      "25/05/07 19:22:02 WARN RowBasedKeyValueBatch: Calling spill() on RowBasedKeyValueBatch. Will not spill but return 0.\n",
      "25/05/07 19:22:02 WARN RowBasedKeyValueBatch: Calling spill() on RowBasedKeyValueBatch. Will not spill but return 0.\n",
      "25/05/07 19:22:02 WARN RowBasedKeyValueBatch: Calling spill() on RowBasedKeyValueBatch. Will not spill but return 0.\n",
      "25/05/07 19:22:03 WARN RowBasedKeyValueBatch: Calling spill() on RowBasedKeyValueBatch. Will not spill but return 0.\n",
      "25/05/07 19:22:03 WARN RowBasedKeyValueBatch: Calling spill() on RowBasedKeyValueBatch. Will not spill but return 0.\n",
      "25/05/07 19:22:03 WARN RowBasedKeyValueBatch: Calling spill() on RowBasedKeyValueBatch. Will not spill but return 0.\n",
      "25/05/07 19:22:03 WARN RowBasedKeyValueBatch: Calling spill() on RowBasedKeyValueBatch. Will not spill but return 0.\n",
      "25/05/07 19:22:04 WARN RowBasedKeyValueBatch: Calling spill() on RowBasedKeyValueBatch. Will not spill but return 0.\n",
      "25/05/07 19:22:04 WARN RowBasedKeyValueBatch: Calling spill() on RowBasedKeyValueBatch. Will not spill but return 0.\n",
      "25/05/07 19:22:04 WARN RowBasedKeyValueBatch: Calling spill() on RowBasedKeyValueBatch. Will not spill but return 0.\n",
      "25/05/07 19:22:04 WARN RowBasedKeyValueBatch: Calling spill() on RowBasedKeyValueBatch. Will not spill but return 0.\n",
      "25/05/07 19:22:04 WARN RowBasedKeyValueBatch: Calling spill() on RowBasedKeyValueBatch. Will not spill but return 0.\n",
      "25/05/07 19:22:04 WARN RowBasedKeyValueBatch: Calling spill() on RowBasedKeyValueBatch. Will not spill but return 0.\n",
      "25/05/07 19:22:06 WARN RowBasedKeyValueBatch: Calling spill() on RowBasedKeyValueBatch. Will not spill but return 0.\n",
      "25/05/07 19:22:07 WARN RowBasedKeyValueBatch: Calling spill() on RowBasedKeyValueBatch. Will not spill but return 0.\n",
      "25/05/07 19:22:10 WARN RowBasedKeyValueBatch: Calling spill() on RowBasedKeyValueBatch. Will not spill but return 0.\n",
      "25/05/07 19:22:11 WARN RowBasedKeyValueBatch: Calling spill() on RowBasedKeyValueBatch. Will not spill but return 0.\n",
      "25/05/07 19:22:11 WARN RowBasedKeyValueBatch: Calling spill() on RowBasedKeyValueBatch. Will not spill but return 0.\n",
      "25/05/07 19:22:14 WARN RowBasedKeyValueBatch: Calling spill() on RowBasedKeyValueBatch. Will not spill but return 0.\n",
      "25/05/07 19:22:15 WARN RowBasedKeyValueBatch: Calling spill() on RowBasedKeyValueBatch. Will not spill but return 0.\n",
      "25/05/07 19:22:15 WARN RowBasedKeyValueBatch: Calling spill() on RowBasedKeyValueBatch. Will not spill but return 0.\n",
      "25/05/07 19:22:15 WARN RowBasedKeyValueBatch: Calling spill() on RowBasedKeyValueBatch. Will not spill but return 0.\n",
      "25/05/07 19:22:15 WARN RowBasedKeyValueBatch: Calling spill() on RowBasedKeyValueBatch. Will not spill but return 0.\n",
      "25/05/07 19:22:15 WARN RowBasedKeyValueBatch: Calling spill() on RowBasedKeyValueBatch. Will not spill but return 0.\n",
      "25/05/07 19:22:16 WARN RowBasedKeyValueBatch: Calling spill() on RowBasedKeyValueBatch. Will not spill but return 0.\n",
      "25/05/07 19:22:16 WARN RowBasedKeyValueBatch: Calling spill() on RowBasedKeyValueBatch. Will not spill but return 0.\n",
      "25/05/07 19:22:16 WARN RowBasedKeyValueBatch: Calling spill() on RowBasedKeyValueBatch. Will not spill but return 0.\n",
      "25/05/07 19:22:16 WARN RowBasedKeyValueBatch: Calling spill() on RowBasedKeyValueBatch. Will not spill but return 0.\n",
      "25/05/07 19:22:17 WARN RowBasedKeyValueBatch: Calling spill() on RowBasedKeyValueBatch. Will not spill but return 0.\n",
      "25/05/07 19:22:17 WARN RowBasedKeyValueBatch: Calling spill() on RowBasedKeyValueBatch. Will not spill but return 0.\n",
      "25/05/07 19:22:17 WARN RowBasedKeyValueBatch: Calling spill() on RowBasedKeyValueBatch. Will not spill but return 0.\n",
      "25/05/07 19:22:17 WARN RowBasedKeyValueBatch: Calling spill() on RowBasedKeyValueBatch. Will not spill but return 0.\n",
      "25/05/07 19:22:18 WARN RowBasedKeyValueBatch: Calling spill() on RowBasedKeyValueBatch. Will not spill but return 0.\n",
      "25/05/07 19:22:18 WARN RowBasedKeyValueBatch: Calling spill() on RowBasedKeyValueBatch. Will not spill but return 0.\n",
      "25/05/07 19:22:19 WARN RowBasedKeyValueBatch: Calling spill() on RowBasedKeyValueBatch. Will not spill but return 0.\n",
      "25/05/07 19:22:19 WARN RowBasedKeyValueBatch: Calling spill() on RowBasedKeyValueBatch. Will not spill but return 0.\n",
      "25/05/07 19:22:25 WARN RowBasedKeyValueBatch: Calling spill() on RowBasedKeyValueBatch. Will not spill but return 0.\n",
      "25/05/07 19:22:25 WARN RowBasedKeyValueBatch: Calling spill() on RowBasedKeyValueBatch. Will not spill but return 0.\n",
      "25/05/07 19:22:27 WARN RowBasedKeyValueBatch: Calling spill() on RowBasedKeyValueBatch. Will not spill but return 0.\n",
      "25/05/07 19:22:28 WARN RowBasedKeyValueBatch: Calling spill() on RowBasedKeyValueBatch. Will not spill but return 0.\n",
      "25/05/07 19:25:27 WARN RowBasedKeyValueBatch: Calling spill() on RowBasedKeyValueBatch. Will not spill but return 0.\n",
      "25/05/07 19:25:27 WARN RowBasedKeyValueBatch: Calling spill() on RowBasedKeyValueBatch. Will not spill but return 0.\n",
      "25/05/07 19:25:29 WARN RowBasedKeyValueBatch: Calling spill() on RowBasedKeyValueBatch. Will not spill but return 0.\n",
      "25/05/07 19:25:29 WARN RowBasedKeyValueBatch: Calling spill() on RowBasedKeyValueBatch. Will not spill but return 0.\n",
      "25/05/07 19:25:30 WARN RowBasedKeyValueBatch: Calling spill() on RowBasedKeyValueBatch. Will not spill but return 0.\n",
      "25/05/07 19:25:30 WARN RowBasedKeyValueBatch: Calling spill() on RowBasedKeyValueBatch. Will not spill but return 0.\n",
      "25/05/07 19:25:30 WARN RowBasedKeyValueBatch: Calling spill() on RowBasedKeyValueBatch. Will not spill but return 0.\n",
      "25/05/07 19:25:30 WARN RowBasedKeyValueBatch: Calling spill() on RowBasedKeyValueBatch. Will not spill but return 0.\n",
      "25/05/07 19:25:30 WARN RowBasedKeyValueBatch: Calling spill() on RowBasedKeyValueBatch. Will not spill but return 0.\n",
      "25/05/07 19:25:31 WARN RowBasedKeyValueBatch: Calling spill() on RowBasedKeyValueBatch. Will not spill but return 0.\n",
      "25/05/07 19:25:31 WARN RowBasedKeyValueBatch: Calling spill() on RowBasedKeyValueBatch. Will not spill but return 0.\n",
      "25/05/07 19:25:31 WARN RowBasedKeyValueBatch: Calling spill() on RowBasedKeyValueBatch. Will not spill but return 0.\n",
      "25/05/07 19:25:31 WARN RowBasedKeyValueBatch: Calling spill() on RowBasedKeyValueBatch. Will not spill but return 0.\n",
      "25/05/07 19:25:31 WARN RowBasedKeyValueBatch: Calling spill() on RowBasedKeyValueBatch. Will not spill but return 0.\n",
      "25/05/07 19:25:32 WARN RowBasedKeyValueBatch: Calling spill() on RowBasedKeyValueBatch. Will not spill but return 0.\n",
      "25/05/07 19:25:32 WARN RowBasedKeyValueBatch: Calling spill() on RowBasedKeyValueBatch. Will not spill but return 0.\n",
      "25/05/07 19:25:35 WARN RowBasedKeyValueBatch: Calling spill() on RowBasedKeyValueBatch. Will not spill but return 0.\n",
      "25/05/07 19:25:38 WARN RowBasedKeyValueBatch: Calling spill() on RowBasedKeyValueBatch. Will not spill but return 0.\n",
      "25/05/07 19:25:38 WARN RowBasedKeyValueBatch: Calling spill() on RowBasedKeyValueBatch. Will not spill but return 0.\n",
      "25/05/07 19:25:39 WARN RowBasedKeyValueBatch: Calling spill() on RowBasedKeyValueBatch. Will not spill but return 0.\n",
      "25/05/07 19:25:41 WARN RowBasedKeyValueBatch: Calling spill() on RowBasedKeyValueBatch. Will not spill but return 0.\n",
      "25/05/07 19:25:41 WARN RowBasedKeyValueBatch: Calling spill() on RowBasedKeyValueBatch. Will not spill but return 0.\n",
      "25/05/07 19:25:42 WARN RowBasedKeyValueBatch: Calling spill() on RowBasedKeyValueBatch. Will not spill but return 0.\n",
      "25/05/07 19:25:42 WARN RowBasedKeyValueBatch: Calling spill() on RowBasedKeyValueBatch. Will not spill but return 0.\n",
      "25/05/07 19:25:42 WARN RowBasedKeyValueBatch: Calling spill() on RowBasedKeyValueBatch. Will not spill but return 0.\n",
      "25/05/07 19:25:42 WARN RowBasedKeyValueBatch: Calling spill() on RowBasedKeyValueBatch. Will not spill but return 0.\n",
      "25/05/07 19:25:43 WARN RowBasedKeyValueBatch: Calling spill() on RowBasedKeyValueBatch. Will not spill but return 0.\n",
      "25/05/07 19:25:43 WARN RowBasedKeyValueBatch: Calling spill() on RowBasedKeyValueBatch. Will not spill but return 0.\n",
      "25/05/07 19:25:43 WARN RowBasedKeyValueBatch: Calling spill() on RowBasedKeyValueBatch. Will not spill but return 0.\n",
      "25/05/07 19:25:43 WARN RowBasedKeyValueBatch: Calling spill() on RowBasedKeyValueBatch. Will not spill but return 0.\n",
      "25/05/07 19:25:44 WARN RowBasedKeyValueBatch: Calling spill() on RowBasedKeyValueBatch. Will not spill but return 0.\n",
      "25/05/07 19:25:44 WARN RowBasedKeyValueBatch: Calling spill() on RowBasedKeyValueBatch. Will not spill but return 0.\n",
      "25/05/07 19:25:44 WARN RowBasedKeyValueBatch: Calling spill() on RowBasedKeyValueBatch. Will not spill but return 0.\n",
      "25/05/07 19:25:45 WARN RowBasedKeyValueBatch: Calling spill() on RowBasedKeyValueBatch. Will not spill but return 0.\n",
      "25/05/07 19:25:45 WARN RowBasedKeyValueBatch: Calling spill() on RowBasedKeyValueBatch. Will not spill but return 0.\n",
      "25/05/07 19:25:46 WARN RowBasedKeyValueBatch: Calling spill() on RowBasedKeyValueBatch. Will not spill but return 0.\n",
      "25/05/07 19:25:48 WARN RowBasedKeyValueBatch: Calling spill() on RowBasedKeyValueBatch. Will not spill but return 0.\n",
      "25/05/07 19:25:49 WARN RowBasedKeyValueBatch: Calling spill() on RowBasedKeyValueBatch. Will not spill but return 0.\n",
      "25/05/07 19:25:51 WARN RowBasedKeyValueBatch: Calling spill() on RowBasedKeyValueBatch. Will not spill but return 0.\n",
      "25/05/07 19:25:51 WARN RowBasedKeyValueBatch: Calling spill() on RowBasedKeyValueBatch. Will not spill but return 0.\n",
      "25/05/07 19:25:52 WARN RowBasedKeyValueBatch: Calling spill() on RowBasedKeyValueBatch. Will not spill but return 0.\n",
      "25/05/07 19:25:52 WARN RowBasedKeyValueBatch: Calling spill() on RowBasedKeyValueBatch. Will not spill but return 0.\n",
      "25/05/07 19:25:53 WARN RowBasedKeyValueBatch: Calling spill() on RowBasedKeyValueBatch. Will not spill but return 0.\n",
      "25/05/07 19:25:54 WARN RowBasedKeyValueBatch: Calling spill() on RowBasedKeyValueBatch. Will not spill but return 0.\n",
      "25/05/07 19:25:55 WARN RowBasedKeyValueBatch: Calling spill() on RowBasedKeyValueBatch. Will not spill but return 0.\n",
      "25/05/07 19:26:14 WARN DAGScheduler: Broadcasting large task binary with size 1071.4 KiB\n",
      "25/05/07 19:26:17 WARN DAGScheduler: Broadcasting large task binary with size 1071.5 KiB\n",
      "25/05/07 19:26:23 WARN DAGScheduler: Broadcasting large task binary with size 1075.4 KiB\n",
      "25/05/07 19:26:30 WARN DAGScheduler: Broadcasting large task binary with size 1211.1 KiB\n",
      "25/05/07 19:26:36 WARN MemoryStore: Not enough space to cache rdd_512_3 in memory! (computed 40.2 MiB so far)\n",
      "25/05/07 19:26:36 WARN BlockManager: Persisting block rdd_512_3 to disk instead.\n",
      "25/05/07 19:26:36 WARN MemoryStore: Not enough space to cache rdd_512_1 in memory! (computed 61.8 MiB so far)\n",
      "25/05/07 19:26:36 WARN BlockManager: Persisting block rdd_512_1 to disk instead.\n",
      "25/05/07 19:26:36 WARN MemoryStore: Not enough space to cache rdd_512_2 in memory! (computed 61.8 MiB so far)\n",
      "25/05/07 19:26:36 WARN BlockManager: Persisting block rdd_512_2 to disk instead.\n",
      "25/05/07 19:26:37 WARN MemoryStore: Not enough space to cache rdd_512_0 in memory! (computed 211.7 MiB so far)\n",
      "25/05/07 19:26:37 WARN BlockManager: Persisting block rdd_512_0 to disk instead.\n",
      "25/05/07 19:27:04 WARN MemoryStore: Not enough space to cache rdd_512_2 in memory! (computed 26.2 MiB so far)\n",
      "25/05/07 19:27:04 WARN MemoryStore: Not enough space to cache rdd_512_1 in memory! (computed 139.4 MiB so far)\n",
      "25/05/07 19:27:04 WARN MemoryStore: Not enough space to cache rdd_512_0 in memory! (computed 211.7 MiB so far)\n",
      "25/05/07 19:27:05 WARN MemoryStore: Not enough space to cache rdd_512_3 in memory! (computed 328.9 MiB so far)\n",
      "25/05/07 19:27:15 WARN DAGScheduler: Broadcasting large task binary with size 1221.6 KiB\n",
      "25/05/07 19:27:15 WARN MemoryStore: Not enough space to cache rdd_512_3 in memory! (computed 92.9 MiB so far)\n",
      "25/05/07 19:27:15 WARN MemoryStore: Not enough space to cache rdd_512_2 in memory! (computed 92.9 MiB so far)\n",
      "25/05/07 19:27:16 WARN MemoryStore: Not enough space to cache rdd_512_0 in memory! (computed 92.9 MiB so far)\n",
      "25/05/07 19:27:16 WARN MemoryStore: Not enough space to cache rdd_512_1 in memory! (computed 328.9 MiB so far)\n",
      "25/05/07 19:27:26 WARN DAGScheduler: Broadcasting large task binary with size 1231.8 KiB\n",
      "25/05/07 19:27:26 WARN MemoryStore: Not enough space to cache rdd_512_0 in memory! (computed 61.8 MiB so far)\n",
      "25/05/07 19:27:26 WARN MemoryStore: Not enough space to cache rdd_512_2 in memory! (computed 92.9 MiB so far)\n",
      "25/05/07 19:27:26 WARN MemoryStore: Not enough space to cache rdd_512_1 in memory! (computed 139.4 MiB so far)\n",
      "25/05/07 19:27:27 WARN MemoryStore: Not enough space to cache rdd_512_3 in memory! (computed 328.9 MiB so far)\n",
      "25/05/07 19:27:37 WARN DAGScheduler: Broadcasting large task binary with size 1238.7 KiB\n",
      "25/05/07 19:27:37 WARN MemoryStore: Not enough space to cache rdd_512_0 in memory! (computed 92.9 MiB so far)\n",
      "25/05/07 19:27:37 WARN MemoryStore: Not enough space to cache rdd_512_1 in memory! (computed 92.9 MiB so far)\n",
      "25/05/07 19:27:37 WARN MemoryStore: Not enough space to cache rdd_512_3 in memory! (computed 139.4 MiB so far)\n",
      "25/05/07 19:27:37 WARN MemoryStore: Not enough space to cache rdd_512_2 in memory! (computed 92.9 MiB so far)\n",
      "25/05/07 19:27:48 WARN DAGScheduler: Broadcasting large task binary with size 1248.6 KiB\n",
      "25/05/07 19:27:48 WARN MemoryStore: Not enough space to cache rdd_512_3 in memory! (computed 92.9 MiB so far)\n",
      "25/05/07 19:27:48 WARN MemoryStore: Not enough space to cache rdd_512_1 in memory! (computed 92.9 MiB so far)\n",
      "25/05/07 19:27:49 WARN MemoryStore: Not enough space to cache rdd_512_0 in memory! (computed 211.7 MiB so far)\n",
      "25/05/07 19:27:49 WARN MemoryStore: Not enough space to cache rdd_512_2 in memory! (computed 211.7 MiB so far)\n",
      "25/05/07 19:30:48 WARN RowBasedKeyValueBatch: Calling spill() on RowBasedKeyValueBatch. Will not spill but return 0.\n",
      "25/05/07 19:30:48 WARN RowBasedKeyValueBatch: Calling spill() on RowBasedKeyValueBatch. Will not spill but return 0.\n",
      "25/05/07 19:30:49 WARN RowBasedKeyValueBatch: Calling spill() on RowBasedKeyValueBatch. Will not spill but return 0.\n",
      "25/05/07 19:30:49 WARN RowBasedKeyValueBatch: Calling spill() on RowBasedKeyValueBatch. Will not spill but return 0.\n",
      "25/05/07 19:30:49 WARN RowBasedKeyValueBatch: Calling spill() on RowBasedKeyValueBatch. Will not spill but return 0.\n",
      "25/05/07 19:30:49 WARN RowBasedKeyValueBatch: Calling spill() on RowBasedKeyValueBatch. Will not spill but return 0.\n",
      "25/05/07 19:30:50 WARN RowBasedKeyValueBatch: Calling spill() on RowBasedKeyValueBatch. Will not spill but return 0.\n",
      "25/05/07 19:30:50 WARN RowBasedKeyValueBatch: Calling spill() on RowBasedKeyValueBatch. Will not spill but return 0.\n",
      "25/05/07 19:30:50 WARN RowBasedKeyValueBatch: Calling spill() on RowBasedKeyValueBatch. Will not spill but return 0.\n",
      "25/05/07 19:30:50 WARN RowBasedKeyValueBatch: Calling spill() on RowBasedKeyValueBatch. Will not spill but return 0.\n",
      "25/05/07 19:30:50 WARN RowBasedKeyValueBatch: Calling spill() on RowBasedKeyValueBatch. Will not spill but return 0.\n",
      "25/05/07 19:30:50 WARN RowBasedKeyValueBatch: Calling spill() on RowBasedKeyValueBatch. Will not spill but return 0.\n",
      "25/05/07 19:30:51 WARN RowBasedKeyValueBatch: Calling spill() on RowBasedKeyValueBatch. Will not spill but return 0.\n",
      "25/05/07 19:30:51 WARN RowBasedKeyValueBatch: Calling spill() on RowBasedKeyValueBatch. Will not spill but return 0.\n",
      "25/05/07 19:30:51 WARN RowBasedKeyValueBatch: Calling spill() on RowBasedKeyValueBatch. Will not spill but return 0.\n",
      "25/05/07 19:30:51 WARN RowBasedKeyValueBatch: Calling spill() on RowBasedKeyValueBatch. Will not spill but return 0.\n",
      "25/05/07 19:30:54 WARN RowBasedKeyValueBatch: Calling spill() on RowBasedKeyValueBatch. Will not spill but return 0.\n",
      "25/05/07 19:30:57 WARN RowBasedKeyValueBatch: Calling spill() on RowBasedKeyValueBatch. Will not spill but return 0.\n",
      "25/05/07 19:30:57 WARN RowBasedKeyValueBatch: Calling spill() on RowBasedKeyValueBatch. Will not spill but return 0.\n",
      "25/05/07 19:30:58 WARN RowBasedKeyValueBatch: Calling spill() on RowBasedKeyValueBatch. Will not spill but return 0.\n",
      "25/05/07 19:31:01 WARN RowBasedKeyValueBatch: Calling spill() on RowBasedKeyValueBatch. Will not spill but return 0.\n",
      "25/05/07 19:31:02 WARN RowBasedKeyValueBatch: Calling spill() on RowBasedKeyValueBatch. Will not spill but return 0.\n",
      "25/05/07 19:31:02 WARN RowBasedKeyValueBatch: Calling spill() on RowBasedKeyValueBatch. Will not spill but return 0.\n",
      "25/05/07 19:31:02 WARN RowBasedKeyValueBatch: Calling spill() on RowBasedKeyValueBatch. Will not spill but return 0.\n",
      "25/05/07 19:31:02 WARN RowBasedKeyValueBatch: Calling spill() on RowBasedKeyValueBatch. Will not spill but return 0.\n",
      "25/05/07 19:31:03 WARN RowBasedKeyValueBatch: Calling spill() on RowBasedKeyValueBatch. Will not spill but return 0.\n",
      "25/05/07 19:31:03 WARN RowBasedKeyValueBatch: Calling spill() on RowBasedKeyValueBatch. Will not spill but return 0.\n",
      "25/05/07 19:31:03 WARN RowBasedKeyValueBatch: Calling spill() on RowBasedKeyValueBatch. Will not spill but return 0.\n",
      "25/05/07 19:31:03 WARN RowBasedKeyValueBatch: Calling spill() on RowBasedKeyValueBatch. Will not spill but return 0.\n",
      "25/05/07 19:31:04 WARN RowBasedKeyValueBatch: Calling spill() on RowBasedKeyValueBatch. Will not spill but return 0.\n",
      "25/05/07 19:31:04 WARN RowBasedKeyValueBatch: Calling spill() on RowBasedKeyValueBatch. Will not spill but return 0.\n",
      "25/05/07 19:31:04 WARN RowBasedKeyValueBatch: Calling spill() on RowBasedKeyValueBatch. Will not spill but return 0.\n",
      "25/05/07 19:31:04 WARN RowBasedKeyValueBatch: Calling spill() on RowBasedKeyValueBatch. Will not spill but return 0.\n",
      "25/05/07 19:31:05 WARN RowBasedKeyValueBatch: Calling spill() on RowBasedKeyValueBatch. Will not spill but return 0.\n",
      "25/05/07 19:31:05 WARN RowBasedKeyValueBatch: Calling spill() on RowBasedKeyValueBatch. Will not spill but return 0.\n",
      "25/05/07 19:31:05 WARN RowBasedKeyValueBatch: Calling spill() on RowBasedKeyValueBatch. Will not spill but return 0.\n",
      "25/05/07 19:31:08 WARN RowBasedKeyValueBatch: Calling spill() on RowBasedKeyValueBatch. Will not spill but return 0.\n",
      "25/05/07 19:31:08 WARN RowBasedKeyValueBatch: Calling spill() on RowBasedKeyValueBatch. Will not spill but return 0.\n",
      "25/05/07 19:31:11 WARN RowBasedKeyValueBatch: Calling spill() on RowBasedKeyValueBatch. Will not spill but return 0.\n",
      "25/05/07 19:31:11 WARN RowBasedKeyValueBatch: Calling spill() on RowBasedKeyValueBatch. Will not spill but return 0.\n",
      "25/05/07 19:31:11 WARN RowBasedKeyValueBatch: Calling spill() on RowBasedKeyValueBatch. Will not spill but return 0.\n",
      "25/05/07 19:31:12 WARN RowBasedKeyValueBatch: Calling spill() on RowBasedKeyValueBatch. Will not spill but return 0.\n",
      "25/05/07 19:31:13 WARN RowBasedKeyValueBatch: Calling spill() on RowBasedKeyValueBatch. Will not spill but return 0.\n",
      "25/05/07 19:31:14 WARN RowBasedKeyValueBatch: Calling spill() on RowBasedKeyValueBatch. Will not spill but return 0.\n",
      "25/05/07 19:34:15 WARN RowBasedKeyValueBatch: Calling spill() on RowBasedKeyValueBatch. Will not spill but return 0.\n",
      "25/05/07 19:34:15 WARN RowBasedKeyValueBatch: Calling spill() on RowBasedKeyValueBatch. Will not spill but return 0.\n",
      "25/05/07 19:34:15 WARN RowBasedKeyValueBatch: Calling spill() on RowBasedKeyValueBatch. Will not spill but return 0.\n",
      "25/05/07 19:34:16 WARN RowBasedKeyValueBatch: Calling spill() on RowBasedKeyValueBatch. Will not spill but return 0.\n",
      "25/05/07 19:34:16 WARN RowBasedKeyValueBatch: Calling spill() on RowBasedKeyValueBatch. Will not spill but return 0.\n",
      "25/05/07 19:34:16 WARN RowBasedKeyValueBatch: Calling spill() on RowBasedKeyValueBatch. Will not spill but return 0.\n",
      "25/05/07 19:34:16 WARN RowBasedKeyValueBatch: Calling spill() on RowBasedKeyValueBatch. Will not spill but return 0.\n",
      "25/05/07 19:34:17 WARN RowBasedKeyValueBatch: Calling spill() on RowBasedKeyValueBatch. Will not spill but return 0.\n",
      "25/05/07 19:34:17 WARN RowBasedKeyValueBatch: Calling spill() on RowBasedKeyValueBatch. Will not spill but return 0.\n",
      "25/05/07 19:34:17 WARN RowBasedKeyValueBatch: Calling spill() on RowBasedKeyValueBatch. Will not spill but return 0.\n",
      "25/05/07 19:34:17 WARN RowBasedKeyValueBatch: Calling spill() on RowBasedKeyValueBatch. Will not spill but return 0.\n",
      "25/05/07 19:34:18 WARN RowBasedKeyValueBatch: Calling spill() on RowBasedKeyValueBatch. Will not spill but return 0.\n",
      "25/05/07 19:34:18 WARN RowBasedKeyValueBatch: Calling spill() on RowBasedKeyValueBatch. Will not spill but return 0.\n",
      "25/05/07 19:34:18 WARN RowBasedKeyValueBatch: Calling spill() on RowBasedKeyValueBatch. Will not spill but return 0.\n",
      "25/05/07 19:34:18 WARN RowBasedKeyValueBatch: Calling spill() on RowBasedKeyValueBatch. Will not spill but return 0.\n",
      "25/05/07 19:34:19 WARN RowBasedKeyValueBatch: Calling spill() on RowBasedKeyValueBatch. Will not spill but return 0.\n",
      "25/05/07 19:34:21 WARN RowBasedKeyValueBatch: Calling spill() on RowBasedKeyValueBatch. Will not spill but return 0.\n",
      "25/05/07 19:34:24 WARN RowBasedKeyValueBatch: Calling spill() on RowBasedKeyValueBatch. Will not spill but return 0.\n",
      "25/05/07 19:34:25 WARN RowBasedKeyValueBatch: Calling spill() on RowBasedKeyValueBatch. Will not spill but return 0.\n",
      "25/05/07 19:34:26 WARN RowBasedKeyValueBatch: Calling spill() on RowBasedKeyValueBatch. Will not spill but return 0.\n",
      "25/05/07 19:34:29 WARN RowBasedKeyValueBatch: Calling spill() on RowBasedKeyValueBatch. Will not spill but return 0.\n",
      "25/05/07 19:34:29 WARN RowBasedKeyValueBatch: Calling spill() on RowBasedKeyValueBatch. Will not spill but return 0.\n",
      "25/05/07 19:34:29 WARN RowBasedKeyValueBatch: Calling spill() on RowBasedKeyValueBatch. Will not spill but return 0.\n",
      "25/05/07 19:34:29 WARN RowBasedKeyValueBatch: Calling spill() on RowBasedKeyValueBatch. Will not spill but return 0.\n",
      "25/05/07 19:34:29 WARN RowBasedKeyValueBatch: Calling spill() on RowBasedKeyValueBatch. Will not spill but return 0.\n",
      "25/05/07 19:34:29 WARN RowBasedKeyValueBatch: Calling spill() on RowBasedKeyValueBatch. Will not spill but return 0.\n",
      "25/05/07 19:34:30 WARN RowBasedKeyValueBatch: Calling spill() on RowBasedKeyValueBatch. Will not spill but return 0.\n",
      "25/05/07 19:34:30 WARN RowBasedKeyValueBatch: Calling spill() on RowBasedKeyValueBatch. Will not spill but return 0.\n",
      "25/05/07 19:34:30 WARN RowBasedKeyValueBatch: Calling spill() on RowBasedKeyValueBatch. Will not spill but return 0.\n",
      "25/05/07 19:34:30 WARN RowBasedKeyValueBatch: Calling spill() on RowBasedKeyValueBatch. Will not spill but return 0.\n",
      "25/05/07 19:34:30 WARN RowBasedKeyValueBatch: Calling spill() on RowBasedKeyValueBatch. Will not spill but return 0.\n",
      "25/05/07 19:34:30 WARN RowBasedKeyValueBatch: Calling spill() on RowBasedKeyValueBatch. Will not spill but return 0.\n",
      "25/05/07 19:34:31 WARN RowBasedKeyValueBatch: Calling spill() on RowBasedKeyValueBatch. Will not spill but return 0.\n",
      "25/05/07 19:34:31 WARN RowBasedKeyValueBatch: Calling spill() on RowBasedKeyValueBatch. Will not spill but return 0.\n",
      "25/05/07 19:34:31 WARN RowBasedKeyValueBatch: Calling spill() on RowBasedKeyValueBatch. Will not spill but return 0.\n",
      "25/05/07 19:34:31 WARN RowBasedKeyValueBatch: Calling spill() on RowBasedKeyValueBatch. Will not spill but return 0.\n",
      "25/05/07 19:34:32 WARN RowBasedKeyValueBatch: Calling spill() on RowBasedKeyValueBatch. Will not spill but return 0.\n",
      "25/05/07 19:34:34 WARN RowBasedKeyValueBatch: Calling spill() on RowBasedKeyValueBatch. Will not spill but return 0.\n",
      "25/05/07 19:34:37 WARN RowBasedKeyValueBatch: Calling spill() on RowBasedKeyValueBatch. Will not spill but return 0.\n",
      "25/05/07 19:34:38 WARN RowBasedKeyValueBatch: Calling spill() on RowBasedKeyValueBatch. Will not spill but return 0.\n",
      "25/05/07 19:34:38 WARN RowBasedKeyValueBatch: Calling spill() on RowBasedKeyValueBatch. Will not spill but return 0.\n",
      "25/05/07 19:34:40 WARN RowBasedKeyValueBatch: Calling spill() on RowBasedKeyValueBatch. Will not spill but return 0.\n",
      "[Stage 328:=============================================================>               (4 + 1) / 5]\r"
     ]
    }
   ],
   "source": [
    "from pyspark.ml.classification import RandomForestClassifier\n",
    "\n",
    "# Initialize Random Forest Classifier\n",
    "rf_classifier = RandomForestClassifier(\n",
    "    labelCol='label',\n",
    "    featuresCol='features',\n",
    "    maxDepth=5,\n",
    "    seed=42  # Optional: for reproducibility\n",
    ")\n",
    "\n",
    "# Train the Random Forest model\n",
    "rf_model = rf_classifier.fit(trainingData)\n",
    "\n",
    "# Make predictions on the test set\n",
    "rf_predictions = rf_model.transform(testData)\n"
   ]
  },
  {
   "cell_type": "markdown",
   "id": "c98cad4a",
   "metadata": {
    "id": "SDMQUFmxsfIE",
    "papermill": {
     "duration": 0.074285,
     "end_time": "2025-05-07T19:35:00.859947",
     "exception": false,
     "start_time": "2025-05-07T19:35:00.785662",
     "status": "completed"
    },
    "tags": []
   },
   "source": [
    "Saving and loading model from file"
   ]
  },
  {
   "cell_type": "code",
   "execution_count": 38,
   "id": "f2c6a59a",
   "metadata": {
    "execution": {
     "iopub.execute_input": "2025-05-07T19:35:01.010183Z",
     "iopub.status.busy": "2025-05-07T19:35:01.009691Z",
     "iopub.status.idle": "2025-05-07T19:35:02.713603Z",
     "shell.execute_reply": "2025-05-07T19:35:02.712773Z"
    },
    "id": "sxS-oS-Sks5x",
    "papermill": {
     "duration": 1.780868,
     "end_time": "2025-05-07T19:35:02.715057",
     "exception": false,
     "start_time": "2025-05-07T19:35:00.934189",
     "status": "completed"
    },
    "tags": []
   },
   "outputs": [
    {
     "name": "stderr",
     "output_type": "stream",
     "text": [
      "                                                                                                    \r"
     ]
    }
   ],
   "source": [
    "path_to_model = \"/kaggle/working/RF_model\"\n",
    "rf_model.save(path_to_model)"
   ]
  },
  {
   "cell_type": "code",
   "execution_count": null,
   "id": "342897b4",
   "metadata": {
    "execution": {
     "iopub.execute_input": "2025-05-07T19:35:02.874086Z",
     "iopub.status.busy": "2025-05-07T19:35:02.873466Z",
     "iopub.status.idle": "2025-05-07T19:42:17.221960Z",
     "shell.execute_reply": "2025-05-07T19:42:17.221039Z"
    },
    "id": "-p9vi0_aXzKb",
    "papermill": {
     "duration": 434.428336,
     "end_time": "2025-05-07T19:42:17.223240",
     "exception": false,
     "start_time": "2025-05-07T19:35:02.794904",
     "status": "completed"
    },
    "tags": []
   },
   "outputs": [
    {
     "name": "stdout",
     "output_type": "stream",
     "text": [
      "Accuracy :  0.78495521554448\n"
     ]
    }
   ],
   "source": [
    "from pyspark.ml.classification import RandomForestClassificationModel\n",
    "model_1 = RandomForestClassificationModel.load(path_to_model)\n",
    "accuracy = rf_predictions.filter(rf_predictions.label == rf_predictions.prediction).count() / float(rf_predictions.count())\n",
    "print(\"Accuracy : \",accuracy)"
   ]
  },
  {
   "cell_type": "code",
   "execution_count": null,
   "id": "de01b5de",
   "metadata": {
    "id": "Q80n6d7ScvHU",
    "papermill": {
     "duration": 0.130594,
     "end_time": "2025-05-07T19:42:17.505356",
     "exception": false,
     "start_time": "2025-05-07T19:42:17.374762",
     "status": "completed"
    },
    "tags": []
   },
   "outputs": [],
   "source": []
  }
 ],
 "metadata": {
  "accelerator": "GPU",
  "colab": {
   "gpuType": "T4",
   "provenance": []
  },
  "kaggle": {
   "accelerator": "gpu",
   "dataSources": [
    {
     "datasetId": 411512,
     "sourceId": 835452,
     "sourceType": "datasetVersion"
    }
   ],
   "dockerImageVersionId": 31011,
   "isGpuEnabled": true,
   "isInternetEnabled": true,
   "language": "python",
   "sourceType": "notebook"
  },
  "kernelspec": {
   "display_name": "bigdata",
   "language": "python",
   "name": "python3"
  },
  "language_info": {
   "codemirror_mode": {
    "name": "ipython",
    "version": 3
   },
   "file_extension": ".py",
   "mimetype": "text/x-python",
   "name": "python",
   "nbconvert_exporter": "python",
   "pygments_lexer": "ipython3",
   "version": "3.11.9"
  },
  "papermill": {
   "default_parameters": {},
   "duration": 3271.463375,
   "end_time": "2025-05-07T19:42:20.211990",
   "environment_variables": {},
   "exception": null,
   "input_path": "__notebook__.ipynb",
   "output_path": "__notebook__.ipynb",
   "parameters": {},
   "start_time": "2025-05-07T18:47:48.748615",
   "version": "2.6.0"
  }
 },
 "nbformat": 4,
 "nbformat_minor": 5
}

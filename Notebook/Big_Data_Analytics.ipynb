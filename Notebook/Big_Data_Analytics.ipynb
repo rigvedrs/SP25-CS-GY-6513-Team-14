{
  "cells": [
    {
      "cell_type": "markdown",
      "source": [
        "# Big Data: SP25 - CSGY - 6513\n",
        "## Contributors: Rudra Patil, Rigved Shirvalkar, Om Thakur"
      ],
      "metadata": {
        "id": "1e2RlrLHyXbb"
      }
    },
    {
      "cell_type": "markdown",
      "metadata": {
        "id": "DdJR9DolpYpn"
      },
      "source": [
        "## Retail Clickstream Analysis and Prediction"
      ]
    },
    {
      "cell_type": "code",
      "execution_count": null,
      "metadata": {
        "colab": {
          "base_uri": "https://localhost:8080/"
        },
        "id": "gN8rqpND_Gj5",
        "outputId": "e2222b20-7764-4069-d616-94f6537be77b"
      },
      "outputs": [
        {
          "output_type": "stream",
          "name": "stdout",
          "text": [
            "Requirement already satisfied: pyspark in /usr/local/lib/python3.11/dist-packages (3.5.1)\n",
            "Requirement already satisfied: py4j==0.10.9.7 in /usr/local/lib/python3.11/dist-packages (from pyspark) (0.10.9.7)\n",
            "Collecting circlify\n",
            "  Downloading circlify-0.15.0-py2.py3-none-any.whl.metadata (8.4 kB)\n",
            "Downloading circlify-0.15.0-py2.py3-none-any.whl (11 kB)\n",
            "Installing collected packages: circlify\n",
            "Successfully installed circlify-0.15.0\n"
          ]
        }
      ],
      "source": [
        "#Install Pyspark and circlify\n",
        "!pip install pyspark\n"
      ]
    },
    {
      "cell_type": "code",
      "execution_count": null,
      "metadata": {
        "colab": {
          "base_uri": "https://localhost:8080/"
        },
        "id": "xCV2xhWq-UZj",
        "outputId": "4254a819-9511-4e67-daac-6f59143a76e8"
      },
      "outputs": [
        {
          "output_type": "stream",
          "name": "stdout",
          "text": [
            "Mounted at /content/drive\n"
          ]
        }
      ],
      "source": [
        "from google.colab import drive\n",
        "drive.mount('/content/drive')"
      ]
    },
    {
      "cell_type": "code",
      "execution_count": null,
      "metadata": {
        "colab": {
          "base_uri": "https://localhost:8080/"
        },
        "id": "QzHJ1vSU_U9T",
        "outputId": "6c65890d-1b06-45c2-e55f-859ee29ca789"
      },
      "outputs": [
        {
          "output_type": "stream",
          "name": "stdout",
          "text": [
            "Archive:  /content/drive/MyDrive/Homeworks/Sem 2/Big Data/2019-Oct.csv.zip\n",
            "  inflating: 2019-Oct.csv            \n"
          ]
        }
      ],
      "source": [
        "# path = \"../input/2019-oct/2019-Oct.csv\"\n",
        "!unzip \"/content/drive/MyDrive/Homeworks/Sem 2/Big Data/2019-Oct.csv.zip\"\n",
        "# !unzip \"/content/drive/MyDrive/BigDataSet/archive.zip\""
      ]
    },
    {
      "cell_type": "code",
      "execution_count": null,
      "metadata": {
        "id": "X5rYkbq3_y_e"
      },
      "outputs": [],
      "source": [
        "import pyspark\n",
        "from pyspark.sql.functions import *\n",
        "from pyspark.sql.types import StructType, StructField, StringType, FloatType, IntegerType\n",
        "from pyspark.sql.window import Window\n",
        "from pyspark.sql.functions import element_at, split, col\n",
        "import pandas as pd\n",
        "import os\n",
        "import plotly.express as px"
      ]
    },
    {
      "cell_type": "code",
      "execution_count": null,
      "metadata": {
        "colab": {
          "base_uri": "https://localhost:8080/"
        },
        "id": "P5Bof43hBWbC",
        "outputId": "d0929662-6314-40ed-a5c2-174f770ce8d3"
      },
      "outputs": [
        {
          "output_type": "stream",
          "name": "stderr",
          "text": [
            "/usr/local/lib/python3.11/dist-packages/pyspark/sql/context.py:158: FutureWarning: Deprecated in 3.0.0. Use SparkSession.builder.getOrCreate() instead.\n",
            "  warnings.warn(\n"
          ]
        }
      ],
      "source": [
        "# Initialize Spark configuration\n",
        "configuration = pyspark.SparkConf()\n",
        "configuration.set('spark.sql.repl.eagerEval.enabled', True)\n",
        "\n",
        "# Set up Spark Context\n",
        "spark_context = pyspark.SparkContext(conf=configuration)\n",
        "\n",
        "# Create or retrieve the existing Spark SQL Context\n",
        "sql_context = pyspark.SQLContext.getOrCreate(spark_context)\n"
      ]
    },
    {
      "cell_type": "code",
      "execution_count": null,
      "metadata": {
        "id": "jFNRHd8fluqu"
      },
      "outputs": [],
      "source": [
        "#Creating a subset of\n",
        "# def read_with_pandas(input_filepath):\n",
        "#   raw_data = pd.read_csv(input_filepath, nrows = 500000)\n",
        "#   output_filepath = \"small_oct_2019.csv\"\n",
        "#   raw_data.to_csv(output_filepath)\n",
        "#   return output_filepath\n",
        "\n",
        "# input_filepath = \"/content/2019-Oct.csv\"\n",
        "# input_filepath = read_with_pandas(input_filepath)"
      ]
    },
    {
      "cell_type": "code",
      "execution_count": null,
      "metadata": {
        "colab": {
          "base_uri": "https://localhost:8080/"
        },
        "id": "SSAY6gDae-_4",
        "outputId": "1be714c1-9aca-4bd6-853d-6089d3575b66"
      },
      "outputs": [
        {
          "output_type": "stream",
          "name": "stdout",
          "text": [
            "the file chosen is  /content/2019-Oct.csv\n",
            "small data testing is  False\n"
          ]
        }
      ],
      "source": [
        "# change here for testing\n",
        "# for v local machine\n",
        "path_file_2019 = \"/content/2019-Oct.csv\"\n",
        "output_show = True # it makes .show() on/off\n",
        "small_data_testing = False # make it false when testing on whole dataset\n",
        "if small_data_testing:\n",
        "  raw_data = pd.read_csv(path_file_2019, nrows = 5000)\n",
        "  raw_data.head(2)\n",
        "  raw_data.to_csv(\"small_oct_2019.csv\")\n",
        "  path_file_2019 = \"/content/small_oct_2019.csv\"\n",
        "\n",
        "print(\"the file chosen is \", path_file_2019)\n",
        "print(\"small data testing is \", small_data_testing)"
      ]
    },
    {
      "cell_type": "code",
      "execution_count": null,
      "metadata": {
        "id": "LdnkWYE5CGfy"
      },
      "outputs": [],
      "source": [
        "# For final we will take the full dataset\n",
        "#path_file_2019 = \"/content/drive/MyDrive/Awesom_Big_Data_Project/small_oct_2019.csv\"\n",
        "# Load the original dataset from CSV file\n",
        "initial_df = sql_context.read \\\n",
        "    .format(\"csv\") \\\n",
        "    .option(\"header\", \"true\") \\\n",
        "    .option(\"inferSchema\", \"true\") \\\n",
        "    .load(path_file_2019)"
      ]
    },
    {
      "cell_type": "code",
      "execution_count": null,
      "metadata": {
        "id": "_XsEUsdKxRze"
      },
      "outputs": [],
      "source": [
        "# Just keeping original_df in case we do some operation on df and loose track of original df\n",
        "# add hyperloglog. Thats faster(Daniel)\n",
        "# https://mungingdata.com/apache-spark/hyperloglog-count-distinct/\n",
        "preprocessed_df = initial_df"
      ]
    },
    {
      "cell_type": "markdown",
      "metadata": {
        "id": "_0KgXUVt_OxV"
      },
      "source": [
        "# **Dataset Overview**"
      ]
    },
    {
      "cell_type": "code",
      "execution_count": null,
      "metadata": {
        "colab": {
          "base_uri": "https://localhost:8080/"
        },
        "id": "MoBE245D_1EK",
        "outputId": "8021914c-e9c5-46e3-fde1-f1f8f02db86a"
      },
      "outputs": [
        {
          "output_type": "stream",
          "name": "stdout",
          "text": [
            "root\n",
            " |-- event_time: timestamp (nullable = true)\n",
            " |-- event_type: string (nullable = true)\n",
            " |-- product_id: integer (nullable = true)\n",
            " |-- category_id: long (nullable = true)\n",
            " |-- category_code: string (nullable = true)\n",
            " |-- brand: string (nullable = true)\n",
            " |-- price: double (nullable = true)\n",
            " |-- user_id: integer (nullable = true)\n",
            " |-- user_session: string (nullable = true)\n",
            "\n"
          ]
        }
      ],
      "source": [
        "preprocessed_df.printSchema()"
      ]
    },
    {
      "cell_type": "markdown",
      "metadata": {
        "id": "ORQA_FHn_3tB"
      },
      "source": [
        "1) ***event_time*** : denotes the date and time of the user session.\n",
        "\n",
        "2) ***event_type***: There are 3 events in this dataset (viewing, adding to cart, and purchase).\n",
        "\n",
        "3) ***product_id***: indicates the specific product id.\n",
        "\n",
        "4) ***category_id***: indicates the specific category id.\n",
        "\n",
        "5) ***user_id***: pertains to the specific user.\n",
        "\n",
        "6) ***user session***: a single user can have multiple sessions indicating various events like view, purchase, add to cart.\n",
        "\n",
        "7) ***brand***: indicates the brand associated with the product and category.\n",
        "\n",
        "8) ***cateogry***: indicates a nested string having a structure liek electronics.smartphone.andorid which helps us in specifying the range of purchased item.\n",
        "\n"
      ]
    },
    {
      "cell_type": "markdown",
      "metadata": {
        "id": "SJ5zz0Htvh3h"
      },
      "source": [
        "# Data Summary and Pre-processing"
      ]
    },
    {
      "cell_type": "code",
      "execution_count": null,
      "metadata": {
        "id": "OMzSD5017e9O"
      },
      "outputs": [],
      "source": [
        "# Remove rows where 'event_type' field is missing\n",
        "cleaned_df = preprocessed_df.na.drop(subset=[\"event_type\"])"
      ]
    },
    {
      "cell_type": "markdown",
      "metadata": {
        "id": "z1CpJlwpzP0B"
      },
      "source": [
        "# Data Imputation"
      ]
    },
    {
      "cell_type": "markdown",
      "metadata": {
        "id": "l6JuX62A2Fp5"
      },
      "source": [
        "## Extracting Catgeory and Product"
      ]
    },
    {
      "cell_type": "code",
      "execution_count": null,
      "metadata": {
        "id": "VFiQnjQyJjYV"
      },
      "outputs": [],
      "source": [
        "# Fill missing values in 'category_code' and 'brand' columns with the placeholder \"empty\"\n",
        "filled_df = cleaned_df.fillna(\"empty\", subset=[\"category_code\", \"brand\"])"
      ]
    },
    {
      "cell_type": "code",
      "execution_count": null,
      "metadata": {
        "colab": {
          "base_uri": "https://localhost:8080/"
        },
        "id": "zTWc_uWx0ly8",
        "outputId": "fd8441da-b715-4ff5-80ab-f39639871b0f"
      },
      "outputs": [
        {
          "output_type": "stream",
          "name": "stdout",
          "text": [
            "+-------------------+----------+----------+-------------------+--------------------+--------+-------+---------+--------------------+\n",
            "|         event_time|event_type|product_id|        category_id|       category_code|   brand|  price|  user_id|        user_session|\n",
            "+-------------------+----------+----------+-------------------+--------------------+--------+-------+---------+--------------------+\n",
            "|2019-10-01 00:00:00|      view|  44600062|2103807459595387724|                NULL|shiseido|  35.79|541312140|72d76fde-8bb3-4e0...|\n",
            "|2019-10-01 00:00:00|      view|   3900821|2053013552326770905|appliances.enviro...|    aqua|   33.2|554748717|9333dfbd-b87a-470...|\n",
            "|2019-10-01 00:00:01|      view|  17200506|2053013559792632471|furniture.living_...|    NULL|  543.1|519107250|566511c2-e2e3-422...|\n",
            "|2019-10-01 00:00:01|      view|   1307067|2053013558920217191|  computers.notebook|  lenovo| 251.74|550050854|7c90fc70-0e80-459...|\n",
            "|2019-10-01 00:00:04|      view|   1004237|2053013555631882655|electronics.smart...|   apple|1081.98|535871217|c6bd7419-2748-4c5...|\n",
            "+-------------------+----------+----------+-------------------+--------------------+--------+-------+---------+--------------------+\n",
            "only showing top 5 rows\n",
            "\n"
          ]
        }
      ],
      "source": [
        "if output_show:\n",
        "  preprocessed_df.show(5)"
      ]
    },
    {
      "cell_type": "code",
      "execution_count": null,
      "metadata": {
        "id": "JGlPr8ppWnTC"
      },
      "outputs": [],
      "source": [
        "# Define UDFs to extract category and product names from 'category_code' or fallback to 'brand'\n",
        "from pyspark.sql.functions import udf\n",
        "\n",
        "@udf\n",
        "def get_category_name(category_code, brand_name):\n",
        "    parts = str(category_code).split('.')\n",
        "    if parts[0] == \"empty\":\n",
        "        return brand_name if brand_name != \"empty\" else \"unknown\"\n",
        "    return parts[0]\n",
        "\n",
        "@udf\n",
        "def get_product_name(category_code, brand_name):\n",
        "    parts = str(category_code).split('.')\n",
        "    if parts[-1] == \"empty\":\n",
        "        return brand_name if brand_name != \"empty\" else \"unknown\"\n",
        "    return parts[-1]"
      ]
    },
    {
      "cell_type": "code",
      "execution_count": null,
      "metadata": {
        "colab": {
          "base_uri": "https://localhost:8080/"
        },
        "id": "f1JzY8C-XmyF",
        "outputId": "5f85a4b3-ecd1-4ab5-c96c-5bb4bfbcbae0"
      },
      "outputs": [
        {
          "output_type": "stream",
          "name": "stdout",
          "text": [
            "+-------------------+----------+----------+-------------------+--------+-------+---------+--------------------+-----------+------------+\n",
            "|         event_time|event_type|product_id|        category_id|   brand|  price|  user_id|        user_session|   category|     product|\n",
            "+-------------------+----------+----------+-------------------+--------+-------+---------+--------------------+-----------+------------+\n",
            "|2019-10-01 00:00:00|      view|  44600062|2103807459595387724|shiseido|  35.79|541312140|72d76fde-8bb3-4e0...|   shiseido|    shiseido|\n",
            "|2019-10-01 00:00:00|      view|   3900821|2053013552326770905|    aqua|   33.2|554748717|9333dfbd-b87a-470...| appliances|water_heater|\n",
            "|2019-10-01 00:00:01|      view|  17200506|2053013559792632471|   empty|  543.1|519107250|566511c2-e2e3-422...|  furniture|        sofa|\n",
            "|2019-10-01 00:00:01|      view|   1307067|2053013558920217191|  lenovo| 251.74|550050854|7c90fc70-0e80-459...|  computers|    notebook|\n",
            "|2019-10-01 00:00:04|      view|   1004237|2053013555631882655|   apple|1081.98|535871217|c6bd7419-2748-4c5...|electronics|  smartphone|\n",
            "+-------------------+----------+----------+-------------------+--------+-------+---------+--------------------+-----------+------------+\n",
            "only showing top 5 rows\n",
            "\n"
          ]
        }
      ],
      "source": [
        "# Apply the UDFs to extract category and product names\n",
        "df_with_extracted_fields = filled_df.select(\n",
        "    \"*\",\n",
        "    get_category_name(\"category_code\", \"brand\").alias(\"category\"),\n",
        "    get_product_name(\"category_code\", \"brand\").alias(\"product\")\n",
        ")\n",
        "\n",
        "# Drop the original 'category_code' column\n",
        "df_with_extracted_fields = df_with_extracted_fields.drop(\"category_code\")\n",
        "\n",
        "# Display the first 5 rows if output is enabled\n",
        "if output_show:\n",
        "    df_with_extracted_fields.show(5)\n"
      ]
    },
    {
      "cell_type": "markdown",
      "metadata": {
        "id": "XqHg3b5N2CwA"
      },
      "source": [
        "## Extracting Time features like Day, Time, Hour from Timestamp"
      ]
    },
    {
      "cell_type": "code",
      "execution_count": null,
      "metadata": {
        "colab": {
          "base_uri": "https://localhost:8080/"
        },
        "id": "OJPHJN2618qz",
        "outputId": "3cb5f95d-b04a-4a4b-beac-1a01aa243ea2"
      },
      "outputs": [
        {
          "output_type": "stream",
          "name": "stdout",
          "text": [
            "+-------------------+----------+----------+-------------------+--------+-------+---------+--------------------+-----------+------------+------------+---+----+\n",
            "|         event_time|event_type|product_id|        category_id|   brand|  price|  user_id|        user_session|   category|     product|time_section|Day|Hour|\n",
            "+-------------------+----------+----------+-------------------+--------+-------+---------+--------------------+-----------+------------+------------+---+----+\n",
            "|2019-10-01 00:00:00|      view|  44600062|2103807459595387724|shiseido|  35.79|541312140|72d76fde-8bb3-4e0...|   shiseido|    shiseido|    00:00:00| 01|  00|\n",
            "|2019-10-01 00:00:00|      view|   3900821|2053013552326770905|    aqua|   33.2|554748717|9333dfbd-b87a-470...| appliances|water_heater|    00:00:00| 01|  00|\n",
            "|2019-10-01 00:00:01|      view|  17200506|2053013559792632471|   empty|  543.1|519107250|566511c2-e2e3-422...|  furniture|        sofa|    00:00:01| 01|  00|\n",
            "|2019-10-01 00:00:01|      view|   1307067|2053013558920217191|  lenovo| 251.74|550050854|7c90fc70-0e80-459...|  computers|    notebook|    00:00:01| 01|  00|\n",
            "|2019-10-01 00:00:04|      view|   1004237|2053013555631882655|   apple|1081.98|535871217|c6bd7419-2748-4c5...|electronics|  smartphone|    00:00:04| 01|  00|\n",
            "+-------------------+----------+----------+-------------------+--------+-------+---------+--------------------+-----------+------------+------------+---+----+\n",
            "only showing top 5 rows\n",
            "\n"
          ]
        }
      ],
      "source": [
        "# Extract 'Day' and 'Hour' from the 'event_time' column\n",
        "df_time_transformed = df_with_extracted_fields \\\n",
        "    .withColumn('date_section', split(col('event_time'), ' ').getItem(0)) \\\n",
        "    .withColumn('time_section', split(col('event_time'), ' ').getItem(1)) \\\n",
        "    .withColumn('Day', split(col('date_section'), '-').getItem(2)) \\\n",
        "    .withColumn('Hour', split(col('time_section'), ':').getItem(0)) \\\n",
        "    .drop('date_section')\n",
        "\n",
        "# Display top 5 records if output flag is enabled\n",
        "if output_show:\n",
        "    df_time_transformed.show(5)\n"
      ]
    },
    {
      "cell_type": "code",
      "execution_count": null,
      "metadata": {
        "id": "5m8bjVgL2m5m"
      },
      "outputs": [],
      "source": [
        "df = df_time_transformed"
      ]
    },
    {
      "cell_type": "markdown",
      "metadata": {
        "id": "6qVJErW-9vIp"
      },
      "source": [
        "# Unique visitors in October"
      ]
    },
    {
      "cell_type": "code",
      "execution_count": null,
      "metadata": {
        "colab": {
          "base_uri": "https://localhost:8080/"
        },
        "id": "dIe_895k3DQN",
        "outputId": "320059b0-4710-4c65-fbf6-0625d9b94e7e"
      },
      "outputs": [
        {
          "output_type": "stream",
          "name": "stdout",
          "text": [
            "3022290\n"
          ]
        }
      ],
      "source": [
        "visitor_count = df.select(countDistinct(\"user_id\")).collect()[0][0]\n",
        "print(visitor_count)"
      ]
    },
    {
      "cell_type": "markdown",
      "metadata": {
        "id": "sTiPODJHBpvc"
      },
      "source": [
        "Analysis: The e-commerce site has a footfall of X unique visitors in the month of October\n",
        "\n",
        "Future scope: If latitude/longitude is captured, we can also obtain demographic insights about potential customers.\n"
      ]
    },
    {
      "cell_type": "markdown",
      "metadata": {
        "id": "gKP4bBcUOXRu"
      },
      "source": [
        "# Journey of a user in one session\n"
      ]
    },
    {
      "cell_type": "code",
      "execution_count": null,
      "metadata": {
        "collapsed": true,
        "id": "pKRl6HzgjnhR"
      },
      "outputs": [],
      "source": [
        "# Retrieve all events for a specific user session and sort them by event time\n",
        "session_events_df = df.filter(col('user_session') == 'b37abd25-7672-4dd7-a098-40e50e314388') \\\n",
        "                      .orderBy('event_time') \\\n",
        "                      .toPandas()\n"
      ]
    },
    {
      "cell_type": "markdown",
      "metadata": {
        "id": "Ubx6-tf71Gz1"
      },
      "source": [
        "# Analysis of User Behaviour on the e-commerce site ( 2 Options )\n"
      ]
    },
    {
      "cell_type": "code",
      "execution_count": null,
      "metadata": {
        "colab": {
          "base_uri": "https://localhost:8080/",
          "height": 542
        },
        "id": "1tREoM9opCbt",
        "outputId": "5f36bd3c-6cbe-4401-be4a-f9797a275e89"
      },
      "outputs": [
        {
          "output_type": "display_data",
          "data": {
            "text/html": [
              "<html>\n",
              "<head><meta charset=\"utf-8\" /></head>\n",
              "<body>\n",
              "    <div>            <script src=\"https://cdnjs.cloudflare.com/ajax/libs/mathjax/2.7.5/MathJax.js?config=TeX-AMS-MML_SVG\"></script><script type=\"text/javascript\">if (window.MathJax && window.MathJax.Hub && window.MathJax.Hub.Config) {window.MathJax.Hub.Config({SVG: {font: \"STIX-Web\"}});}</script>                <script type=\"text/javascript\">window.PlotlyConfig = {MathJaxConfig: 'local'};</script>\n",
              "        <script charset=\"utf-8\" src=\"https://cdn.plot.ly/plotly-2.35.2.min.js\"></script>                <div id=\"0b5d761f-0ff3-455b-a3ef-a24616ccd351\" class=\"plotly-graph-div\" style=\"height:525px; width:100%;\"></div>            <script type=\"text/javascript\">                                    window.PLOTLYENV=window.PLOTLYENV || {};                                    if (document.getElementById(\"0b5d761f-0ff3-455b-a3ef-a24616ccd351\")) {                    Plotly.newPlot(                        \"0b5d761f-0ff3-455b-a3ef-a24616ccd351\",                        [{\"alignmentgroup\":\"True\",\"hovertemplate\":\"Event=%{x}\\u003cbr\\u003eCount=%{text}\\u003cextra\\u003e\\u003c\\u002fextra\\u003e\",\"legendgroup\":\"View\",\"marker\":{\"color\":\"#636efa\",\"pattern\":{\"shape\":\"\"}},\"name\":\"View\",\"offsetgroup\":\"View\",\"orientation\":\"v\",\"showlegend\":true,\"text\":[40779399.0],\"textposition\":\"outside\",\"x\":[\"View\"],\"xaxis\":\"x\",\"y\":[40779399],\"yaxis\":\"y\",\"type\":\"bar\"},{\"alignmentgroup\":\"True\",\"hovertemplate\":\"Event=%{x}\\u003cbr\\u003eCount=%{text}\\u003cextra\\u003e\\u003c\\u002fextra\\u003e\",\"legendgroup\":\"Cart\",\"marker\":{\"color\":\"#EF553B\",\"pattern\":{\"shape\":\"\"}},\"name\":\"Cart\",\"offsetgroup\":\"Cart\",\"orientation\":\"v\",\"showlegend\":true,\"text\":[926516.0],\"textposition\":\"outside\",\"x\":[\"Cart\"],\"xaxis\":\"x\",\"y\":[926516],\"yaxis\":\"y\",\"type\":\"bar\"},{\"alignmentgroup\":\"True\",\"hovertemplate\":\"Event=%{x}\\u003cbr\\u003eCount=%{text}\\u003cextra\\u003e\\u003c\\u002fextra\\u003e\",\"legendgroup\":\"Purchase\",\"marker\":{\"color\":\"#00cc96\",\"pattern\":{\"shape\":\"\"}},\"name\":\"Purchase\",\"offsetgroup\":\"Purchase\",\"orientation\":\"v\",\"showlegend\":true,\"text\":[742849.0],\"textposition\":\"outside\",\"x\":[\"Purchase\"],\"xaxis\":\"x\",\"y\":[742849],\"yaxis\":\"y\",\"type\":\"bar\"}],                        {\"template\":{\"data\":{\"barpolar\":[{\"marker\":{\"line\":{\"color\":\"white\",\"width\":0.5},\"pattern\":{\"fillmode\":\"overlay\",\"size\":10,\"solidity\":0.2}},\"type\":\"barpolar\"}],\"bar\":[{\"error_x\":{\"color\":\"#2a3f5f\"},\"error_y\":{\"color\":\"#2a3f5f\"},\"marker\":{\"line\":{\"color\":\"white\",\"width\":0.5},\"pattern\":{\"fillmode\":\"overlay\",\"size\":10,\"solidity\":0.2}},\"type\":\"bar\"}],\"carpet\":[{\"aaxis\":{\"endlinecolor\":\"#2a3f5f\",\"gridcolor\":\"#C8D4E3\",\"linecolor\":\"#C8D4E3\",\"minorgridcolor\":\"#C8D4E3\",\"startlinecolor\":\"#2a3f5f\"},\"baxis\":{\"endlinecolor\":\"#2a3f5f\",\"gridcolor\":\"#C8D4E3\",\"linecolor\":\"#C8D4E3\",\"minorgridcolor\":\"#C8D4E3\",\"startlinecolor\":\"#2a3f5f\"},\"type\":\"carpet\"}],\"choropleth\":[{\"colorbar\":{\"outlinewidth\":0,\"ticks\":\"\"},\"type\":\"choropleth\"}],\"contourcarpet\":[{\"colorbar\":{\"outlinewidth\":0,\"ticks\":\"\"},\"type\":\"contourcarpet\"}],\"contour\":[{\"colorbar\":{\"outlinewidth\":0,\"ticks\":\"\"},\"colorscale\":[[0.0,\"#0d0887\"],[0.1111111111111111,\"#46039f\"],[0.2222222222222222,\"#7201a8\"],[0.3333333333333333,\"#9c179e\"],[0.4444444444444444,\"#bd3786\"],[0.5555555555555556,\"#d8576b\"],[0.6666666666666666,\"#ed7953\"],[0.7777777777777778,\"#fb9f3a\"],[0.8888888888888888,\"#fdca26\"],[1.0,\"#f0f921\"]],\"type\":\"contour\"}],\"heatmapgl\":[{\"colorbar\":{\"outlinewidth\":0,\"ticks\":\"\"},\"colorscale\":[[0.0,\"#0d0887\"],[0.1111111111111111,\"#46039f\"],[0.2222222222222222,\"#7201a8\"],[0.3333333333333333,\"#9c179e\"],[0.4444444444444444,\"#bd3786\"],[0.5555555555555556,\"#d8576b\"],[0.6666666666666666,\"#ed7953\"],[0.7777777777777778,\"#fb9f3a\"],[0.8888888888888888,\"#fdca26\"],[1.0,\"#f0f921\"]],\"type\":\"heatmapgl\"}],\"heatmap\":[{\"colorbar\":{\"outlinewidth\":0,\"ticks\":\"\"},\"colorscale\":[[0.0,\"#0d0887\"],[0.1111111111111111,\"#46039f\"],[0.2222222222222222,\"#7201a8\"],[0.3333333333333333,\"#9c179e\"],[0.4444444444444444,\"#bd3786\"],[0.5555555555555556,\"#d8576b\"],[0.6666666666666666,\"#ed7953\"],[0.7777777777777778,\"#fb9f3a\"],[0.8888888888888888,\"#fdca26\"],[1.0,\"#f0f921\"]],\"type\":\"heatmap\"}],\"histogram2dcontour\":[{\"colorbar\":{\"outlinewidth\":0,\"ticks\":\"\"},\"colorscale\":[[0.0,\"#0d0887\"],[0.1111111111111111,\"#46039f\"],[0.2222222222222222,\"#7201a8\"],[0.3333333333333333,\"#9c179e\"],[0.4444444444444444,\"#bd3786\"],[0.5555555555555556,\"#d8576b\"],[0.6666666666666666,\"#ed7953\"],[0.7777777777777778,\"#fb9f3a\"],[0.8888888888888888,\"#fdca26\"],[1.0,\"#f0f921\"]],\"type\":\"histogram2dcontour\"}],\"histogram2d\":[{\"colorbar\":{\"outlinewidth\":0,\"ticks\":\"\"},\"colorscale\":[[0.0,\"#0d0887\"],[0.1111111111111111,\"#46039f\"],[0.2222222222222222,\"#7201a8\"],[0.3333333333333333,\"#9c179e\"],[0.4444444444444444,\"#bd3786\"],[0.5555555555555556,\"#d8576b\"],[0.6666666666666666,\"#ed7953\"],[0.7777777777777778,\"#fb9f3a\"],[0.8888888888888888,\"#fdca26\"],[1.0,\"#f0f921\"]],\"type\":\"histogram2d\"}],\"histogram\":[{\"marker\":{\"pattern\":{\"fillmode\":\"overlay\",\"size\":10,\"solidity\":0.2}},\"type\":\"histogram\"}],\"mesh3d\":[{\"colorbar\":{\"outlinewidth\":0,\"ticks\":\"\"},\"type\":\"mesh3d\"}],\"parcoords\":[{\"line\":{\"colorbar\":{\"outlinewidth\":0,\"ticks\":\"\"}},\"type\":\"parcoords\"}],\"pie\":[{\"automargin\":true,\"type\":\"pie\"}],\"scatter3d\":[{\"line\":{\"colorbar\":{\"outlinewidth\":0,\"ticks\":\"\"}},\"marker\":{\"colorbar\":{\"outlinewidth\":0,\"ticks\":\"\"}},\"type\":\"scatter3d\"}],\"scattercarpet\":[{\"marker\":{\"colorbar\":{\"outlinewidth\":0,\"ticks\":\"\"}},\"type\":\"scattercarpet\"}],\"scattergeo\":[{\"marker\":{\"colorbar\":{\"outlinewidth\":0,\"ticks\":\"\"}},\"type\":\"scattergeo\"}],\"scattergl\":[{\"marker\":{\"colorbar\":{\"outlinewidth\":0,\"ticks\":\"\"}},\"type\":\"scattergl\"}],\"scattermapbox\":[{\"marker\":{\"colorbar\":{\"outlinewidth\":0,\"ticks\":\"\"}},\"type\":\"scattermapbox\"}],\"scatterpolargl\":[{\"marker\":{\"colorbar\":{\"outlinewidth\":0,\"ticks\":\"\"}},\"type\":\"scatterpolargl\"}],\"scatterpolar\":[{\"marker\":{\"colorbar\":{\"outlinewidth\":0,\"ticks\":\"\"}},\"type\":\"scatterpolar\"}],\"scatter\":[{\"fillpattern\":{\"fillmode\":\"overlay\",\"size\":10,\"solidity\":0.2},\"type\":\"scatter\"}],\"scatterternary\":[{\"marker\":{\"colorbar\":{\"outlinewidth\":0,\"ticks\":\"\"}},\"type\":\"scatterternary\"}],\"surface\":[{\"colorbar\":{\"outlinewidth\":0,\"ticks\":\"\"},\"colorscale\":[[0.0,\"#0d0887\"],[0.1111111111111111,\"#46039f\"],[0.2222222222222222,\"#7201a8\"],[0.3333333333333333,\"#9c179e\"],[0.4444444444444444,\"#bd3786\"],[0.5555555555555556,\"#d8576b\"],[0.6666666666666666,\"#ed7953\"],[0.7777777777777778,\"#fb9f3a\"],[0.8888888888888888,\"#fdca26\"],[1.0,\"#f0f921\"]],\"type\":\"surface\"}],\"table\":[{\"cells\":{\"fill\":{\"color\":\"#EBF0F8\"},\"line\":{\"color\":\"white\"}},\"header\":{\"fill\":{\"color\":\"#C8D4E3\"},\"line\":{\"color\":\"white\"}},\"type\":\"table\"}]},\"layout\":{\"annotationdefaults\":{\"arrowcolor\":\"#2a3f5f\",\"arrowhead\":0,\"arrowwidth\":1},\"autotypenumbers\":\"strict\",\"coloraxis\":{\"colorbar\":{\"outlinewidth\":0,\"ticks\":\"\"}},\"colorscale\":{\"diverging\":[[0,\"#8e0152\"],[0.1,\"#c51b7d\"],[0.2,\"#de77ae\"],[0.3,\"#f1b6da\"],[0.4,\"#fde0ef\"],[0.5,\"#f7f7f7\"],[0.6,\"#e6f5d0\"],[0.7,\"#b8e186\"],[0.8,\"#7fbc41\"],[0.9,\"#4d9221\"],[1,\"#276419\"]],\"sequential\":[[0.0,\"#0d0887\"],[0.1111111111111111,\"#46039f\"],[0.2222222222222222,\"#7201a8\"],[0.3333333333333333,\"#9c179e\"],[0.4444444444444444,\"#bd3786\"],[0.5555555555555556,\"#d8576b\"],[0.6666666666666666,\"#ed7953\"],[0.7777777777777778,\"#fb9f3a\"],[0.8888888888888888,\"#fdca26\"],[1.0,\"#f0f921\"]],\"sequentialminus\":[[0.0,\"#0d0887\"],[0.1111111111111111,\"#46039f\"],[0.2222222222222222,\"#7201a8\"],[0.3333333333333333,\"#9c179e\"],[0.4444444444444444,\"#bd3786\"],[0.5555555555555556,\"#d8576b\"],[0.6666666666666666,\"#ed7953\"],[0.7777777777777778,\"#fb9f3a\"],[0.8888888888888888,\"#fdca26\"],[1.0,\"#f0f921\"]]},\"colorway\":[\"#636efa\",\"#EF553B\",\"#00cc96\",\"#ab63fa\",\"#FFA15A\",\"#19d3f3\",\"#FF6692\",\"#B6E880\",\"#FF97FF\",\"#FECB52\"],\"font\":{\"color\":\"#2a3f5f\"},\"geo\":{\"bgcolor\":\"white\",\"lakecolor\":\"white\",\"landcolor\":\"white\",\"showlakes\":true,\"showland\":true,\"subunitcolor\":\"#C8D4E3\"},\"hoverlabel\":{\"align\":\"left\"},\"hovermode\":\"closest\",\"mapbox\":{\"style\":\"light\"},\"paper_bgcolor\":\"white\",\"plot_bgcolor\":\"white\",\"polar\":{\"angularaxis\":{\"gridcolor\":\"#EBF0F8\",\"linecolor\":\"#EBF0F8\",\"ticks\":\"\"},\"bgcolor\":\"white\",\"radialaxis\":{\"gridcolor\":\"#EBF0F8\",\"linecolor\":\"#EBF0F8\",\"ticks\":\"\"}},\"scene\":{\"xaxis\":{\"backgroundcolor\":\"white\",\"gridcolor\":\"#DFE8F3\",\"gridwidth\":2,\"linecolor\":\"#EBF0F8\",\"showbackground\":true,\"ticks\":\"\",\"zerolinecolor\":\"#EBF0F8\"},\"yaxis\":{\"backgroundcolor\":\"white\",\"gridcolor\":\"#DFE8F3\",\"gridwidth\":2,\"linecolor\":\"#EBF0F8\",\"showbackground\":true,\"ticks\":\"\",\"zerolinecolor\":\"#EBF0F8\"},\"zaxis\":{\"backgroundcolor\":\"white\",\"gridcolor\":\"#DFE8F3\",\"gridwidth\":2,\"linecolor\":\"#EBF0F8\",\"showbackground\":true,\"ticks\":\"\",\"zerolinecolor\":\"#EBF0F8\"}},\"shapedefaults\":{\"line\":{\"color\":\"#2a3f5f\"}},\"ternary\":{\"aaxis\":{\"gridcolor\":\"#DFE8F3\",\"linecolor\":\"#A2B1C6\",\"ticks\":\"\"},\"baxis\":{\"gridcolor\":\"#DFE8F3\",\"linecolor\":\"#A2B1C6\",\"ticks\":\"\"},\"bgcolor\":\"white\",\"caxis\":{\"gridcolor\":\"#DFE8F3\",\"linecolor\":\"#A2B1C6\",\"ticks\":\"\"}},\"title\":{\"x\":0.05},\"xaxis\":{\"automargin\":true,\"gridcolor\":\"#EBF0F8\",\"linecolor\":\"#EBF0F8\",\"ticks\":\"\",\"title\":{\"standoff\":15},\"zerolinecolor\":\"#EBF0F8\",\"zerolinewidth\":2},\"yaxis\":{\"automargin\":true,\"gridcolor\":\"#EBF0F8\",\"linecolor\":\"#EBF0F8\",\"ticks\":\"\",\"title\":{\"standoff\":15},\"zerolinecolor\":\"#EBF0F8\",\"zerolinewidth\":2}}},\"xaxis\":{\"anchor\":\"y\",\"domain\":[0.0,1.0],\"title\":{\"text\":\"Event Type\"},\"categoryorder\":\"array\",\"categoryarray\":[\"View\",\"Cart\",\"Purchase\"]},\"yaxis\":{\"anchor\":\"x\",\"domain\":[0.0,1.0],\"title\":{\"text\":\"Number of Events\"}},\"legend\":{\"title\":{\"text\":\"Event\"},\"tracegroupgap\":0},\"title\":{\"text\":\"User Behavior Distribution on E-commerce Site\"},\"barmode\":\"relative\"},                        {\"responsive\": true}                    ).then(function(){\n",
              "                            \n",
              "var gd = document.getElementById('0b5d761f-0ff3-455b-a3ef-a24616ccd351');\n",
              "var x = new MutationObserver(function (mutations, observer) {{\n",
              "        var display = window.getComputedStyle(gd).display;\n",
              "        if (!display || display === 'none') {{\n",
              "            console.log([gd, 'removed!']);\n",
              "            Plotly.purge(gd);\n",
              "            observer.disconnect();\n",
              "        }}\n",
              "}});\n",
              "\n",
              "// Listen for the removal of the full notebook cells\n",
              "var notebookContainer = gd.closest('#notebook-container');\n",
              "if (notebookContainer) {{\n",
              "    x.observe(notebookContainer, {childList: true});\n",
              "}}\n",
              "\n",
              "// Listen for the clearing of the current output cell\n",
              "var outputEl = gd.closest('.output');\n",
              "if (outputEl) {{\n",
              "    x.observe(outputEl, {childList: true});\n",
              "}}\n",
              "\n",
              "                        })                };                            </script>        </div>\n",
              "</body>\n",
              "</html>"
            ]
          },
          "metadata": {}
        }
      ],
      "source": [
        "# Analyze user behavior with a different visualization\n",
        "\n",
        "# Create separate DataFrames for each event type\n",
        "view_df = df.filter(df['event_type'] == 'view')\n",
        "cart_df = df.filter(df['event_type'] == 'cart')\n",
        "purchase_df = df.filter(df['event_type'] == 'purchase')\n",
        "\n",
        "# Prepare data for plotting\n",
        "event_summary = {\n",
        "    'Event': ['View', 'Cart', 'Purchase'],\n",
        "    'Count': [view_df.count(), cart_df.count(), purchase_df.count()]\n",
        "}\n",
        "\n",
        "# Convert to Pandas DataFrame\n",
        "event_summary_df = pd.DataFrame(event_summary)\n",
        "\n",
        "# Create a bar chart using Plotly\n",
        "fig = px.bar(\n",
        "    event_summary_df,\n",
        "    x='Event',\n",
        "    y='Count',\n",
        "    text='Count',\n",
        "    title='User Behavior Distribution on E-commerce Site',\n",
        "    color='Event',\n",
        "    template='plotly_white'\n",
        ")\n",
        "\n",
        "# Customize bar chart appearance\n",
        "fig.update_traces(textposition='outside')\n",
        "fig.update_layout(yaxis_title=\"Number of Events\", xaxis_title=\"Event Type\")\n",
        "fig.show()\n"
      ]
    },
    {
      "cell_type": "markdown",
      "metadata": {
        "id": "1wW1hC0LEaKO"
      },
      "source": [
        "# Part 1: Determine best performing categories based on purchases\n",
        "\n"
      ]
    },
    {
      "cell_type": "markdown",
      "metadata": {
        "id": "ZwjdxLpHFimu"
      },
      "source": [
        "## Top 10 Categories Browsed and Purchased (2 options)"
      ]
    },
    {
      "cell_type": "markdown",
      "metadata": {
        "id": "V3vB_6E85gEd"
      },
      "source": [
        "### Top 10 Categories browsed"
      ]
    },
    {
      "cell_type": "code",
      "execution_count": null,
      "metadata": {
        "id": "3qhb1b_SMmdA"
      },
      "outputs": [],
      "source": [
        "# Filter records for browsing (view or cart events) and purchasing separately\n",
        "browsed_items_df = df.filter((col('event_type') == 'view') | (col('event_type') == 'cart'))\n",
        "purchased_items_df = df.filter(col('event_type') == 'purchase')\n",
        "\n",
        "# Exclude entries with unknown category or product in browsing events\n",
        "browsed_items_df = browsed_items_df.filter((col('category') != 'unknown') & (col('product') != 'unknown'))\n",
        "\n",
        "# Exclude entries with unknown category or product in purchasing events\n",
        "purchased_items_df = purchased_items_df.filter((col('category') != 'unknown') & (col('product') != 'unknown'))"
      ]
    },
    {
      "cell_type": "code",
      "execution_count": null,
      "metadata": {
        "id": "7NC_6xiCFzkx"
      },
      "outputs": [],
      "source": [
        "# Find the top 10 most browsed categories\n",
        "top_browsed_categories_df = browsed_items_df.groupBy('category') \\\n",
        "    .count() \\\n",
        "    .orderBy(desc('count')) \\\n",
        "    .limit(10) \\\n",
        "    .withColumnRenamed('count', 'browsed_category_count')"
      ]
    },
    {
      "cell_type": "code",
      "execution_count": null,
      "metadata": {
        "colab": {
          "base_uri": "https://localhost:8080/"
        },
        "id": "bpCoxGdmGjnv",
        "outputId": "a21538dd-62bb-48a1-f1cd-86063f9e4cec"
      },
      "outputs": [
        {
          "output_type": "stream",
          "name": "stdout",
          "text": [
            "+-----------+----------------------+\n",
            "|   category|browsed_category_count|\n",
            "+-----------+----------------------+\n",
            "|electronics|              15712595|\n",
            "| appliances|               4892298|\n",
            "|  computers|               2296362|\n",
            "|    apparel|               1534922|\n",
            "|  furniture|               1238859|\n",
            "+-----------+----------------------+\n",
            "only showing top 5 rows\n",
            "\n"
          ]
        }
      ],
      "source": [
        "# Display the top 5 browsed categories if output display is enabled\n",
        "if output_show:\n",
        "    top_browsed_categories_df.show(5)\n"
      ]
    },
    {
      "cell_type": "code",
      "execution_count": null,
      "metadata": {
        "colab": {
          "base_uri": "https://localhost:8080/",
          "height": 542
        },
        "id": "oIDXtCA7vCC3",
        "outputId": "7c7ea235-2eef-4428-c55f-6e9072fa341b"
      },
      "outputs": [
        {
          "output_type": "display_data",
          "data": {
            "text/html": [
              "<html>\n",
              "<head><meta charset=\"utf-8\" /></head>\n",
              "<body>\n",
              "    <div>            <script src=\"https://cdnjs.cloudflare.com/ajax/libs/mathjax/2.7.5/MathJax.js?config=TeX-AMS-MML_SVG\"></script><script type=\"text/javascript\">if (window.MathJax && window.MathJax.Hub && window.MathJax.Hub.Config) {window.MathJax.Hub.Config({SVG: {font: \"STIX-Web\"}});}</script>                <script type=\"text/javascript\">window.PlotlyConfig = {MathJaxConfig: 'local'};</script>\n",
              "        <script charset=\"utf-8\" src=\"https://cdn.plot.ly/plotly-2.35.2.min.js\"></script>                <div id=\"6f273d2f-77df-482c-b458-f4d5d12b1d1b\" class=\"plotly-graph-div\" style=\"height:525px; width:100%;\"></div>            <script type=\"text/javascript\">                                    window.PLOTLYENV=window.PLOTLYENV || {};                                    if (document.getElementById(\"6f273d2f-77df-482c-b458-f4d5d12b1d1b\")) {                    Plotly.newPlot(                        \"6f273d2f-77df-482c-b458-f4d5d12b1d1b\",                        [{\"alignmentgroup\":\"True\",\"hovertemplate\":\"Category=%{y}\\u003cbr\\u003eBrowse_Count=%{x}\\u003cextra\\u003e\\u003c\\u002fextra\\u003e\",\"legendgroup\":\"electronics\",\"marker\":{\"color\":\"#3366CC\",\"pattern\":{\"shape\":\"\"}},\"name\":\"electronics\",\"offsetgroup\":\"electronics\",\"orientation\":\"h\",\"showlegend\":true,\"textposition\":\"outside\",\"x\":[15712595],\"xaxis\":\"x\",\"y\":[\"electronics\"],\"yaxis\":\"y\",\"type\":\"bar\",\"texttemplate\":\"%{x:,}\"},{\"alignmentgroup\":\"True\",\"hovertemplate\":\"Category=%{y}\\u003cbr\\u003eBrowse_Count=%{x}\\u003cextra\\u003e\\u003c\\u002fextra\\u003e\",\"legendgroup\":\"appliances\",\"marker\":{\"color\":\"#DC3912\",\"pattern\":{\"shape\":\"\"}},\"name\":\"appliances\",\"offsetgroup\":\"appliances\",\"orientation\":\"h\",\"showlegend\":true,\"textposition\":\"outside\",\"x\":[4892298],\"xaxis\":\"x\",\"y\":[\"appliances\"],\"yaxis\":\"y\",\"type\":\"bar\",\"texttemplate\":\"%{x:,}\"},{\"alignmentgroup\":\"True\",\"hovertemplate\":\"Category=%{y}\\u003cbr\\u003eBrowse_Count=%{x}\\u003cextra\\u003e\\u003c\\u002fextra\\u003e\",\"legendgroup\":\"computers\",\"marker\":{\"color\":\"#FF9900\",\"pattern\":{\"shape\":\"\"}},\"name\":\"computers\",\"offsetgroup\":\"computers\",\"orientation\":\"h\",\"showlegend\":true,\"textposition\":\"outside\",\"x\":[2296362],\"xaxis\":\"x\",\"y\":[\"computers\"],\"yaxis\":\"y\",\"type\":\"bar\",\"texttemplate\":\"%{x:,}\"},{\"alignmentgroup\":\"True\",\"hovertemplate\":\"Category=%{y}\\u003cbr\\u003eBrowse_Count=%{x}\\u003cextra\\u003e\\u003c\\u002fextra\\u003e\",\"legendgroup\":\"apparel\",\"marker\":{\"color\":\"#109618\",\"pattern\":{\"shape\":\"\"}},\"name\":\"apparel\",\"offsetgroup\":\"apparel\",\"orientation\":\"h\",\"showlegend\":true,\"textposition\":\"outside\",\"x\":[1534922],\"xaxis\":\"x\",\"y\":[\"apparel\"],\"yaxis\":\"y\",\"type\":\"bar\",\"texttemplate\":\"%{x:,}\"},{\"alignmentgroup\":\"True\",\"hovertemplate\":\"Category=%{y}\\u003cbr\\u003eBrowse_Count=%{x}\\u003cextra\\u003e\\u003c\\u002fextra\\u003e\",\"legendgroup\":\"furniture\",\"marker\":{\"color\":\"#990099\",\"pattern\":{\"shape\":\"\"}},\"name\":\"furniture\",\"offsetgroup\":\"furniture\",\"orientation\":\"h\",\"showlegend\":true,\"textposition\":\"outside\",\"x\":[1238859],\"xaxis\":\"x\",\"y\":[\"furniture\"],\"yaxis\":\"y\",\"type\":\"bar\",\"texttemplate\":\"%{x:,}\"},{\"alignmentgroup\":\"True\",\"hovertemplate\":\"Category=%{y}\\u003cbr\\u003eBrowse_Count=%{x}\\u003cextra\\u003e\\u003c\\u002fextra\\u003e\",\"legendgroup\":\"auto\",\"marker\":{\"color\":\"#0099C6\",\"pattern\":{\"shape\":\"\"}},\"name\":\"auto\",\"offsetgroup\":\"auto\",\"orientation\":\"h\",\"showlegend\":true,\"textposition\":\"outside\",\"x\":[1002495],\"xaxis\":\"x\",\"y\":[\"auto\"],\"yaxis\":\"y\",\"type\":\"bar\",\"texttemplate\":\"%{x:,}\"},{\"alignmentgroup\":\"True\",\"hovertemplate\":\"Category=%{y}\\u003cbr\\u003eBrowse_Count=%{x}\\u003cextra\\u003e\\u003c\\u002fextra\\u003e\",\"legendgroup\":\"construction\",\"marker\":{\"color\":\"#DD4477\",\"pattern\":{\"shape\":\"\"}},\"name\":\"construction\",\"offsetgroup\":\"construction\",\"orientation\":\"h\",\"showlegend\":true,\"textposition\":\"outside\",\"x\":[723033],\"xaxis\":\"x\",\"y\":[\"construction\"],\"yaxis\":\"y\",\"type\":\"bar\",\"texttemplate\":\"%{x:,}\"},{\"alignmentgroup\":\"True\",\"hovertemplate\":\"Category=%{y}\\u003cbr\\u003eBrowse_Count=%{x}\\u003cextra\\u003e\\u003c\\u002fextra\\u003e\",\"legendgroup\":\"lucente\",\"marker\":{\"color\":\"#66AA00\",\"pattern\":{\"shape\":\"\"}},\"name\":\"lucente\",\"offsetgroup\":\"lucente\",\"orientation\":\"h\",\"showlegend\":true,\"textposition\":\"outside\",\"x\":[644283],\"xaxis\":\"x\",\"y\":[\"lucente\"],\"yaxis\":\"y\",\"type\":\"bar\",\"texttemplate\":\"%{x:,}\"},{\"alignmentgroup\":\"True\",\"hovertemplate\":\"Category=%{y}\\u003cbr\\u003eBrowse_Count=%{x}\\u003cextra\\u003e\\u003c\\u002fextra\\u003e\",\"legendgroup\":\"kids\",\"marker\":{\"color\":\"#B82E2E\",\"pattern\":{\"shape\":\"\"}},\"name\":\"kids\",\"offsetgroup\":\"kids\",\"orientation\":\"h\",\"showlegend\":true,\"textposition\":\"outside\",\"x\":[515137],\"xaxis\":\"x\",\"y\":[\"kids\"],\"yaxis\":\"y\",\"type\":\"bar\",\"texttemplate\":\"%{x:,}\"},{\"alignmentgroup\":\"True\",\"hovertemplate\":\"Category=%{y}\\u003cbr\\u003eBrowse_Count=%{x}\\u003cextra\\u003e\\u003c\\u002fextra\\u003e\",\"legendgroup\":\"xiaomi\",\"marker\":{\"color\":\"#316395\",\"pattern\":{\"shape\":\"\"}},\"name\":\"xiaomi\",\"offsetgroup\":\"xiaomi\",\"orientation\":\"h\",\"showlegend\":true,\"textposition\":\"outside\",\"x\":[376098],\"xaxis\":\"x\",\"y\":[\"xiaomi\"],\"yaxis\":\"y\",\"type\":\"bar\",\"texttemplate\":\"%{x:,}\"}],                        {\"template\":{\"data\":{\"barpolar\":[{\"marker\":{\"line\":{\"color\":\"white\",\"width\":0.5},\"pattern\":{\"fillmode\":\"overlay\",\"size\":10,\"solidity\":0.2}},\"type\":\"barpolar\"}],\"bar\":[{\"error_x\":{\"color\":\"rgb(36,36,36)\"},\"error_y\":{\"color\":\"rgb(36,36,36)\"},\"marker\":{\"line\":{\"color\":\"white\",\"width\":0.5},\"pattern\":{\"fillmode\":\"overlay\",\"size\":10,\"solidity\":0.2}},\"type\":\"bar\"}],\"carpet\":[{\"aaxis\":{\"endlinecolor\":\"rgb(36,36,36)\",\"gridcolor\":\"white\",\"linecolor\":\"white\",\"minorgridcolor\":\"white\",\"startlinecolor\":\"rgb(36,36,36)\"},\"baxis\":{\"endlinecolor\":\"rgb(36,36,36)\",\"gridcolor\":\"white\",\"linecolor\":\"white\",\"minorgridcolor\":\"white\",\"startlinecolor\":\"rgb(36,36,36)\"},\"type\":\"carpet\"}],\"choropleth\":[{\"colorbar\":{\"outlinewidth\":1,\"tickcolor\":\"rgb(36,36,36)\",\"ticks\":\"outside\"},\"type\":\"choropleth\"}],\"contourcarpet\":[{\"colorbar\":{\"outlinewidth\":1,\"tickcolor\":\"rgb(36,36,36)\",\"ticks\":\"outside\"},\"type\":\"contourcarpet\"}],\"contour\":[{\"colorbar\":{\"outlinewidth\":1,\"tickcolor\":\"rgb(36,36,36)\",\"ticks\":\"outside\"},\"colorscale\":[[0.0,\"#440154\"],[0.1111111111111111,\"#482878\"],[0.2222222222222222,\"#3e4989\"],[0.3333333333333333,\"#31688e\"],[0.4444444444444444,\"#26828e\"],[0.5555555555555556,\"#1f9e89\"],[0.6666666666666666,\"#35b779\"],[0.7777777777777778,\"#6ece58\"],[0.8888888888888888,\"#b5de2b\"],[1.0,\"#fde725\"]],\"type\":\"contour\"}],\"heatmapgl\":[{\"colorbar\":{\"outlinewidth\":1,\"tickcolor\":\"rgb(36,36,36)\",\"ticks\":\"outside\"},\"colorscale\":[[0.0,\"#440154\"],[0.1111111111111111,\"#482878\"],[0.2222222222222222,\"#3e4989\"],[0.3333333333333333,\"#31688e\"],[0.4444444444444444,\"#26828e\"],[0.5555555555555556,\"#1f9e89\"],[0.6666666666666666,\"#35b779\"],[0.7777777777777778,\"#6ece58\"],[0.8888888888888888,\"#b5de2b\"],[1.0,\"#fde725\"]],\"type\":\"heatmapgl\"}],\"heatmap\":[{\"colorbar\":{\"outlinewidth\":1,\"tickcolor\":\"rgb(36,36,36)\",\"ticks\":\"outside\"},\"colorscale\":[[0.0,\"#440154\"],[0.1111111111111111,\"#482878\"],[0.2222222222222222,\"#3e4989\"],[0.3333333333333333,\"#31688e\"],[0.4444444444444444,\"#26828e\"],[0.5555555555555556,\"#1f9e89\"],[0.6666666666666666,\"#35b779\"],[0.7777777777777778,\"#6ece58\"],[0.8888888888888888,\"#b5de2b\"],[1.0,\"#fde725\"]],\"type\":\"heatmap\"}],\"histogram2dcontour\":[{\"colorbar\":{\"outlinewidth\":1,\"tickcolor\":\"rgb(36,36,36)\",\"ticks\":\"outside\"},\"colorscale\":[[0.0,\"#440154\"],[0.1111111111111111,\"#482878\"],[0.2222222222222222,\"#3e4989\"],[0.3333333333333333,\"#31688e\"],[0.4444444444444444,\"#26828e\"],[0.5555555555555556,\"#1f9e89\"],[0.6666666666666666,\"#35b779\"],[0.7777777777777778,\"#6ece58\"],[0.8888888888888888,\"#b5de2b\"],[1.0,\"#fde725\"]],\"type\":\"histogram2dcontour\"}],\"histogram2d\":[{\"colorbar\":{\"outlinewidth\":1,\"tickcolor\":\"rgb(36,36,36)\",\"ticks\":\"outside\"},\"colorscale\":[[0.0,\"#440154\"],[0.1111111111111111,\"#482878\"],[0.2222222222222222,\"#3e4989\"],[0.3333333333333333,\"#31688e\"],[0.4444444444444444,\"#26828e\"],[0.5555555555555556,\"#1f9e89\"],[0.6666666666666666,\"#35b779\"],[0.7777777777777778,\"#6ece58\"],[0.8888888888888888,\"#b5de2b\"],[1.0,\"#fde725\"]],\"type\":\"histogram2d\"}],\"histogram\":[{\"marker\":{\"line\":{\"color\":\"white\",\"width\":0.6}},\"type\":\"histogram\"}],\"mesh3d\":[{\"colorbar\":{\"outlinewidth\":1,\"tickcolor\":\"rgb(36,36,36)\",\"ticks\":\"outside\"},\"type\":\"mesh3d\"}],\"parcoords\":[{\"line\":{\"colorbar\":{\"outlinewidth\":1,\"tickcolor\":\"rgb(36,36,36)\",\"ticks\":\"outside\"}},\"type\":\"parcoords\"}],\"pie\":[{\"automargin\":true,\"type\":\"pie\"}],\"scatter3d\":[{\"line\":{\"colorbar\":{\"outlinewidth\":1,\"tickcolor\":\"rgb(36,36,36)\",\"ticks\":\"outside\"}},\"marker\":{\"colorbar\":{\"outlinewidth\":1,\"tickcolor\":\"rgb(36,36,36)\",\"ticks\":\"outside\"}},\"type\":\"scatter3d\"}],\"scattercarpet\":[{\"marker\":{\"colorbar\":{\"outlinewidth\":1,\"tickcolor\":\"rgb(36,36,36)\",\"ticks\":\"outside\"}},\"type\":\"scattercarpet\"}],\"scattergeo\":[{\"marker\":{\"colorbar\":{\"outlinewidth\":1,\"tickcolor\":\"rgb(36,36,36)\",\"ticks\":\"outside\"}},\"type\":\"scattergeo\"}],\"scattergl\":[{\"marker\":{\"colorbar\":{\"outlinewidth\":1,\"tickcolor\":\"rgb(36,36,36)\",\"ticks\":\"outside\"}},\"type\":\"scattergl\"}],\"scattermapbox\":[{\"marker\":{\"colorbar\":{\"outlinewidth\":1,\"tickcolor\":\"rgb(36,36,36)\",\"ticks\":\"outside\"}},\"type\":\"scattermapbox\"}],\"scatterpolargl\":[{\"marker\":{\"colorbar\":{\"outlinewidth\":1,\"tickcolor\":\"rgb(36,36,36)\",\"ticks\":\"outside\"}},\"type\":\"scatterpolargl\"}],\"scatterpolar\":[{\"marker\":{\"colorbar\":{\"outlinewidth\":1,\"tickcolor\":\"rgb(36,36,36)\",\"ticks\":\"outside\"}},\"type\":\"scatterpolar\"}],\"scatter\":[{\"fillpattern\":{\"fillmode\":\"overlay\",\"size\":10,\"solidity\":0.2},\"type\":\"scatter\"}],\"scatterternary\":[{\"marker\":{\"colorbar\":{\"outlinewidth\":1,\"tickcolor\":\"rgb(36,36,36)\",\"ticks\":\"outside\"}},\"type\":\"scatterternary\"}],\"surface\":[{\"colorbar\":{\"outlinewidth\":1,\"tickcolor\":\"rgb(36,36,36)\",\"ticks\":\"outside\"},\"colorscale\":[[0.0,\"#440154\"],[0.1111111111111111,\"#482878\"],[0.2222222222222222,\"#3e4989\"],[0.3333333333333333,\"#31688e\"],[0.4444444444444444,\"#26828e\"],[0.5555555555555556,\"#1f9e89\"],[0.6666666666666666,\"#35b779\"],[0.7777777777777778,\"#6ece58\"],[0.8888888888888888,\"#b5de2b\"],[1.0,\"#fde725\"]],\"type\":\"surface\"}],\"table\":[{\"cells\":{\"fill\":{\"color\":\"rgb(237,237,237)\"},\"line\":{\"color\":\"white\"}},\"header\":{\"fill\":{\"color\":\"rgb(217,217,217)\"},\"line\":{\"color\":\"white\"}},\"type\":\"table\"}]},\"layout\":{\"annotationdefaults\":{\"arrowhead\":0,\"arrowwidth\":1},\"autotypenumbers\":\"strict\",\"coloraxis\":{\"colorbar\":{\"outlinewidth\":1,\"tickcolor\":\"rgb(36,36,36)\",\"ticks\":\"outside\"}},\"colorscale\":{\"diverging\":[[0.0,\"rgb(103,0,31)\"],[0.1,\"rgb(178,24,43)\"],[0.2,\"rgb(214,96,77)\"],[0.3,\"rgb(244,165,130)\"],[0.4,\"rgb(253,219,199)\"],[0.5,\"rgb(247,247,247)\"],[0.6,\"rgb(209,229,240)\"],[0.7,\"rgb(146,197,222)\"],[0.8,\"rgb(67,147,195)\"],[0.9,\"rgb(33,102,172)\"],[1.0,\"rgb(5,48,97)\"]],\"sequential\":[[0.0,\"#440154\"],[0.1111111111111111,\"#482878\"],[0.2222222222222222,\"#3e4989\"],[0.3333333333333333,\"#31688e\"],[0.4444444444444444,\"#26828e\"],[0.5555555555555556,\"#1f9e89\"],[0.6666666666666666,\"#35b779\"],[0.7777777777777778,\"#6ece58\"],[0.8888888888888888,\"#b5de2b\"],[1.0,\"#fde725\"]],\"sequentialminus\":[[0.0,\"#440154\"],[0.1111111111111111,\"#482878\"],[0.2222222222222222,\"#3e4989\"],[0.3333333333333333,\"#31688e\"],[0.4444444444444444,\"#26828e\"],[0.5555555555555556,\"#1f9e89\"],[0.6666666666666666,\"#35b779\"],[0.7777777777777778,\"#6ece58\"],[0.8888888888888888,\"#b5de2b\"],[1.0,\"#fde725\"]]},\"colorway\":[\"#1F77B4\",\"#FF7F0E\",\"#2CA02C\",\"#D62728\",\"#9467BD\",\"#8C564B\",\"#E377C2\",\"#7F7F7F\",\"#BCBD22\",\"#17BECF\"],\"font\":{\"color\":\"rgb(36,36,36)\"},\"geo\":{\"bgcolor\":\"white\",\"lakecolor\":\"white\",\"landcolor\":\"white\",\"showlakes\":true,\"showland\":true,\"subunitcolor\":\"white\"},\"hoverlabel\":{\"align\":\"left\"},\"hovermode\":\"closest\",\"mapbox\":{\"style\":\"light\"},\"paper_bgcolor\":\"white\",\"plot_bgcolor\":\"white\",\"polar\":{\"angularaxis\":{\"gridcolor\":\"rgb(232,232,232)\",\"linecolor\":\"rgb(36,36,36)\",\"showgrid\":false,\"showline\":true,\"ticks\":\"outside\"},\"bgcolor\":\"white\",\"radialaxis\":{\"gridcolor\":\"rgb(232,232,232)\",\"linecolor\":\"rgb(36,36,36)\",\"showgrid\":false,\"showline\":true,\"ticks\":\"outside\"}},\"scene\":{\"xaxis\":{\"backgroundcolor\":\"white\",\"gridcolor\":\"rgb(232,232,232)\",\"gridwidth\":2,\"linecolor\":\"rgb(36,36,36)\",\"showbackground\":true,\"showgrid\":false,\"showline\":true,\"ticks\":\"outside\",\"zeroline\":false,\"zerolinecolor\":\"rgb(36,36,36)\"},\"yaxis\":{\"backgroundcolor\":\"white\",\"gridcolor\":\"rgb(232,232,232)\",\"gridwidth\":2,\"linecolor\":\"rgb(36,36,36)\",\"showbackground\":true,\"showgrid\":false,\"showline\":true,\"ticks\":\"outside\",\"zeroline\":false,\"zerolinecolor\":\"rgb(36,36,36)\"},\"zaxis\":{\"backgroundcolor\":\"white\",\"gridcolor\":\"rgb(232,232,232)\",\"gridwidth\":2,\"linecolor\":\"rgb(36,36,36)\",\"showbackground\":true,\"showgrid\":false,\"showline\":true,\"ticks\":\"outside\",\"zeroline\":false,\"zerolinecolor\":\"rgb(36,36,36)\"}},\"shapedefaults\":{\"fillcolor\":\"black\",\"line\":{\"width\":0},\"opacity\":0.3},\"ternary\":{\"aaxis\":{\"gridcolor\":\"rgb(232,232,232)\",\"linecolor\":\"rgb(36,36,36)\",\"showgrid\":false,\"showline\":true,\"ticks\":\"outside\"},\"baxis\":{\"gridcolor\":\"rgb(232,232,232)\",\"linecolor\":\"rgb(36,36,36)\",\"showgrid\":false,\"showline\":true,\"ticks\":\"outside\"},\"bgcolor\":\"white\",\"caxis\":{\"gridcolor\":\"rgb(232,232,232)\",\"linecolor\":\"rgb(36,36,36)\",\"showgrid\":false,\"showline\":true,\"ticks\":\"outside\"}},\"title\":{\"x\":0.05},\"xaxis\":{\"automargin\":true,\"gridcolor\":\"rgb(232,232,232)\",\"linecolor\":\"rgb(36,36,36)\",\"showgrid\":false,\"showline\":true,\"ticks\":\"outside\",\"title\":{\"standoff\":15},\"zeroline\":false,\"zerolinecolor\":\"rgb(36,36,36)\"},\"yaxis\":{\"automargin\":true,\"gridcolor\":\"rgb(232,232,232)\",\"linecolor\":\"rgb(36,36,36)\",\"showgrid\":false,\"showline\":true,\"ticks\":\"outside\",\"title\":{\"standoff\":15},\"zeroline\":false,\"zerolinecolor\":\"rgb(36,36,36)\"}}},\"xaxis\":{\"anchor\":\"y\",\"domain\":[0.0,1.0],\"title\":{\"text\":\"Number of Browses\"}},\"yaxis\":{\"anchor\":\"x\",\"domain\":[0.0,1.0],\"title\":{\"text\":\"Category\"},\"categoryorder\":\"array\",\"categoryarray\":[\"xiaomi\",\"kids\",\"lucente\",\"construction\",\"auto\",\"furniture\",\"apparel\",\"computers\",\"appliances\",\"electronics\"]},\"legend\":{\"title\":{\"text\":\"Category\"},\"tracegroupgap\":0},\"title\":{\"text\":\"Most Popular Categories Browsed by Users\"},\"barmode\":\"relative\",\"showlegend\":false},                        {\"responsive\": true}                    ).then(function(){\n",
              "                            \n",
              "var gd = document.getElementById('6f273d2f-77df-482c-b458-f4d5d12b1d1b');\n",
              "var x = new MutationObserver(function (mutations, observer) {{\n",
              "        var display = window.getComputedStyle(gd).display;\n",
              "        if (!display || display === 'none') {{\n",
              "            console.log([gd, 'removed!']);\n",
              "            Plotly.purge(gd);\n",
              "            observer.disconnect();\n",
              "        }}\n",
              "}});\n",
              "\n",
              "// Listen for the removal of the full notebook cells\n",
              "var notebookContainer = gd.closest('#notebook-container');\n",
              "if (notebookContainer) {{\n",
              "    x.observe(notebookContainer, {childList: true});\n",
              "}}\n",
              "\n",
              "// Listen for the clearing of the current output cell\n",
              "var outputEl = gd.closest('.output');\n",
              "if (outputEl) {{\n",
              "    x.observe(outputEl, {childList: true});\n",
              "}}\n",
              "\n",
              "                        })                };                            </script>        </div>\n",
              "</body>\n",
              "</html>"
            ]
          },
          "metadata": {}
        }
      ],
      "source": [
        "# Extract category and browse count data\n",
        "categories = [row.category for row in top_browsed_categories_df.select('category').collect()]\n",
        "browse_counts = [row.browsed_category_count for row in top_browsed_categories_df.select('browsed_category_count').collect()]\n",
        "\n",
        "# Create a new DataFrame for plotting\n",
        "plot_data = {'Category': categories, 'Browse_Count': browse_counts}\n",
        "plot_df = pd.DataFrame(plot_data)\n",
        "\n",
        "# Create a horizontal bar chart using Plotly\n",
        "fig = px.bar(\n",
        "    plot_df,\n",
        "    y='Category',\n",
        "    x='Browse_Count',\n",
        "    orientation='h',\n",
        "    color='Category',\n",
        "    color_discrete_sequence=px.colors.qualitative.G10,  # Different color palette\n",
        "    title='Most Popular Categories Browsed by Users'\n",
        ")\n",
        "\n",
        "# Improve readability\n",
        "fig.update_layout(\n",
        "    xaxis_title='Number of Browses',\n",
        "    yaxis_title='Category',\n",
        "    template='simple_white',\n",
        "    showlegend=False\n",
        ")\n",
        "\n",
        "# Add data labels outside the bars\n",
        "fig.update_traces(texttemplate='%{x:,}', textposition='outside')\n",
        "fig.show()\n"
      ]
    },
    {
      "cell_type": "markdown",
      "metadata": {
        "id": "9SXnfbv85n9m"
      },
      "source": [
        "### Top 10 Categories Purchased (2 options)"
      ]
    },
    {
      "cell_type": "code",
      "execution_count": null,
      "metadata": {
        "id": "sbmrLiE1NEnS"
      },
      "outputs": [],
      "source": [
        "# Identify the top 10 categories based on purchase counts\n",
        "top_purchased_categories_df = purchased_items_df.groupBy('category') \\\n",
        "    .count() \\\n",
        "    .orderBy(desc('count')) \\\n",
        "    .limit(10) \\\n",
        "    .withColumnRenamed('count', 'purchased_category_count')"
      ]
    },
    {
      "cell_type": "code",
      "execution_count": null,
      "metadata": {
        "colab": {
          "base_uri": "https://localhost:8080/"
        },
        "id": "Lz7w7OJ3Ik_g",
        "outputId": "635f5e6e-a8f8-41ec-e837-2154a88a2a31"
      },
      "outputs": [
        {
          "output_type": "stream",
          "name": "stdout",
          "text": [
            "+------------+------------------------+\n",
            "|    category|purchased_category_count|\n",
            "+------------+------------------------+\n",
            "| electronics|                  423028|\n",
            "|  appliances|                   74996|\n",
            "|   computers|                   27855|\n",
            "|     lucente|                   11578|\n",
            "|        auto|                   10620|\n",
            "|    cordiant|                   10551|\n",
            "|      xiaomi|                   10021|\n",
            "|   furniture|                    8301|\n",
            "|     apparel|                    8002|\n",
            "|construction|                    7801|\n",
            "+------------+------------------------+\n",
            "\n"
          ]
        }
      ],
      "source": [
        "# Show the top purchased categories if output display is enabled\n",
        "if output_show:\n",
        "    top_purchased_categories_df.show()"
      ]
    },
    {
      "cell_type": "code",
      "execution_count": null,
      "metadata": {
        "colab": {
          "base_uri": "https://localhost:8080/",
          "height": 542
        },
        "id": "3x3KI-st-wlp",
        "outputId": "8eda0d0a-d771-4a57-c5c6-9acd8326e185"
      },
      "outputs": [
        {
          "output_type": "display_data",
          "data": {
            "text/html": [
              "<html>\n",
              "<head><meta charset=\"utf-8\" /></head>\n",
              "<body>\n",
              "    <div>            <script src=\"https://cdnjs.cloudflare.com/ajax/libs/mathjax/2.7.5/MathJax.js?config=TeX-AMS-MML_SVG\"></script><script type=\"text/javascript\">if (window.MathJax && window.MathJax.Hub && window.MathJax.Hub.Config) {window.MathJax.Hub.Config({SVG: {font: \"STIX-Web\"}});}</script>                <script type=\"text/javascript\">window.PlotlyConfig = {MathJaxConfig: 'local'};</script>\n",
              "        <script charset=\"utf-8\" src=\"https://cdn.plot.ly/plotly-2.35.2.min.js\"></script>                <div id=\"5be5c290-4e54-4f63-be52-defbb38d9384\" class=\"plotly-graph-div\" style=\"height:525px; width:100%;\"></div>            <script type=\"text/javascript\">                                    window.PLOTLYENV=window.PLOTLYENV || {};                                    if (document.getElementById(\"5be5c290-4e54-4f63-be52-defbb38d9384\")) {                    Plotly.newPlot(                        \"5be5c290-4e54-4f63-be52-defbb38d9384\",                        [{\"alignmentgroup\":\"True\",\"hovertemplate\":\"Category=%{y}\\u003cbr\\u003ePurchase_Count=%{x}\\u003cextra\\u003e\\u003c\\u002fextra\\u003e\",\"legendgroup\":\"electronics\",\"marker\":{\"color\":\"rgb(251,180,174)\",\"pattern\":{\"shape\":\"\"}},\"name\":\"electronics\",\"offsetgroup\":\"electronics\",\"orientation\":\"h\",\"showlegend\":true,\"textposition\":\"outside\",\"x\":[423028],\"xaxis\":\"x\",\"y\":[\"electronics\"],\"yaxis\":\"y\",\"type\":\"bar\",\"texttemplate\":\"%{x:,}\"},{\"alignmentgroup\":\"True\",\"hovertemplate\":\"Category=%{y}\\u003cbr\\u003ePurchase_Count=%{x}\\u003cextra\\u003e\\u003c\\u002fextra\\u003e\",\"legendgroup\":\"appliances\",\"marker\":{\"color\":\"rgb(179,205,227)\",\"pattern\":{\"shape\":\"\"}},\"name\":\"appliances\",\"offsetgroup\":\"appliances\",\"orientation\":\"h\",\"showlegend\":true,\"textposition\":\"outside\",\"x\":[74996],\"xaxis\":\"x\",\"y\":[\"appliances\"],\"yaxis\":\"y\",\"type\":\"bar\",\"texttemplate\":\"%{x:,}\"},{\"alignmentgroup\":\"True\",\"hovertemplate\":\"Category=%{y}\\u003cbr\\u003ePurchase_Count=%{x}\\u003cextra\\u003e\\u003c\\u002fextra\\u003e\",\"legendgroup\":\"computers\",\"marker\":{\"color\":\"rgb(204,235,197)\",\"pattern\":{\"shape\":\"\"}},\"name\":\"computers\",\"offsetgroup\":\"computers\",\"orientation\":\"h\",\"showlegend\":true,\"textposition\":\"outside\",\"x\":[27855],\"xaxis\":\"x\",\"y\":[\"computers\"],\"yaxis\":\"y\",\"type\":\"bar\",\"texttemplate\":\"%{x:,}\"},{\"alignmentgroup\":\"True\",\"hovertemplate\":\"Category=%{y}\\u003cbr\\u003ePurchase_Count=%{x}\\u003cextra\\u003e\\u003c\\u002fextra\\u003e\",\"legendgroup\":\"lucente\",\"marker\":{\"color\":\"rgb(222,203,228)\",\"pattern\":{\"shape\":\"\"}},\"name\":\"lucente\",\"offsetgroup\":\"lucente\",\"orientation\":\"h\",\"showlegend\":true,\"textposition\":\"outside\",\"x\":[11578],\"xaxis\":\"x\",\"y\":[\"lucente\"],\"yaxis\":\"y\",\"type\":\"bar\",\"texttemplate\":\"%{x:,}\"},{\"alignmentgroup\":\"True\",\"hovertemplate\":\"Category=%{y}\\u003cbr\\u003ePurchase_Count=%{x}\\u003cextra\\u003e\\u003c\\u002fextra\\u003e\",\"legendgroup\":\"auto\",\"marker\":{\"color\":\"rgb(254,217,166)\",\"pattern\":{\"shape\":\"\"}},\"name\":\"auto\",\"offsetgroup\":\"auto\",\"orientation\":\"h\",\"showlegend\":true,\"textposition\":\"outside\",\"x\":[10620],\"xaxis\":\"x\",\"y\":[\"auto\"],\"yaxis\":\"y\",\"type\":\"bar\",\"texttemplate\":\"%{x:,}\"},{\"alignmentgroup\":\"True\",\"hovertemplate\":\"Category=%{y}\\u003cbr\\u003ePurchase_Count=%{x}\\u003cextra\\u003e\\u003c\\u002fextra\\u003e\",\"legendgroup\":\"cordiant\",\"marker\":{\"color\":\"rgb(255,255,204)\",\"pattern\":{\"shape\":\"\"}},\"name\":\"cordiant\",\"offsetgroup\":\"cordiant\",\"orientation\":\"h\",\"showlegend\":true,\"textposition\":\"outside\",\"x\":[10551],\"xaxis\":\"x\",\"y\":[\"cordiant\"],\"yaxis\":\"y\",\"type\":\"bar\",\"texttemplate\":\"%{x:,}\"},{\"alignmentgroup\":\"True\",\"hovertemplate\":\"Category=%{y}\\u003cbr\\u003ePurchase_Count=%{x}\\u003cextra\\u003e\\u003c\\u002fextra\\u003e\",\"legendgroup\":\"xiaomi\",\"marker\":{\"color\":\"rgb(229,216,189)\",\"pattern\":{\"shape\":\"\"}},\"name\":\"xiaomi\",\"offsetgroup\":\"xiaomi\",\"orientation\":\"h\",\"showlegend\":true,\"textposition\":\"outside\",\"x\":[10021],\"xaxis\":\"x\",\"y\":[\"xiaomi\"],\"yaxis\":\"y\",\"type\":\"bar\",\"texttemplate\":\"%{x:,}\"},{\"alignmentgroup\":\"True\",\"hovertemplate\":\"Category=%{y}\\u003cbr\\u003ePurchase_Count=%{x}\\u003cextra\\u003e\\u003c\\u002fextra\\u003e\",\"legendgroup\":\"furniture\",\"marker\":{\"color\":\"rgb(253,218,236)\",\"pattern\":{\"shape\":\"\"}},\"name\":\"furniture\",\"offsetgroup\":\"furniture\",\"orientation\":\"h\",\"showlegend\":true,\"textposition\":\"outside\",\"x\":[8301],\"xaxis\":\"x\",\"y\":[\"furniture\"],\"yaxis\":\"y\",\"type\":\"bar\",\"texttemplate\":\"%{x:,}\"},{\"alignmentgroup\":\"True\",\"hovertemplate\":\"Category=%{y}\\u003cbr\\u003ePurchase_Count=%{x}\\u003cextra\\u003e\\u003c\\u002fextra\\u003e\",\"legendgroup\":\"apparel\",\"marker\":{\"color\":\"rgb(242,242,242)\",\"pattern\":{\"shape\":\"\"}},\"name\":\"apparel\",\"offsetgroup\":\"apparel\",\"orientation\":\"h\",\"showlegend\":true,\"textposition\":\"outside\",\"x\":[8002],\"xaxis\":\"x\",\"y\":[\"apparel\"],\"yaxis\":\"y\",\"type\":\"bar\",\"texttemplate\":\"%{x:,}\"},{\"alignmentgroup\":\"True\",\"hovertemplate\":\"Category=%{y}\\u003cbr\\u003ePurchase_Count=%{x}\\u003cextra\\u003e\\u003c\\u002fextra\\u003e\",\"legendgroup\":\"construction\",\"marker\":{\"color\":\"rgb(251,180,174)\",\"pattern\":{\"shape\":\"\"}},\"name\":\"construction\",\"offsetgroup\":\"construction\",\"orientation\":\"h\",\"showlegend\":true,\"textposition\":\"outside\",\"x\":[7801],\"xaxis\":\"x\",\"y\":[\"construction\"],\"yaxis\":\"y\",\"type\":\"bar\",\"texttemplate\":\"%{x:,}\"}],                        {\"template\":{\"data\":{\"barpolar\":[{\"marker\":{\"line\":{\"color\":\"white\",\"width\":0.5},\"pattern\":{\"fillmode\":\"overlay\",\"size\":10,\"solidity\":0.2}},\"type\":\"barpolar\"}],\"bar\":[{\"error_x\":{\"color\":\"#2a3f5f\"},\"error_y\":{\"color\":\"#2a3f5f\"},\"marker\":{\"line\":{\"color\":\"white\",\"width\":0.5},\"pattern\":{\"fillmode\":\"overlay\",\"size\":10,\"solidity\":0.2}},\"type\":\"bar\"}],\"carpet\":[{\"aaxis\":{\"endlinecolor\":\"#2a3f5f\",\"gridcolor\":\"#C8D4E3\",\"linecolor\":\"#C8D4E3\",\"minorgridcolor\":\"#C8D4E3\",\"startlinecolor\":\"#2a3f5f\"},\"baxis\":{\"endlinecolor\":\"#2a3f5f\",\"gridcolor\":\"#C8D4E3\",\"linecolor\":\"#C8D4E3\",\"minorgridcolor\":\"#C8D4E3\",\"startlinecolor\":\"#2a3f5f\"},\"type\":\"carpet\"}],\"choropleth\":[{\"colorbar\":{\"outlinewidth\":0,\"ticks\":\"\"},\"type\":\"choropleth\"}],\"contourcarpet\":[{\"colorbar\":{\"outlinewidth\":0,\"ticks\":\"\"},\"type\":\"contourcarpet\"}],\"contour\":[{\"colorbar\":{\"outlinewidth\":0,\"ticks\":\"\"},\"colorscale\":[[0.0,\"#0d0887\"],[0.1111111111111111,\"#46039f\"],[0.2222222222222222,\"#7201a8\"],[0.3333333333333333,\"#9c179e\"],[0.4444444444444444,\"#bd3786\"],[0.5555555555555556,\"#d8576b\"],[0.6666666666666666,\"#ed7953\"],[0.7777777777777778,\"#fb9f3a\"],[0.8888888888888888,\"#fdca26\"],[1.0,\"#f0f921\"]],\"type\":\"contour\"}],\"heatmapgl\":[{\"colorbar\":{\"outlinewidth\":0,\"ticks\":\"\"},\"colorscale\":[[0.0,\"#0d0887\"],[0.1111111111111111,\"#46039f\"],[0.2222222222222222,\"#7201a8\"],[0.3333333333333333,\"#9c179e\"],[0.4444444444444444,\"#bd3786\"],[0.5555555555555556,\"#d8576b\"],[0.6666666666666666,\"#ed7953\"],[0.7777777777777778,\"#fb9f3a\"],[0.8888888888888888,\"#fdca26\"],[1.0,\"#f0f921\"]],\"type\":\"heatmapgl\"}],\"heatmap\":[{\"colorbar\":{\"outlinewidth\":0,\"ticks\":\"\"},\"colorscale\":[[0.0,\"#0d0887\"],[0.1111111111111111,\"#46039f\"],[0.2222222222222222,\"#7201a8\"],[0.3333333333333333,\"#9c179e\"],[0.4444444444444444,\"#bd3786\"],[0.5555555555555556,\"#d8576b\"],[0.6666666666666666,\"#ed7953\"],[0.7777777777777778,\"#fb9f3a\"],[0.8888888888888888,\"#fdca26\"],[1.0,\"#f0f921\"]],\"type\":\"heatmap\"}],\"histogram2dcontour\":[{\"colorbar\":{\"outlinewidth\":0,\"ticks\":\"\"},\"colorscale\":[[0.0,\"#0d0887\"],[0.1111111111111111,\"#46039f\"],[0.2222222222222222,\"#7201a8\"],[0.3333333333333333,\"#9c179e\"],[0.4444444444444444,\"#bd3786\"],[0.5555555555555556,\"#d8576b\"],[0.6666666666666666,\"#ed7953\"],[0.7777777777777778,\"#fb9f3a\"],[0.8888888888888888,\"#fdca26\"],[1.0,\"#f0f921\"]],\"type\":\"histogram2dcontour\"}],\"histogram2d\":[{\"colorbar\":{\"outlinewidth\":0,\"ticks\":\"\"},\"colorscale\":[[0.0,\"#0d0887\"],[0.1111111111111111,\"#46039f\"],[0.2222222222222222,\"#7201a8\"],[0.3333333333333333,\"#9c179e\"],[0.4444444444444444,\"#bd3786\"],[0.5555555555555556,\"#d8576b\"],[0.6666666666666666,\"#ed7953\"],[0.7777777777777778,\"#fb9f3a\"],[0.8888888888888888,\"#fdca26\"],[1.0,\"#f0f921\"]],\"type\":\"histogram2d\"}],\"histogram\":[{\"marker\":{\"pattern\":{\"fillmode\":\"overlay\",\"size\":10,\"solidity\":0.2}},\"type\":\"histogram\"}],\"mesh3d\":[{\"colorbar\":{\"outlinewidth\":0,\"ticks\":\"\"},\"type\":\"mesh3d\"}],\"parcoords\":[{\"line\":{\"colorbar\":{\"outlinewidth\":0,\"ticks\":\"\"}},\"type\":\"parcoords\"}],\"pie\":[{\"automargin\":true,\"type\":\"pie\"}],\"scatter3d\":[{\"line\":{\"colorbar\":{\"outlinewidth\":0,\"ticks\":\"\"}},\"marker\":{\"colorbar\":{\"outlinewidth\":0,\"ticks\":\"\"}},\"type\":\"scatter3d\"}],\"scattercarpet\":[{\"marker\":{\"colorbar\":{\"outlinewidth\":0,\"ticks\":\"\"}},\"type\":\"scattercarpet\"}],\"scattergeo\":[{\"marker\":{\"colorbar\":{\"outlinewidth\":0,\"ticks\":\"\"}},\"type\":\"scattergeo\"}],\"scattergl\":[{\"marker\":{\"colorbar\":{\"outlinewidth\":0,\"ticks\":\"\"}},\"type\":\"scattergl\"}],\"scattermapbox\":[{\"marker\":{\"colorbar\":{\"outlinewidth\":0,\"ticks\":\"\"}},\"type\":\"scattermapbox\"}],\"scatterpolargl\":[{\"marker\":{\"colorbar\":{\"outlinewidth\":0,\"ticks\":\"\"}},\"type\":\"scatterpolargl\"}],\"scatterpolar\":[{\"marker\":{\"colorbar\":{\"outlinewidth\":0,\"ticks\":\"\"}},\"type\":\"scatterpolar\"}],\"scatter\":[{\"fillpattern\":{\"fillmode\":\"overlay\",\"size\":10,\"solidity\":0.2},\"type\":\"scatter\"}],\"scatterternary\":[{\"marker\":{\"colorbar\":{\"outlinewidth\":0,\"ticks\":\"\"}},\"type\":\"scatterternary\"}],\"surface\":[{\"colorbar\":{\"outlinewidth\":0,\"ticks\":\"\"},\"colorscale\":[[0.0,\"#0d0887\"],[0.1111111111111111,\"#46039f\"],[0.2222222222222222,\"#7201a8\"],[0.3333333333333333,\"#9c179e\"],[0.4444444444444444,\"#bd3786\"],[0.5555555555555556,\"#d8576b\"],[0.6666666666666666,\"#ed7953\"],[0.7777777777777778,\"#fb9f3a\"],[0.8888888888888888,\"#fdca26\"],[1.0,\"#f0f921\"]],\"type\":\"surface\"}],\"table\":[{\"cells\":{\"fill\":{\"color\":\"#EBF0F8\"},\"line\":{\"color\":\"white\"}},\"header\":{\"fill\":{\"color\":\"#C8D4E3\"},\"line\":{\"color\":\"white\"}},\"type\":\"table\"}]},\"layout\":{\"annotationdefaults\":{\"arrowcolor\":\"#2a3f5f\",\"arrowhead\":0,\"arrowwidth\":1},\"autotypenumbers\":\"strict\",\"coloraxis\":{\"colorbar\":{\"outlinewidth\":0,\"ticks\":\"\"}},\"colorscale\":{\"diverging\":[[0,\"#8e0152\"],[0.1,\"#c51b7d\"],[0.2,\"#de77ae\"],[0.3,\"#f1b6da\"],[0.4,\"#fde0ef\"],[0.5,\"#f7f7f7\"],[0.6,\"#e6f5d0\"],[0.7,\"#b8e186\"],[0.8,\"#7fbc41\"],[0.9,\"#4d9221\"],[1,\"#276419\"]],\"sequential\":[[0.0,\"#0d0887\"],[0.1111111111111111,\"#46039f\"],[0.2222222222222222,\"#7201a8\"],[0.3333333333333333,\"#9c179e\"],[0.4444444444444444,\"#bd3786\"],[0.5555555555555556,\"#d8576b\"],[0.6666666666666666,\"#ed7953\"],[0.7777777777777778,\"#fb9f3a\"],[0.8888888888888888,\"#fdca26\"],[1.0,\"#f0f921\"]],\"sequentialminus\":[[0.0,\"#0d0887\"],[0.1111111111111111,\"#46039f\"],[0.2222222222222222,\"#7201a8\"],[0.3333333333333333,\"#9c179e\"],[0.4444444444444444,\"#bd3786\"],[0.5555555555555556,\"#d8576b\"],[0.6666666666666666,\"#ed7953\"],[0.7777777777777778,\"#fb9f3a\"],[0.8888888888888888,\"#fdca26\"],[1.0,\"#f0f921\"]]},\"colorway\":[\"#636efa\",\"#EF553B\",\"#00cc96\",\"#ab63fa\",\"#FFA15A\",\"#19d3f3\",\"#FF6692\",\"#B6E880\",\"#FF97FF\",\"#FECB52\"],\"font\":{\"color\":\"#2a3f5f\"},\"geo\":{\"bgcolor\":\"white\",\"lakecolor\":\"white\",\"landcolor\":\"white\",\"showlakes\":true,\"showland\":true,\"subunitcolor\":\"#C8D4E3\"},\"hoverlabel\":{\"align\":\"left\"},\"hovermode\":\"closest\",\"mapbox\":{\"style\":\"light\"},\"paper_bgcolor\":\"white\",\"plot_bgcolor\":\"white\",\"polar\":{\"angularaxis\":{\"gridcolor\":\"#EBF0F8\",\"linecolor\":\"#EBF0F8\",\"ticks\":\"\"},\"bgcolor\":\"white\",\"radialaxis\":{\"gridcolor\":\"#EBF0F8\",\"linecolor\":\"#EBF0F8\",\"ticks\":\"\"}},\"scene\":{\"xaxis\":{\"backgroundcolor\":\"white\",\"gridcolor\":\"#DFE8F3\",\"gridwidth\":2,\"linecolor\":\"#EBF0F8\",\"showbackground\":true,\"ticks\":\"\",\"zerolinecolor\":\"#EBF0F8\"},\"yaxis\":{\"backgroundcolor\":\"white\",\"gridcolor\":\"#DFE8F3\",\"gridwidth\":2,\"linecolor\":\"#EBF0F8\",\"showbackground\":true,\"ticks\":\"\",\"zerolinecolor\":\"#EBF0F8\"},\"zaxis\":{\"backgroundcolor\":\"white\",\"gridcolor\":\"#DFE8F3\",\"gridwidth\":2,\"linecolor\":\"#EBF0F8\",\"showbackground\":true,\"ticks\":\"\",\"zerolinecolor\":\"#EBF0F8\"}},\"shapedefaults\":{\"line\":{\"color\":\"#2a3f5f\"}},\"ternary\":{\"aaxis\":{\"gridcolor\":\"#DFE8F3\",\"linecolor\":\"#A2B1C6\",\"ticks\":\"\"},\"baxis\":{\"gridcolor\":\"#DFE8F3\",\"linecolor\":\"#A2B1C6\",\"ticks\":\"\"},\"bgcolor\":\"white\",\"caxis\":{\"gridcolor\":\"#DFE8F3\",\"linecolor\":\"#A2B1C6\",\"ticks\":\"\"}},\"title\":{\"x\":0.05},\"xaxis\":{\"automargin\":true,\"gridcolor\":\"#EBF0F8\",\"linecolor\":\"#EBF0F8\",\"ticks\":\"\",\"title\":{\"standoff\":15},\"zerolinecolor\":\"#EBF0F8\",\"zerolinewidth\":2},\"yaxis\":{\"automargin\":true,\"gridcolor\":\"#EBF0F8\",\"linecolor\":\"#EBF0F8\",\"ticks\":\"\",\"title\":{\"standoff\":15},\"zerolinecolor\":\"#EBF0F8\",\"zerolinewidth\":2}}},\"xaxis\":{\"anchor\":\"y\",\"domain\":[0.0,1.0],\"title\":{\"text\":\"Number of Purchases\"}},\"yaxis\":{\"anchor\":\"x\",\"domain\":[0.0,1.0],\"title\":{\"text\":\"Category\"},\"categoryorder\":\"array\",\"categoryarray\":[\"construction\",\"apparel\",\"furniture\",\"xiaomi\",\"cordiant\",\"auto\",\"lucente\",\"computers\",\"appliances\",\"electronics\"]},\"legend\":{\"title\":{\"text\":\"Category\"},\"tracegroupgap\":0},\"title\":{\"text\":\"Top 10 Categories Purchased by Users\"},\"barmode\":\"relative\",\"showlegend\":false},                        {\"responsive\": true}                    ).then(function(){\n",
              "                            \n",
              "var gd = document.getElementById('5be5c290-4e54-4f63-be52-defbb38d9384');\n",
              "var x = new MutationObserver(function (mutations, observer) {{\n",
              "        var display = window.getComputedStyle(gd).display;\n",
              "        if (!display || display === 'none') {{\n",
              "            console.log([gd, 'removed!']);\n",
              "            Plotly.purge(gd);\n",
              "            observer.disconnect();\n",
              "        }}\n",
              "}});\n",
              "\n",
              "// Listen for the removal of the full notebook cells\n",
              "var notebookContainer = gd.closest('#notebook-container');\n",
              "if (notebookContainer) {{\n",
              "    x.observe(notebookContainer, {childList: true});\n",
              "}}\n",
              "\n",
              "// Listen for the clearing of the current output cell\n",
              "var outputEl = gd.closest('.output');\n",
              "if (outputEl) {{\n",
              "    x.observe(outputEl, {childList: true});\n",
              "}}\n",
              "\n",
              "                        })                };                            </script>        </div>\n",
              "</body>\n",
              "</html>"
            ]
          },
          "metadata": {}
        }
      ],
      "source": [
        "# Extract category and purchase count data\n",
        "purchase_categories = [row.category for row in top_purchased_categories_df.select('category').collect()]\n",
        "purchase_counts = [row.purchased_category_count for row in top_purchased_categories_df.select('purchased_category_count').collect()]\n",
        "\n",
        "# Create a new DataFrame for plotting\n",
        "purchase_data = {\n",
        "    'Category': purchase_categories,\n",
        "    'Purchase_Count': purchase_counts\n",
        "}\n",
        "purchase_df = pd.DataFrame(purchase_data)\n",
        "\n",
        "# Create a horizontal bar chart using Plotly\n",
        "fig = px.bar(\n",
        "    purchase_df,\n",
        "    y='Category',\n",
        "    x='Purchase_Count',\n",
        "    orientation='h',\n",
        "    color='Category',\n",
        "    color_discrete_sequence=px.colors.qualitative.Pastel1,  # Using fresh pastel colors\n",
        "    title='Top 10 Categories Purchased by Users'\n",
        ")\n",
        "\n",
        "# Customize the appearance\n",
        "fig.update_layout(\n",
        "    xaxis_title='Number of Purchases',\n",
        "    yaxis_title='Category',\n",
        "    template='plotly_white',\n",
        "    showlegend=False\n",
        ")\n",
        "\n",
        "# Add purchase count labels outside bars\n",
        "fig.update_traces(texttemplate='%{x:,}', textposition='outside')\n",
        "fig.show()\n"
      ]
    },
    {
      "cell_type": "markdown",
      "metadata": {
        "id": "RBRMt7HlxmBk"
      },
      "source": [
        "Analysis: Top 10 for viewed and purchased differ"
      ]
    },
    {
      "cell_type": "markdown",
      "metadata": {
        "id": "D7UCT3uJLR46"
      },
      "source": [
        "## Carted vs Purchased - Top Performing Products"
      ]
    },
    {
      "cell_type": "code",
      "execution_count": null,
      "metadata": {
        "colab": {
          "base_uri": "https://localhost:8080/"
        },
        "id": "eQ2AamBHLQ2e",
        "outputId": "834098af-1c4c-43bb-f06e-2877964e720b"
      },
      "outputs": [
        {
          "output_type": "stream",
          "name": "stdout",
          "text": [
            "+-----------+----------+----------+\n",
            "|   category|   product|cart_count|\n",
            "+-----------+----------+----------+\n",
            "|electronics|smartphone|    549765|\n",
            "|electronics| headphone|     51143|\n",
            "|electronics|        tv|     36224|\n",
            "|     xiaomi|    xiaomi|     22246|\n",
            "| appliances|    washer|     21977|\n",
            "+-----------+----------+----------+\n",
            "only showing top 5 rows\n",
            "\n"
          ]
        }
      ],
      "source": [
        "# Analyze items that were added to cart\n",
        "carted_items_df = df.filter(col('event_type') == 'cart')\n",
        "\n",
        "# Group by category and product to find cart counts\n",
        "cart_count_df = carted_items_df.groupBy('category', 'product') \\\n",
        "    .count() \\\n",
        "    .orderBy(desc('count')) \\\n",
        "    .withColumnRenamed('count', 'cart_count')\n",
        "\n",
        "# Display the top 5 items added to cart if output display is enabled\n",
        "if output_show:\n",
        "    cart_count_df.show(5)\n"
      ]
    },
    {
      "cell_type": "code",
      "execution_count": null,
      "metadata": {
        "colab": {
          "base_uri": "https://localhost:8080/"
        },
        "id": "_-ljfwBPrDHR",
        "outputId": "b1ef26b4-a547-4b09-ce77-77b44aed6f7b"
      },
      "outputs": [
        {
          "output_type": "stream",
          "name": "stdout",
          "text": [
            "+-----------+-------------+--------------+\n",
            "|   category|      product|purchase_count|\n",
            "+-----------+-------------+--------------+\n",
            "|electronics|   smartphone|        338018|\n",
            "|electronics|    headphone|         30503|\n",
            "|electronics|           tv|         21565|\n",
            "|electronics|       clocks|         17906|\n",
            "| appliances|       washer|         16148|\n",
            "|  computers|     notebook|         15590|\n",
            "| appliances|       vacuum|         12378|\n",
            "|    lucente|      lucente|         11578|\n",
            "| appliances|refrigerators|         11218|\n",
            "|   cordiant|     cordiant|         10551|\n",
            "|     xiaomi|       xiaomi|         10021|\n",
            "|   triangle|     triangle|          5835|\n",
            "|electronics|       tablet|          5603|\n",
            "|     nokian|       nokian|          4907|\n",
            "|       auto|       player|          4647|\n",
            "|       sony|         sony|          4496|\n",
            "|    apparel|        shoes|          4255|\n",
            "|electronics|    telephone|          3738|\n",
            "| appliances|    microwave|          3709|\n",
            "| appliances|         iron|          3653|\n",
            "+-----------+-------------+--------------+\n",
            "only showing top 20 rows\n",
            "\n"
          ]
        }
      ],
      "source": [
        "# Group purchased items by category and product to compute purchase counts\n",
        "purchased_products_df = purchased_items_df.groupBy('category', 'product') \\\n",
        "    .count() \\\n",
        "    .orderBy(desc('count')) \\\n",
        "    .withColumnRenamed('count', 'purchase_count')\n",
        "\n",
        "# Display the top purchased products if output display is enabled\n",
        "if output_show:\n",
        "    purchased_products_df.show()"
      ]
    },
    {
      "cell_type": "code",
      "execution_count": null,
      "metadata": {
        "colab": {
          "base_uri": "https://localhost:8080/"
        },
        "id": "aFQb7evJi7Kw",
        "outputId": "0d84de4c-b5d1-457d-c7fc-071acde49a0e"
      },
      "outputs": [
        {
          "output_type": "stream",
          "name": "stdout",
          "text": [
            "+-----------+-------------+----------+--------------+\n",
            "|   category|      product|cart_count|purchase_count|\n",
            "+-----------+-------------+----------+--------------+\n",
            "|electronics|   smartphone|    549765|        338018|\n",
            "|electronics|    headphone|     51143|         30503|\n",
            "|electronics|           tv|     36224|         21565|\n",
            "|electronics|       clocks|     20344|         17906|\n",
            "| appliances|       washer|     21977|         16148|\n",
            "|  computers|     notebook|     15627|         15590|\n",
            "| appliances|       vacuum|     17263|         12378|\n",
            "| appliances|refrigerators|     13126|         11218|\n",
            "|   cordiant|     cordiant|      5730|         10551|\n",
            "|     xiaomi|       xiaomi|     22246|         10021|\n",
            "|   triangle|     triangle|       557|          5835|\n",
            "|electronics|       tablet|      9140|          5603|\n",
            "|     nokian|       nokian|      4906|          4907|\n",
            "|       auto|       player|      1289|          4647|\n",
            "|       sony|         sony|      6997|          4496|\n",
            "|electronics|    telephone|      5342|          3738|\n",
            "| appliances|    microwave|      4717|          3709|\n",
            "| appliances|         iron|      4095|          3653|\n",
            "|electronics|    subwoofer|       356|          3348|\n",
            "|  computers|      desktop|      3231|          3232|\n",
            "+-----------+-------------+----------+--------------+\n",
            "\n"
          ]
        }
      ],
      "source": [
        "# Join carted and purchased products on category and product to analyze conversion\n",
        "product_conversion_df = cart_count_df.join(\n",
        "    purchased_products_df,\n",
        "    on=[\"category\", \"product\"],\n",
        "    how=\"left\"\n",
        ").orderBy(desc('purchase_count')).limit(20)\n",
        "\n",
        "# Display the top 20 products based on purchase count if output display is enabled\n",
        "if output_show:\n",
        "    product_conversion_df.show()\n"
      ]
    },
    {
      "cell_type": "code",
      "execution_count": null,
      "metadata": {
        "id": "86XX9oN4q5qW"
      },
      "outputs": [],
      "source": [
        "#Getting values for x-axis and y-axis\n",
        "# Extract product names, cart counts, and purchase counts for plotting\n",
        "products = [row.product for row in purchased_products_df.select('product').collect()]\n",
        "cart_counts = [row.cart_count for row in cart_count_df.select('cart_count').collect()]\n",
        "purchase_counts = [row.purchase_count for row in purchased_products_df.select('purchase_count').collect()]"
      ]
    },
    {
      "cell_type": "code",
      "execution_count": null,
      "metadata": {
        "colab": {
          "base_uri": "https://localhost:8080/",
          "height": 717
        },
        "id": "riMagxNnBgTU",
        "outputId": "c34faca2-d167-4da3-d955-c17c5c13c5c9"
      },
      "outputs": [
        {
          "output_type": "display_data",
          "data": {
            "text/html": [
              "<html>\n",
              "<head><meta charset=\"utf-8\" /></head>\n",
              "<body>\n",
              "    <div>            <script src=\"https://cdnjs.cloudflare.com/ajax/libs/mathjax/2.7.5/MathJax.js?config=TeX-AMS-MML_SVG\"></script><script type=\"text/javascript\">if (window.MathJax && window.MathJax.Hub && window.MathJax.Hub.Config) {window.MathJax.Hub.Config({SVG: {font: \"STIX-Web\"}});}</script>                <script type=\"text/javascript\">window.PlotlyConfig = {MathJaxConfig: 'local'};</script>\n",
              "        <script charset=\"utf-8\" src=\"https://cdn.plot.ly/plotly-2.35.2.min.js\"></script>                <div id=\"3c91344e-b64d-43a6-9643-07a67761e005\" class=\"plotly-graph-div\" style=\"height:700px; width:900px;\"></div>            <script type=\"text/javascript\">                                    window.PLOTLYENV=window.PLOTLYENV || {};                                    if (document.getElementById(\"3c91344e-b64d-43a6-9643-07a67761e005\")) {                    Plotly.newPlot(                        \"3c91344e-b64d-43a6-9643-07a67761e005\",                        [{\"marker\":{\"color\":\"lightblue\"},\"name\":\"Carted Count\",\"orientation\":\"h\",\"x\":[549765,51143,36224,20344,21977,15627,17263,13126,5730,22246,557,9140,4906,1289,6997,5342,4717,4095,356,3231],\"y\":[\"smartphone\",\"headphone\",\"tv\",\"clocks\",\"washer\",\"notebook\",\"vacuum\",\"refrigerators\",\"cordiant\",\"xiaomi\",\"triangle\",\"tablet\",\"nokian\",\"player\",\"sony\",\"telephone\",\"microwave\",\"iron\",\"subwoofer\",\"desktop\"],\"type\":\"bar\"},{\"marker\":{\"color\":\"salmon\"},\"name\":\"Purchased Count\",\"orientation\":\"h\",\"x\":[338018,30503,21565,17906,16148,15590,12378,11218,10551,10021,5835,5603,4907,4647,4496,3738,3709,3653,3348,3232],\"y\":[\"smartphone\",\"headphone\",\"tv\",\"clocks\",\"washer\",\"notebook\",\"vacuum\",\"refrigerators\",\"cordiant\",\"xiaomi\",\"triangle\",\"tablet\",\"nokian\",\"player\",\"sony\",\"telephone\",\"microwave\",\"iron\",\"subwoofer\",\"desktop\"],\"type\":\"bar\"}],                        {\"template\":{\"data\":{\"barpolar\":[{\"marker\":{\"line\":{\"color\":\"white\",\"width\":0.5},\"pattern\":{\"fillmode\":\"overlay\",\"size\":10,\"solidity\":0.2}},\"type\":\"barpolar\"}],\"bar\":[{\"error_x\":{\"color\":\"rgb(36,36,36)\"},\"error_y\":{\"color\":\"rgb(36,36,36)\"},\"marker\":{\"line\":{\"color\":\"white\",\"width\":0.5},\"pattern\":{\"fillmode\":\"overlay\",\"size\":10,\"solidity\":0.2}},\"type\":\"bar\"}],\"carpet\":[{\"aaxis\":{\"endlinecolor\":\"rgb(36,36,36)\",\"gridcolor\":\"white\",\"linecolor\":\"white\",\"minorgridcolor\":\"white\",\"startlinecolor\":\"rgb(36,36,36)\"},\"baxis\":{\"endlinecolor\":\"rgb(36,36,36)\",\"gridcolor\":\"white\",\"linecolor\":\"white\",\"minorgridcolor\":\"white\",\"startlinecolor\":\"rgb(36,36,36)\"},\"type\":\"carpet\"}],\"choropleth\":[{\"colorbar\":{\"outlinewidth\":1,\"tickcolor\":\"rgb(36,36,36)\",\"ticks\":\"outside\"},\"type\":\"choropleth\"}],\"contourcarpet\":[{\"colorbar\":{\"outlinewidth\":1,\"tickcolor\":\"rgb(36,36,36)\",\"ticks\":\"outside\"},\"type\":\"contourcarpet\"}],\"contour\":[{\"colorbar\":{\"outlinewidth\":1,\"tickcolor\":\"rgb(36,36,36)\",\"ticks\":\"outside\"},\"colorscale\":[[0.0,\"#440154\"],[0.1111111111111111,\"#482878\"],[0.2222222222222222,\"#3e4989\"],[0.3333333333333333,\"#31688e\"],[0.4444444444444444,\"#26828e\"],[0.5555555555555556,\"#1f9e89\"],[0.6666666666666666,\"#35b779\"],[0.7777777777777778,\"#6ece58\"],[0.8888888888888888,\"#b5de2b\"],[1.0,\"#fde725\"]],\"type\":\"contour\"}],\"heatmapgl\":[{\"colorbar\":{\"outlinewidth\":1,\"tickcolor\":\"rgb(36,36,36)\",\"ticks\":\"outside\"},\"colorscale\":[[0.0,\"#440154\"],[0.1111111111111111,\"#482878\"],[0.2222222222222222,\"#3e4989\"],[0.3333333333333333,\"#31688e\"],[0.4444444444444444,\"#26828e\"],[0.5555555555555556,\"#1f9e89\"],[0.6666666666666666,\"#35b779\"],[0.7777777777777778,\"#6ece58\"],[0.8888888888888888,\"#b5de2b\"],[1.0,\"#fde725\"]],\"type\":\"heatmapgl\"}],\"heatmap\":[{\"colorbar\":{\"outlinewidth\":1,\"tickcolor\":\"rgb(36,36,36)\",\"ticks\":\"outside\"},\"colorscale\":[[0.0,\"#440154\"],[0.1111111111111111,\"#482878\"],[0.2222222222222222,\"#3e4989\"],[0.3333333333333333,\"#31688e\"],[0.4444444444444444,\"#26828e\"],[0.5555555555555556,\"#1f9e89\"],[0.6666666666666666,\"#35b779\"],[0.7777777777777778,\"#6ece58\"],[0.8888888888888888,\"#b5de2b\"],[1.0,\"#fde725\"]],\"type\":\"heatmap\"}],\"histogram2dcontour\":[{\"colorbar\":{\"outlinewidth\":1,\"tickcolor\":\"rgb(36,36,36)\",\"ticks\":\"outside\"},\"colorscale\":[[0.0,\"#440154\"],[0.1111111111111111,\"#482878\"],[0.2222222222222222,\"#3e4989\"],[0.3333333333333333,\"#31688e\"],[0.4444444444444444,\"#26828e\"],[0.5555555555555556,\"#1f9e89\"],[0.6666666666666666,\"#35b779\"],[0.7777777777777778,\"#6ece58\"],[0.8888888888888888,\"#b5de2b\"],[1.0,\"#fde725\"]],\"type\":\"histogram2dcontour\"}],\"histogram2d\":[{\"colorbar\":{\"outlinewidth\":1,\"tickcolor\":\"rgb(36,36,36)\",\"ticks\":\"outside\"},\"colorscale\":[[0.0,\"#440154\"],[0.1111111111111111,\"#482878\"],[0.2222222222222222,\"#3e4989\"],[0.3333333333333333,\"#31688e\"],[0.4444444444444444,\"#26828e\"],[0.5555555555555556,\"#1f9e89\"],[0.6666666666666666,\"#35b779\"],[0.7777777777777778,\"#6ece58\"],[0.8888888888888888,\"#b5de2b\"],[1.0,\"#fde725\"]],\"type\":\"histogram2d\"}],\"histogram\":[{\"marker\":{\"line\":{\"color\":\"white\",\"width\":0.6}},\"type\":\"histogram\"}],\"mesh3d\":[{\"colorbar\":{\"outlinewidth\":1,\"tickcolor\":\"rgb(36,36,36)\",\"ticks\":\"outside\"},\"type\":\"mesh3d\"}],\"parcoords\":[{\"line\":{\"colorbar\":{\"outlinewidth\":1,\"tickcolor\":\"rgb(36,36,36)\",\"ticks\":\"outside\"}},\"type\":\"parcoords\"}],\"pie\":[{\"automargin\":true,\"type\":\"pie\"}],\"scatter3d\":[{\"line\":{\"colorbar\":{\"outlinewidth\":1,\"tickcolor\":\"rgb(36,36,36)\",\"ticks\":\"outside\"}},\"marker\":{\"colorbar\":{\"outlinewidth\":1,\"tickcolor\":\"rgb(36,36,36)\",\"ticks\":\"outside\"}},\"type\":\"scatter3d\"}],\"scattercarpet\":[{\"marker\":{\"colorbar\":{\"outlinewidth\":1,\"tickcolor\":\"rgb(36,36,36)\",\"ticks\":\"outside\"}},\"type\":\"scattercarpet\"}],\"scattergeo\":[{\"marker\":{\"colorbar\":{\"outlinewidth\":1,\"tickcolor\":\"rgb(36,36,36)\",\"ticks\":\"outside\"}},\"type\":\"scattergeo\"}],\"scattergl\":[{\"marker\":{\"colorbar\":{\"outlinewidth\":1,\"tickcolor\":\"rgb(36,36,36)\",\"ticks\":\"outside\"}},\"type\":\"scattergl\"}],\"scattermapbox\":[{\"marker\":{\"colorbar\":{\"outlinewidth\":1,\"tickcolor\":\"rgb(36,36,36)\",\"ticks\":\"outside\"}},\"type\":\"scattermapbox\"}],\"scatterpolargl\":[{\"marker\":{\"colorbar\":{\"outlinewidth\":1,\"tickcolor\":\"rgb(36,36,36)\",\"ticks\":\"outside\"}},\"type\":\"scatterpolargl\"}],\"scatterpolar\":[{\"marker\":{\"colorbar\":{\"outlinewidth\":1,\"tickcolor\":\"rgb(36,36,36)\",\"ticks\":\"outside\"}},\"type\":\"scatterpolar\"}],\"scatter\":[{\"fillpattern\":{\"fillmode\":\"overlay\",\"size\":10,\"solidity\":0.2},\"type\":\"scatter\"}],\"scatterternary\":[{\"marker\":{\"colorbar\":{\"outlinewidth\":1,\"tickcolor\":\"rgb(36,36,36)\",\"ticks\":\"outside\"}},\"type\":\"scatterternary\"}],\"surface\":[{\"colorbar\":{\"outlinewidth\":1,\"tickcolor\":\"rgb(36,36,36)\",\"ticks\":\"outside\"},\"colorscale\":[[0.0,\"#440154\"],[0.1111111111111111,\"#482878\"],[0.2222222222222222,\"#3e4989\"],[0.3333333333333333,\"#31688e\"],[0.4444444444444444,\"#26828e\"],[0.5555555555555556,\"#1f9e89\"],[0.6666666666666666,\"#35b779\"],[0.7777777777777778,\"#6ece58\"],[0.8888888888888888,\"#b5de2b\"],[1.0,\"#fde725\"]],\"type\":\"surface\"}],\"table\":[{\"cells\":{\"fill\":{\"color\":\"rgb(237,237,237)\"},\"line\":{\"color\":\"white\"}},\"header\":{\"fill\":{\"color\":\"rgb(217,217,217)\"},\"line\":{\"color\":\"white\"}},\"type\":\"table\"}]},\"layout\":{\"annotationdefaults\":{\"arrowhead\":0,\"arrowwidth\":1},\"autotypenumbers\":\"strict\",\"coloraxis\":{\"colorbar\":{\"outlinewidth\":1,\"tickcolor\":\"rgb(36,36,36)\",\"ticks\":\"outside\"}},\"colorscale\":{\"diverging\":[[0.0,\"rgb(103,0,31)\"],[0.1,\"rgb(178,24,43)\"],[0.2,\"rgb(214,96,77)\"],[0.3,\"rgb(244,165,130)\"],[0.4,\"rgb(253,219,199)\"],[0.5,\"rgb(247,247,247)\"],[0.6,\"rgb(209,229,240)\"],[0.7,\"rgb(146,197,222)\"],[0.8,\"rgb(67,147,195)\"],[0.9,\"rgb(33,102,172)\"],[1.0,\"rgb(5,48,97)\"]],\"sequential\":[[0.0,\"#440154\"],[0.1111111111111111,\"#482878\"],[0.2222222222222222,\"#3e4989\"],[0.3333333333333333,\"#31688e\"],[0.4444444444444444,\"#26828e\"],[0.5555555555555556,\"#1f9e89\"],[0.6666666666666666,\"#35b779\"],[0.7777777777777778,\"#6ece58\"],[0.8888888888888888,\"#b5de2b\"],[1.0,\"#fde725\"]],\"sequentialminus\":[[0.0,\"#440154\"],[0.1111111111111111,\"#482878\"],[0.2222222222222222,\"#3e4989\"],[0.3333333333333333,\"#31688e\"],[0.4444444444444444,\"#26828e\"],[0.5555555555555556,\"#1f9e89\"],[0.6666666666666666,\"#35b779\"],[0.7777777777777778,\"#6ece58\"],[0.8888888888888888,\"#b5de2b\"],[1.0,\"#fde725\"]]},\"colorway\":[\"#1F77B4\",\"#FF7F0E\",\"#2CA02C\",\"#D62728\",\"#9467BD\",\"#8C564B\",\"#E377C2\",\"#7F7F7F\",\"#BCBD22\",\"#17BECF\"],\"font\":{\"color\":\"rgb(36,36,36)\"},\"geo\":{\"bgcolor\":\"white\",\"lakecolor\":\"white\",\"landcolor\":\"white\",\"showlakes\":true,\"showland\":true,\"subunitcolor\":\"white\"},\"hoverlabel\":{\"align\":\"left\"},\"hovermode\":\"closest\",\"mapbox\":{\"style\":\"light\"},\"paper_bgcolor\":\"white\",\"plot_bgcolor\":\"white\",\"polar\":{\"angularaxis\":{\"gridcolor\":\"rgb(232,232,232)\",\"linecolor\":\"rgb(36,36,36)\",\"showgrid\":false,\"showline\":true,\"ticks\":\"outside\"},\"bgcolor\":\"white\",\"radialaxis\":{\"gridcolor\":\"rgb(232,232,232)\",\"linecolor\":\"rgb(36,36,36)\",\"showgrid\":false,\"showline\":true,\"ticks\":\"outside\"}},\"scene\":{\"xaxis\":{\"backgroundcolor\":\"white\",\"gridcolor\":\"rgb(232,232,232)\",\"gridwidth\":2,\"linecolor\":\"rgb(36,36,36)\",\"showbackground\":true,\"showgrid\":false,\"showline\":true,\"ticks\":\"outside\",\"zeroline\":false,\"zerolinecolor\":\"rgb(36,36,36)\"},\"yaxis\":{\"backgroundcolor\":\"white\",\"gridcolor\":\"rgb(232,232,232)\",\"gridwidth\":2,\"linecolor\":\"rgb(36,36,36)\",\"showbackground\":true,\"showgrid\":false,\"showline\":true,\"ticks\":\"outside\",\"zeroline\":false,\"zerolinecolor\":\"rgb(36,36,36)\"},\"zaxis\":{\"backgroundcolor\":\"white\",\"gridcolor\":\"rgb(232,232,232)\",\"gridwidth\":2,\"linecolor\":\"rgb(36,36,36)\",\"showbackground\":true,\"showgrid\":false,\"showline\":true,\"ticks\":\"outside\",\"zeroline\":false,\"zerolinecolor\":\"rgb(36,36,36)\"}},\"shapedefaults\":{\"fillcolor\":\"black\",\"line\":{\"width\":0},\"opacity\":0.3},\"ternary\":{\"aaxis\":{\"gridcolor\":\"rgb(232,232,232)\",\"linecolor\":\"rgb(36,36,36)\",\"showgrid\":false,\"showline\":true,\"ticks\":\"outside\"},\"baxis\":{\"gridcolor\":\"rgb(232,232,232)\",\"linecolor\":\"rgb(36,36,36)\",\"showgrid\":false,\"showline\":true,\"ticks\":\"outside\"},\"bgcolor\":\"white\",\"caxis\":{\"gridcolor\":\"rgb(232,232,232)\",\"linecolor\":\"rgb(36,36,36)\",\"showgrid\":false,\"showline\":true,\"ticks\":\"outside\"}},\"title\":{\"x\":0.05},\"xaxis\":{\"automargin\":true,\"gridcolor\":\"rgb(232,232,232)\",\"linecolor\":\"rgb(36,36,36)\",\"showgrid\":false,\"showline\":true,\"ticks\":\"outside\",\"title\":{\"standoff\":15},\"zeroline\":false,\"zerolinecolor\":\"rgb(36,36,36)\"},\"yaxis\":{\"automargin\":true,\"gridcolor\":\"rgb(232,232,232)\",\"linecolor\":\"rgb(36,36,36)\",\"showgrid\":false,\"showline\":true,\"ticks\":\"outside\",\"title\":{\"standoff\":15},\"zeroline\":false,\"zerolinecolor\":\"rgb(36,36,36)\"}}},\"barmode\":\"group\",\"title\":{\"text\":\"Carted vs Purchased Count — Top Performing Products\"},\"xaxis\":{\"title\":{\"text\":\"Number of Actions\"}},\"yaxis\":{\"title\":{\"text\":\"Products\"}},\"height\":700,\"width\":900},                        {\"responsive\": true}                    ).then(function(){\n",
              "                            \n",
              "var gd = document.getElementById('3c91344e-b64d-43a6-9643-07a67761e005');\n",
              "var x = new MutationObserver(function (mutations, observer) {{\n",
              "        var display = window.getComputedStyle(gd).display;\n",
              "        if (!display || display === 'none') {{\n",
              "            console.log([gd, 'removed!']);\n",
              "            Plotly.purge(gd);\n",
              "            observer.disconnect();\n",
              "        }}\n",
              "}});\n",
              "\n",
              "// Listen for the removal of the full notebook cells\n",
              "var notebookContainer = gd.closest('#notebook-container');\n",
              "if (notebookContainer) {{\n",
              "    x.observe(notebookContainer, {childList: true});\n",
              "}}\n",
              "\n",
              "// Listen for the clearing of the current output cell\n",
              "var outputEl = gd.closest('.output');\n",
              "if (outputEl) {{\n",
              "    x.observe(outputEl, {childList: true});\n",
              "}}\n",
              "\n",
              "                        })                };                            </script>        </div>\n",
              "</body>\n",
              "</html>"
            ]
          },
          "metadata": {}
        }
      ],
      "source": [
        "import plotly.graph_objects as go\n",
        "\n",
        "# Create the grouped horizontal bar chart\n",
        "fig = go.Figure()\n",
        "\n",
        "# Add Cart Count bars\n",
        "fig.add_trace(go.Bar(\n",
        "    y=product_conversion_df.select('product').rdd.flatMap(lambda x: x).collect(),\n",
        "    x=product_conversion_df.select('cart_count').rdd.flatMap(lambda x: x).collect(),\n",
        "    name='Carted Count',\n",
        "    orientation='h',\n",
        "    marker_color='lightblue'\n",
        "))\n",
        "\n",
        "# Add Purchase Count bars\n",
        "fig.add_trace(go.Bar(\n",
        "    y=product_conversion_df.select('product').rdd.flatMap(lambda x: x).collect(),\n",
        "    x=product_conversion_df.select('purchase_count').rdd.flatMap(lambda x: x).collect(),\n",
        "    name='Purchased Count',\n",
        "    orientation='h',\n",
        "    marker_color='salmon'\n",
        "))\n",
        "\n",
        "# Update the layout\n",
        "fig.update_layout(\n",
        "    barmode='group',\n",
        "    title='Carted vs Purchased Count — Top Performing Products',\n",
        "    xaxis_title='Number of Actions',\n",
        "    yaxis_title='Products',\n",
        "    template='simple_white',\n",
        "    height=700,\n",
        "    width=900\n",
        ")\n",
        "\n",
        "# Show the figure\n",
        "fig.show()\n"
      ]
    },
    {
      "cell_type": "markdown",
      "metadata": {
        "id": "GI1CLqAp8rkw"
      },
      "source": [
        "### Top 5 Products Purchased in each Category"
      ]
    },
    {
      "cell_type": "code",
      "execution_count": null,
      "metadata": {
        "colab": {
          "base_uri": "https://localhost:8080/"
        },
        "id": "6mrhr9f5czha",
        "outputId": "651627c6-5cce-4215-940b-cf9211a067d3"
      },
      "outputs": [
        {
          "output_type": "stream",
          "name": "stdout",
          "text": [
            "+-----------+-------------+--------------+----+\n",
            "|   category|      product|purchase_count|rank|\n",
            "+-----------+-------------+--------------+----+\n",
            "|electronics|   smartphone|        338018|   1|\n",
            "|electronics|    headphone|         30503|   2|\n",
            "|electronics|           tv|         21565|   3|\n",
            "|electronics|       clocks|         17906|   4|\n",
            "| appliances|       washer|         16148|   1|\n",
            "|  computers|     notebook|         15590|   1|\n",
            "| appliances|       vacuum|         12378|   2|\n",
            "|    lucente|      lucente|         11578|   1|\n",
            "| appliances|refrigerators|         11218|   3|\n",
            "|   cordiant|     cordiant|         10551|   1|\n",
            "|     xiaomi|       xiaomi|         10021|   1|\n",
            "|   triangle|     triangle|          5835|   1|\n",
            "|electronics|       tablet|          5603|   5|\n",
            "|     nokian|       nokian|          4907|   1|\n",
            "|       auto|       player|          4647|   1|\n",
            "|       sony|         sony|          4496|   1|\n",
            "|    apparel|        shoes|          4255|   1|\n",
            "| appliances|    microwave|          3709|   4|\n",
            "| appliances|         iron|          3653|   5|\n",
            "|  computers|      desktop|          3232|   2|\n",
            "+-----------+-------------+--------------+----+\n",
            "only showing top 20 rows\n",
            "\n"
          ]
        }
      ],
      "source": [
        "from pyspark.sql.window import Window\n",
        "from pyspark.sql.functions import rank\n",
        "\n",
        "# Create a window specification to partition by category and order by purchase count\n",
        "category_window = Window.partitionBy(purchased_products_df['category']).orderBy(purchased_products_df['purchase_count'].desc())\n",
        "\n",
        "# Apply rank within each category and filter top 5 products\n",
        "ranked_products_df = purchased_products_df.select(\n",
        "    \"*\",\n",
        "    rank().over(category_window).alias(\"rank\")\n",
        ").filter(col('rank') <= 5)\n",
        "\n",
        "# Display the top ranked products if output display is enabled\n",
        "if output_show:\n",
        "    ranked_products_df.orderBy(desc('purchase_count')).show(20)\n"
      ]
    },
    {
      "cell_type": "markdown",
      "metadata": {
        "id": "IJDIqiPF85ED"
      },
      "source": [
        "Analysis: We can see that within electronics, smartphones are the most purchased products"
      ]
    },
    {
      "cell_type": "markdown",
      "metadata": {
        "id": "6tTuEDwARqtS"
      },
      "source": [
        "### Top 5 Brands Browsed within each category"
      ]
    },
    {
      "cell_type": "code",
      "execution_count": null,
      "metadata": {
        "colab": {
          "base_uri": "https://localhost:8080/"
        },
        "id": "rfZZkRWYRp7d",
        "outputId": "33eb1eed-1b5e-4572-c76f-51fc76915dac"
      },
      "outputs": [
        {
          "output_type": "stream",
          "name": "stdout",
          "text": [
            "+-----------+-------+-------+\n",
            "|   category|  brand|  count|\n",
            "+-----------+-------+-------+\n",
            "|electronics|samsung|4356048|\n",
            "|electronics|  apple|3847629|\n",
            "|electronics| xiaomi|2483135|\n",
            "|electronics| huawei|1066546|\n",
            "|  furniture|  empty| 703390|\n",
            "+-----------+-------+-------+\n",
            "only showing top 5 rows\n",
            "\n"
          ]
        }
      ],
      "source": [
        "# Group browsed items by category and brand to compute browse counts\n",
        "browsed_brand_count_df = browsed_items_df.groupBy('category', 'brand') \\\n",
        "    .count() \\\n",
        "    .orderBy(desc('count'))\n",
        "\n",
        "# Display the top 5 browsed brand-category combinations if output display is enabled\n",
        "if output_show:\n",
        "    browsed_brand_count_df.show(5)\n"
      ]
    },
    {
      "cell_type": "code",
      "execution_count": null,
      "metadata": {
        "id": "72JXze3WR-B5",
        "colab": {
          "base_uri": "https://localhost:8080/"
        },
        "outputId": "e706af47-ebea-4961-fb0a-c9324d9162c7"
      },
      "outputs": [
        {
          "output_type": "stream",
          "name": "stdout",
          "text": [
            "+-----------+-------+-------+----+\n",
            "|   category|  brand|  count|rank|\n",
            "+-----------+-------+-------+----+\n",
            "|electronics|samsung|4356048|   1|\n",
            "|electronics|  apple|3847629|   2|\n",
            "|electronics| xiaomi|2483135|   3|\n",
            "|electronics| huawei|1066546|   4|\n",
            "|  furniture|  empty| 703390|   1|\n",
            "+-----------+-------+-------+----+\n",
            "only showing top 5 rows\n",
            "\n"
          ]
        }
      ],
      "source": [
        "# Create a window specification to rank brands within each category based on browse count\n",
        "brand_window = Window.partitionBy(browsed_brand_count_df['category']).orderBy(browsed_brand_count_df['count'].desc())\n",
        "\n",
        "# Rank brands within each category and filter the top 5\n",
        "ranked_brands_df = browsed_brand_count_df.select(\n",
        "    \"*\",\n",
        "    rank().over(brand_window).alias(\"rank\")\n",
        ").filter(col('rank') <= 5)\n",
        "\n",
        "# Display the top ranked brands per category if output display is enabled\n",
        "if output_show:\n",
        "    ranked_brands_df.orderBy(desc('count')).show(5)\n"
      ]
    },
    {
      "cell_type": "markdown",
      "metadata": {
        "id": "p26pn4XmSVM5"
      },
      "source": [
        "Analysis: We can see that within electronics, samsung is most browsed brand"
      ]
    },
    {
      "cell_type": "markdown",
      "metadata": {
        "id": "4S897mnb7gaF"
      },
      "source": [
        "### Top 5 brands within each category Purchased"
      ]
    },
    {
      "cell_type": "code",
      "execution_count": null,
      "metadata": {
        "id": "kaMaCp3wSUMF",
        "colab": {
          "base_uri": "https://localhost:8080/"
        },
        "outputId": "c24d24d3-8989-400d-ce83-29c7e2bdfa38"
      },
      "outputs": [
        {
          "output_type": "stream",
          "name": "stdout",
          "text": [
            "+-----------+-------+------+\n",
            "|   category|  brand| count|\n",
            "+-----------+-------+------+\n",
            "|electronics|samsung|159621|\n",
            "|electronics|  apple|141394|\n",
            "|electronics| xiaomi| 44767|\n",
            "|electronics| huawei| 23220|\n",
            "|    lucente|lucente| 11578|\n",
            "+-----------+-------+------+\n",
            "only showing top 5 rows\n",
            "\n"
          ]
        }
      ],
      "source": [
        "# Group purchased items by category and brand to compute purchase counts\n",
        "purchased_brand_count_df = purchased_items_df.groupBy('category', 'brand') \\\n",
        "    .count() \\\n",
        "    .orderBy(desc('count'))\n",
        "\n",
        "# Display the top 5 purchased brand-category combinations if output display is enabled\n",
        "if output_show:\n",
        "    purchased_brand_count_df.show(5)\n"
      ]
    },
    {
      "cell_type": "code",
      "execution_count": null,
      "metadata": {
        "id": "RofqWSQSSzgH",
        "colab": {
          "base_uri": "https://localhost:8080/"
        },
        "outputId": "deeb0b21-7c1c-4bb6-a1fc-891fb13a8187"
      },
      "outputs": [
        {
          "output_type": "stream",
          "name": "stdout",
          "text": [
            "+-----------+-------+------+----+\n",
            "|   category|  brand| count|rank|\n",
            "+-----------+-------+------+----+\n",
            "|electronics|samsung|159621|   1|\n",
            "|electronics|  apple|141394|   2|\n",
            "|electronics| xiaomi| 44767|   3|\n",
            "|electronics| huawei| 23220|   4|\n",
            "|    lucente|lucente| 11578|   1|\n",
            "+-----------+-------+------+----+\n",
            "only showing top 5 rows\n",
            "\n"
          ]
        }
      ],
      "source": [
        "# Create a window specification to rank brands within each category based on purchase count\n",
        "purchased_brand_window = Window.partitionBy(purchased_brand_count_df['category']).orderBy(purchased_brand_count_df['count'].desc())\n",
        "\n",
        "# Rank brands within each category and filter the top 5\n",
        "ranked_purchased_brands_df = purchased_brand_count_df.select(\n",
        "    \"*\",\n",
        "    rank().over(purchased_brand_window).alias(\"rank\")\n",
        ").filter(col('rank') <= 5)\n",
        "\n",
        "# Display the top ranked purchased brands per category if output display is enabled\n",
        "if output_show:\n",
        "    ranked_purchased_brands_df.orderBy(desc('count')).show(5)"
      ]
    },
    {
      "cell_type": "code",
      "execution_count": null,
      "metadata": {
        "id": "IJRloC6Ak5xW",
        "colab": {
          "base_uri": "https://localhost:8080/",
          "height": 542
        },
        "outputId": "4983002b-7d89-4e95-fb6b-16e3288d7316"
      },
      "outputs": [
        {
          "output_type": "display_data",
          "data": {
            "text/html": [
              "<html>\n",
              "<head><meta charset=\"utf-8\" /></head>\n",
              "<body>\n",
              "    <div>            <script src=\"https://cdnjs.cloudflare.com/ajax/libs/mathjax/2.7.5/MathJax.js?config=TeX-AMS-MML_SVG\"></script><script type=\"text/javascript\">if (window.MathJax && window.MathJax.Hub && window.MathJax.Hub.Config) {window.MathJax.Hub.Config({SVG: {font: \"STIX-Web\"}});}</script>                <script type=\"text/javascript\">window.PlotlyConfig = {MathJaxConfig: 'local'};</script>\n",
              "        <script charset=\"utf-8\" src=\"https://cdn.plot.ly/plotly-2.35.2.min.js\"></script>                <div id=\"df2a7d4f-9578-48db-baaf-c29d9bee6760\" class=\"plotly-graph-div\" style=\"height:525px; width:100%;\"></div>            <script type=\"text/javascript\">                                    window.PLOTLYENV=window.PLOTLYENV || {};                                    if (document.getElementById(\"df2a7d4f-9578-48db-baaf-c29d9bee6760\")) {                    Plotly.newPlot(                        \"df2a7d4f-9578-48db-baaf-c29d9bee6760\",                        [{\"branchvalues\":\"total\",\"customdata\":[[\"computers\"],[\"construction\"],[\"electronics\"],[\"computers\"],[\"apparel\"],[\"cordiant\"],[\"furniture\"],[\"furniture\"],[\"appliances\"],[\"construction\"],[\"appliances\"],[\"apparel\"],[\"auto\"],[\"construction\"],[\"furniture\"],[\"furniture\"],[\"electronics\"],[\"construction\"],[\"computers\"],[\"computers\"],[\"appliances\"],[\"computers\"],[\"appliances\"],[\"lucente\"],[\"auto\"],[\"apparel\"],[\"auto\"],[\"electronics\"],[\"appliances\"],[\"electronics\"],[\"apparel\"],[\"furniture\"],[\"auto\"],[\"auto\"],[\"apparel\"],[\"construction\"],[\"electronics\"],[\"xiaomi\"],[\"apparel\"],[\"appliances\"],[\"auto\"],[\"computers\"],[\"construction\"],[\"cordiant\"],[\"electronics\"],[\"furniture\"],[\"lucente\"],[\"xiaomi\"]],\"domain\":{\"x\":[0.0,1.0],\"y\":[0.0,1.0]},\"hovertemplate\":\"labels=%{label}\\u003cbr\\u003ecount=%{value}\\u003cbr\\u003eparent=%{parent}\\u003cbr\\u003eid=%{id}\\u003cbr\\u003ecategory=%{customdata[0]}\\u003cextra\\u003e\\u003c\\u002fextra\\u003e\",\"ids\":[\"computers\\u002facer\",\"construction\\u002falteco\",\"electronics\\u002fapple\",\"computers\\u002fasus\",\"apparel\\u002fbaden\",\"cordiant\\u002fcordiant\",\"furniture\\u002fbrw\",\"furniture\\u002fbts\",\"appliances\\u002fbeko\",\"construction\\u002fbosch\",\"appliances\\u002felenberg\",\"apparel\\u002fempty\",\"auto\\u002fempty\",\"construction\\u002fempty\",\"furniture\\u002fempty\",\"furniture\\u002fincanto\",\"electronics\\u002fhuawei\",\"construction\\u002fhuter\",\"computers\\u002fepson\",\"computers\\u002fhp\",\"appliances\\u002findesit\",\"computers\\u002flenovo\",\"appliances\\u002flg\",\"lucente\\u002flucente\",\"auto\\u002fneoline\",\"apparel\\u002fnexpero\",\"auto\\u002fpioneer\",\"electronics\\u002fsamsung\",\"appliances\\u002fsamsung\",\"electronics\\u002foppo\",\"apparel\\u002frespect\",\"furniture\\u002fsv\",\"auto\\u002fsho-me\",\"auto\\u002fstarline\",\"apparel\\u002fstrobbs\",\"construction\\u002ftefal\",\"electronics\\u002fxiaomi\",\"xiaomi\\u002fxiaomi\",\"apparel\",\"appliances\",\"auto\",\"computers\",\"construction\",\"cordiant\",\"electronics\",\"furniture\",\"lucente\",\"xiaomi\"],\"labels\":[\"acer\",\"alteco\",\"apple\",\"asus\",\"baden\",\"cordiant\",\"brw\",\"bts\",\"beko\",\"bosch\",\"elenberg\",\"empty\",\"empty\",\"empty\",\"empty\",\"incanto\",\"huawei\",\"huter\",\"epson\",\"hp\",\"indesit\",\"lenovo\",\"lg\",\"lucente\",\"neoline\",\"nexpero\",\"pioneer\",\"samsung\",\"samsung\",\"oppo\",\"respect\",\"sv\",\"sho-me\",\"starline\",\"strobbs\",\"tefal\",\"xiaomi\",\"xiaomi\",\"apparel\",\"appliances\",\"auto\",\"computers\",\"construction\",\"cordiant\",\"electronics\",\"furniture\",\"lucente\",\"xiaomi\"],\"marker\":{\"colors\":[\"rgb(102, 197, 204)\",\"rgb(246, 207, 113)\",\"rgb(248, 156, 116)\",\"rgb(102, 197, 204)\",\"rgb(220, 176, 242)\",\"rgb(135, 197, 95)\",\"rgb(158, 185, 243)\",\"rgb(158, 185, 243)\",\"rgb(254, 136, 177)\",\"rgb(246, 207, 113)\",\"rgb(254, 136, 177)\",\"rgb(220, 176, 242)\",\"rgb(201, 219, 116)\",\"rgb(246, 207, 113)\",\"rgb(158, 185, 243)\",\"rgb(158, 185, 243)\",\"rgb(248, 156, 116)\",\"rgb(246, 207, 113)\",\"rgb(102, 197, 204)\",\"rgb(102, 197, 204)\",\"rgb(254, 136, 177)\",\"rgb(102, 197, 204)\",\"rgb(254, 136, 177)\",\"rgb(139, 224, 164)\",\"rgb(201, 219, 116)\",\"rgb(220, 176, 242)\",\"rgb(201, 219, 116)\",\"rgb(248, 156, 116)\",\"rgb(254, 136, 177)\",\"rgb(248, 156, 116)\",\"rgb(220, 176, 242)\",\"rgb(158, 185, 243)\",\"rgb(201, 219, 116)\",\"rgb(201, 219, 116)\",\"rgb(220, 176, 242)\",\"rgb(246, 207, 113)\",\"rgb(248, 156, 116)\",\"rgb(180, 151, 231)\",\"rgb(220, 176, 242)\",\"rgb(254, 136, 177)\",\"rgb(201, 219, 116)\",\"rgb(102, 197, 204)\",\"rgb(246, 207, 113)\",\"rgb(135, 197, 95)\",\"rgb(248, 156, 116)\",\"rgb(158, 185, 243)\",\"rgb(139, 224, 164)\",\"rgb(180, 151, 231)\"]},\"name\":\"\",\"parents\":[\"computers\",\"construction\",\"electronics\",\"computers\",\"apparel\",\"cordiant\",\"furniture\",\"furniture\",\"appliances\",\"construction\",\"appliances\",\"apparel\",\"auto\",\"construction\",\"furniture\",\"furniture\",\"electronics\",\"construction\",\"computers\",\"computers\",\"appliances\",\"computers\",\"appliances\",\"lucente\",\"auto\",\"apparel\",\"auto\",\"electronics\",\"appliances\",\"electronics\",\"apparel\",\"furniture\",\"auto\",\"auto\",\"apparel\",\"construction\",\"electronics\",\"xiaomi\",\"\",\"\",\"\",\"\",\"\",\"\",\"\",\"\",\"\",\"\"],\"values\":[6822,389,141394,1804,669,10551,397,302,3839,624,5201,1850,2751,2362,4473,239,23220,962,1227,3201,5023,4126,5033,11578,505,447,1320,159621,11559,10891,1678,540,707,1954,336,472,44767,10021,4980,30655,7237,17180,4809,10551,379893,5951,11578,10021],\"type\":\"treemap\"}],                        {\"template\":{\"data\":{\"histogram2dcontour\":[{\"type\":\"histogram2dcontour\",\"colorbar\":{\"outlinewidth\":0,\"ticks\":\"\"},\"colorscale\":[[0.0,\"#0d0887\"],[0.1111111111111111,\"#46039f\"],[0.2222222222222222,\"#7201a8\"],[0.3333333333333333,\"#9c179e\"],[0.4444444444444444,\"#bd3786\"],[0.5555555555555556,\"#d8576b\"],[0.6666666666666666,\"#ed7953\"],[0.7777777777777778,\"#fb9f3a\"],[0.8888888888888888,\"#fdca26\"],[1.0,\"#f0f921\"]]}],\"choropleth\":[{\"type\":\"choropleth\",\"colorbar\":{\"outlinewidth\":0,\"ticks\":\"\"}}],\"histogram2d\":[{\"type\":\"histogram2d\",\"colorbar\":{\"outlinewidth\":0,\"ticks\":\"\"},\"colorscale\":[[0.0,\"#0d0887\"],[0.1111111111111111,\"#46039f\"],[0.2222222222222222,\"#7201a8\"],[0.3333333333333333,\"#9c179e\"],[0.4444444444444444,\"#bd3786\"],[0.5555555555555556,\"#d8576b\"],[0.6666666666666666,\"#ed7953\"],[0.7777777777777778,\"#fb9f3a\"],[0.8888888888888888,\"#fdca26\"],[1.0,\"#f0f921\"]]}],\"heatmap\":[{\"type\":\"heatmap\",\"colorbar\":{\"outlinewidth\":0,\"ticks\":\"\"},\"colorscale\":[[0.0,\"#0d0887\"],[0.1111111111111111,\"#46039f\"],[0.2222222222222222,\"#7201a8\"],[0.3333333333333333,\"#9c179e\"],[0.4444444444444444,\"#bd3786\"],[0.5555555555555556,\"#d8576b\"],[0.6666666666666666,\"#ed7953\"],[0.7777777777777778,\"#fb9f3a\"],[0.8888888888888888,\"#fdca26\"],[1.0,\"#f0f921\"]]}],\"heatmapgl\":[{\"type\":\"heatmapgl\",\"colorbar\":{\"outlinewidth\":0,\"ticks\":\"\"},\"colorscale\":[[0.0,\"#0d0887\"],[0.1111111111111111,\"#46039f\"],[0.2222222222222222,\"#7201a8\"],[0.3333333333333333,\"#9c179e\"],[0.4444444444444444,\"#bd3786\"],[0.5555555555555556,\"#d8576b\"],[0.6666666666666666,\"#ed7953\"],[0.7777777777777778,\"#fb9f3a\"],[0.8888888888888888,\"#fdca26\"],[1.0,\"#f0f921\"]]}],\"contourcarpet\":[{\"type\":\"contourcarpet\",\"colorbar\":{\"outlinewidth\":0,\"ticks\":\"\"}}],\"contour\":[{\"type\":\"contour\",\"colorbar\":{\"outlinewidth\":0,\"ticks\":\"\"},\"colorscale\":[[0.0,\"#0d0887\"],[0.1111111111111111,\"#46039f\"],[0.2222222222222222,\"#7201a8\"],[0.3333333333333333,\"#9c179e\"],[0.4444444444444444,\"#bd3786\"],[0.5555555555555556,\"#d8576b\"],[0.6666666666666666,\"#ed7953\"],[0.7777777777777778,\"#fb9f3a\"],[0.8888888888888888,\"#fdca26\"],[1.0,\"#f0f921\"]]}],\"surface\":[{\"type\":\"surface\",\"colorbar\":{\"outlinewidth\":0,\"ticks\":\"\"},\"colorscale\":[[0.0,\"#0d0887\"],[0.1111111111111111,\"#46039f\"],[0.2222222222222222,\"#7201a8\"],[0.3333333333333333,\"#9c179e\"],[0.4444444444444444,\"#bd3786\"],[0.5555555555555556,\"#d8576b\"],[0.6666666666666666,\"#ed7953\"],[0.7777777777777778,\"#fb9f3a\"],[0.8888888888888888,\"#fdca26\"],[1.0,\"#f0f921\"]]}],\"mesh3d\":[{\"type\":\"mesh3d\",\"colorbar\":{\"outlinewidth\":0,\"ticks\":\"\"}}],\"scatter\":[{\"fillpattern\":{\"fillmode\":\"overlay\",\"size\":10,\"solidity\":0.2},\"type\":\"scatter\"}],\"parcoords\":[{\"type\":\"parcoords\",\"line\":{\"colorbar\":{\"outlinewidth\":0,\"ticks\":\"\"}}}],\"scatterpolargl\":[{\"type\":\"scatterpolargl\",\"marker\":{\"colorbar\":{\"outlinewidth\":0,\"ticks\":\"\"}}}],\"bar\":[{\"error_x\":{\"color\":\"#2a3f5f\"},\"error_y\":{\"color\":\"#2a3f5f\"},\"marker\":{\"line\":{\"color\":\"#E5ECF6\",\"width\":0.5},\"pattern\":{\"fillmode\":\"overlay\",\"size\":10,\"solidity\":0.2}},\"type\":\"bar\"}],\"scattergeo\":[{\"type\":\"scattergeo\",\"marker\":{\"colorbar\":{\"outlinewidth\":0,\"ticks\":\"\"}}}],\"scatterpolar\":[{\"type\":\"scatterpolar\",\"marker\":{\"colorbar\":{\"outlinewidth\":0,\"ticks\":\"\"}}}],\"histogram\":[{\"marker\":{\"pattern\":{\"fillmode\":\"overlay\",\"size\":10,\"solidity\":0.2}},\"type\":\"histogram\"}],\"scattergl\":[{\"type\":\"scattergl\",\"marker\":{\"colorbar\":{\"outlinewidth\":0,\"ticks\":\"\"}}}],\"scatter3d\":[{\"type\":\"scatter3d\",\"line\":{\"colorbar\":{\"outlinewidth\":0,\"ticks\":\"\"}},\"marker\":{\"colorbar\":{\"outlinewidth\":0,\"ticks\":\"\"}}}],\"scattermapbox\":[{\"type\":\"scattermapbox\",\"marker\":{\"colorbar\":{\"outlinewidth\":0,\"ticks\":\"\"}}}],\"scatterternary\":[{\"type\":\"scatterternary\",\"marker\":{\"colorbar\":{\"outlinewidth\":0,\"ticks\":\"\"}}}],\"scattercarpet\":[{\"type\":\"scattercarpet\",\"marker\":{\"colorbar\":{\"outlinewidth\":0,\"ticks\":\"\"}}}],\"carpet\":[{\"aaxis\":{\"endlinecolor\":\"#2a3f5f\",\"gridcolor\":\"white\",\"linecolor\":\"white\",\"minorgridcolor\":\"white\",\"startlinecolor\":\"#2a3f5f\"},\"baxis\":{\"endlinecolor\":\"#2a3f5f\",\"gridcolor\":\"white\",\"linecolor\":\"white\",\"minorgridcolor\":\"white\",\"startlinecolor\":\"#2a3f5f\"},\"type\":\"carpet\"}],\"table\":[{\"cells\":{\"fill\":{\"color\":\"#EBF0F8\"},\"line\":{\"color\":\"white\"}},\"header\":{\"fill\":{\"color\":\"#C8D4E3\"},\"line\":{\"color\":\"white\"}},\"type\":\"table\"}],\"barpolar\":[{\"marker\":{\"line\":{\"color\":\"#E5ECF6\",\"width\":0.5},\"pattern\":{\"fillmode\":\"overlay\",\"size\":10,\"solidity\":0.2}},\"type\":\"barpolar\"}],\"pie\":[{\"automargin\":true,\"type\":\"pie\"}]},\"layout\":{\"autotypenumbers\":\"strict\",\"colorway\":[\"#636efa\",\"#EF553B\",\"#00cc96\",\"#ab63fa\",\"#FFA15A\",\"#19d3f3\",\"#FF6692\",\"#B6E880\",\"#FF97FF\",\"#FECB52\"],\"font\":{\"color\":\"#2a3f5f\"},\"hovermode\":\"closest\",\"hoverlabel\":{\"align\":\"left\"},\"paper_bgcolor\":\"white\",\"plot_bgcolor\":\"#E5ECF6\",\"polar\":{\"bgcolor\":\"#E5ECF6\",\"angularaxis\":{\"gridcolor\":\"white\",\"linecolor\":\"white\",\"ticks\":\"\"},\"radialaxis\":{\"gridcolor\":\"white\",\"linecolor\":\"white\",\"ticks\":\"\"}},\"ternary\":{\"bgcolor\":\"#E5ECF6\",\"aaxis\":{\"gridcolor\":\"white\",\"linecolor\":\"white\",\"ticks\":\"\"},\"baxis\":{\"gridcolor\":\"white\",\"linecolor\":\"white\",\"ticks\":\"\"},\"caxis\":{\"gridcolor\":\"white\",\"linecolor\":\"white\",\"ticks\":\"\"}},\"coloraxis\":{\"colorbar\":{\"outlinewidth\":0,\"ticks\":\"\"}},\"colorscale\":{\"sequential\":[[0.0,\"#0d0887\"],[0.1111111111111111,\"#46039f\"],[0.2222222222222222,\"#7201a8\"],[0.3333333333333333,\"#9c179e\"],[0.4444444444444444,\"#bd3786\"],[0.5555555555555556,\"#d8576b\"],[0.6666666666666666,\"#ed7953\"],[0.7777777777777778,\"#fb9f3a\"],[0.8888888888888888,\"#fdca26\"],[1.0,\"#f0f921\"]],\"sequentialminus\":[[0.0,\"#0d0887\"],[0.1111111111111111,\"#46039f\"],[0.2222222222222222,\"#7201a8\"],[0.3333333333333333,\"#9c179e\"],[0.4444444444444444,\"#bd3786\"],[0.5555555555555556,\"#d8576b\"],[0.6666666666666666,\"#ed7953\"],[0.7777777777777778,\"#fb9f3a\"],[0.8888888888888888,\"#fdca26\"],[1.0,\"#f0f921\"]],\"diverging\":[[0,\"#8e0152\"],[0.1,\"#c51b7d\"],[0.2,\"#de77ae\"],[0.3,\"#f1b6da\"],[0.4,\"#fde0ef\"],[0.5,\"#f7f7f7\"],[0.6,\"#e6f5d0\"],[0.7,\"#b8e186\"],[0.8,\"#7fbc41\"],[0.9,\"#4d9221\"],[1,\"#276419\"]]},\"xaxis\":{\"gridcolor\":\"white\",\"linecolor\":\"white\",\"ticks\":\"\",\"title\":{\"standoff\":15},\"zerolinecolor\":\"white\",\"automargin\":true,\"zerolinewidth\":2},\"yaxis\":{\"gridcolor\":\"white\",\"linecolor\":\"white\",\"ticks\":\"\",\"title\":{\"standoff\":15},\"zerolinecolor\":\"white\",\"automargin\":true,\"zerolinewidth\":2},\"scene\":{\"xaxis\":{\"backgroundcolor\":\"#E5ECF6\",\"gridcolor\":\"white\",\"linecolor\":\"white\",\"showbackground\":true,\"ticks\":\"\",\"zerolinecolor\":\"white\",\"gridwidth\":2},\"yaxis\":{\"backgroundcolor\":\"#E5ECF6\",\"gridcolor\":\"white\",\"linecolor\":\"white\",\"showbackground\":true,\"ticks\":\"\",\"zerolinecolor\":\"white\",\"gridwidth\":2},\"zaxis\":{\"backgroundcolor\":\"#E5ECF6\",\"gridcolor\":\"white\",\"linecolor\":\"white\",\"showbackground\":true,\"ticks\":\"\",\"zerolinecolor\":\"white\",\"gridwidth\":2}},\"shapedefaults\":{\"line\":{\"color\":\"#2a3f5f\"}},\"annotationdefaults\":{\"arrowcolor\":\"#2a3f5f\",\"arrowhead\":0,\"arrowwidth\":1},\"geo\":{\"bgcolor\":\"white\",\"landcolor\":\"#E5ECF6\",\"subunitcolor\":\"white\",\"showland\":true,\"showlakes\":true,\"lakecolor\":\"white\"},\"title\":{\"x\":0.05},\"mapbox\":{\"style\":\"light\"}}},\"legend\":{\"tracegroupgap\":0},\"title\":{\"text\":\"Top Purchased Brands across Categories\"},\"treemapcolorway\":[\"rgb(102, 197, 204)\",\"rgb(246, 207, 113)\",\"rgb(248, 156, 116)\",\"rgb(220, 176, 242)\",\"rgb(135, 197, 95)\",\"rgb(158, 185, 243)\",\"rgb(254, 136, 177)\",\"rgb(201, 219, 116)\",\"rgb(139, 224, 164)\",\"rgb(180, 151, 231)\",\"rgb(179, 179, 179)\"]},                        {\"responsive\": true}                    ).then(function(){\n",
              "                            \n",
              "var gd = document.getElementById('df2a7d4f-9578-48db-baaf-c29d9bee6760');\n",
              "var x = new MutationObserver(function (mutations, observer) {{\n",
              "        var display = window.getComputedStyle(gd).display;\n",
              "        if (!display || display === 'none') {{\n",
              "            console.log([gd, 'removed!']);\n",
              "            Plotly.purge(gd);\n",
              "            observer.disconnect();\n",
              "        }}\n",
              "}});\n",
              "\n",
              "// Listen for the removal of the full notebook cells\n",
              "var notebookContainer = gd.closest('#notebook-container');\n",
              "if (notebookContainer) {{\n",
              "    x.observe(notebookContainer, {childList: true});\n",
              "}}\n",
              "\n",
              "// Listen for the clearing of the current output cell\n",
              "var outputEl = gd.closest('.output');\n",
              "if (outputEl) {{\n",
              "    x.observe(outputEl, {childList: true});\n",
              "}}\n",
              "\n",
              "                        })                };                            </script>        </div>\n",
              "</body>\n",
              "</html>"
            ]
          },
          "metadata": {}
        }
      ],
      "source": [
        "import plotly.express as px\n",
        "\n",
        "# Prepare the data: extract category, brand, and count for plotting\n",
        "purchased_brand_data = purchased_brand_count_df.select('category', 'brand', 'count').toPandas()\n",
        "\n",
        "# Step 1: Get top 10 categories by total purchases\n",
        "top_10_categories = (\n",
        "    purchased_brand_data\n",
        "    .groupby('category')['count']\n",
        "    .sum()\n",
        "    .sort_values(ascending=False)\n",
        "    .head(10)\n",
        "    .index\n",
        ")\n",
        "\n",
        "# Step 2: Filter for top 10 categories\n",
        "filtered_data = purchased_brand_data[purchased_brand_data['category'].isin(top_10_categories)]\n",
        "\n",
        "# Step 3: Get top 5 brands per category\n",
        "top_brands = (\n",
        "    filtered_data\n",
        "    .sort_values(['category', 'count'], ascending=[True, False])\n",
        "    .groupby('category')\n",
        "    .head(5)\n",
        ")\n",
        "\n",
        "# Step 4: Build the Treemap\n",
        "fig = px.treemap(\n",
        "    top_brands,\n",
        "    path=['category', 'brand'],  # first level = category, second level = brand\n",
        "    values='count',\n",
        "    color='category',  # Different colors for each category\n",
        "    title='Top Purchased Brands across Categories',\n",
        "    color_discrete_sequence=px.colors.qualitative.Pastel  # Soft, professional color palette\n",
        ")\n",
        "\n",
        "# Step 5: Show the Treemap\n",
        "fig.show()\n",
        "\n",
        "\n"
      ]
    },
    {
      "cell_type": "code",
      "execution_count": null,
      "metadata": {
        "id": "ZECvHccLlMJD",
        "colab": {
          "base_uri": "https://localhost:8080/",
          "height": 542
        },
        "outputId": "bc8891e4-6b28-4fe0-bbef-fad231487b21"
      },
      "outputs": [
        {
          "output_type": "display_data",
          "data": {
            "text/html": [
              "<html>\n",
              "<head><meta charset=\"utf-8\" /></head>\n",
              "<body>\n",
              "    <div>            <script src=\"https://cdnjs.cloudflare.com/ajax/libs/mathjax/2.7.5/MathJax.js?config=TeX-AMS-MML_SVG\"></script><script type=\"text/javascript\">if (window.MathJax && window.MathJax.Hub && window.MathJax.Hub.Config) {window.MathJax.Hub.Config({SVG: {font: \"STIX-Web\"}});}</script>                <script type=\"text/javascript\">window.PlotlyConfig = {MathJaxConfig: 'local'};</script>\n",
              "        <script charset=\"utf-8\" src=\"https://cdn.plot.ly/plotly-2.35.2.min.js\"></script>                <div id=\"f67dc151-9054-4563-8ea3-99c9ae2ad15e\" class=\"plotly-graph-div\" style=\"height:525px; width:100%;\"></div>            <script type=\"text/javascript\">                                    window.PLOTLYENV=window.PLOTLYENV || {};                                    if (document.getElementById(\"f67dc151-9054-4563-8ea3-99c9ae2ad15e\")) {                    Plotly.newPlot(                        \"f67dc151-9054-4563-8ea3-99c9ae2ad15e\",                        [{\"branchvalues\":\"total\",\"customdata\":[[\"computers\"],[\"computers\"],[\"electronics\"],[\"computers\"],[\"apparel\"],[\"kids\"],[\"appliances\"],[\"construction\"],[\"furniture\"],[\"furniture\"],[\"appliances\"],[\"apparel\"],[\"kids\"],[\"construction\"],[\"construction\"],[\"auto\"],[\"construction\"],[\"furniture\"],[\"kids\"],[\"computers\"],[\"appliances\"],[\"computers\"],[\"electronics\"],[\"construction\"],[\"appliances\"],[\"lucente\"],[\"auto\"],[\"apparel\"],[\"electronics\"],[\"auto\"],[\"electronics\"],[\"appliances\"],[\"apparel\"],[\"furniture\"],[\"apparel\"],[\"auto\"],[\"auto\"],[\"furniture\"],[\"kids\"],[\"electronics\"],[\"kids\"],[\"xiaomi\"],[\"apparel\"],[\"appliances\"],[\"auto\"],[\"computers\"],[\"construction\"],[\"electronics\"],[\"furniture\"],[\"kids\"],[\"lucente\"],[\"xiaomi\"]],\"domain\":{\"x\":[0.0,1.0],\"y\":[0.0,1.0]},\"hovertemplate\":\"labels=%{label}\\u003cbr\\u003ecount=%{value}\\u003cbr\\u003eparent=%{parent}\\u003cbr\\u003eid=%{id}\\u003cbr\\u003ecategory=%{customdata[0]}\\u003cextra\\u003e\\u003c\\u002fextra\\u003e\",\"ids\":[\"computers\\u002facer\",\"computers\\u002fapple\",\"electronics\\u002fapple\",\"computers\\u002fasus\",\"apparel\\u002fbaden\",\"kids\\u002fbelecoo\",\"appliances\\u002fbosch\",\"construction\\u002fbosch\",\"furniture\\u002fbrw\",\"furniture\\u002fbts\",\"appliances\\u002fempty\",\"apparel\\u002fempty\",\"kids\\u002fchicco\",\"construction\\u002fcrown\",\"construction\\u002fdewalt\",\"auto\\u002fempty\",\"construction\\u002fempty\",\"furniture\\u002fempty\",\"kids\\u002fempty\",\"computers\\u002fhp\",\"appliances\\u002flg\",\"computers\\u002flenovo\",\"electronics\\u002fhuawei\",\"construction\\u002fhuter\",\"appliances\\u002findesit\",\"lucente\\u002flucente\",\"auto\\u002fneoline\",\"apparel\\u002fnike\",\"electronics\\u002foppo\",\"auto\\u002fpioneer\",\"electronics\\u002fsamsung\",\"appliances\\u002fsamsung\",\"apparel\\u002frieker\",\"furniture\\u002frals\",\"apparel\\u002frespect\",\"auto\\u002fsho-me\",\"auto\\u002fstarline\",\"furniture\\u002fsv\",\"kids\\u002fwingoffly\",\"electronics\\u002fxiaomi\",\"kids\\u002fxiaomi\",\"xiaomi\\u002fxiaomi\",\"apparel\",\"appliances\",\"auto\",\"computers\",\"construction\",\"electronics\",\"furniture\",\"kids\",\"lucente\",\"xiaomi\"],\"labels\":[\"acer\",\"apple\",\"apple\",\"asus\",\"baden\",\"belecoo\",\"bosch\",\"bosch\",\"brw\",\"bts\",\"empty\",\"empty\",\"chicco\",\"crown\",\"dewalt\",\"empty\",\"empty\",\"empty\",\"empty\",\"hp\",\"lg\",\"lenovo\",\"huawei\",\"huter\",\"indesit\",\"lucente\",\"neoline\",\"nike\",\"oppo\",\"pioneer\",\"samsung\",\"samsung\",\"rieker\",\"rals\",\"respect\",\"sho-me\",\"starline\",\"sv\",\"wingoffly\",\"xiaomi\",\"xiaomi\",\"xiaomi\",\"apparel\",\"appliances\",\"auto\",\"computers\",\"construction\",\"electronics\",\"furniture\",\"kids\",\"lucente\",\"xiaomi\"],\"marker\":{\"colors\":[\"#3366CC\",\"#3366CC\",\"#DC3912\",\"#3366CC\",\"#FF9900\",\"#109618\",\"#990099\",\"#0099C6\",\"#DD4477\",\"#DD4477\",\"#990099\",\"#FF9900\",\"#109618\",\"#0099C6\",\"#0099C6\",\"#66AA00\",\"#0099C6\",\"#DD4477\",\"#109618\",\"#3366CC\",\"#990099\",\"#3366CC\",\"#DC3912\",\"#0099C6\",\"#990099\",\"#B82E2E\",\"#66AA00\",\"#FF9900\",\"#DC3912\",\"#66AA00\",\"#DC3912\",\"#990099\",\"#FF9900\",\"#DD4477\",\"#FF9900\",\"#66AA00\",\"#66AA00\",\"#DD4477\",\"#109618\",\"#DC3912\",\"#109618\",\"#316395\",\"#FF9900\",\"#990099\",\"#66AA00\",\"#3366CC\",\"#0099C6\",\"#DC3912\",\"#DD4477\",\"#109618\",\"#B82E2E\",\"#316395\"]},\"name\":\"\",\"parents\":[\"computers\",\"computers\",\"electronics\",\"computers\",\"apparel\",\"kids\",\"appliances\",\"construction\",\"furniture\",\"furniture\",\"appliances\",\"apparel\",\"kids\",\"construction\",\"construction\",\"auto\",\"construction\",\"furniture\",\"kids\",\"computers\",\"appliances\",\"computers\",\"electronics\",\"construction\",\"appliances\",\"lucente\",\"auto\",\"apparel\",\"electronics\",\"auto\",\"electronics\",\"appliances\",\"apparel\",\"furniture\",\"apparel\",\"auto\",\"auto\",\"furniture\",\"kids\",\"electronics\",\"kids\",\"xiaomi\",\"\",\"\",\"\",\"\",\"\",\"\",\"\",\"\",\"\",\"\"],\"values\":[414907,97882,3847629,201697,112042,38596,260597,63459,85434,39111,302389,410076,19256,38174,39742,241274,179147,703390,96094,273745,324219,299931,1066546,49676,285049,644283,50719,82420,471996,136641,4356048,586442,64486,29740,246903,46125,127701,86748,20603,2483135,27457,376098,915927,1758696,602460,1288162,370198,12225354,944423,202006,644283,376098],\"type\":\"treemap\"}],                        {\"template\":{\"data\":{\"histogram2dcontour\":[{\"type\":\"histogram2dcontour\",\"colorbar\":{\"outlinewidth\":0,\"ticks\":\"\"},\"colorscale\":[[0.0,\"#0d0887\"],[0.1111111111111111,\"#46039f\"],[0.2222222222222222,\"#7201a8\"],[0.3333333333333333,\"#9c179e\"],[0.4444444444444444,\"#bd3786\"],[0.5555555555555556,\"#d8576b\"],[0.6666666666666666,\"#ed7953\"],[0.7777777777777778,\"#fb9f3a\"],[0.8888888888888888,\"#fdca26\"],[1.0,\"#f0f921\"]]}],\"choropleth\":[{\"type\":\"choropleth\",\"colorbar\":{\"outlinewidth\":0,\"ticks\":\"\"}}],\"histogram2d\":[{\"type\":\"histogram2d\",\"colorbar\":{\"outlinewidth\":0,\"ticks\":\"\"},\"colorscale\":[[0.0,\"#0d0887\"],[0.1111111111111111,\"#46039f\"],[0.2222222222222222,\"#7201a8\"],[0.3333333333333333,\"#9c179e\"],[0.4444444444444444,\"#bd3786\"],[0.5555555555555556,\"#d8576b\"],[0.6666666666666666,\"#ed7953\"],[0.7777777777777778,\"#fb9f3a\"],[0.8888888888888888,\"#fdca26\"],[1.0,\"#f0f921\"]]}],\"heatmap\":[{\"type\":\"heatmap\",\"colorbar\":{\"outlinewidth\":0,\"ticks\":\"\"},\"colorscale\":[[0.0,\"#0d0887\"],[0.1111111111111111,\"#46039f\"],[0.2222222222222222,\"#7201a8\"],[0.3333333333333333,\"#9c179e\"],[0.4444444444444444,\"#bd3786\"],[0.5555555555555556,\"#d8576b\"],[0.6666666666666666,\"#ed7953\"],[0.7777777777777778,\"#fb9f3a\"],[0.8888888888888888,\"#fdca26\"],[1.0,\"#f0f921\"]]}],\"heatmapgl\":[{\"type\":\"heatmapgl\",\"colorbar\":{\"outlinewidth\":0,\"ticks\":\"\"},\"colorscale\":[[0.0,\"#0d0887\"],[0.1111111111111111,\"#46039f\"],[0.2222222222222222,\"#7201a8\"],[0.3333333333333333,\"#9c179e\"],[0.4444444444444444,\"#bd3786\"],[0.5555555555555556,\"#d8576b\"],[0.6666666666666666,\"#ed7953\"],[0.7777777777777778,\"#fb9f3a\"],[0.8888888888888888,\"#fdca26\"],[1.0,\"#f0f921\"]]}],\"contourcarpet\":[{\"type\":\"contourcarpet\",\"colorbar\":{\"outlinewidth\":0,\"ticks\":\"\"}}],\"contour\":[{\"type\":\"contour\",\"colorbar\":{\"outlinewidth\":0,\"ticks\":\"\"},\"colorscale\":[[0.0,\"#0d0887\"],[0.1111111111111111,\"#46039f\"],[0.2222222222222222,\"#7201a8\"],[0.3333333333333333,\"#9c179e\"],[0.4444444444444444,\"#bd3786\"],[0.5555555555555556,\"#d8576b\"],[0.6666666666666666,\"#ed7953\"],[0.7777777777777778,\"#fb9f3a\"],[0.8888888888888888,\"#fdca26\"],[1.0,\"#f0f921\"]]}],\"surface\":[{\"type\":\"surface\",\"colorbar\":{\"outlinewidth\":0,\"ticks\":\"\"},\"colorscale\":[[0.0,\"#0d0887\"],[0.1111111111111111,\"#46039f\"],[0.2222222222222222,\"#7201a8\"],[0.3333333333333333,\"#9c179e\"],[0.4444444444444444,\"#bd3786\"],[0.5555555555555556,\"#d8576b\"],[0.6666666666666666,\"#ed7953\"],[0.7777777777777778,\"#fb9f3a\"],[0.8888888888888888,\"#fdca26\"],[1.0,\"#f0f921\"]]}],\"mesh3d\":[{\"type\":\"mesh3d\",\"colorbar\":{\"outlinewidth\":0,\"ticks\":\"\"}}],\"scatter\":[{\"fillpattern\":{\"fillmode\":\"overlay\",\"size\":10,\"solidity\":0.2},\"type\":\"scatter\"}],\"parcoords\":[{\"type\":\"parcoords\",\"line\":{\"colorbar\":{\"outlinewidth\":0,\"ticks\":\"\"}}}],\"scatterpolargl\":[{\"type\":\"scatterpolargl\",\"marker\":{\"colorbar\":{\"outlinewidth\":0,\"ticks\":\"\"}}}],\"bar\":[{\"error_x\":{\"color\":\"#2a3f5f\"},\"error_y\":{\"color\":\"#2a3f5f\"},\"marker\":{\"line\":{\"color\":\"#E5ECF6\",\"width\":0.5},\"pattern\":{\"fillmode\":\"overlay\",\"size\":10,\"solidity\":0.2}},\"type\":\"bar\"}],\"scattergeo\":[{\"type\":\"scattergeo\",\"marker\":{\"colorbar\":{\"outlinewidth\":0,\"ticks\":\"\"}}}],\"scatterpolar\":[{\"type\":\"scatterpolar\",\"marker\":{\"colorbar\":{\"outlinewidth\":0,\"ticks\":\"\"}}}],\"histogram\":[{\"marker\":{\"pattern\":{\"fillmode\":\"overlay\",\"size\":10,\"solidity\":0.2}},\"type\":\"histogram\"}],\"scattergl\":[{\"type\":\"scattergl\",\"marker\":{\"colorbar\":{\"outlinewidth\":0,\"ticks\":\"\"}}}],\"scatter3d\":[{\"type\":\"scatter3d\",\"line\":{\"colorbar\":{\"outlinewidth\":0,\"ticks\":\"\"}},\"marker\":{\"colorbar\":{\"outlinewidth\":0,\"ticks\":\"\"}}}],\"scattermapbox\":[{\"type\":\"scattermapbox\",\"marker\":{\"colorbar\":{\"outlinewidth\":0,\"ticks\":\"\"}}}],\"scatterternary\":[{\"type\":\"scatterternary\",\"marker\":{\"colorbar\":{\"outlinewidth\":0,\"ticks\":\"\"}}}],\"scattercarpet\":[{\"type\":\"scattercarpet\",\"marker\":{\"colorbar\":{\"outlinewidth\":0,\"ticks\":\"\"}}}],\"carpet\":[{\"aaxis\":{\"endlinecolor\":\"#2a3f5f\",\"gridcolor\":\"white\",\"linecolor\":\"white\",\"minorgridcolor\":\"white\",\"startlinecolor\":\"#2a3f5f\"},\"baxis\":{\"endlinecolor\":\"#2a3f5f\",\"gridcolor\":\"white\",\"linecolor\":\"white\",\"minorgridcolor\":\"white\",\"startlinecolor\":\"#2a3f5f\"},\"type\":\"carpet\"}],\"table\":[{\"cells\":{\"fill\":{\"color\":\"#EBF0F8\"},\"line\":{\"color\":\"white\"}},\"header\":{\"fill\":{\"color\":\"#C8D4E3\"},\"line\":{\"color\":\"white\"}},\"type\":\"table\"}],\"barpolar\":[{\"marker\":{\"line\":{\"color\":\"#E5ECF6\",\"width\":0.5},\"pattern\":{\"fillmode\":\"overlay\",\"size\":10,\"solidity\":0.2}},\"type\":\"barpolar\"}],\"pie\":[{\"automargin\":true,\"type\":\"pie\"}]},\"layout\":{\"autotypenumbers\":\"strict\",\"colorway\":[\"#636efa\",\"#EF553B\",\"#00cc96\",\"#ab63fa\",\"#FFA15A\",\"#19d3f3\",\"#FF6692\",\"#B6E880\",\"#FF97FF\",\"#FECB52\"],\"font\":{\"color\":\"#2a3f5f\"},\"hovermode\":\"closest\",\"hoverlabel\":{\"align\":\"left\"},\"paper_bgcolor\":\"white\",\"plot_bgcolor\":\"#E5ECF6\",\"polar\":{\"bgcolor\":\"#E5ECF6\",\"angularaxis\":{\"gridcolor\":\"white\",\"linecolor\":\"white\",\"ticks\":\"\"},\"radialaxis\":{\"gridcolor\":\"white\",\"linecolor\":\"white\",\"ticks\":\"\"}},\"ternary\":{\"bgcolor\":\"#E5ECF6\",\"aaxis\":{\"gridcolor\":\"white\",\"linecolor\":\"white\",\"ticks\":\"\"},\"baxis\":{\"gridcolor\":\"white\",\"linecolor\":\"white\",\"ticks\":\"\"},\"caxis\":{\"gridcolor\":\"white\",\"linecolor\":\"white\",\"ticks\":\"\"}},\"coloraxis\":{\"colorbar\":{\"outlinewidth\":0,\"ticks\":\"\"}},\"colorscale\":{\"sequential\":[[0.0,\"#0d0887\"],[0.1111111111111111,\"#46039f\"],[0.2222222222222222,\"#7201a8\"],[0.3333333333333333,\"#9c179e\"],[0.4444444444444444,\"#bd3786\"],[0.5555555555555556,\"#d8576b\"],[0.6666666666666666,\"#ed7953\"],[0.7777777777777778,\"#fb9f3a\"],[0.8888888888888888,\"#fdca26\"],[1.0,\"#f0f921\"]],\"sequentialminus\":[[0.0,\"#0d0887\"],[0.1111111111111111,\"#46039f\"],[0.2222222222222222,\"#7201a8\"],[0.3333333333333333,\"#9c179e\"],[0.4444444444444444,\"#bd3786\"],[0.5555555555555556,\"#d8576b\"],[0.6666666666666666,\"#ed7953\"],[0.7777777777777778,\"#fb9f3a\"],[0.8888888888888888,\"#fdca26\"],[1.0,\"#f0f921\"]],\"diverging\":[[0,\"#8e0152\"],[0.1,\"#c51b7d\"],[0.2,\"#de77ae\"],[0.3,\"#f1b6da\"],[0.4,\"#fde0ef\"],[0.5,\"#f7f7f7\"],[0.6,\"#e6f5d0\"],[0.7,\"#b8e186\"],[0.8,\"#7fbc41\"],[0.9,\"#4d9221\"],[1,\"#276419\"]]},\"xaxis\":{\"gridcolor\":\"white\",\"linecolor\":\"white\",\"ticks\":\"\",\"title\":{\"standoff\":15},\"zerolinecolor\":\"white\",\"automargin\":true,\"zerolinewidth\":2},\"yaxis\":{\"gridcolor\":\"white\",\"linecolor\":\"white\",\"ticks\":\"\",\"title\":{\"standoff\":15},\"zerolinecolor\":\"white\",\"automargin\":true,\"zerolinewidth\":2},\"scene\":{\"xaxis\":{\"backgroundcolor\":\"#E5ECF6\",\"gridcolor\":\"white\",\"linecolor\":\"white\",\"showbackground\":true,\"ticks\":\"\",\"zerolinecolor\":\"white\",\"gridwidth\":2},\"yaxis\":{\"backgroundcolor\":\"#E5ECF6\",\"gridcolor\":\"white\",\"linecolor\":\"white\",\"showbackground\":true,\"ticks\":\"\",\"zerolinecolor\":\"white\",\"gridwidth\":2},\"zaxis\":{\"backgroundcolor\":\"#E5ECF6\",\"gridcolor\":\"white\",\"linecolor\":\"white\",\"showbackground\":true,\"ticks\":\"\",\"zerolinecolor\":\"white\",\"gridwidth\":2}},\"shapedefaults\":{\"line\":{\"color\":\"#2a3f5f\"}},\"annotationdefaults\":{\"arrowcolor\":\"#2a3f5f\",\"arrowhead\":0,\"arrowwidth\":1},\"geo\":{\"bgcolor\":\"white\",\"landcolor\":\"#E5ECF6\",\"subunitcolor\":\"white\",\"showland\":true,\"showlakes\":true,\"lakecolor\":\"white\"},\"title\":{\"x\":0.05},\"mapbox\":{\"style\":\"light\"}}},\"legend\":{\"tracegroupgap\":0},\"title\":{\"text\":\"Top Browsed Brands across Categories\"},\"treemapcolorway\":[\"#3366CC\",\"#DC3912\",\"#FF9900\",\"#109618\",\"#990099\",\"#0099C6\",\"#DD4477\",\"#66AA00\",\"#B82E2E\",\"#316395\"]},                        {\"responsive\": true}                    ).then(function(){\n",
              "                            \n",
              "var gd = document.getElementById('f67dc151-9054-4563-8ea3-99c9ae2ad15e');\n",
              "var x = new MutationObserver(function (mutations, observer) {{\n",
              "        var display = window.getComputedStyle(gd).display;\n",
              "        if (!display || display === 'none') {{\n",
              "            console.log([gd, 'removed!']);\n",
              "            Plotly.purge(gd);\n",
              "            observer.disconnect();\n",
              "        }}\n",
              "}});\n",
              "\n",
              "// Listen for the removal of the full notebook cells\n",
              "var notebookContainer = gd.closest('#notebook-container');\n",
              "if (notebookContainer) {{\n",
              "    x.observe(notebookContainer, {childList: true});\n",
              "}}\n",
              "\n",
              "// Listen for the clearing of the current output cell\n",
              "var outputEl = gd.closest('.output');\n",
              "if (outputEl) {{\n",
              "    x.observe(outputEl, {childList: true});\n",
              "}}\n",
              "\n",
              "                        })                };                            </script>        </div>\n",
              "</body>\n",
              "</html>"
            ]
          },
          "metadata": {}
        }
      ],
      "source": [
        "# browsed_brand_data = browsed_brand_count_df.select('category', 'brand', 'count').toPandas()\n",
        "\n",
        "# Step 1: Convert to pandas DataFrame\n",
        "browsed_brand_data = browsed_brand_count_df.select('category', 'brand', 'count').toPandas()\n",
        "\n",
        "# Step 2: Get top 10 categories by total count\n",
        "top_10_categories = (\n",
        "    browsed_brand_data\n",
        "    .groupby('category')['count']\n",
        "    .sum()\n",
        "    .sort_values(ascending=False)\n",
        "    .head(10)\n",
        "    .index\n",
        ")\n",
        "\n",
        "# Step 3: Filter data to only top 10 categories\n",
        "filtered_data = browsed_brand_data[browsed_brand_data['category'].isin(top_10_categories)]\n",
        "\n",
        "# Step 4: Get top 5 brands within each of the top 10 categories\n",
        "top_brands = (\n",
        "    filtered_data\n",
        "    .sort_values(['category', 'count'], ascending=[True, False])\n",
        "    .groupby('category')\n",
        "    .head(5)\n",
        ")\n",
        "\n",
        "# Step 5: Plot treemap\n",
        "fig = px.treemap(\n",
        "    top_brands,\n",
        "    path=['category', 'brand'],\n",
        "    values='count',\n",
        "    color='category',\n",
        "    title='Top Browsed Brands across Categories',\n",
        "    color_discrete_sequence=px.colors.qualitative.G10\n",
        ")\n",
        "fig.show()"
      ]
    },
    {
      "cell_type": "markdown",
      "metadata": {
        "id": "A6qeWh9pS5OV"
      },
      "source": [
        "Analysis: TBD"
      ]
    },
    {
      "cell_type": "markdown",
      "metadata": {
        "id": "5hc77AnhgnZv"
      },
      "source": [
        "# Part 2: Evaluate Add to Cart and Cart Abandonment Rate\n",
        "\n"
      ]
    },
    {
      "cell_type": "markdown",
      "metadata": {
        "id": "8QxUEzos-N9i"
      },
      "source": [
        "## Cart Abandonment Rate"
      ]
    },
    {
      "cell_type": "code",
      "execution_count": null,
      "metadata": {
        "id": "b15xveUDfMJE"
      },
      "outputs": [],
      "source": [
        "# Filter data for cart events\n",
        "only_cart_df = df.filter(col('event_type') == 'cart')\n",
        "\n",
        "# Filter data for purchase events\n",
        "only_purchase_df = df.filter(col('event_type') == 'purchase')\n"
      ]
    },
    {
      "cell_type": "markdown",
      "metadata": {
        "id": "gaKpNSVib54P"
      },
      "source": [
        "### CAR by Category"
      ]
    },
    {
      "cell_type": "code",
      "source": [
        "#Distinct category in cart\n",
        "df_only_cart_cat_dis = only_cart_df.groupBy(\"category\").count()\n",
        "df_only_cart_cat_dis = df_only_cart_cat_dis.withColumnRenamed(\"count\", \"cart_count\")\n",
        "\n",
        "#Distinct category in purchase\n",
        "df_only_purchase_cat_dis = only_purchase_df.groupBy(\"category\").count()\n",
        "df_only_purchase_cat_dis = df_only_purchase_cat_dis.withColumnRenamed(\"count\", \"purchase_count\")\n",
        "\n",
        "#Performing a left join\n",
        "columns_ = df.columns\n",
        "cart_purchase = df_only_cart_cat_dis.alias(\"cart_cat\").join(df_only_purchase_cat_dis.alias(\"purchase_cat\"),\n",
        "                                                            df_only_cart_cat_dis[\"category\"]==df_only_purchase_cat_dis[\"category\"]).select(\"cart_cat.category\", \"cart_cat.cart_count\", \"purchase_cat.purchase_count\")\n",
        "if output_show:\n",
        "  cart_purchase.show(5)"
      ],
      "metadata": {
        "colab": {
          "base_uri": "https://localhost:8080/"
        },
        "id": "PsK2cMzBUVBM",
        "outputId": "22ed8f2b-35f1-4c1d-afb2-f3446497529b"
      },
      "execution_count": null,
      "outputs": [
        {
          "output_type": "stream",
          "name": "stdout",
          "text": [
            "+---------+----------+--------------+\n",
            "| category|cart_count|purchase_count|\n",
            "+---------+----------+--------------+\n",
            "| yokohama|      1758|          2735|\n",
            "|  versace|       270|           465|\n",
            "|  philips|      3337|          2417|\n",
            "|energizer|         2|            14|\n",
            "|microsoft|       298|           202|\n",
            "+---------+----------+--------------+\n",
            "only showing top 5 rows\n",
            "\n"
          ]
        }
      ]
    },
    {
      "cell_type": "code",
      "execution_count": null,
      "metadata": {
        "id": "tLPUG6S3bawl",
        "colab": {
          "base_uri": "https://localhost:8080/"
        },
        "outputId": "511555ab-c9de-47d8-a716-0094704aeb4e"
      },
      "outputs": [
        {
          "output_type": "stream",
          "name": "stdout",
          "text": [
            "+--------+----------+--------------+\n",
            "|category|cart_count|purchase_count|\n",
            "+--------+----------+--------------+\n",
            "|yokohama|      1758|          2735|\n",
            "| versace|       270|           465|\n",
            "|cordiant|      5730|         10551|\n",
            "|  jaguar|       238|           135|\n",
            "| matador|      3200|          1711|\n",
            "+--------+----------+--------------+\n",
            "only showing top 5 rows\n",
            "\n"
          ]
        }
      ],
      "source": [
        "# Calculate distinct cart counts per category\n",
        "cart_category_count_df = only_cart_df.groupBy('category') \\\n",
        "    .count() \\\n",
        "    .withColumnRenamed('count', 'cart_count')\n",
        "\n",
        "# Calculate distinct purchase counts per category\n",
        "purchase_category_count_df = only_purchase_df.groupBy('category') \\\n",
        "    .count() \\\n",
        "    .withColumnRenamed('count', 'purchase_count')\n",
        "\n",
        "# Perform a left join between cart and purchase counts on category\n",
        "cart_purchase_df = cart_category_count_df.alias('cart_cat').join(\n",
        "    purchase_category_count_df.alias('purchase_cat'),\n",
        "    cart_category_count_df['category'] == purchase_category_count_df['category'],\n",
        "    how='left'\n",
        ").select(\n",
        "    col('cart_cat.category'),\n",
        "    col('cart_cat.cart_count'),\n",
        "    col('purchase_cat.purchase_count')\n",
        ")\n",
        "\n",
        "# Display the merged cart-purchase counts if output display is enabled\n",
        "if output_show:\n",
        "    cart_purchase_df.show(5)\n"
      ]
    },
    {
      "cell_type": "code",
      "execution_count": null,
      "metadata": {
        "id": "Fv7LhP-PJyAX"
      },
      "outputs": [],
      "source": [
        "# # Define a UDF to calculate Cart Abandonment Rate\n",
        "from pyspark.sql.functions import udf\n",
        "from pyspark.sql.types import FloatType\n",
        "\n",
        "@udf(returnType=FloatType())\n",
        "def calculate_cart_abandonment_rate(cart_count, purchase_count):\n",
        "    if cart_count == 0:\n",
        "        return None  # Avoid division by zero\n",
        "    rate = (1 - (purchase_count / cart_count)) * 100\n",
        "    return rate\n"
      ]
    },
    {
      "cell_type": "code",
      "execution_count": null,
      "metadata": {
        "id": "EspnXfcJdnnH"
      },
      "outputs": [],
      "source": [
        "@udf(returnType=FloatType())\n",
        "def cart_miss_rate_udf(cart_count, purchase_count):\n",
        "  rate = (1 - purchase_count/cart_count)*100\n",
        "  #rate_string = \"{:.2f}\".format(rate)\n",
        "  return rate"
      ]
    },
    {
      "cell_type": "code",
      "source": [
        "df_cart_miss_rate = cart_purchase.select(\"*\", cart_miss_rate_udf(\"cart_count\", \"purchase_count\"))\n",
        "df_cart_miss_rate = df_cart_miss_rate.withColumnRenamed(\"cart_miss_rate_udf(cart_count, purchase_count)\", \"cart_miss_rate\")\n",
        "df_cart_miss_rate = df_cart_miss_rate.filter(\"cart_miss_rate>0\")\n",
        "df_cart_miss_rate = df_cart_miss_rate.filter(\"cart_count>5000\")\n",
        "df_cart_miss_rate = df_cart_miss_rate.orderBy(desc(\"cart_miss_rate\")).limit(10)\n",
        "if output_show:\n",
        "  df_cart_miss_rate.show(5)"
      ],
      "metadata": {
        "colab": {
          "base_uri": "https://localhost:8080/"
        },
        "id": "8RBWYgU7Tu3M",
        "outputId": "8657b1d9-3375-4b5f-cfa8-cf0d42a5fa59"
      },
      "execution_count": null,
      "outputs": [
        {
          "output_type": "stream",
          "name": "stdout",
          "text": [
            "+------------+----------+--------------+--------------+\n",
            "|    category|cart_count|purchase_count|cart_miss_rate|\n",
            "+------------+----------+--------------+--------------+\n",
            "|      xiaomi|     22246|         10021|       54.9537|\n",
            "| electronics|    674205|        423028|     37.255287|\n",
            "|        sony|      6997|          4496|      35.74389|\n",
            "|construction|     10343|          7801|      24.57701|\n",
            "|  appliances|     92362|         74996|     18.802105|\n",
            "+------------+----------+--------------+--------------+\n",
            "\n"
          ]
        }
      ]
    },
    {
      "cell_type": "code",
      "execution_count": null,
      "metadata": {
        "id": "z0Mccg8IPkkn",
        "colab": {
          "base_uri": "https://localhost:8080/",
          "height": 517
        },
        "outputId": "be976a56-8be6-4924-b9b7-6fbb6bfbd4c8"
      },
      "outputs": [
        {
          "output_type": "display_data",
          "data": {
            "text/html": [
              "<html>\n",
              "<head><meta charset=\"utf-8\" /></head>\n",
              "<body>\n",
              "    <div>            <script src=\"https://cdnjs.cloudflare.com/ajax/libs/mathjax/2.7.5/MathJax.js?config=TeX-AMS-MML_SVG\"></script><script type=\"text/javascript\">if (window.MathJax && window.MathJax.Hub && window.MathJax.Hub.Config) {window.MathJax.Hub.Config({SVG: {font: \"STIX-Web\"}});}</script>                <script type=\"text/javascript\">window.PlotlyConfig = {MathJaxConfig: 'local'};</script>\n",
              "        <script charset=\"utf-8\" src=\"https://cdn.plot.ly/plotly-2.35.2.min.js\"></script>                <div id=\"5d68f871-3b1d-432a-945f-cc2eff0fe719\" class=\"plotly-graph-div\" style=\"height:500px; width:600px;\"></div>            <script type=\"text/javascript\">                                    window.PLOTLYENV=window.PLOTLYENV || {};                                    if (document.getElementById(\"5d68f871-3b1d-432a-945f-cc2eff0fe719\")) {                    Plotly.newPlot(                        \"5d68f871-3b1d-432a-945f-cc2eff0fe719\",                        [{\"domain\":{\"x\":[0.0,1.0],\"y\":[0.0,1.0]},\"hole\":0.5,\"hovertemplate\":\"Category=%{label}\\u003cbr\\u003eCart_Miss_Rate=%{value}\\u003cextra\\u003e\\u003c\\u002fextra\\u003e\",\"labels\":[\"xiaomi\",\"electronics\",\"sony\",\"construction\",\"appliances\"],\"legendgroup\":\"\",\"name\":\"\",\"showlegend\":true,\"values\":[54.95370101928711,37.255287170410156,35.74388885498047,24.577009201049805,18.802104949951172],\"type\":\"pie\",\"textinfo\":\"percent+label\",\"textposition\":\"inside\"}],                        {\"template\":{\"data\":{\"barpolar\":[{\"marker\":{\"line\":{\"color\":\"white\",\"width\":0.5},\"pattern\":{\"fillmode\":\"overlay\",\"size\":10,\"solidity\":0.2}},\"type\":\"barpolar\"}],\"bar\":[{\"error_x\":{\"color\":\"rgb(36,36,36)\"},\"error_y\":{\"color\":\"rgb(36,36,36)\"},\"marker\":{\"line\":{\"color\":\"white\",\"width\":0.5},\"pattern\":{\"fillmode\":\"overlay\",\"size\":10,\"solidity\":0.2}},\"type\":\"bar\"}],\"carpet\":[{\"aaxis\":{\"endlinecolor\":\"rgb(36,36,36)\",\"gridcolor\":\"white\",\"linecolor\":\"white\",\"minorgridcolor\":\"white\",\"startlinecolor\":\"rgb(36,36,36)\"},\"baxis\":{\"endlinecolor\":\"rgb(36,36,36)\",\"gridcolor\":\"white\",\"linecolor\":\"white\",\"minorgridcolor\":\"white\",\"startlinecolor\":\"rgb(36,36,36)\"},\"type\":\"carpet\"}],\"choropleth\":[{\"colorbar\":{\"outlinewidth\":1,\"tickcolor\":\"rgb(36,36,36)\",\"ticks\":\"outside\"},\"type\":\"choropleth\"}],\"contourcarpet\":[{\"colorbar\":{\"outlinewidth\":1,\"tickcolor\":\"rgb(36,36,36)\",\"ticks\":\"outside\"},\"type\":\"contourcarpet\"}],\"contour\":[{\"colorbar\":{\"outlinewidth\":1,\"tickcolor\":\"rgb(36,36,36)\",\"ticks\":\"outside\"},\"colorscale\":[[0.0,\"#440154\"],[0.1111111111111111,\"#482878\"],[0.2222222222222222,\"#3e4989\"],[0.3333333333333333,\"#31688e\"],[0.4444444444444444,\"#26828e\"],[0.5555555555555556,\"#1f9e89\"],[0.6666666666666666,\"#35b779\"],[0.7777777777777778,\"#6ece58\"],[0.8888888888888888,\"#b5de2b\"],[1.0,\"#fde725\"]],\"type\":\"contour\"}],\"heatmapgl\":[{\"colorbar\":{\"outlinewidth\":1,\"tickcolor\":\"rgb(36,36,36)\",\"ticks\":\"outside\"},\"colorscale\":[[0.0,\"#440154\"],[0.1111111111111111,\"#482878\"],[0.2222222222222222,\"#3e4989\"],[0.3333333333333333,\"#31688e\"],[0.4444444444444444,\"#26828e\"],[0.5555555555555556,\"#1f9e89\"],[0.6666666666666666,\"#35b779\"],[0.7777777777777778,\"#6ece58\"],[0.8888888888888888,\"#b5de2b\"],[1.0,\"#fde725\"]],\"type\":\"heatmapgl\"}],\"heatmap\":[{\"colorbar\":{\"outlinewidth\":1,\"tickcolor\":\"rgb(36,36,36)\",\"ticks\":\"outside\"},\"colorscale\":[[0.0,\"#440154\"],[0.1111111111111111,\"#482878\"],[0.2222222222222222,\"#3e4989\"],[0.3333333333333333,\"#31688e\"],[0.4444444444444444,\"#26828e\"],[0.5555555555555556,\"#1f9e89\"],[0.6666666666666666,\"#35b779\"],[0.7777777777777778,\"#6ece58\"],[0.8888888888888888,\"#b5de2b\"],[1.0,\"#fde725\"]],\"type\":\"heatmap\"}],\"histogram2dcontour\":[{\"colorbar\":{\"outlinewidth\":1,\"tickcolor\":\"rgb(36,36,36)\",\"ticks\":\"outside\"},\"colorscale\":[[0.0,\"#440154\"],[0.1111111111111111,\"#482878\"],[0.2222222222222222,\"#3e4989\"],[0.3333333333333333,\"#31688e\"],[0.4444444444444444,\"#26828e\"],[0.5555555555555556,\"#1f9e89\"],[0.6666666666666666,\"#35b779\"],[0.7777777777777778,\"#6ece58\"],[0.8888888888888888,\"#b5de2b\"],[1.0,\"#fde725\"]],\"type\":\"histogram2dcontour\"}],\"histogram2d\":[{\"colorbar\":{\"outlinewidth\":1,\"tickcolor\":\"rgb(36,36,36)\",\"ticks\":\"outside\"},\"colorscale\":[[0.0,\"#440154\"],[0.1111111111111111,\"#482878\"],[0.2222222222222222,\"#3e4989\"],[0.3333333333333333,\"#31688e\"],[0.4444444444444444,\"#26828e\"],[0.5555555555555556,\"#1f9e89\"],[0.6666666666666666,\"#35b779\"],[0.7777777777777778,\"#6ece58\"],[0.8888888888888888,\"#b5de2b\"],[1.0,\"#fde725\"]],\"type\":\"histogram2d\"}],\"histogram\":[{\"marker\":{\"line\":{\"color\":\"white\",\"width\":0.6}},\"type\":\"histogram\"}],\"mesh3d\":[{\"colorbar\":{\"outlinewidth\":1,\"tickcolor\":\"rgb(36,36,36)\",\"ticks\":\"outside\"},\"type\":\"mesh3d\"}],\"parcoords\":[{\"line\":{\"colorbar\":{\"outlinewidth\":1,\"tickcolor\":\"rgb(36,36,36)\",\"ticks\":\"outside\"}},\"type\":\"parcoords\"}],\"pie\":[{\"automargin\":true,\"type\":\"pie\"}],\"scatter3d\":[{\"line\":{\"colorbar\":{\"outlinewidth\":1,\"tickcolor\":\"rgb(36,36,36)\",\"ticks\":\"outside\"}},\"marker\":{\"colorbar\":{\"outlinewidth\":1,\"tickcolor\":\"rgb(36,36,36)\",\"ticks\":\"outside\"}},\"type\":\"scatter3d\"}],\"scattercarpet\":[{\"marker\":{\"colorbar\":{\"outlinewidth\":1,\"tickcolor\":\"rgb(36,36,36)\",\"ticks\":\"outside\"}},\"type\":\"scattercarpet\"}],\"scattergeo\":[{\"marker\":{\"colorbar\":{\"outlinewidth\":1,\"tickcolor\":\"rgb(36,36,36)\",\"ticks\":\"outside\"}},\"type\":\"scattergeo\"}],\"scattergl\":[{\"marker\":{\"colorbar\":{\"outlinewidth\":1,\"tickcolor\":\"rgb(36,36,36)\",\"ticks\":\"outside\"}},\"type\":\"scattergl\"}],\"scattermapbox\":[{\"marker\":{\"colorbar\":{\"outlinewidth\":1,\"tickcolor\":\"rgb(36,36,36)\",\"ticks\":\"outside\"}},\"type\":\"scattermapbox\"}],\"scatterpolargl\":[{\"marker\":{\"colorbar\":{\"outlinewidth\":1,\"tickcolor\":\"rgb(36,36,36)\",\"ticks\":\"outside\"}},\"type\":\"scatterpolargl\"}],\"scatterpolar\":[{\"marker\":{\"colorbar\":{\"outlinewidth\":1,\"tickcolor\":\"rgb(36,36,36)\",\"ticks\":\"outside\"}},\"type\":\"scatterpolar\"}],\"scatter\":[{\"fillpattern\":{\"fillmode\":\"overlay\",\"size\":10,\"solidity\":0.2},\"type\":\"scatter\"}],\"scatterternary\":[{\"marker\":{\"colorbar\":{\"outlinewidth\":1,\"tickcolor\":\"rgb(36,36,36)\",\"ticks\":\"outside\"}},\"type\":\"scatterternary\"}],\"surface\":[{\"colorbar\":{\"outlinewidth\":1,\"tickcolor\":\"rgb(36,36,36)\",\"ticks\":\"outside\"},\"colorscale\":[[0.0,\"#440154\"],[0.1111111111111111,\"#482878\"],[0.2222222222222222,\"#3e4989\"],[0.3333333333333333,\"#31688e\"],[0.4444444444444444,\"#26828e\"],[0.5555555555555556,\"#1f9e89\"],[0.6666666666666666,\"#35b779\"],[0.7777777777777778,\"#6ece58\"],[0.8888888888888888,\"#b5de2b\"],[1.0,\"#fde725\"]],\"type\":\"surface\"}],\"table\":[{\"cells\":{\"fill\":{\"color\":\"rgb(237,237,237)\"},\"line\":{\"color\":\"white\"}},\"header\":{\"fill\":{\"color\":\"rgb(217,217,217)\"},\"line\":{\"color\":\"white\"}},\"type\":\"table\"}]},\"layout\":{\"annotationdefaults\":{\"arrowhead\":0,\"arrowwidth\":1},\"autotypenumbers\":\"strict\",\"coloraxis\":{\"colorbar\":{\"outlinewidth\":1,\"tickcolor\":\"rgb(36,36,36)\",\"ticks\":\"outside\"}},\"colorscale\":{\"diverging\":[[0.0,\"rgb(103,0,31)\"],[0.1,\"rgb(178,24,43)\"],[0.2,\"rgb(214,96,77)\"],[0.3,\"rgb(244,165,130)\"],[0.4,\"rgb(253,219,199)\"],[0.5,\"rgb(247,247,247)\"],[0.6,\"rgb(209,229,240)\"],[0.7,\"rgb(146,197,222)\"],[0.8,\"rgb(67,147,195)\"],[0.9,\"rgb(33,102,172)\"],[1.0,\"rgb(5,48,97)\"]],\"sequential\":[[0.0,\"#440154\"],[0.1111111111111111,\"#482878\"],[0.2222222222222222,\"#3e4989\"],[0.3333333333333333,\"#31688e\"],[0.4444444444444444,\"#26828e\"],[0.5555555555555556,\"#1f9e89\"],[0.6666666666666666,\"#35b779\"],[0.7777777777777778,\"#6ece58\"],[0.8888888888888888,\"#b5de2b\"],[1.0,\"#fde725\"]],\"sequentialminus\":[[0.0,\"#440154\"],[0.1111111111111111,\"#482878\"],[0.2222222222222222,\"#3e4989\"],[0.3333333333333333,\"#31688e\"],[0.4444444444444444,\"#26828e\"],[0.5555555555555556,\"#1f9e89\"],[0.6666666666666666,\"#35b779\"],[0.7777777777777778,\"#6ece58\"],[0.8888888888888888,\"#b5de2b\"],[1.0,\"#fde725\"]]},\"colorway\":[\"#1F77B4\",\"#FF7F0E\",\"#2CA02C\",\"#D62728\",\"#9467BD\",\"#8C564B\",\"#E377C2\",\"#7F7F7F\",\"#BCBD22\",\"#17BECF\"],\"font\":{\"color\":\"rgb(36,36,36)\"},\"geo\":{\"bgcolor\":\"white\",\"lakecolor\":\"white\",\"landcolor\":\"white\",\"showlakes\":true,\"showland\":true,\"subunitcolor\":\"white\"},\"hoverlabel\":{\"align\":\"left\"},\"hovermode\":\"closest\",\"mapbox\":{\"style\":\"light\"},\"paper_bgcolor\":\"white\",\"plot_bgcolor\":\"white\",\"polar\":{\"angularaxis\":{\"gridcolor\":\"rgb(232,232,232)\",\"linecolor\":\"rgb(36,36,36)\",\"showgrid\":false,\"showline\":true,\"ticks\":\"outside\"},\"bgcolor\":\"white\",\"radialaxis\":{\"gridcolor\":\"rgb(232,232,232)\",\"linecolor\":\"rgb(36,36,36)\",\"showgrid\":false,\"showline\":true,\"ticks\":\"outside\"}},\"scene\":{\"xaxis\":{\"backgroundcolor\":\"white\",\"gridcolor\":\"rgb(232,232,232)\",\"gridwidth\":2,\"linecolor\":\"rgb(36,36,36)\",\"showbackground\":true,\"showgrid\":false,\"showline\":true,\"ticks\":\"outside\",\"zeroline\":false,\"zerolinecolor\":\"rgb(36,36,36)\"},\"yaxis\":{\"backgroundcolor\":\"white\",\"gridcolor\":\"rgb(232,232,232)\",\"gridwidth\":2,\"linecolor\":\"rgb(36,36,36)\",\"showbackground\":true,\"showgrid\":false,\"showline\":true,\"ticks\":\"outside\",\"zeroline\":false,\"zerolinecolor\":\"rgb(36,36,36)\"},\"zaxis\":{\"backgroundcolor\":\"white\",\"gridcolor\":\"rgb(232,232,232)\",\"gridwidth\":2,\"linecolor\":\"rgb(36,36,36)\",\"showbackground\":true,\"showgrid\":false,\"showline\":true,\"ticks\":\"outside\",\"zeroline\":false,\"zerolinecolor\":\"rgb(36,36,36)\"}},\"shapedefaults\":{\"fillcolor\":\"black\",\"line\":{\"width\":0},\"opacity\":0.3},\"ternary\":{\"aaxis\":{\"gridcolor\":\"rgb(232,232,232)\",\"linecolor\":\"rgb(36,36,36)\",\"showgrid\":false,\"showline\":true,\"ticks\":\"outside\"},\"baxis\":{\"gridcolor\":\"rgb(232,232,232)\",\"linecolor\":\"rgb(36,36,36)\",\"showgrid\":false,\"showline\":true,\"ticks\":\"outside\"},\"bgcolor\":\"white\",\"caxis\":{\"gridcolor\":\"rgb(232,232,232)\",\"linecolor\":\"rgb(36,36,36)\",\"showgrid\":false,\"showline\":true,\"ticks\":\"outside\"}},\"title\":{\"x\":0.05},\"xaxis\":{\"automargin\":true,\"gridcolor\":\"rgb(232,232,232)\",\"linecolor\":\"rgb(36,36,36)\",\"showgrid\":false,\"showline\":true,\"ticks\":\"outside\",\"title\":{\"standoff\":15},\"zeroline\":false,\"zerolinecolor\":\"rgb(36,36,36)\"},\"yaxis\":{\"automargin\":true,\"gridcolor\":\"rgb(232,232,232)\",\"linecolor\":\"rgb(36,36,36)\",\"showgrid\":false,\"showline\":true,\"ticks\":\"outside\",\"title\":{\"standoff\":15},\"zeroline\":false,\"zerolinecolor\":\"rgb(36,36,36)\"}}},\"legend\":{\"tracegroupgap\":0},\"title\":{\"text\":\"Cart Abandonment Rate by Category\"},\"piecolorway\":[\"#3366CC\",\"#DC3912\",\"#FF9900\",\"#109618\",\"#990099\",\"#0099C6\",\"#DD4477\",\"#66AA00\",\"#B82E2E\",\"#316395\"],\"margin\":{\"l\":50,\"r\":50,\"t\":80,\"b\":50},\"showlegend\":true,\"width\":600,\"height\":500},                        {\"responsive\": true}                    ).then(function(){\n",
              "                            \n",
              "var gd = document.getElementById('5d68f871-3b1d-432a-945f-cc2eff0fe719');\n",
              "var x = new MutationObserver(function (mutations, observer) {{\n",
              "        var display = window.getComputedStyle(gd).display;\n",
              "        if (!display || display === 'none') {{\n",
              "            console.log([gd, 'removed!']);\n",
              "            Plotly.purge(gd);\n",
              "            observer.disconnect();\n",
              "        }}\n",
              "}});\n",
              "\n",
              "// Listen for the removal of the full notebook cells\n",
              "var notebookContainer = gd.closest('#notebook-container');\n",
              "if (notebookContainer) {{\n",
              "    x.observe(notebookContainer, {childList: true});\n",
              "}}\n",
              "\n",
              "// Listen for the clearing of the current output cell\n",
              "var outputEl = gd.closest('.output');\n",
              "if (outputEl) {{\n",
              "    x.observe(outputEl, {childList: true});\n",
              "}}\n",
              "\n",
              "                        })                };                            </script>        </div>\n",
              "</body>\n",
              "</html>"
            ]
          },
          "metadata": {}
        }
      ],
      "source": [
        "import plotly.express as px\n",
        "\n",
        "# Prepare the data\n",
        "category_list = [row.category for row in df_cart_miss_rate.select('category').collect()]\n",
        "cart_miss_rate_values = [row.cart_miss_rate for row in df_cart_miss_rate.select('cart_miss_rate').collect()]\n",
        "\n",
        "# Create a DataFrame for plotting\n",
        "cart_miss_rate_df = pd.DataFrame({\n",
        "    'Category': category_list,\n",
        "    'Cart_Miss_Rate': cart_miss_rate_values\n",
        "})\n",
        "\n",
        "# Build a compact Donut Chart\n",
        "fig = px.pie(\n",
        "    cart_miss_rate_df,\n",
        "    names='Category',\n",
        "    values='Cart_Miss_Rate',\n",
        "    hole=0.5,\n",
        "    color_discrete_sequence=px.colors.qualitative.G10,\n",
        "    title='Cart Abandonment Rate by Category'\n",
        ")\n",
        "\n",
        "# Tighter layout: make it less wide\n",
        "fig.update_layout(\n",
        "    showlegend=True,\n",
        "    template='simple_white',\n",
        "    width=600,   # Smaller width\n",
        "    height=500,  # Adjusted height\n",
        "    margin=dict(l=50, r=50, t=80, b=50)  # Reduce left, right, top, bottom margins\n",
        ")\n",
        "\n",
        "# Inside text for better compactness\n",
        "fig.update_traces(\n",
        "    textposition='inside',\n",
        "    textinfo='percent+label'\n",
        ")\n",
        "\n",
        "# Show the plot\n",
        "fig.show()\n"
      ]
    },
    {
      "cell_type": "markdown",
      "metadata": {
        "id": "5wWRTFox-r83"
      },
      "source": [
        "Analysis: We can see that X category had the most cart abandonment rate with X%"
      ]
    },
    {
      "cell_type": "markdown",
      "metadata": {
        "id": "TKS0wIAy-n6R"
      },
      "source": [
        "### CAR by Brands"
      ]
    },
    {
      "cell_type": "code",
      "execution_count": null,
      "metadata": {
        "id": "5IZEhnH3QTay",
        "colab": {
          "base_uri": "https://localhost:8080/"
        },
        "outputId": "6ed08e29-ff94-4238-8f42-6b550fe7caec"
      },
      "outputs": [
        {
          "output_type": "stream",
          "name": "stdout",
          "text": [
            "+---------+----------+--------------+\n",
            "|    brand|cart_count|purchase_count|\n",
            "+---------+----------+--------------+\n",
            "|  philips|       835|           426|\n",
            "|    epson|        89|            33|\n",
            "|    texet|       592|           554|\n",
            "|panasonic|      1006|           485|\n",
            "|    apple|    207504|        141394|\n",
            "+---------+----------+--------------+\n",
            "only showing top 5 rows\n",
            "\n"
          ]
        }
      ],
      "source": [
        "# Calculate distinct cart counts per brand within 'electronics' category\n",
        "cart_brand_count_df = only_cart_df.filter(col('category') == 'electronics') \\\n",
        "    .groupBy('brand') \\\n",
        "    .count() \\\n",
        "    .withColumnRenamed('count', 'cart_count')\n",
        "\n",
        "# Calculate distinct purchase counts per brand within 'electronics' category\n",
        "purchase_brand_count_df = only_purchase_df.filter(col('category') == 'electronics') \\\n",
        "    .groupBy('brand') \\\n",
        "    .count() \\\n",
        "    .withColumnRenamed('count', 'purchase_count')\n",
        "\n",
        "# Perform a left join between cart and purchase counts on brand\n",
        "cart_purchase_brand_df = cart_brand_count_df.alias('cart_cat').join(\n",
        "    purchase_brand_count_df.alias('purchase_cat'),\n",
        "    cart_brand_count_df['brand'] == purchase_brand_count_df['brand'],\n",
        "    how='left'\n",
        ").select(\n",
        "    col('cart_cat.brand'),\n",
        "    col('cart_cat.cart_count'),\n",
        "    col('purchase_cat.purchase_count')\n",
        ")\n",
        "\n",
        "# Display the cart-purchase counts for brands if output display is enabled\n",
        "if output_show:\n",
        "    cart_purchase_brand_df.show(5)\n",
        "\n"
      ]
    },
    {
      "cell_type": "code",
      "execution_count": null,
      "metadata": {
        "id": "vAllhEzzRYEL",
        "colab": {
          "base_uri": "https://localhost:8080/",
          "height": 363
        },
        "outputId": "83e8979c-09db-48bd-f747-eed87f9fecc3"
      },
      "outputs": [
        {
          "output_type": "execute_result",
          "data": {
            "text/plain": [
              "       brand  cart_count  purchase_count  cart_miss_rate_brand\n",
              "0    bluedio           8               1             87.500000\n",
              "1        cnd          19               4             78.947365\n",
              "2     global           4               1             75.000000\n",
              "3  blaupunkt         257              72             71.984436\n",
              "4  viewsonic          29               9             68.965515\n",
              "5   kurzweil           9               3             66.666664\n",
              "6      xgimi          20               7             65.000000\n",
              "7      epson          89              33             62.921349\n",
              "8       koss          15               6             60.000000\n",
              "9     troyka          48              21             56.250000"
            ],
            "text/html": [
              "\n",
              "  <div id=\"df-efbf8e55-4383-479a-8ef0-cf65405b27f5\" class=\"colab-df-container\">\n",
              "    <div>\n",
              "<style scoped>\n",
              "    .dataframe tbody tr th:only-of-type {\n",
              "        vertical-align: middle;\n",
              "    }\n",
              "\n",
              "    .dataframe tbody tr th {\n",
              "        vertical-align: top;\n",
              "    }\n",
              "\n",
              "    .dataframe thead th {\n",
              "        text-align: right;\n",
              "    }\n",
              "</style>\n",
              "<table border=\"1\" class=\"dataframe\">\n",
              "  <thead>\n",
              "    <tr style=\"text-align: right;\">\n",
              "      <th></th>\n",
              "      <th>brand</th>\n",
              "      <th>cart_count</th>\n",
              "      <th>purchase_count</th>\n",
              "      <th>cart_miss_rate_brand</th>\n",
              "    </tr>\n",
              "  </thead>\n",
              "  <tbody>\n",
              "    <tr>\n",
              "      <th>0</th>\n",
              "      <td>bluedio</td>\n",
              "      <td>8</td>\n",
              "      <td>1</td>\n",
              "      <td>87.500000</td>\n",
              "    </tr>\n",
              "    <tr>\n",
              "      <th>1</th>\n",
              "      <td>cnd</td>\n",
              "      <td>19</td>\n",
              "      <td>4</td>\n",
              "      <td>78.947365</td>\n",
              "    </tr>\n",
              "    <tr>\n",
              "      <th>2</th>\n",
              "      <td>global</td>\n",
              "      <td>4</td>\n",
              "      <td>1</td>\n",
              "      <td>75.000000</td>\n",
              "    </tr>\n",
              "    <tr>\n",
              "      <th>3</th>\n",
              "      <td>blaupunkt</td>\n",
              "      <td>257</td>\n",
              "      <td>72</td>\n",
              "      <td>71.984436</td>\n",
              "    </tr>\n",
              "    <tr>\n",
              "      <th>4</th>\n",
              "      <td>viewsonic</td>\n",
              "      <td>29</td>\n",
              "      <td>9</td>\n",
              "      <td>68.965515</td>\n",
              "    </tr>\n",
              "    <tr>\n",
              "      <th>5</th>\n",
              "      <td>kurzweil</td>\n",
              "      <td>9</td>\n",
              "      <td>3</td>\n",
              "      <td>66.666664</td>\n",
              "    </tr>\n",
              "    <tr>\n",
              "      <th>6</th>\n",
              "      <td>xgimi</td>\n",
              "      <td>20</td>\n",
              "      <td>7</td>\n",
              "      <td>65.000000</td>\n",
              "    </tr>\n",
              "    <tr>\n",
              "      <th>7</th>\n",
              "      <td>epson</td>\n",
              "      <td>89</td>\n",
              "      <td>33</td>\n",
              "      <td>62.921349</td>\n",
              "    </tr>\n",
              "    <tr>\n",
              "      <th>8</th>\n",
              "      <td>koss</td>\n",
              "      <td>15</td>\n",
              "      <td>6</td>\n",
              "      <td>60.000000</td>\n",
              "    </tr>\n",
              "    <tr>\n",
              "      <th>9</th>\n",
              "      <td>troyka</td>\n",
              "      <td>48</td>\n",
              "      <td>21</td>\n",
              "      <td>56.250000</td>\n",
              "    </tr>\n",
              "  </tbody>\n",
              "</table>\n",
              "</div>\n",
              "    <div class=\"colab-df-buttons\">\n",
              "\n",
              "  <div class=\"colab-df-container\">\n",
              "    <button class=\"colab-df-convert\" onclick=\"convertToInteractive('df-efbf8e55-4383-479a-8ef0-cf65405b27f5')\"\n",
              "            title=\"Convert this dataframe to an interactive table.\"\n",
              "            style=\"display:none;\">\n",
              "\n",
              "  <svg xmlns=\"http://www.w3.org/2000/svg\" height=\"24px\" viewBox=\"0 -960 960 960\">\n",
              "    <path d=\"M120-120v-720h720v720H120Zm60-500h600v-160H180v160Zm220 220h160v-160H400v160Zm0 220h160v-160H400v160ZM180-400h160v-160H180v160Zm440 0h160v-160H620v160ZM180-180h160v-160H180v160Zm440 0h160v-160H620v160Z\"/>\n",
              "  </svg>\n",
              "    </button>\n",
              "\n",
              "  <style>\n",
              "    .colab-df-container {\n",
              "      display:flex;\n",
              "      gap: 12px;\n",
              "    }\n",
              "\n",
              "    .colab-df-convert {\n",
              "      background-color: #E8F0FE;\n",
              "      border: none;\n",
              "      border-radius: 50%;\n",
              "      cursor: pointer;\n",
              "      display: none;\n",
              "      fill: #1967D2;\n",
              "      height: 32px;\n",
              "      padding: 0 0 0 0;\n",
              "      width: 32px;\n",
              "    }\n",
              "\n",
              "    .colab-df-convert:hover {\n",
              "      background-color: #E2EBFA;\n",
              "      box-shadow: 0px 1px 2px rgba(60, 64, 67, 0.3), 0px 1px 3px 1px rgba(60, 64, 67, 0.15);\n",
              "      fill: #174EA6;\n",
              "    }\n",
              "\n",
              "    .colab-df-buttons div {\n",
              "      margin-bottom: 4px;\n",
              "    }\n",
              "\n",
              "    [theme=dark] .colab-df-convert {\n",
              "      background-color: #3B4455;\n",
              "      fill: #D2E3FC;\n",
              "    }\n",
              "\n",
              "    [theme=dark] .colab-df-convert:hover {\n",
              "      background-color: #434B5C;\n",
              "      box-shadow: 0px 1px 3px 1px rgba(0, 0, 0, 0.15);\n",
              "      filter: drop-shadow(0px 1px 2px rgba(0, 0, 0, 0.3));\n",
              "      fill: #FFFFFF;\n",
              "    }\n",
              "  </style>\n",
              "\n",
              "    <script>\n",
              "      const buttonEl =\n",
              "        document.querySelector('#df-efbf8e55-4383-479a-8ef0-cf65405b27f5 button.colab-df-convert');\n",
              "      buttonEl.style.display =\n",
              "        google.colab.kernel.accessAllowed ? 'block' : 'none';\n",
              "\n",
              "      async function convertToInteractive(key) {\n",
              "        const element = document.querySelector('#df-efbf8e55-4383-479a-8ef0-cf65405b27f5');\n",
              "        const dataTable =\n",
              "          await google.colab.kernel.invokeFunction('convertToInteractive',\n",
              "                                                    [key], {});\n",
              "        if (!dataTable) return;\n",
              "\n",
              "        const docLinkHtml = 'Like what you see? Visit the ' +\n",
              "          '<a target=\"_blank\" href=https://colab.research.google.com/notebooks/data_table.ipynb>data table notebook</a>'\n",
              "          + ' to learn more about interactive tables.';\n",
              "        element.innerHTML = '';\n",
              "        dataTable['output_type'] = 'display_data';\n",
              "        await google.colab.output.renderOutput(dataTable, element);\n",
              "        const docLink = document.createElement('div');\n",
              "        docLink.innerHTML = docLinkHtml;\n",
              "        element.appendChild(docLink);\n",
              "      }\n",
              "    </script>\n",
              "  </div>\n",
              "\n",
              "\n",
              "    <div id=\"df-7cd1d032-93c3-4fea-8a97-2d1e8b5d414b\">\n",
              "      <button class=\"colab-df-quickchart\" onclick=\"quickchart('df-7cd1d032-93c3-4fea-8a97-2d1e8b5d414b')\"\n",
              "                title=\"Suggest charts\"\n",
              "                style=\"display:none;\">\n",
              "\n",
              "<svg xmlns=\"http://www.w3.org/2000/svg\" height=\"24px\"viewBox=\"0 0 24 24\"\n",
              "     width=\"24px\">\n",
              "    <g>\n",
              "        <path d=\"M19 3H5c-1.1 0-2 .9-2 2v14c0 1.1.9 2 2 2h14c1.1 0 2-.9 2-2V5c0-1.1-.9-2-2-2zM9 17H7v-7h2v7zm4 0h-2V7h2v10zm4 0h-2v-4h2v4z\"/>\n",
              "    </g>\n",
              "</svg>\n",
              "      </button>\n",
              "\n",
              "<style>\n",
              "  .colab-df-quickchart {\n",
              "      --bg-color: #E8F0FE;\n",
              "      --fill-color: #1967D2;\n",
              "      --hover-bg-color: #E2EBFA;\n",
              "      --hover-fill-color: #174EA6;\n",
              "      --disabled-fill-color: #AAA;\n",
              "      --disabled-bg-color: #DDD;\n",
              "  }\n",
              "\n",
              "  [theme=dark] .colab-df-quickchart {\n",
              "      --bg-color: #3B4455;\n",
              "      --fill-color: #D2E3FC;\n",
              "      --hover-bg-color: #434B5C;\n",
              "      --hover-fill-color: #FFFFFF;\n",
              "      --disabled-bg-color: #3B4455;\n",
              "      --disabled-fill-color: #666;\n",
              "  }\n",
              "\n",
              "  .colab-df-quickchart {\n",
              "    background-color: var(--bg-color);\n",
              "    border: none;\n",
              "    border-radius: 50%;\n",
              "    cursor: pointer;\n",
              "    display: none;\n",
              "    fill: var(--fill-color);\n",
              "    height: 32px;\n",
              "    padding: 0;\n",
              "    width: 32px;\n",
              "  }\n",
              "\n",
              "  .colab-df-quickchart:hover {\n",
              "    background-color: var(--hover-bg-color);\n",
              "    box-shadow: 0 1px 2px rgba(60, 64, 67, 0.3), 0 1px 3px 1px rgba(60, 64, 67, 0.15);\n",
              "    fill: var(--button-hover-fill-color);\n",
              "  }\n",
              "\n",
              "  .colab-df-quickchart-complete:disabled,\n",
              "  .colab-df-quickchart-complete:disabled:hover {\n",
              "    background-color: var(--disabled-bg-color);\n",
              "    fill: var(--disabled-fill-color);\n",
              "    box-shadow: none;\n",
              "  }\n",
              "\n",
              "  .colab-df-spinner {\n",
              "    border: 2px solid var(--fill-color);\n",
              "    border-color: transparent;\n",
              "    border-bottom-color: var(--fill-color);\n",
              "    animation:\n",
              "      spin 1s steps(1) infinite;\n",
              "  }\n",
              "\n",
              "  @keyframes spin {\n",
              "    0% {\n",
              "      border-color: transparent;\n",
              "      border-bottom-color: var(--fill-color);\n",
              "      border-left-color: var(--fill-color);\n",
              "    }\n",
              "    20% {\n",
              "      border-color: transparent;\n",
              "      border-left-color: var(--fill-color);\n",
              "      border-top-color: var(--fill-color);\n",
              "    }\n",
              "    30% {\n",
              "      border-color: transparent;\n",
              "      border-left-color: var(--fill-color);\n",
              "      border-top-color: var(--fill-color);\n",
              "      border-right-color: var(--fill-color);\n",
              "    }\n",
              "    40% {\n",
              "      border-color: transparent;\n",
              "      border-right-color: var(--fill-color);\n",
              "      border-top-color: var(--fill-color);\n",
              "    }\n",
              "    60% {\n",
              "      border-color: transparent;\n",
              "      border-right-color: var(--fill-color);\n",
              "    }\n",
              "    80% {\n",
              "      border-color: transparent;\n",
              "      border-right-color: var(--fill-color);\n",
              "      border-bottom-color: var(--fill-color);\n",
              "    }\n",
              "    90% {\n",
              "      border-color: transparent;\n",
              "      border-bottom-color: var(--fill-color);\n",
              "    }\n",
              "  }\n",
              "</style>\n",
              "\n",
              "      <script>\n",
              "        async function quickchart(key) {\n",
              "          const quickchartButtonEl =\n",
              "            document.querySelector('#' + key + ' button');\n",
              "          quickchartButtonEl.disabled = true;  // To prevent multiple clicks.\n",
              "          quickchartButtonEl.classList.add('colab-df-spinner');\n",
              "          try {\n",
              "            const charts = await google.colab.kernel.invokeFunction(\n",
              "                'suggestCharts', [key], {});\n",
              "          } catch (error) {\n",
              "            console.error('Error during call to suggestCharts:', error);\n",
              "          }\n",
              "          quickchartButtonEl.classList.remove('colab-df-spinner');\n",
              "          quickchartButtonEl.classList.add('colab-df-quickchart-complete');\n",
              "        }\n",
              "        (() => {\n",
              "          let quickchartButtonEl =\n",
              "            document.querySelector('#df-7cd1d032-93c3-4fea-8a97-2d1e8b5d414b button');\n",
              "          quickchartButtonEl.style.display =\n",
              "            google.colab.kernel.accessAllowed ? 'block' : 'none';\n",
              "        })();\n",
              "      </script>\n",
              "    </div>\n",
              "\n",
              "  <div id=\"id_87c0e8b1-ad05-4f6c-a60c-cc13ce99e80f\">\n",
              "    <style>\n",
              "      .colab-df-generate {\n",
              "        background-color: #E8F0FE;\n",
              "        border: none;\n",
              "        border-radius: 50%;\n",
              "        cursor: pointer;\n",
              "        display: none;\n",
              "        fill: #1967D2;\n",
              "        height: 32px;\n",
              "        padding: 0 0 0 0;\n",
              "        width: 32px;\n",
              "      }\n",
              "\n",
              "      .colab-df-generate:hover {\n",
              "        background-color: #E2EBFA;\n",
              "        box-shadow: 0px 1px 2px rgba(60, 64, 67, 0.3), 0px 1px 3px 1px rgba(60, 64, 67, 0.15);\n",
              "        fill: #174EA6;\n",
              "      }\n",
              "\n",
              "      [theme=dark] .colab-df-generate {\n",
              "        background-color: #3B4455;\n",
              "        fill: #D2E3FC;\n",
              "      }\n",
              "\n",
              "      [theme=dark] .colab-df-generate:hover {\n",
              "        background-color: #434B5C;\n",
              "        box-shadow: 0px 1px 3px 1px rgba(0, 0, 0, 0.15);\n",
              "        filter: drop-shadow(0px 1px 2px rgba(0, 0, 0, 0.3));\n",
              "        fill: #FFFFFF;\n",
              "      }\n",
              "    </style>\n",
              "    <button class=\"colab-df-generate\" onclick=\"generateWithVariable('df_cart_miss_rate_brand_pd')\"\n",
              "            title=\"Generate code using this dataframe.\"\n",
              "            style=\"display:none;\">\n",
              "\n",
              "  <svg xmlns=\"http://www.w3.org/2000/svg\" height=\"24px\"viewBox=\"0 0 24 24\"\n",
              "       width=\"24px\">\n",
              "    <path d=\"M7,19H8.4L18.45,9,17,7.55,7,17.6ZM5,21V16.75L18.45,3.32a2,2,0,0,1,2.83,0l1.4,1.43a1.91,1.91,0,0,1,.58,1.4,1.91,1.91,0,0,1-.58,1.4L9.25,21ZM18.45,9,17,7.55Zm-12,3A5.31,5.31,0,0,0,4.9,8.1,5.31,5.31,0,0,0,1,6.5,5.31,5.31,0,0,0,4.9,4.9,5.31,5.31,0,0,0,6.5,1,5.31,5.31,0,0,0,8.1,4.9,5.31,5.31,0,0,0,12,6.5,5.46,5.46,0,0,0,6.5,12Z\"/>\n",
              "  </svg>\n",
              "    </button>\n",
              "    <script>\n",
              "      (() => {\n",
              "      const buttonEl =\n",
              "        document.querySelector('#id_87c0e8b1-ad05-4f6c-a60c-cc13ce99e80f button.colab-df-generate');\n",
              "      buttonEl.style.display =\n",
              "        google.colab.kernel.accessAllowed ? 'block' : 'none';\n",
              "\n",
              "      buttonEl.onclick = () => {\n",
              "        google.colab.notebook.generateWithVariable('df_cart_miss_rate_brand_pd');\n",
              "      }\n",
              "      })();\n",
              "    </script>\n",
              "  </div>\n",
              "\n",
              "    </div>\n",
              "  </div>\n"
            ],
            "application/vnd.google.colaboratory.intrinsic+json": {
              "type": "dataframe",
              "variable_name": "df_cart_miss_rate_brand_pd",
              "summary": "{\n  \"name\": \"df_cart_miss_rate_brand_pd\",\n  \"rows\": 10,\n  \"fields\": [\n    {\n      \"column\": \"brand\",\n      \"properties\": {\n        \"dtype\": \"string\",\n        \"num_unique_values\": 10,\n        \"samples\": [\n          \"koss\",\n          \"cnd\",\n          \"kurzweil\"\n        ],\n        \"semantic_type\": \"\",\n        \"description\": \"\"\n      }\n    },\n    {\n      \"column\": \"cart_count\",\n      \"properties\": {\n        \"dtype\": \"number\",\n        \"std\": 77,\n        \"min\": 4,\n        \"max\": 257,\n        \"num_unique_values\": 10,\n        \"samples\": [\n          15,\n          19,\n          9\n        ],\n        \"semantic_type\": \"\",\n        \"description\": \"\"\n      }\n    },\n    {\n      \"column\": \"purchase_count\",\n      \"properties\": {\n        \"dtype\": \"number\",\n        \"std\": 22,\n        \"min\": 1,\n        \"max\": 72,\n        \"num_unique_values\": 9,\n        \"samples\": [\n          6,\n          4,\n          7\n        ],\n        \"semantic_type\": \"\",\n        \"description\": \"\"\n      }\n    },\n    {\n      \"column\": \"cart_miss_rate_brand\",\n      \"properties\": {\n        \"dtype\": \"float32\",\n        \"num_unique_values\": 10,\n        \"samples\": [\n          60.0,\n          78.9473648071289,\n          66.66666412353516\n        ],\n        \"semantic_type\": \"\",\n        \"description\": \"\"\n      }\n    }\n  ]\n}"
            }
          },
          "metadata": {},
          "execution_count": 55
        }
      ],
      "source": [
        "# Apply the UDF to calculate cart abandonment rate at brand level\n",
        "df_cart_miss_rate_brand = cart_purchase_brand_df.select(\n",
        "    \"*\",\n",
        "    calculate_cart_abandonment_rate('cart_count', 'purchase_count').alias('cart_miss_rate_brand')\n",
        ")\n",
        "\n",
        "# Filter brands where cart miss rate is positive and cart count is significant\n",
        "df_cart_miss_rate_brand = df_cart_miss_rate_brand.filter(col('cart_miss_rate_brand') > 0)\n",
        "df_cart_miss_rate_brand = df_cart_miss_rate_brand.filter(col('cart_count') > 1)\n",
        "\n",
        "# Select the top 10 brands with the highest cart abandonment rate\n",
        "df_cart_miss_rate_brand = df_cart_miss_rate_brand.orderBy(desc('cart_miss_rate_brand')).limit(10)\n",
        "\n",
        "# Convert to Pandas DataFrame for easier analysis or plotting\n",
        "df_cart_miss_rate_brand_pd = df_cart_miss_rate_brand.toPandas()\n",
        "\n",
        "# (Optional) Display the resulting DataFrame\n",
        "df_cart_miss_rate_brand_pd\n"
      ]
    },
    {
      "cell_type": "code",
      "execution_count": null,
      "metadata": {
        "id": "NzeGpSR8Zd2Q",
        "colab": {
          "base_uri": "https://localhost:8080/",
          "height": 517
        },
        "outputId": "baab55cc-f9b5-40c6-ffd0-c8381ddb477c"
      },
      "outputs": [
        {
          "output_type": "display_data",
          "data": {
            "text/html": [
              "<html>\n",
              "<head><meta charset=\"utf-8\" /></head>\n",
              "<body>\n",
              "    <div>            <script src=\"https://cdnjs.cloudflare.com/ajax/libs/mathjax/2.7.5/MathJax.js?config=TeX-AMS-MML_SVG\"></script><script type=\"text/javascript\">if (window.MathJax && window.MathJax.Hub && window.MathJax.Hub.Config) {window.MathJax.Hub.Config({SVG: {font: \"STIX-Web\"}});}</script>                <script type=\"text/javascript\">window.PlotlyConfig = {MathJaxConfig: 'local'};</script>\n",
              "        <script charset=\"utf-8\" src=\"https://cdn.plot.ly/plotly-2.35.2.min.js\"></script>                <div id=\"7ec20434-1b29-41a8-8d20-c2a7e7814fa4\" class=\"plotly-graph-div\" style=\"height:500px; width:600px;\"></div>            <script type=\"text/javascript\">                                    window.PLOTLYENV=window.PLOTLYENV || {};                                    if (document.getElementById(\"7ec20434-1b29-41a8-8d20-c2a7e7814fa4\")) {                    Plotly.newPlot(                        \"7ec20434-1b29-41a8-8d20-c2a7e7814fa4\",                        [{\"domain\":{\"x\":[0.0,1.0],\"y\":[0.0,1.0]},\"hole\":0.5,\"hovertemplate\":\"Brand=%{label}\\u003cbr\\u003eCart_Miss_Rate=%{value}\\u003cextra\\u003e\\u003c\\u002fextra\\u003e\",\"labels\":[\"bluedio\",\"cnd\",\"global\",\"blaupunkt\",\"viewsonic\",\"kurzweil\",\"xgimi\",\"epson\",\"koss\",\"troyka\"],\"legendgroup\":\"\",\"name\":\"\",\"showlegend\":true,\"values\":[87.5,78.9473648071289,75.0,71.98443603515625,68.96551513671875,66.66666412353516,65.0,62.921348571777344,60.0,56.25],\"type\":\"pie\",\"textinfo\":\"percent+label\",\"textposition\":\"inside\"}],                        {\"template\":{\"data\":{\"barpolar\":[{\"marker\":{\"line\":{\"color\":\"white\",\"width\":0.5},\"pattern\":{\"fillmode\":\"overlay\",\"size\":10,\"solidity\":0.2}},\"type\":\"barpolar\"}],\"bar\":[{\"error_x\":{\"color\":\"rgb(36,36,36)\"},\"error_y\":{\"color\":\"rgb(36,36,36)\"},\"marker\":{\"line\":{\"color\":\"white\",\"width\":0.5},\"pattern\":{\"fillmode\":\"overlay\",\"size\":10,\"solidity\":0.2}},\"type\":\"bar\"}],\"carpet\":[{\"aaxis\":{\"endlinecolor\":\"rgb(36,36,36)\",\"gridcolor\":\"white\",\"linecolor\":\"white\",\"minorgridcolor\":\"white\",\"startlinecolor\":\"rgb(36,36,36)\"},\"baxis\":{\"endlinecolor\":\"rgb(36,36,36)\",\"gridcolor\":\"white\",\"linecolor\":\"white\",\"minorgridcolor\":\"white\",\"startlinecolor\":\"rgb(36,36,36)\"},\"type\":\"carpet\"}],\"choropleth\":[{\"colorbar\":{\"outlinewidth\":1,\"tickcolor\":\"rgb(36,36,36)\",\"ticks\":\"outside\"},\"type\":\"choropleth\"}],\"contourcarpet\":[{\"colorbar\":{\"outlinewidth\":1,\"tickcolor\":\"rgb(36,36,36)\",\"ticks\":\"outside\"},\"type\":\"contourcarpet\"}],\"contour\":[{\"colorbar\":{\"outlinewidth\":1,\"tickcolor\":\"rgb(36,36,36)\",\"ticks\":\"outside\"},\"colorscale\":[[0.0,\"#440154\"],[0.1111111111111111,\"#482878\"],[0.2222222222222222,\"#3e4989\"],[0.3333333333333333,\"#31688e\"],[0.4444444444444444,\"#26828e\"],[0.5555555555555556,\"#1f9e89\"],[0.6666666666666666,\"#35b779\"],[0.7777777777777778,\"#6ece58\"],[0.8888888888888888,\"#b5de2b\"],[1.0,\"#fde725\"]],\"type\":\"contour\"}],\"heatmapgl\":[{\"colorbar\":{\"outlinewidth\":1,\"tickcolor\":\"rgb(36,36,36)\",\"ticks\":\"outside\"},\"colorscale\":[[0.0,\"#440154\"],[0.1111111111111111,\"#482878\"],[0.2222222222222222,\"#3e4989\"],[0.3333333333333333,\"#31688e\"],[0.4444444444444444,\"#26828e\"],[0.5555555555555556,\"#1f9e89\"],[0.6666666666666666,\"#35b779\"],[0.7777777777777778,\"#6ece58\"],[0.8888888888888888,\"#b5de2b\"],[1.0,\"#fde725\"]],\"type\":\"heatmapgl\"}],\"heatmap\":[{\"colorbar\":{\"outlinewidth\":1,\"tickcolor\":\"rgb(36,36,36)\",\"ticks\":\"outside\"},\"colorscale\":[[0.0,\"#440154\"],[0.1111111111111111,\"#482878\"],[0.2222222222222222,\"#3e4989\"],[0.3333333333333333,\"#31688e\"],[0.4444444444444444,\"#26828e\"],[0.5555555555555556,\"#1f9e89\"],[0.6666666666666666,\"#35b779\"],[0.7777777777777778,\"#6ece58\"],[0.8888888888888888,\"#b5de2b\"],[1.0,\"#fde725\"]],\"type\":\"heatmap\"}],\"histogram2dcontour\":[{\"colorbar\":{\"outlinewidth\":1,\"tickcolor\":\"rgb(36,36,36)\",\"ticks\":\"outside\"},\"colorscale\":[[0.0,\"#440154\"],[0.1111111111111111,\"#482878\"],[0.2222222222222222,\"#3e4989\"],[0.3333333333333333,\"#31688e\"],[0.4444444444444444,\"#26828e\"],[0.5555555555555556,\"#1f9e89\"],[0.6666666666666666,\"#35b779\"],[0.7777777777777778,\"#6ece58\"],[0.8888888888888888,\"#b5de2b\"],[1.0,\"#fde725\"]],\"type\":\"histogram2dcontour\"}],\"histogram2d\":[{\"colorbar\":{\"outlinewidth\":1,\"tickcolor\":\"rgb(36,36,36)\",\"ticks\":\"outside\"},\"colorscale\":[[0.0,\"#440154\"],[0.1111111111111111,\"#482878\"],[0.2222222222222222,\"#3e4989\"],[0.3333333333333333,\"#31688e\"],[0.4444444444444444,\"#26828e\"],[0.5555555555555556,\"#1f9e89\"],[0.6666666666666666,\"#35b779\"],[0.7777777777777778,\"#6ece58\"],[0.8888888888888888,\"#b5de2b\"],[1.0,\"#fde725\"]],\"type\":\"histogram2d\"}],\"histogram\":[{\"marker\":{\"line\":{\"color\":\"white\",\"width\":0.6}},\"type\":\"histogram\"}],\"mesh3d\":[{\"colorbar\":{\"outlinewidth\":1,\"tickcolor\":\"rgb(36,36,36)\",\"ticks\":\"outside\"},\"type\":\"mesh3d\"}],\"parcoords\":[{\"line\":{\"colorbar\":{\"outlinewidth\":1,\"tickcolor\":\"rgb(36,36,36)\",\"ticks\":\"outside\"}},\"type\":\"parcoords\"}],\"pie\":[{\"automargin\":true,\"type\":\"pie\"}],\"scatter3d\":[{\"line\":{\"colorbar\":{\"outlinewidth\":1,\"tickcolor\":\"rgb(36,36,36)\",\"ticks\":\"outside\"}},\"marker\":{\"colorbar\":{\"outlinewidth\":1,\"tickcolor\":\"rgb(36,36,36)\",\"ticks\":\"outside\"}},\"type\":\"scatter3d\"}],\"scattercarpet\":[{\"marker\":{\"colorbar\":{\"outlinewidth\":1,\"tickcolor\":\"rgb(36,36,36)\",\"ticks\":\"outside\"}},\"type\":\"scattercarpet\"}],\"scattergeo\":[{\"marker\":{\"colorbar\":{\"outlinewidth\":1,\"tickcolor\":\"rgb(36,36,36)\",\"ticks\":\"outside\"}},\"type\":\"scattergeo\"}],\"scattergl\":[{\"marker\":{\"colorbar\":{\"outlinewidth\":1,\"tickcolor\":\"rgb(36,36,36)\",\"ticks\":\"outside\"}},\"type\":\"scattergl\"}],\"scattermapbox\":[{\"marker\":{\"colorbar\":{\"outlinewidth\":1,\"tickcolor\":\"rgb(36,36,36)\",\"ticks\":\"outside\"}},\"type\":\"scattermapbox\"}],\"scatterpolargl\":[{\"marker\":{\"colorbar\":{\"outlinewidth\":1,\"tickcolor\":\"rgb(36,36,36)\",\"ticks\":\"outside\"}},\"type\":\"scatterpolargl\"}],\"scatterpolar\":[{\"marker\":{\"colorbar\":{\"outlinewidth\":1,\"tickcolor\":\"rgb(36,36,36)\",\"ticks\":\"outside\"}},\"type\":\"scatterpolar\"}],\"scatter\":[{\"fillpattern\":{\"fillmode\":\"overlay\",\"size\":10,\"solidity\":0.2},\"type\":\"scatter\"}],\"scatterternary\":[{\"marker\":{\"colorbar\":{\"outlinewidth\":1,\"tickcolor\":\"rgb(36,36,36)\",\"ticks\":\"outside\"}},\"type\":\"scatterternary\"}],\"surface\":[{\"colorbar\":{\"outlinewidth\":1,\"tickcolor\":\"rgb(36,36,36)\",\"ticks\":\"outside\"},\"colorscale\":[[0.0,\"#440154\"],[0.1111111111111111,\"#482878\"],[0.2222222222222222,\"#3e4989\"],[0.3333333333333333,\"#31688e\"],[0.4444444444444444,\"#26828e\"],[0.5555555555555556,\"#1f9e89\"],[0.6666666666666666,\"#35b779\"],[0.7777777777777778,\"#6ece58\"],[0.8888888888888888,\"#b5de2b\"],[1.0,\"#fde725\"]],\"type\":\"surface\"}],\"table\":[{\"cells\":{\"fill\":{\"color\":\"rgb(237,237,237)\"},\"line\":{\"color\":\"white\"}},\"header\":{\"fill\":{\"color\":\"rgb(217,217,217)\"},\"line\":{\"color\":\"white\"}},\"type\":\"table\"}]},\"layout\":{\"annotationdefaults\":{\"arrowhead\":0,\"arrowwidth\":1},\"autotypenumbers\":\"strict\",\"coloraxis\":{\"colorbar\":{\"outlinewidth\":1,\"tickcolor\":\"rgb(36,36,36)\",\"ticks\":\"outside\"}},\"colorscale\":{\"diverging\":[[0.0,\"rgb(103,0,31)\"],[0.1,\"rgb(178,24,43)\"],[0.2,\"rgb(214,96,77)\"],[0.3,\"rgb(244,165,130)\"],[0.4,\"rgb(253,219,199)\"],[0.5,\"rgb(247,247,247)\"],[0.6,\"rgb(209,229,240)\"],[0.7,\"rgb(146,197,222)\"],[0.8,\"rgb(67,147,195)\"],[0.9,\"rgb(33,102,172)\"],[1.0,\"rgb(5,48,97)\"]],\"sequential\":[[0.0,\"#440154\"],[0.1111111111111111,\"#482878\"],[0.2222222222222222,\"#3e4989\"],[0.3333333333333333,\"#31688e\"],[0.4444444444444444,\"#26828e\"],[0.5555555555555556,\"#1f9e89\"],[0.6666666666666666,\"#35b779\"],[0.7777777777777778,\"#6ece58\"],[0.8888888888888888,\"#b5de2b\"],[1.0,\"#fde725\"]],\"sequentialminus\":[[0.0,\"#440154\"],[0.1111111111111111,\"#482878\"],[0.2222222222222222,\"#3e4989\"],[0.3333333333333333,\"#31688e\"],[0.4444444444444444,\"#26828e\"],[0.5555555555555556,\"#1f9e89\"],[0.6666666666666666,\"#35b779\"],[0.7777777777777778,\"#6ece58\"],[0.8888888888888888,\"#b5de2b\"],[1.0,\"#fde725\"]]},\"colorway\":[\"#1F77B4\",\"#FF7F0E\",\"#2CA02C\",\"#D62728\",\"#9467BD\",\"#8C564B\",\"#E377C2\",\"#7F7F7F\",\"#BCBD22\",\"#17BECF\"],\"font\":{\"color\":\"rgb(36,36,36)\"},\"geo\":{\"bgcolor\":\"white\",\"lakecolor\":\"white\",\"landcolor\":\"white\",\"showlakes\":true,\"showland\":true,\"subunitcolor\":\"white\"},\"hoverlabel\":{\"align\":\"left\"},\"hovermode\":\"closest\",\"mapbox\":{\"style\":\"light\"},\"paper_bgcolor\":\"white\",\"plot_bgcolor\":\"white\",\"polar\":{\"angularaxis\":{\"gridcolor\":\"rgb(232,232,232)\",\"linecolor\":\"rgb(36,36,36)\",\"showgrid\":false,\"showline\":true,\"ticks\":\"outside\"},\"bgcolor\":\"white\",\"radialaxis\":{\"gridcolor\":\"rgb(232,232,232)\",\"linecolor\":\"rgb(36,36,36)\",\"showgrid\":false,\"showline\":true,\"ticks\":\"outside\"}},\"scene\":{\"xaxis\":{\"backgroundcolor\":\"white\",\"gridcolor\":\"rgb(232,232,232)\",\"gridwidth\":2,\"linecolor\":\"rgb(36,36,36)\",\"showbackground\":true,\"showgrid\":false,\"showline\":true,\"ticks\":\"outside\",\"zeroline\":false,\"zerolinecolor\":\"rgb(36,36,36)\"},\"yaxis\":{\"backgroundcolor\":\"white\",\"gridcolor\":\"rgb(232,232,232)\",\"gridwidth\":2,\"linecolor\":\"rgb(36,36,36)\",\"showbackground\":true,\"showgrid\":false,\"showline\":true,\"ticks\":\"outside\",\"zeroline\":false,\"zerolinecolor\":\"rgb(36,36,36)\"},\"zaxis\":{\"backgroundcolor\":\"white\",\"gridcolor\":\"rgb(232,232,232)\",\"gridwidth\":2,\"linecolor\":\"rgb(36,36,36)\",\"showbackground\":true,\"showgrid\":false,\"showline\":true,\"ticks\":\"outside\",\"zeroline\":false,\"zerolinecolor\":\"rgb(36,36,36)\"}},\"shapedefaults\":{\"fillcolor\":\"black\",\"line\":{\"width\":0},\"opacity\":0.3},\"ternary\":{\"aaxis\":{\"gridcolor\":\"rgb(232,232,232)\",\"linecolor\":\"rgb(36,36,36)\",\"showgrid\":false,\"showline\":true,\"ticks\":\"outside\"},\"baxis\":{\"gridcolor\":\"rgb(232,232,232)\",\"linecolor\":\"rgb(36,36,36)\",\"showgrid\":false,\"showline\":true,\"ticks\":\"outside\"},\"bgcolor\":\"white\",\"caxis\":{\"gridcolor\":\"rgb(232,232,232)\",\"linecolor\":\"rgb(36,36,36)\",\"showgrid\":false,\"showline\":true,\"ticks\":\"outside\"}},\"title\":{\"x\":0.05},\"xaxis\":{\"automargin\":true,\"gridcolor\":\"rgb(232,232,232)\",\"linecolor\":\"rgb(36,36,36)\",\"showgrid\":false,\"showline\":true,\"ticks\":\"outside\",\"title\":{\"standoff\":15},\"zeroline\":false,\"zerolinecolor\":\"rgb(36,36,36)\"},\"yaxis\":{\"automargin\":true,\"gridcolor\":\"rgb(232,232,232)\",\"linecolor\":\"rgb(36,36,36)\",\"showgrid\":false,\"showline\":true,\"ticks\":\"outside\",\"title\":{\"standoff\":15},\"zeroline\":false,\"zerolinecolor\":\"rgb(36,36,36)\"}}},\"legend\":{\"tracegroupgap\":0},\"title\":{\"text\":\"Cart Abandonment Rate by Brand\"},\"piecolorway\":[\"rgb(251,180,174)\",\"rgb(179,205,227)\",\"rgb(204,235,197)\",\"rgb(222,203,228)\",\"rgb(254,217,166)\",\"rgb(255,255,204)\",\"rgb(229,216,189)\",\"rgb(253,218,236)\",\"rgb(242,242,242)\"],\"margin\":{\"l\":40,\"r\":40,\"t\":60,\"b\":40},\"showlegend\":true,\"width\":600,\"height\":500},                        {\"responsive\": true}                    ).then(function(){\n",
              "                            \n",
              "var gd = document.getElementById('7ec20434-1b29-41a8-8d20-c2a7e7814fa4');\n",
              "var x = new MutationObserver(function (mutations, observer) {{\n",
              "        var display = window.getComputedStyle(gd).display;\n",
              "        if (!display || display === 'none') {{\n",
              "            console.log([gd, 'removed!']);\n",
              "            Plotly.purge(gd);\n",
              "            observer.disconnect();\n",
              "        }}\n",
              "}});\n",
              "\n",
              "// Listen for the removal of the full notebook cells\n",
              "var notebookContainer = gd.closest('#notebook-container');\n",
              "if (notebookContainer) {{\n",
              "    x.observe(notebookContainer, {childList: true});\n",
              "}}\n",
              "\n",
              "// Listen for the clearing of the current output cell\n",
              "var outputEl = gd.closest('.output');\n",
              "if (outputEl) {{\n",
              "    x.observe(outputEl, {childList: true});\n",
              "}}\n",
              "\n",
              "                        })                };                            </script>        </div>\n",
              "</body>\n",
              "</html>"
            ]
          },
          "metadata": {}
        }
      ],
      "source": [
        "import plotly.express as px\n",
        "\n",
        "# Prepare the data\n",
        "brand_list = [row.brand for row in df_cart_miss_rate_brand.select('brand').collect()]\n",
        "cart_miss_rate_values = [row.cart_miss_rate_brand for row in df_cart_miss_rate_brand.select('cart_miss_rate_brand').collect()]\n",
        "\n",
        "# Create a DataFrame for plotting\n",
        "brand_miss_rate_df = pd.DataFrame({\n",
        "    'Brand': brand_list,\n",
        "    'Cart_Miss_Rate': cart_miss_rate_values\n",
        "})\n",
        "\n",
        "# Build a Donut Chart\n",
        "fig = px.pie(\n",
        "    brand_miss_rate_df,\n",
        "    names='Brand',\n",
        "    values='Cart_Miss_Rate',\n",
        "    hole=0.5,  # Creates donut effect\n",
        "    color_discrete_sequence=px.colors.qualitative.Pastel1,  # Fresh soft colors\n",
        "    title='Cart Abandonment Rate by Brand'\n",
        ")\n",
        "\n",
        "# Customize layout for compactness\n",
        "fig.update_layout(\n",
        "    showlegend=True,\n",
        "    template='simple_white',\n",
        "    width=600,   # Compact width\n",
        "    height=500,  # Compact height\n",
        "    margin=dict(l=40, r=40, t=60, b=40)  # Tight margins\n",
        ")\n",
        "\n",
        "# Customize text display inside the donut\n",
        "fig.update_traces(\n",
        "    textposition='inside',\n",
        "    textinfo='percent+label'\n",
        ")\n",
        "\n",
        "# Show the figure\n",
        "fig.show()\n"
      ]
    },
    {
      "cell_type": "markdown",
      "metadata": {
        "id": "UgJqAaxJRlkA"
      },
      "source": [
        "Analysis: Show brands with highest abandonment rate. Business users need to talk to brand people to work on their campaign."
      ]
    },
    {
      "cell_type": "markdown",
      "metadata": {
        "id": "2HsOlBl-BXZI"
      },
      "source": [
        "# Part 3: Effect of day-time on purchase trends"
      ]
    },
    {
      "cell_type": "markdown",
      "metadata": {
        "id": "Kd8gIIKbCHe8"
      },
      "source": [
        "## Purchase trends across the month"
      ]
    },
    {
      "cell_type": "code",
      "execution_count": null,
      "metadata": {
        "id": "YC0t8xJoBnSY"
      },
      "outputs": [],
      "source": [
        "df_view = df[df['event_type'] == \"view\"]\n",
        "df_purchase = df[df['event_type'] == \"purchase\"]\n",
        "df_cart = df[df['event_type'] == \"cart\"]"
      ]
    },
    {
      "cell_type": "code",
      "execution_count": null,
      "metadata": {
        "id": "yY5jjerGBzBz"
      },
      "outputs": [],
      "source": [
        "df_purchase_date_count = df_purchase.groupby(\"Day\").count()"
      ]
    },
    {
      "cell_type": "code",
      "execution_count": null,
      "metadata": {
        "id": "5_W6UUItnlMh",
        "colab": {
          "base_uri": "https://localhost:8080/",
          "height": 607
        },
        "outputId": "ff5f6c3b-a983-4f5a-fcb6-3b37a474d705"
      },
      "outputs": [
        {
          "output_type": "display_data",
          "data": {
            "text/plain": [
              "<Figure size 1200x600 with 1 Axes>"
            ],
            "image/png": "[encoded data removed]"
          },
          "metadata": {}
        }
      ],
      "source": [
        "import pandas as pd\n",
        "import matplotlib.pyplot as plt\n",
        "\n",
        "# Prepare the data\n",
        "purchase_counts = [row[0] for row in df_purchase_date_count.select('count').collect()]\n",
        "purchase_days = [row['Day'] for row in df_purchase_date_count.select('Day').collect()]\n",
        "\n",
        "# Create a DataFrame for better control\n",
        "purchase_trend_df = pd.DataFrame({\n",
        "    'Day': purchase_days,\n",
        "    'Purchase_Count': purchase_counts\n",
        "})\n",
        "\n",
        "# Set up a compact and cleaner figure\n",
        "fig, ax = plt.subplots(figsize=(12, 6))  # Smaller, cleaner plot\n",
        "\n",
        "# Plot a line + marker plot instead of plain bars\n",
        "ax.plot(\n",
        "    purchase_trend_df['Day'],\n",
        "    purchase_trend_df['Purchase_Count'],\n",
        "    marker='o', linestyle='-', color='royalblue', linewidth=2, markersize=6\n",
        ")\n",
        "\n",
        "# Add labels and title\n",
        "ax.set_xlabel('Day of Month', fontsize=12)\n",
        "ax.set_ylabel('Purchase Count', fontsize=12)\n",
        "ax.set_title('Daily Purchase Trend Over the Month', fontsize=14, pad=15)\n",
        "\n",
        "# Set x-axis ticks properly\n",
        "ax.set_xticks(range(1, 32))\n",
        "ax.set_xticklabels([f'{i:02d}' for i in range(1, 32)], rotation=45)\n",
        "\n",
        "# Add grid for better readability\n",
        "ax.grid(True, linestyle='--', alpha=0.5)\n",
        "\n",
        "# Tight layout to minimize whitespace\n",
        "plt.tight_layout()\n",
        "\n",
        "# Show the plot\n",
        "plt.show()\n"
      ]
    },
    {
      "cell_type": "markdown",
      "metadata": {
        "id": "XN0jxMYaCA-F"
      },
      "source": [
        "Analysis: User's buying interest is gradually increasing in the middle of the month until day 16, therefore, to increase the sales we can offer mid-month sale/discount from day 11 until 16"
      ]
    },
    {
      "cell_type": "markdown",
      "metadata": {
        "id": "X5otrmQPCMRB"
      },
      "source": [
        "## E-Commerce Prime Time"
      ]
    },
    {
      "cell_type": "code",
      "execution_count": null,
      "metadata": {
        "id": "O6TgGoSaCSz9"
      },
      "outputs": [],
      "source": [
        "# Calculate hourly view counts\n",
        "view_hourly_count_df = df_view.groupBy('Hour') \\\n",
        "    .count() \\\n",
        "    .withColumnRenamed('count', 'view_count')\n",
        "\n",
        "# Calculate hourly cart counts\n",
        "cart_hourly_count_df = df_cart.groupBy('Hour') \\\n",
        "    .count() \\\n",
        "    .withColumnRenamed('count', 'cart_count')\n",
        "\n",
        "# Calculate hourly purchase counts\n",
        "purchase_hourly_count_df = df_purchase.groupBy('Hour') \\\n",
        "    .count() \\\n",
        "    .withColumnRenamed('count', 'purchase_count')\n"
      ]
    },
    {
      "cell_type": "code",
      "execution_count": null,
      "metadata": {
        "id": "I6j_nfQSCVXL"
      },
      "outputs": [],
      "source": [
        "# Combine hourly view, cart, and purchase counts into a single DataFrame\n",
        "combined_hourly_activity_df = view_hourly_count_df.join(\n",
        "    cart_hourly_count_df,\n",
        "    on=['Hour'],\n",
        "    how='left'\n",
        ").join(\n",
        "    purchase_hourly_count_df,\n",
        "    on=['Hour'],\n",
        "    how='left'\n",
        ")\n",
        "\n",
        "# Fill any missing values with 0 and order by hour\n",
        "combined_hourly_activity_df = combined_hourly_activity_df.na.fill(0).orderBy('Hour')\n"
      ]
    },
    {
      "cell_type": "code",
      "execution_count": null,
      "metadata": {
        "id": "SikJpmRUCYvc"
      },
      "outputs": [],
      "source": [
        "# Extract hourly data for plotting\n",
        "hours = [row.Hour for row in combined_hourly_activity_df.select('Hour').collect()]\n",
        "view_counts = [row.view_count for row in combined_hourly_activity_df.select('view_count').collect()]\n",
        "cart_counts = [row.cart_count for row in combined_hourly_activity_df.select('cart_count').collect()]\n",
        "purchase_counts = [row.purchase_count for row in combined_hourly_activity_df.select('purchase_count').collect()]"
      ]
    },
    {
      "cell_type": "code",
      "execution_count": null,
      "metadata": {
        "id": "6pEqaRD_Cbh5",
        "colab": {
          "base_uri": "https://localhost:8080/",
          "height": 607
        },
        "outputId": "64412f0c-3ea3-4982-fdb1-50134af73a79"
      },
      "outputs": [
        {
          "output_type": "display_data",
          "data": {
            "text/plain": [
              "<Figure size 1400x600 with 1 Axes>"
            ],
            "image/png": "[encoded data removed]"
          },
          "metadata": {}
        }
      ],
      "source": [
        "import pandas as pd\n",
        "import matplotlib.pyplot as plt\n",
        "import numpy as np\n",
        "import warnings\n",
        "\n",
        "# Prepare the data\n",
        "x = np.arange(len(hours)) # Numeric positions for the hours\n",
        "\n",
        "# Set up figure\n",
        "fig, ax = plt.subplots(figsize=(14, 6)) # Compact and neat figure\n",
        "\n",
        "# Plotting the activities as stacked bars\n",
        "ax.bar(x, view_counts, label='View', color='gold', alpha=0.8)\n",
        "ax.bar(x, cart_counts, bottom=view_counts, label='Cart', color='tomato', alpha=0.8)\n",
        "ax.bar(x, purchase_counts, bottom=[v + c for v, c in zip(view_counts, cart_counts)],\n",
        "       label='Purchase', color='seagreen', alpha=0.8)\n",
        "\n",
        "# Labels and Title\n",
        "ax.set_xlabel('Hour of the Day', fontsize=12)\n",
        "ax.set_ylabel('Event Count', fontsize=12)\n",
        "ax.set_title('E-commerce User Activity Across the Day', fontsize=14, pad=15)\n",
        "\n",
        "# Set x-axis ticks (silent handling)\n",
        "with warnings.catch_warnings():\n",
        "    warnings.simplefilter(\"ignore\")\n",
        "    try:\n",
        "        ax.set_xticklabels([f'{int(h):02d}' for h in hours], rotation=45)\n",
        "    except:\n",
        "        ax.set_xticklabels([str(h).zfill(2) for h in hours], rotation=45)\n",
        "\n",
        "# Add grid\n",
        "ax.grid(axis='y', linestyle='--', alpha=0.5)\n",
        "\n",
        "# Add legend\n",
        "ax.legend(loc='upper right')\n",
        "\n",
        "# Tighten layout\n",
        "plt.tight_layout()\n",
        "\n",
        "# Show the plot\n",
        "plt.show()"
      ]
    },
    {
      "cell_type": "markdown",
      "metadata": {
        "id": "ufnlrpOICsrD"
      },
      "source": [
        "Analysis: We can see from the graph that X number of users have already accessed our Ecommerce at 3:00 In the morning, it is increasing significantly in the afternoon and reached peak time at 16:00. Hence, a flash sale from 13:00 until 16:00 will help in increasing the impulsivity of the user for buying items"
      ]
    },
    {
      "cell_type": "code",
      "execution_count": null,
      "metadata": {
        "id": "Q80n6d7ScvHU"
      },
      "outputs": [],
      "source": []
    }
  ],
  "metadata": {
    "colab": {
      "provenance": []
    },
    "kernelspec": {
      "display_name": "Python 3",
      "name": "python3"
    },
    "language_info": {
      "codemirror_mode": {
        "name": "ipython",
        "version": 3
      },
      "file_extension": ".py",
      "mimetype": "text/x-python",
      "name": "python",
      "nbconvert_exporter": "python",
      "pygments_lexer": "ipython3",
      "version": "3.8.5"
    }
  },
  "nbformat": 4,
  "nbformat_minor": 0
}
